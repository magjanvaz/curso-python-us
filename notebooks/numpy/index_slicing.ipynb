{
  "cells": [
    {
      "cell_type": "markdown",
      "metadata": {
        "id": "view-in-github",
        "colab_type": "text"
      },
      "source": [
        "<a href=\"https://colab.research.google.com/github/magjanvaz/curso-python-us/blob/main/notebooks/numpy/index_slicing.ipynb\" target=\"_parent\"><img src=\"https://colab.research.google.com/assets/colab-badge.svg\" alt=\"Open In Colab\"/></a>"
      ]
    },
    {
      "cell_type": "markdown",
      "metadata": {
        "id": "sniCsf0gBj_l"
      },
      "source": [
        "# Indexado, Slicing y operaciones básicas"
      ]
    },
    {
      "cell_type": "markdown",
      "metadata": {
        "id": "NefP_s3kBj_n"
      },
      "source": [
        "Vamos a explorar más a fondo la diferentes formas que tenemos de acceder y operar con componentes de un array multidimensional."
      ]
    },
    {
      "cell_type": "code",
      "source": [
        "import numpy as np "
      ],
      "metadata": {
        "id": "jVfLl9V7BndZ"
      },
      "execution_count": 2,
      "outputs": []
    },
    {
      "cell_type": "markdown",
      "metadata": {
        "id": "mHb5sM3w_xoC"
      },
      "source": [
        "---\n",
        "## Indexado y *slicing* "
      ]
    },
    {
      "cell_type": "markdown",
      "metadata": {
        "id": "wDAlzhgd_xoC"
      },
      "source": [
        "Otra de las características más interesantes de numpy es la gran flexibilidad para acceder a las componentes de un array, o a un subconjunto del mismo. Vamos a ver a continuación algunos ejemplos básicos."
      ]
    },
    {
      "cell_type": "markdown",
      "metadata": {
        "id": "CpNokz_f_xoC"
      },
      "source": [
        "**Arrays unidimensonales**"
      ]
    },
    {
      "cell_type": "markdown",
      "metadata": {
        "id": "J6kdfvaC_xoD"
      },
      "source": [
        "Para arrays unidimensionales, el acceso es muy parecido al de listas. Por ejemplo, acceso a las componentes:"
      ]
    },
    {
      "cell_type": "code",
      "execution_count": null,
      "metadata": {
        "id": "hAs4d-8M_xoD",
        "outputId": "06905d3a-cff2-4102-93f9-0ca7570921a6",
        "colab": {
          "base_uri": "https://localhost:8080/"
        }
      },
      "outputs": [
        {
          "output_type": "execute_result",
          "data": {
            "text/plain": [
              "array([ 0,  2,  4,  6,  8, 10, 12, 14, 16, 18])"
            ]
          },
          "metadata": {},
          "execution_count": 4
        }
      ],
      "source": [
        "C = np.arange(10)*2\n",
        "C"
      ]
    },
    {
      "cell_type": "code",
      "execution_count": null,
      "metadata": {
        "id": "UMg_QLHV_xoE",
        "outputId": "aad97c81-efa9-4573-fec4-1b7a8d18b99c",
        "colab": {
          "base_uri": "https://localhost:8080/"
        }
      },
      "outputs": [
        {
          "output_type": "execute_result",
          "data": {
            "text/plain": [
              "10"
            ]
          },
          "metadata": {},
          "execution_count": 3
        }
      ],
      "source": [
        "C[5]"
      ]
    },
    {
      "cell_type": "markdown",
      "metadata": {
        "id": "UZGvVhow_xoE"
      },
      "source": [
        "La operación de *slicing* en arrays es similar a la de listas. Por ejemplo:"
      ]
    },
    {
      "cell_type": "code",
      "execution_count": null,
      "metadata": {
        "id": "NeXyGTN__xoE",
        "outputId": "a54750e7-2c2c-4e69-80d9-964313df4679",
        "colab": {
          "base_uri": "https://localhost:8080/"
        }
      },
      "outputs": [
        {
          "output_type": "execute_result",
          "data": {
            "text/plain": [
              "array([10, 12, 14])"
            ]
          },
          "metadata": {},
          "execution_count": 4
        }
      ],
      "source": [
        "C[5:8] # empieza en 0, y coge la 5 la 6 y la 7"
      ]
    },
    {
      "cell_type": "markdown",
      "metadata": {
        "id": "U52uXELx_xoF"
      },
      "source": [
        "Sin embargo, hay una diferencia fundamental: en general en python, el slicing siempre crea *una copia* de la secuencia original (aunque no de los elementos) a la hora de hacer asignaciones. En numpy, el *slicing* es una *vista* de array original. Esto tiene como consecuencia que **las modificaciones que se realicen sobre dicha vista se están realizando sobre el array original**. Por ejemplo:   "
      ]
    },
    {
      "cell_type": "code",
      "execution_count": null,
      "metadata": {
        "id": "hi-G3vZ8_xoF",
        "outputId": "65df979a-e9ab-4e7f-c758-7edee0ed772f",
        "colab": {
          "base_uri": "https://localhost:8080/"
        }
      },
      "outputs": [
        {
          "output_type": "execute_result",
          "data": {
            "text/plain": [
              "array([ 0,  2,  4,  6,  8, 12, 12, 12, 16, 18])"
            ]
          },
          "metadata": {},
          "execution_count": 5
        }
      ],
      "source": [
        "C[5:8] = 12\n",
        "C # sustituye las posiciones indicadas"
      ]
    },
    {
      "cell_type": "markdown",
      "metadata": {
        "id": "osu9zPI2_xoF"
      },
      "source": [
        "Y además hay que tener en cuenta que cualquier referencia a una vista es en realidad una referencia a los datos originales, y que las modificaciones que se realicen a través de esa referencia, se realizarán igualmente sobre el original.\n",
        "\n",
        "Veámos esto con el siguiente ejemplo:"
      ]
    },
    {
      "cell_type": "code",
      "execution_count": null,
      "metadata": {
        "id": "djNvPh5j_xoG",
        "outputId": "b0611622-56af-4c94-e355-bcfea84c8023",
        "colab": {
          "base_uri": "https://localhost:8080/"
        }
      },
      "outputs": [
        {
          "output_type": "execute_result",
          "data": {
            "text/plain": [
              "array([12, 12, 12])"
            ]
          },
          "metadata": {},
          "execution_count": 6
        }
      ],
      "source": [
        "# C_slice referencia a las componenentes 5, 6 y 7 del array C.\n",
        "C_slice = C[5:8]\n",
        "C_slice"
      ]
    },
    {
      "cell_type": "markdown",
      "metadata": {
        "id": "dHKMCH2F_xoG"
      },
      "source": [
        "Modificamos la componente 1 de `C_slice`:"
      ]
    },
    {
      "cell_type": "code",
      "execution_count": null,
      "metadata": {
        "id": "Sgj_oJV5_xoG",
        "outputId": "6e9c096d-77fa-4036-fc86-5937334ef339",
        "colab": {
          "base_uri": "https://localhost:8080/"
        }
      },
      "outputs": [
        {
          "output_type": "execute_result",
          "data": {
            "text/plain": [
              "array([   12, 12345,    12])"
            ]
          },
          "metadata": {},
          "execution_count": 7
        }
      ],
      "source": [
        "C_slice[1] = 12345\n",
        "C_slice"
      ]
    },
    {
      "cell_type": "markdown",
      "metadata": {
        "id": "j8JAAu8S_xoG"
      },
      "source": [
        "Pero la componente 1 de `C_slice` es en realidad la componente 6 de `C`, así que `C` ha cambiado:"
      ]
    },
    {
      "cell_type": "code",
      "execution_count": null,
      "metadata": {
        "id": "pC9Ja-FM_xoG",
        "outputId": "44dc6421-3472-4d9b-af40-8a5f9d44b80f",
        "colab": {
          "base_uri": "https://localhost:8080/"
        }
      },
      "outputs": [
        {
          "output_type": "execute_result",
          "data": {
            "text/plain": [
              "array([    0,     2,     4,     6,     8,    12, 12345,    12,    16,\n",
              "          18])"
            ]
          },
          "metadata": {},
          "execution_count": 8
        }
      ],
      "source": [
        "C"
      ]
    },
    {
      "cell_type": "markdown",
      "metadata": {
        "id": "UtgZPHpU_xoG"
      },
      "source": [
        "Podemos incluso cambiar toda la subsecuencia, cambiando así es parte del array original:"
      ]
    },
    {
      "cell_type": "code",
      "execution_count": null,
      "metadata": {
        "id": "41CajR1y_xoG",
        "outputId": "c7e7a21e-6424-4ebf-d586-6a33f36c1162",
        "colab": {
          "base_uri": "https://localhost:8080/"
        }
      },
      "outputs": [
        {
          "output_type": "execute_result",
          "data": {
            "text/plain": [
              "array([ 0,  2,  4,  6,  8, 64, 64, 64, 16, 18])"
            ]
          },
          "metadata": {},
          "execution_count": 9
        }
      ],
      "source": [
        "C_slice[:] = 64\n",
        "C"
      ]
    },
    {
      "cell_type": "markdown",
      "metadata": {
        "id": "3-rd4eFp_xoH"
      },
      "source": [
        "Nótese la diferencia con las listas de python, en las que `l[:]` es la manera estándar de crear una *copia* de una lista `l`. En el caso de *numpy*, si se quiere realizar una copia, se ha de usar el método `copy` (por ejemplo, `C.copy()`)."
      ]
    },
    {
      "cell_type": "markdown",
      "metadata": {
        "id": "4rxJpOyv_xoH"
      },
      "source": [
        "**Arrays de más dimensiones**"
      ]
    },
    {
      "cell_type": "markdown",
      "metadata": {
        "id": "480gvVKS_xoH"
      },
      "source": [
        "El acceso a los componentes de arrays de dos o más dimensiones es similar, aunque la casuística es más variada."
      ]
    },
    {
      "cell_type": "markdown",
      "metadata": {
        "id": "Yd-PJOSF_xoH"
      },
      "source": [
        "Cuando accedemos con un único índice, estamos accediendo al correspondiente subarray de esa posición. Por ejemplo, en array de dos dimensiones, con 3 filas y 3 columnas, la posición 2 es la tercera fila:"
      ]
    },
    {
      "cell_type": "code",
      "execution_count": 3,
      "metadata": {
        "id": "TykBJ9JI_xoI",
        "outputId": "343b1af9-d55a-4348-ccdf-50d3af63eb02",
        "colab": {
          "base_uri": "https://localhost:8080/"
        }
      },
      "outputs": [
        {
          "output_type": "execute_result",
          "data": {
            "text/plain": [
              "array([7, 8, 9])"
            ]
          },
          "metadata": {},
          "execution_count": 3
        }
      ],
      "source": [
        "C2d = np.array([[1, 2, 3], [4, 5, 6], [7, 8, 9]])\n",
        "C2d[2]"
      ]
    },
    {
      "cell_type": "markdown",
      "metadata": {
        "id": "v0GVGU0L_xoI"
      },
      "source": [
        "De esta manera, recursivamente, podríamos acceder a los componentes individuales de una array de cualquier dimensión. En el ejemplo anterior, el elemento de la primera fila y la tercera columna sería:"
      ]
    },
    {
      "cell_type": "code",
      "execution_count": null,
      "metadata": {
        "id": "25sSVC1l_xoI",
        "outputId": "bdb47ffd-9809-49e2-cd79-645f7e9fccc5",
        "colab": {
          "base_uri": "https://localhost:8080/"
        }
      },
      "outputs": [
        {
          "output_type": "execute_result",
          "data": {
            "text/plain": [
              "3"
            ]
          },
          "metadata": {},
          "execution_count": 11
        }
      ],
      "source": [
        "C2d[0][2]"
      ]
    },
    {
      "cell_type": "markdown",
      "metadata": {
        "id": "7IjYCHRm_xoI"
      },
      "source": [
        "Normalmente no se suele usar la notación anterior para acceder a los elementos individuales, sino que se usa un único corchete con los índices separados por comas: Lo siguiente es equivalente:"
      ]
    },
    {
      "cell_type": "code",
      "execution_count": null,
      "metadata": {
        "id": "bizhjYPh_xoJ",
        "outputId": "2f0b69ec-f53f-4c11-992e-0c659659e7ea",
        "colab": {
          "base_uri": "https://localhost:8080/"
        }
      },
      "outputs": [
        {
          "output_type": "execute_result",
          "data": {
            "text/plain": [
              "3"
            ]
          },
          "metadata": {},
          "execution_count": 12
        }
      ],
      "source": [
        "C2d[0, 2]"
      ]
    },
    {
      "cell_type": "markdown",
      "metadata": {
        "id": "aB7pqyhI_xoK"
      },
      "source": [
        "Veamos más ejemplos de acceso y modificación en arrays multidimensionales, en este caso con tres dimensiones."
      ]
    },
    {
      "cell_type": "code",
      "execution_count": null,
      "metadata": {
        "id": "ckTeln_g_xoK",
        "colab": {
          "base_uri": "https://localhost:8080/"
        },
        "outputId": "43cb19bb-f894-482c-80d4-2f91ebca1117"
      },
      "outputs": [
        {
          "output_type": "execute_result",
          "data": {
            "text/plain": [
              "array([[[ 1,  2,  3],\n",
              "        [ 4,  5,  6]],\n",
              "\n",
              "       [[ 7,  8,  9],\n",
              "        [10, 11, 12]]])"
            ]
          },
          "metadata": {},
          "execution_count": 6
        }
      ],
      "source": [
        "C3d = np.array([[[1, 2, 3], [4, 5, 6]], [[7, 8, 9], [10, 11, 12]]])\n",
        "C3d"
      ]
    },
    {
      "cell_type": "markdown",
      "metadata": {
        "id": "sDFF8zk9_xoK"
      },
      "source": [
        "Accediendo a la posición 0 obtenemos el correspondiente subarray de dos dimensiones:"
      ]
    },
    {
      "cell_type": "code",
      "execution_count": null,
      "metadata": {
        "id": "VnD5R9kq_xoK",
        "outputId": "3715f6b0-7595-4dbf-c27d-9a692d96b468",
        "colab": {
          "base_uri": "https://localhost:8080/"
        }
      },
      "outputs": [
        {
          "output_type": "execute_result",
          "data": {
            "text/plain": [
              "array([[1, 2, 3],\n",
              "       [4, 5, 6]])"
            ]
          },
          "metadata": {},
          "execution_count": 14
        }
      ],
      "source": [
        "C3d[0]"
      ]
    },
    {
      "cell_type": "markdown",
      "source": [
        "Similar a la función `enumerate` de Python, tenemos la función `np.ndenumearte` para iterar con los elementos del array y su índice"
      ],
      "metadata": {
        "id": "Cr3-AHG88bpo"
      }
    },
    {
      "cell_type": "code",
      "source": [
        "[i for i in np.ndenumerate(C3d)]"
      ],
      "metadata": {
        "id": "vvbKaKKX8oGR",
        "outputId": "7597b68d-1ecc-4c09-a6f0-803a2228c3a7",
        "colab": {
          "base_uri": "https://localhost:8080/"
        }
      },
      "execution_count": null,
      "outputs": [
        {
          "output_type": "execute_result",
          "data": {
            "text/plain": [
              "[((0, 0, 0), 1),\n",
              " ((0, 0, 1), 2),\n",
              " ((0, 0, 2), 3),\n",
              " ((0, 1, 0), 4),\n",
              " ((0, 1, 1), 5),\n",
              " ((0, 1, 2), 6),\n",
              " ((1, 0, 0), 7),\n",
              " ((1, 0, 1), 8),\n",
              " ((1, 0, 2), 9),\n",
              " ((1, 1, 0), 10),\n",
              " ((1, 1, 1), 11),\n",
              " ((1, 1, 2), 12)]"
            ]
          },
          "metadata": {},
          "execution_count": 17
        }
      ]
    },
    {
      "cell_type": "markdown",
      "metadata": {
        "id": "sSE1eGoz_xoL"
      },
      "source": [
        "Vamos a guardar una copia de de ese subarray y lo modificamos en el original con el número `42` en todas las posiciones:"
      ]
    },
    {
      "cell_type": "code",
      "execution_count": null,
      "metadata": {
        "id": "jpGERf3M_xoL",
        "outputId": "f92103de-1239-4b39-907d-fc60274b88b2",
        "colab": {
          "base_uri": "https://localhost:8080/"
        }
      },
      "outputs": [
        {
          "output_type": "execute_result",
          "data": {
            "text/plain": [
              "array([[[42, 42, 42],\n",
              "        [42, 42, 42]],\n",
              "\n",
              "       [[ 7,  8,  9],\n",
              "        [10, 11, 12]]])"
            ]
          },
          "metadata": {},
          "execution_count": 15
        }
      ],
      "source": [
        "old_values = C3d[0].copy()\n",
        "C3d[0] = 42\n",
        "C3d"
      ]
    },
    {
      "cell_type": "markdown",
      "metadata": {
        "id": "xBbwjdeK_xoL"
      },
      "source": [
        "Y ahora reestablecemos los valores originales:"
      ]
    },
    {
      "cell_type": "code",
      "execution_count": null,
      "metadata": {
        "id": "_oJAjmMI_xoL",
        "outputId": "24a7467a-2524-481a-c155-5094f9295110",
        "colab": {
          "base_uri": "https://localhost:8080/"
        }
      },
      "outputs": [
        {
          "output_type": "execute_result",
          "data": {
            "text/plain": [
              "array([[[ 1,  2,  3],\n",
              "        [ 4,  5,  6]],\n",
              "\n",
              "       [[ 7,  8,  9],\n",
              "        [10, 11, 12]]])"
            ]
          },
          "metadata": {},
          "execution_count": 16
        }
      ],
      "source": [
        "C3d[0] = old_values\n",
        "C3d"
      ]
    },
    {
      "cell_type": "markdown",
      "source": [
        ":::{exercise}\n",
        ":label: introduction-numpy-indexing\n",
        "\n",
        "Devuelve el número 813 indexando el array `np.arange(2100).reshape((25, 6, 7, 2))`. \n",
        "\n",
        ":::"
      ],
      "metadata": {
        "id": "HhfeLKhy9LJ2"
      }
    },
    {
      "cell_type": "markdown",
      "source": [
        "*Lo que significan las dimensiones es que el tenemos pares de elementos, agrupamos los pares de 7 en 7 y eso forma un array, a continuación dichos arrays los agrupamos de 6 en 6 y tenemos 25 de estos. En total llegamos a tener 2100 números*"
      ],
      "metadata": {
        "id": "PlfH9xOO3hBy"
      }
    },
    {
      "cell_type": "code",
      "source": [
        "total = np.arange(2100).reshape((25,6,7,2))\n",
        "print(total)"
      ],
      "metadata": {
        "colab": {
          "base_uri": "https://localhost:8080/"
        },
        "id": "yY5NSU292_Jo",
        "outputId": "39a979a2-19a8-4e78-b25e-cce2379115e4"
      },
      "execution_count": null,
      "outputs": [
        {
          "output_type": "stream",
          "name": "stdout",
          "text": [
            "[[[[   0    1]\n",
            "   [   2    3]\n",
            "   [   4    5]\n",
            "   ...\n",
            "   [   8    9]\n",
            "   [  10   11]\n",
            "   [  12   13]]\n",
            "\n",
            "  [[  14   15]\n",
            "   [  16   17]\n",
            "   [  18   19]\n",
            "   ...\n",
            "   [  22   23]\n",
            "   [  24   25]\n",
            "   [  26   27]]\n",
            "\n",
            "  [[  28   29]\n",
            "   [  30   31]\n",
            "   [  32   33]\n",
            "   ...\n",
            "   [  36   37]\n",
            "   [  38   39]\n",
            "   [  40   41]]\n",
            "\n",
            "  [[  42   43]\n",
            "   [  44   45]\n",
            "   [  46   47]\n",
            "   ...\n",
            "   [  50   51]\n",
            "   [  52   53]\n",
            "   [  54   55]]\n",
            "\n",
            "  [[  56   57]\n",
            "   [  58   59]\n",
            "   [  60   61]\n",
            "   ...\n",
            "   [  64   65]\n",
            "   [  66   67]\n",
            "   [  68   69]]\n",
            "\n",
            "  [[  70   71]\n",
            "   [  72   73]\n",
            "   [  74   75]\n",
            "   ...\n",
            "   [  78   79]\n",
            "   [  80   81]\n",
            "   [  82   83]]]\n",
            "\n",
            "\n",
            " [[[  84   85]\n",
            "   [  86   87]\n",
            "   [  88   89]\n",
            "   ...\n",
            "   [  92   93]\n",
            "   [  94   95]\n",
            "   [  96   97]]\n",
            "\n",
            "  [[  98   99]\n",
            "   [ 100  101]\n",
            "   [ 102  103]\n",
            "   ...\n",
            "   [ 106  107]\n",
            "   [ 108  109]\n",
            "   [ 110  111]]\n",
            "\n",
            "  [[ 112  113]\n",
            "   [ 114  115]\n",
            "   [ 116  117]\n",
            "   ...\n",
            "   [ 120  121]\n",
            "   [ 122  123]\n",
            "   [ 124  125]]\n",
            "\n",
            "  [[ 126  127]\n",
            "   [ 128  129]\n",
            "   [ 130  131]\n",
            "   ...\n",
            "   [ 134  135]\n",
            "   [ 136  137]\n",
            "   [ 138  139]]\n",
            "\n",
            "  [[ 140  141]\n",
            "   [ 142  143]\n",
            "   [ 144  145]\n",
            "   ...\n",
            "   [ 148  149]\n",
            "   [ 150  151]\n",
            "   [ 152  153]]\n",
            "\n",
            "  [[ 154  155]\n",
            "   [ 156  157]\n",
            "   [ 158  159]\n",
            "   ...\n",
            "   [ 162  163]\n",
            "   [ 164  165]\n",
            "   [ 166  167]]]\n",
            "\n",
            "\n",
            " [[[ 168  169]\n",
            "   [ 170  171]\n",
            "   [ 172  173]\n",
            "   ...\n",
            "   [ 176  177]\n",
            "   [ 178  179]\n",
            "   [ 180  181]]\n",
            "\n",
            "  [[ 182  183]\n",
            "   [ 184  185]\n",
            "   [ 186  187]\n",
            "   ...\n",
            "   [ 190  191]\n",
            "   [ 192  193]\n",
            "   [ 194  195]]\n",
            "\n",
            "  [[ 196  197]\n",
            "   [ 198  199]\n",
            "   [ 200  201]\n",
            "   ...\n",
            "   [ 204  205]\n",
            "   [ 206  207]\n",
            "   [ 208  209]]\n",
            "\n",
            "  [[ 210  211]\n",
            "   [ 212  213]\n",
            "   [ 214  215]\n",
            "   ...\n",
            "   [ 218  219]\n",
            "   [ 220  221]\n",
            "   [ 222  223]]\n",
            "\n",
            "  [[ 224  225]\n",
            "   [ 226  227]\n",
            "   [ 228  229]\n",
            "   ...\n",
            "   [ 232  233]\n",
            "   [ 234  235]\n",
            "   [ 236  237]]\n",
            "\n",
            "  [[ 238  239]\n",
            "   [ 240  241]\n",
            "   [ 242  243]\n",
            "   ...\n",
            "   [ 246  247]\n",
            "   [ 248  249]\n",
            "   [ 250  251]]]\n",
            "\n",
            "\n",
            " ...\n",
            "\n",
            "\n",
            " [[[1848 1849]\n",
            "   [1850 1851]\n",
            "   [1852 1853]\n",
            "   ...\n",
            "   [1856 1857]\n",
            "   [1858 1859]\n",
            "   [1860 1861]]\n",
            "\n",
            "  [[1862 1863]\n",
            "   [1864 1865]\n",
            "   [1866 1867]\n",
            "   ...\n",
            "   [1870 1871]\n",
            "   [1872 1873]\n",
            "   [1874 1875]]\n",
            "\n",
            "  [[1876 1877]\n",
            "   [1878 1879]\n",
            "   [1880 1881]\n",
            "   ...\n",
            "   [1884 1885]\n",
            "   [1886 1887]\n",
            "   [1888 1889]]\n",
            "\n",
            "  [[1890 1891]\n",
            "   [1892 1893]\n",
            "   [1894 1895]\n",
            "   ...\n",
            "   [1898 1899]\n",
            "   [1900 1901]\n",
            "   [1902 1903]]\n",
            "\n",
            "  [[1904 1905]\n",
            "   [1906 1907]\n",
            "   [1908 1909]\n",
            "   ...\n",
            "   [1912 1913]\n",
            "   [1914 1915]\n",
            "   [1916 1917]]\n",
            "\n",
            "  [[1918 1919]\n",
            "   [1920 1921]\n",
            "   [1922 1923]\n",
            "   ...\n",
            "   [1926 1927]\n",
            "   [1928 1929]\n",
            "   [1930 1931]]]\n",
            "\n",
            "\n",
            " [[[1932 1933]\n",
            "   [1934 1935]\n",
            "   [1936 1937]\n",
            "   ...\n",
            "   [1940 1941]\n",
            "   [1942 1943]\n",
            "   [1944 1945]]\n",
            "\n",
            "  [[1946 1947]\n",
            "   [1948 1949]\n",
            "   [1950 1951]\n",
            "   ...\n",
            "   [1954 1955]\n",
            "   [1956 1957]\n",
            "   [1958 1959]]\n",
            "\n",
            "  [[1960 1961]\n",
            "   [1962 1963]\n",
            "   [1964 1965]\n",
            "   ...\n",
            "   [1968 1969]\n",
            "   [1970 1971]\n",
            "   [1972 1973]]\n",
            "\n",
            "  [[1974 1975]\n",
            "   [1976 1977]\n",
            "   [1978 1979]\n",
            "   ...\n",
            "   [1982 1983]\n",
            "   [1984 1985]\n",
            "   [1986 1987]]\n",
            "\n",
            "  [[1988 1989]\n",
            "   [1990 1991]\n",
            "   [1992 1993]\n",
            "   ...\n",
            "   [1996 1997]\n",
            "   [1998 1999]\n",
            "   [2000 2001]]\n",
            "\n",
            "  [[2002 2003]\n",
            "   [2004 2005]\n",
            "   [2006 2007]\n",
            "   ...\n",
            "   [2010 2011]\n",
            "   [2012 2013]\n",
            "   [2014 2015]]]\n",
            "\n",
            "\n",
            " [[[2016 2017]\n",
            "   [2018 2019]\n",
            "   [2020 2021]\n",
            "   ...\n",
            "   [2024 2025]\n",
            "   [2026 2027]\n",
            "   [2028 2029]]\n",
            "\n",
            "  [[2030 2031]\n",
            "   [2032 2033]\n",
            "   [2034 2035]\n",
            "   ...\n",
            "   [2038 2039]\n",
            "   [2040 2041]\n",
            "   [2042 2043]]\n",
            "\n",
            "  [[2044 2045]\n",
            "   [2046 2047]\n",
            "   [2048 2049]\n",
            "   ...\n",
            "   [2052 2053]\n",
            "   [2054 2055]\n",
            "   [2056 2057]]\n",
            "\n",
            "  [[2058 2059]\n",
            "   [2060 2061]\n",
            "   [2062 2063]\n",
            "   ...\n",
            "   [2066 2067]\n",
            "   [2068 2069]\n",
            "   [2070 2071]]\n",
            "\n",
            "  [[2072 2073]\n",
            "   [2074 2075]\n",
            "   [2076 2077]\n",
            "   ...\n",
            "   [2080 2081]\n",
            "   [2082 2083]\n",
            "   [2084 2085]]\n",
            "\n",
            "  [[2086 2087]\n",
            "   [2088 2089]\n",
            "   [2090 2091]\n",
            "   ...\n",
            "   [2094 2095]\n",
            "   [2096 2097]\n",
            "   [2098 2099]]]]\n"
          ]
        }
      ]
    },
    {
      "cell_type": "code",
      "source": [
        "total[9,4,0,1] # obtenido mediante ensayo error"
      ],
      "metadata": {
        "colab": {
          "base_uri": "https://localhost:8080/"
        },
        "id": "ohYfciDv34_9",
        "outputId": "50346c75-c258-47b4-cf0a-b0f24afd21e9"
      },
      "execution_count": null,
      "outputs": [
        {
          "output_type": "execute_result",
          "data": {
            "text/plain": [
              "813"
            ]
          },
          "metadata": {},
          "execution_count": 28
        }
      ]
    },
    {
      "cell_type": "code",
      "source": [
        "813 % 2 ### esta será la última de las coordenadas"
      ],
      "metadata": {
        "colab": {
          "base_uri": "https://localhost:8080/"
        },
        "id": "ERczt1OM4EEl",
        "outputId": "5e96fbc1-c02b-4b4a-b235-0ead6028a41e"
      },
      "execution_count": null,
      "outputs": [
        {
          "output_type": "execute_result",
          "data": {
            "text/plain": [
              "1"
            ]
          },
          "metadata": {},
          "execution_count": 30
        }
      ]
    },
    {
      "cell_type": "code",
      "source": [
        "813//2 % 7 ### la coordenada anterior"
      ],
      "metadata": {
        "colab": {
          "base_uri": "https://localhost:8080/"
        },
        "id": "71WkcydS4Hjo",
        "outputId": "01f03f21-2121-464a-855d-c2b5de9ebbdf"
      },
      "execution_count": null,
      "outputs": [
        {
          "output_type": "execute_result",
          "data": {
            "text/plain": [
              "0"
            ]
          },
          "metadata": {},
          "execution_count": 33
        }
      ]
    },
    {
      "cell_type": "code",
      "source": [
        "813 // 2 // 7 % 6 ### la segunda"
      ],
      "metadata": {
        "colab": {
          "base_uri": "https://localhost:8080/"
        },
        "id": "LsFF2rM-4NKv",
        "outputId": "9df92403-f3d1-41e5-93fc-c82b727b816a"
      },
      "execution_count": null,
      "outputs": [
        {
          "output_type": "execute_result",
          "data": {
            "text/plain": [
              "4"
            ]
          },
          "metadata": {},
          "execution_count": 34
        }
      ]
    },
    {
      "cell_type": "code",
      "source": [
        "813 // 2 // 7 // 6  ### y finalmente la primera\n",
        "### esto confirma lo que habíamos obtenido con fuerza bruta"
      ],
      "metadata": {
        "colab": {
          "base_uri": "https://localhost:8080/"
        },
        "id": "dkpif7hi4Ph9",
        "outputId": "2f1f1e4f-df40-4557-a193-5ab07ddcf1d4"
      },
      "execution_count": null,
      "outputs": [
        {
          "output_type": "execute_result",
          "data": {
            "text/plain": [
              "9"
            ]
          },
          "metadata": {},
          "execution_count": 35
        }
      ]
    },
    {
      "cell_type": "code",
      "source": [
        "25 * 813 // 2100 ### es otra forma de obtenerlo"
      ],
      "metadata": {
        "colab": {
          "base_uri": "https://localhost:8080/"
        },
        "id": "d9BEyWTX4rul",
        "outputId": "98ac9503-b3d3-4a94-b143-19cc2ea1cd6e"
      },
      "execution_count": null,
      "outputs": [
        {
          "output_type": "execute_result",
          "data": {
            "text/plain": [
              "9"
            ]
          },
          "metadata": {},
          "execution_count": 36
        }
      ]
    },
    {
      "cell_type": "code",
      "source": [
        "### fuerza bruta pero a máquina\n",
        "\n",
        "[i for i, n in np.ndenumerate(total) if n == 813]"
      ],
      "metadata": {
        "colab": {
          "base_uri": "https://localhost:8080/"
        },
        "id": "RUvTuy6V5BYh",
        "outputId": "1d5fef7d-93e9-4f86-8ab2-e709fbeda238"
      },
      "execution_count": null,
      "outputs": [
        {
          "output_type": "execute_result",
          "data": {
            "text/plain": [
              "[(9, 4, 0, 1)]"
            ]
          },
          "metadata": {},
          "execution_count": 40
        }
      ]
    },
    {
      "cell_type": "markdown",
      "metadata": {
        "id": "177aqqeY_xoQ"
      },
      "source": [
        "#### Indexado usando *slices*"
      ]
    },
    {
      "cell_type": "code",
      "execution_count": 4,
      "metadata": {
        "id": "N2NzJIL5_xoR",
        "outputId": "3cff8ee6-4a23-407c-b63d-2305f755b2f0",
        "colab": {
          "base_uri": "https://localhost:8080/"
        }
      },
      "outputs": [
        {
          "output_type": "execute_result",
          "data": {
            "text/plain": [
              "array([[1, 2, 3],\n",
              "       [4, 5, 6],\n",
              "       [7, 8, 9]])"
            ]
          },
          "metadata": {},
          "execution_count": 4
        }
      ],
      "source": [
        "C2d"
      ]
    },
    {
      "cell_type": "markdown",
      "metadata": {
        "id": "AH_e9Ijl_xoR"
      },
      "source": [
        "Los *slicings* en arrays multidimensionales se hacen a lo largo de los correspondientes ejes. Por ejemplo, en un array bidimensional, lo haríamos sobre la secuencia de filas. "
      ]
    },
    {
      "cell_type": "code",
      "execution_count": null,
      "metadata": {
        "id": "qBF3ccfp_xoS",
        "outputId": "7ef72d1f-5b86-402a-f781-7eeb09782d94",
        "colab": {
          "base_uri": "https://localhost:8080/"
        }
      },
      "outputs": [
        {
          "output_type": "execute_result",
          "data": {
            "text/plain": [
              "array([[1, 2, 3],\n",
              "       [4, 5, 6]])"
            ]
          },
          "metadata": {},
          "execution_count": 8
        }
      ],
      "source": [
        "C2d[:2] # se queda los elementos 0 y 1, siendo estos una fila de 3 elementos"
      ]
    },
    {
      "cell_type": "markdown",
      "metadata": {
        "id": "Lt9JuqIW_xoS"
      },
      "source": [
        "Pero también podríamos hacerlo en ambos ejes. Por ejemplo para obtener el subarray hasta la segunda fila y a partir de la primera columna:"
      ]
    },
    {
      "cell_type": "code",
      "execution_count": null,
      "metadata": {
        "id": "VEJo4HJj_xoS",
        "outputId": "c9928930-0636-45b6-fd17-077dc6180a54",
        "colab": {
          "base_uri": "https://localhost:8080/"
        }
      },
      "outputs": [
        {
          "output_type": "execute_result",
          "data": {
            "text/plain": [
              "array([[2, 3],\n",
              "       [5, 6]])"
            ]
          },
          "metadata": {},
          "execution_count": 10
        }
      ],
      "source": [
        "C2d[:2, 1:] #aquí se queda lo de antes, y de cada uno los elementos 1 en adelante (1 y 2)\n",
        "# aquí hemos dado dos slices así que nos devuelve un array de arrays"
      ]
    },
    {
      "cell_type": "markdown",
      "metadata": {
        "id": "7flrjGwU_xoT"
      },
      "source": [
        "Si en alguno de los ejes se usa un índice individual, entonces se pierde una de las dimensiones:"
      ]
    },
    {
      "cell_type": "code",
      "execution_count": null,
      "metadata": {
        "id": "sHbAv_5K_xoT",
        "outputId": "9aa63f1b-fc58-492f-8188-701a06f57e36",
        "colab": {
          "base_uri": "https://localhost:8080/"
        }
      },
      "outputs": [
        {
          "output_type": "execute_result",
          "data": {
            "text/plain": [
              "array([4, 5])"
            ]
          },
          "metadata": {},
          "execution_count": 12
        }
      ],
      "source": [
        "C2d[1, :2] # aquí hemos dado un número y un slice, entonces nos devuelve solo un array"
      ]
    },
    {
      "cell_type": "markdown",
      "metadata": {
        "id": "w3i3lb63_xoT"
      },
      "source": [
        "Nótese la diferencia con la operación `C2d[1:2,:2]`. Puede parecer que el resultado ha de ser el mismo, pero si se usa slicing en ambos ejes se mantiene el número de dimensiones:"
      ]
    },
    {
      "cell_type": "code",
      "execution_count": null,
      "metadata": {
        "id": "Zj0Gv_kt_xoT",
        "outputId": "3146ba66-c39c-4286-fd16-bdf71363471a",
        "colab": {
          "base_uri": "https://localhost:8080/"
        }
      },
      "outputs": [
        {
          "output_type": "execute_result",
          "data": {
            "text/plain": [
              "array([[4, 5]])"
            ]
          },
          "metadata": {},
          "execution_count": 14
        }
      ],
      "source": [
        "C2d[1:2,:2]"
      ]
    },
    {
      "cell_type": "markdown",
      "metadata": {
        "id": "MatNHiq__xoT"
      },
      "source": [
        "Más ejemplos:"
      ]
    },
    {
      "cell_type": "code",
      "execution_count": null,
      "metadata": {
        "id": "40WHNmgq_xoT",
        "outputId": "137fb677-409d-4dbb-ee94-2cead7b242d8",
        "colab": {
          "base_uri": "https://localhost:8080/"
        }
      },
      "outputs": [
        {
          "output_type": "execute_result",
          "data": {
            "text/plain": [
              "array([3, 6])"
            ]
          },
          "metadata": {},
          "execution_count": 15
        }
      ],
      "source": [
        "C2d[:2, 2] "
      ]
    },
    {
      "cell_type": "code",
      "execution_count": null,
      "metadata": {
        "id": "ydGfmNux_xoU",
        "outputId": "ef1cf86d-43c0-40cf-acb9-afbfbdb5ca14",
        "colab": {
          "base_uri": "https://localhost:8080/"
        }
      },
      "outputs": [
        {
          "output_type": "execute_result",
          "data": {
            "text/plain": [
              "array([[1],\n",
              "       [4],\n",
              "       [7]])"
            ]
          },
          "metadata": {},
          "execution_count": 16
        }
      ],
      "source": [
        "C2d[:, :1] # poniendo solo \":\" le indicamos que queremos todos los de esa dimensión, como un array"
      ]
    },
    {
      "cell_type": "markdown",
      "metadata": {
        "id": "GW8WXa6G_xoU"
      },
      "source": [
        "Como hemos visto más arriba, podemos usar *slicing* para asignar valores a las componentes de un array. Por ejemplo"
      ]
    },
    {
      "cell_type": "code",
      "execution_count": null,
      "metadata": {
        "id": "RgvW7LRz_xoU",
        "outputId": "57d13342-f53a-43b5-bc58-939352b16e23",
        "colab": {
          "base_uri": "https://localhost:8080/"
        }
      },
      "outputs": [
        {
          "output_type": "execute_result",
          "data": {
            "text/plain": [
              "array([[1, 0, 0],\n",
              "       [4, 0, 0],\n",
              "       [7, 8, 9]])"
            ]
          },
          "metadata": {},
          "execution_count": 17
        }
      ],
      "source": [
        "C2d[:2, 1:] = 0\n",
        "C2d"
      ]
    },
    {
      "cell_type": "markdown",
      "source": [
        ":::{exercise}\n",
        ":label: index-slicing-3x4x2\n",
        "\n",
        "Crea un array tridimensional de dimensiones $(3, 4, 2)$ y obtén el subarray indicada en la figura \n",
        "![picture](https://drive.google.com/uc?id=1HEtbq_Y1YVh6jscdHEhYYz-iM5FNMyJP)\n",
        "\n",
        ":::"
      ],
      "metadata": {
        "id": "S0oBCm9tIo1x"
      }
    },
    {
      "cell_type": "code",
      "source": [
        "C342 = np.array([[[0,1],[0,1],[0,1],[0,1]],\n",
        "             [[0,1],[0,1],[0,1],[0,1]],\n",
        "             [[0,1],[0,1],[0,1],[0,1]]])\n",
        "# esto sería haciéndolo a mano"
      ],
      "metadata": {
        "id": "kS9lleHU0tvO"
      },
      "execution_count": 5,
      "outputs": []
    },
    {
      "cell_type": "code",
      "source": [
        "CC342 = np.arange(24).reshape((3,4,2))"
      ],
      "metadata": {
        "id": "qePSF9Y31OwP"
      },
      "execution_count": 6,
      "outputs": []
    },
    {
      "cell_type": "code",
      "source": [
        "CC342"
      ],
      "metadata": {
        "id": "NKWMifyn1bzY",
        "outputId": "ddd2e856-b747-4c2e-a881-5bf313041d19",
        "colab": {
          "base_uri": "https://localhost:8080/"
        }
      },
      "execution_count": 7,
      "outputs": [
        {
          "output_type": "execute_result",
          "data": {
            "text/plain": [
              "array([[[ 0,  1],\n",
              "        [ 2,  3],\n",
              "        [ 4,  5],\n",
              "        [ 6,  7]],\n",
              "\n",
              "       [[ 8,  9],\n",
              "        [10, 11],\n",
              "        [12, 13],\n",
              "        [14, 15]],\n",
              "\n",
              "       [[16, 17],\n",
              "        [18, 19],\n",
              "        [20, 21],\n",
              "        [22, 23]]])"
            ]
          },
          "metadata": {},
          "execution_count": 7
        }
      ]
    },
    {
      "cell_type": "code",
      "source": [
        "CC342[1,3,:]"
      ],
      "metadata": {
        "id": "0CXjJIuk1dqy",
        "outputId": "67ddce58-fe83-4b32-cd3c-8b1c48d8d847",
        "colab": {
          "base_uri": "https://localhost:8080/"
        }
      },
      "execution_count": 8,
      "outputs": [
        {
          "output_type": "execute_result",
          "data": {
            "text/plain": [
              "array([14, 15])"
            ]
          },
          "metadata": {},
          "execution_count": 8
        }
      ]
    },
    {
      "cell_type": "code",
      "source": [
        "CC342[1,3,:].shape # vemos que no es correcto"
      ],
      "metadata": {
        "id": "vfLZcH3u26EJ",
        "outputId": "223a5cdf-e99f-4f57-ab8c-47903eb8649d",
        "colab": {
          "base_uri": "https://localhost:8080/"
        }
      },
      "execution_count": 9,
      "outputs": [
        {
          "output_type": "execute_result",
          "data": {
            "text/plain": [
              "(2,)"
            ]
          },
          "metadata": {},
          "execution_count": 9
        }
      ]
    },
    {
      "cell_type": "code",
      "source": [
        "CC342[1,3:,:].shape # ya tiene el tamaño correcto"
      ],
      "metadata": {
        "id": "eSgdpDwg270h",
        "outputId": "3c24ed20-d890-4469-ef56-83816a9f92f6",
        "colab": {
          "base_uri": "https://localhost:8080/"
        }
      },
      "execution_count": 10,
      "outputs": [
        {
          "output_type": "execute_result",
          "data": {
            "text/plain": [
              "(1, 2)"
            ]
          },
          "metadata": {},
          "execution_count": 10
        }
      ]
    },
    {
      "cell_type": "markdown",
      "metadata": {
        "id": "LBbXvvwz_xoV"
      },
      "source": [
        "### Indexado con booleanos"
      ]
    },
    {
      "cell_type": "markdown",
      "metadata": {
        "id": "JMbWjTvX_xoV"
      },
      "source": [
        "Los arrays de booleanos se pueden usar en numpy como una forma de indexado para seleccionar determinadas componenetes en una serie de ejes. \n",
        "\n",
        "Veamos el siguiente ejemplo:"
      ]
    },
    {
      "cell_type": "code",
      "execution_count": 11,
      "metadata": {
        "id": "aCvfEAkM_xoV"
      },
      "outputs": [],
      "source": [
        "nombres = np.array(['Bob', 'Joe', 'Will', 'Bob', 'Will', 'Joe', 'Joe'])"
      ]
    },
    {
      "cell_type": "code",
      "execution_count": 12,
      "metadata": {
        "id": "-i69eniR_xoV",
        "outputId": "14ccb0cd-9ce8-4438-c98d-e56403fa916a",
        "colab": {
          "base_uri": "https://localhost:8080/"
        }
      },
      "outputs": [
        {
          "output_type": "execute_result",
          "data": {
            "text/plain": [
              "array([[ 0.10208894,  0.03122521, -0.93937603,  0.92486741],\n",
              "       [-0.27275494,  0.72342173, -0.14793541,  0.3405481 ],\n",
              "       [-0.24479507,  0.24363604,  0.24620716, -0.76165722],\n",
              "       [-0.59972281,  1.39409869,  1.67624302,  0.29427832],\n",
              "       [-0.38351223, -0.65817723, -0.09344101,  0.56256866],\n",
              "       [ 1.93044551, -0.79635993, -0.21446621, -0.96225864],\n",
              "       [-1.06191377,  0.77043799, -1.27974775,  1.35582309]])"
            ]
          },
          "metadata": {},
          "execution_count": 12
        }
      ],
      "source": [
        "data = np.random.randn(7, 4)\n",
        "data"
      ]
    },
    {
      "cell_type": "code",
      "source": [
        "rng = np.random.default_rng()\n",
        "data = rng.normal(0,1,(7,4))\n",
        "data"
      ],
      "metadata": {
        "colab": {
          "base_uri": "https://localhost:8080/"
        },
        "id": "AmprT5LN326c",
        "outputId": "edd001f4-4c3b-4834-8f73-68c30ede880f"
      },
      "execution_count": 17,
      "outputs": [
        {
          "output_type": "execute_result",
          "data": {
            "text/plain": [
              "array([[-1.51016549, -0.1355952 ,  0.07487244, -0.2760534 ],\n",
              "       [ 0.20463225, -0.93239939, -0.52865478,  0.51128708],\n",
              "       [ 1.86439784,  0.21755128,  1.68194025, -0.25724344],\n",
              "       [-1.25656702,  0.6187122 ,  0.68644664, -1.37882551],\n",
              "       [-0.69930737,  0.46106766, -0.28511708, -1.26543576],\n",
              "       [ 1.64493026,  0.97036704,  0.09503961,  0.58450446],\n",
              "       [ 0.58285311, -0.58673437, -1.02419923, -1.60726619]])"
            ]
          },
          "metadata": {},
          "execution_count": 17
        }
      ]
    },
    {
      "cell_type": "markdown",
      "metadata": {
        "id": "vCfqyjS2_xoW"
      },
      "source": [
        "Podríamos interpretar que cada fila del array `data` son datos asociados a las correspondientes personas del array `nombres`. Si ahora queremos quedarnos por ejemplos con las filas correspondientes a Bob, podemos usar indexado booleano de la siguiente manera:"
      ]
    },
    {
      "cell_type": "markdown",
      "metadata": {
        "id": "FYUnWy5g_xoX"
      },
      "source": [
        "El array de booleanos que vamos a usar será:"
      ]
    },
    {
      "cell_type": "code",
      "execution_count": 13,
      "metadata": {
        "id": "twMzoqG8_xoY",
        "outputId": "1f5d2190-e389-47cc-940c-40b771f70e60",
        "colab": {
          "base_uri": "https://localhost:8080/"
        }
      },
      "outputs": [
        {
          "output_type": "execute_result",
          "data": {
            "text/plain": [
              "array([ True, False, False,  True, False, False, False])"
            ]
          },
          "metadata": {},
          "execution_count": 13
        }
      ],
      "source": [
        "nombres == 'Bob'"
      ]
    },
    {
      "cell_type": "markdown",
      "metadata": {
        "id": "XJ-nnTnk_xoY"
      },
      "source": [
        "Y el indexado con ese array, en el eje de las filas, nos dará el subarray de las filas correspondientes a Bob:"
      ]
    },
    {
      "cell_type": "code",
      "execution_count": 14,
      "metadata": {
        "id": "PVEo9Iz2_xoY",
        "outputId": "bce058db-e070-4feb-9efd-78593bf01ac0",
        "colab": {
          "base_uri": "https://localhost:8080/"
        }
      },
      "outputs": [
        {
          "output_type": "execute_result",
          "data": {
            "text/plain": [
              "array([[ 0.10208894,  0.03122521, -0.93937603,  0.92486741],\n",
              "       [-0.59972281,  1.39409869,  1.67624302,  0.29427832]])"
            ]
          },
          "metadata": {},
          "execution_count": 14
        }
      ],
      "source": [
        "data[nombres == 'Bob']"
      ]
    },
    {
      "cell_type": "markdown",
      "metadata": {
        "id": "dLC5RV1n_xoY"
      },
      "source": [
        "Podemos mezclar indexado booleano con índices concretos o con slicing en distintos ejes:"
      ]
    },
    {
      "cell_type": "code",
      "execution_count": 15,
      "metadata": {
        "id": "8O-JpOu8_xoZ",
        "outputId": "39a69e32-813e-4ba9-adbd-a182f6c3cd22",
        "colab": {
          "base_uri": "https://localhost:8080/"
        }
      },
      "outputs": [
        {
          "output_type": "execute_result",
          "data": {
            "text/plain": [
              "array([[-0.93937603,  0.92486741],\n",
              "       [ 1.67624302,  0.29427832]])"
            ]
          },
          "metadata": {},
          "execution_count": 15
        }
      ],
      "source": [
        "data[nombres == 'Bob', 2:]"
      ]
    },
    {
      "cell_type": "code",
      "execution_count": 18,
      "metadata": {
        "id": "lXoKBlMx_xoZ",
        "outputId": "a554b449-3e68-47a6-8a13-4b1b49fa54f9",
        "colab": {
          "base_uri": "https://localhost:8080/"
        }
      },
      "outputs": [
        {
          "output_type": "execute_result",
          "data": {
            "text/plain": [
              "array([-0.2760534 , -1.37882551])"
            ]
          },
          "metadata": {},
          "execution_count": 18
        }
      ],
      "source": [
        "data[nombres == 'Bob', 3]"
      ]
    },
    {
      "cell_type": "markdown",
      "metadata": {
        "id": "Txawua8g_xoZ"
      },
      "source": [
        "Para usar el indexado complementario (en el ejemplo, las filas correspondientes a las personas que no son Bob), podríamos usar el array de booleanos `nombres != 'Bob'`. Sin embargo, es más habitual usar el operador `~`:"
      ]
    },
    {
      "cell_type": "code",
      "execution_count": 19,
      "metadata": {
        "id": "QUTLqZAH_xoa",
        "outputId": "756556ad-ac1f-489d-80e3-2d3e87704328",
        "colab": {
          "base_uri": "https://localhost:8080/"
        }
      },
      "outputs": [
        {
          "output_type": "execute_result",
          "data": {
            "text/plain": [
              "array([[ 0.20463225, -0.93239939, -0.52865478,  0.51128708],\n",
              "       [ 1.86439784,  0.21755128,  1.68194025, -0.25724344],\n",
              "       [-0.69930737,  0.46106766, -0.28511708, -1.26543576],\n",
              "       [ 1.64493026,  0.97036704,  0.09503961,  0.58450446],\n",
              "       [ 0.58285311, -0.58673437, -1.02419923, -1.60726619]])"
            ]
          },
          "metadata": {},
          "execution_count": 19
        }
      ],
      "source": [
        "data[~(nombres == 'Bob')]"
      ]
    },
    {
      "cell_type": "markdown",
      "metadata": {
        "id": "RslgpEjN_xoa"
      },
      "source": [
        "Incluso podemos jugar con otros operadores booleanos como `&` (and) y `|` (or), para construir indexados booleanos que combinan condiciones. \n",
        "\n",
        "Por ejemplo, para obtener las filas correspondiente a Bob o a Will:"
      ]
    },
    {
      "cell_type": "code",
      "execution_count": 20,
      "metadata": {
        "id": "o_RSywGN_xoa",
        "outputId": "ba8423f2-0f9b-4787-a908-b993f574aefa",
        "colab": {
          "base_uri": "https://localhost:8080/"
        }
      },
      "outputs": [
        {
          "output_type": "execute_result",
          "data": {
            "text/plain": [
              "array([ True, False,  True,  True,  True, False, False])"
            ]
          },
          "metadata": {},
          "execution_count": 20
        }
      ],
      "source": [
        "mask = (nombres == 'Bob') | (nombres == 'Will')\n",
        "mask"
      ]
    },
    {
      "cell_type": "code",
      "execution_count": 21,
      "metadata": {
        "id": "0A9QW5uS_xob",
        "outputId": "2e347606-a301-44b7-b3dc-60dee2ead26c",
        "colab": {
          "base_uri": "https://localhost:8080/"
        }
      },
      "outputs": [
        {
          "output_type": "execute_result",
          "data": {
            "text/plain": [
              "array([[-1.51016549, -0.1355952 ,  0.07487244, -0.2760534 ],\n",
              "       [ 1.86439784,  0.21755128,  1.68194025, -0.25724344],\n",
              "       [-1.25656702,  0.6187122 ,  0.68644664, -1.37882551],\n",
              "       [-0.69930737,  0.46106766, -0.28511708, -1.26543576]])"
            ]
          },
          "metadata": {},
          "execution_count": 21
        }
      ],
      "source": [
        "data[mask]"
      ]
    },
    {
      "cell_type": "markdown",
      "metadata": {
        "id": "zgZ5mDl2_xob"
      },
      "source": [
        "Y como en los anteriores indexados, podemos usar el indexado booleano para modificar componentes de los arrays. Lo siguiente pone a 0 todos los componentes neativos de `data`:"
      ]
    },
    {
      "cell_type": "code",
      "execution_count": 22,
      "metadata": {
        "id": "KBswyyKS_xob",
        "outputId": "78b7e420-bf3f-4094-8cc7-1b623c58b8d2",
        "colab": {
          "base_uri": "https://localhost:8080/"
        }
      },
      "outputs": [
        {
          "output_type": "execute_result",
          "data": {
            "text/plain": [
              "array([[ True,  True, False,  True],\n",
              "       [False,  True,  True, False],\n",
              "       [False, False, False,  True],\n",
              "       [ True, False, False,  True],\n",
              "       [ True, False,  True,  True],\n",
              "       [False, False, False, False],\n",
              "       [False,  True,  True,  True]])"
            ]
          },
          "metadata": {},
          "execution_count": 22
        }
      ],
      "source": [
        "data<0"
      ]
    },
    {
      "cell_type": "code",
      "execution_count": 23,
      "metadata": {
        "id": "WvgVM4ZQ_xob",
        "outputId": "16ab71a7-b5f2-4c83-b637-617425467469",
        "colab": {
          "base_uri": "https://localhost:8080/"
        }
      },
      "outputs": [
        {
          "output_type": "execute_result",
          "data": {
            "text/plain": [
              "array([[0.        , 0.        , 0.07487244, 0.        ],\n",
              "       [0.20463225, 0.        , 0.        , 0.51128708],\n",
              "       [1.86439784, 0.21755128, 1.68194025, 0.        ],\n",
              "       [0.        , 0.6187122 , 0.68644664, 0.        ],\n",
              "       [0.        , 0.46106766, 0.        , 0.        ],\n",
              "       [1.64493026, 0.97036704, 0.09503961, 0.58450446],\n",
              "       [0.58285311, 0.        , 0.        , 0.        ]])"
            ]
          },
          "metadata": {},
          "execution_count": 23
        }
      ],
      "source": [
        "data[data < 0] = 0\n",
        "data"
      ]
    },
    {
      "cell_type": "markdown",
      "metadata": {
        "id": "yEfakyy6_xoc"
      },
      "source": [
        "Obsérvese que ahora `data<0` es un array de booleanos bidimensional con la misma estructura que el propio `data` y que por tanto tanto estamos haciendo indexado booleano sobre ambos ejes. \n",
        "\n",
        "Podríamos incluso fijar un valor a filas completas, usando indexado por un booleano unidimensional:"
      ]
    },
    {
      "cell_type": "code",
      "execution_count": 24,
      "metadata": {
        "id": "jLffQjJz_xoc",
        "outputId": "5d8a0686-ecf3-4745-fe57-f25173c6102c",
        "colab": {
          "base_uri": "https://localhost:8080/"
        }
      },
      "outputs": [
        {
          "output_type": "execute_result",
          "data": {
            "text/plain": [
              "array([[7.        , 7.        , 7.        , 7.        ],\n",
              "       [0.20463225, 0.        , 0.        , 0.51128708],\n",
              "       [7.        , 7.        , 7.        , 7.        ],\n",
              "       [7.        , 7.        , 7.        , 7.        ],\n",
              "       [7.        , 7.        , 7.        , 7.        ],\n",
              "       [1.64493026, 0.97036704, 0.09503961, 0.58450446],\n",
              "       [0.58285311, 0.        , 0.        , 0.        ]])"
            ]
          },
          "metadata": {},
          "execution_count": 24
        }
      ],
      "source": [
        "data[~(nombres == 'Joe')] = 7\n",
        "data"
      ]
    },
    {
      "cell_type": "markdown",
      "source": [
        ":::{exercise} :label: index-slicing-bool\n",
        "\n",
        "Devuelve las filas de data correspondientes a aquellos nombres que empiecen por \"B\" o \"J\". Puedes utilizar la función np.char.startswith.\n",
        "\n",
        ":::"
      ],
      "metadata": {
        "id": "sLiJbyn65vt1"
      }
    },
    {
      "cell_type": "code",
      "source": [
        "mascara = np.char.startswith(nombres, \"B\") | np.char.startswith(nombres, \"J\")\n",
        "data[mascara]"
      ],
      "metadata": {
        "colab": {
          "base_uri": "https://localhost:8080/"
        },
        "id": "pMRyMG4Y5xfQ",
        "outputId": "5e38226f-1e39-469f-dca1-948a4a93579f"
      },
      "execution_count": 34,
      "outputs": [
        {
          "output_type": "execute_result",
          "data": {
            "text/plain": [
              "array([[7.        , 7.        , 7.        , 7.        ],\n",
              "       [0.20463225, 0.        , 0.        , 0.51128708],\n",
              "       [7.        , 7.        , 7.        , 7.        ],\n",
              "       [1.64493026, 0.97036704, 0.09503961, 0.58450446],\n",
              "       [0.58285311, 0.        , 0.        , 0.        ]])"
            ]
          },
          "metadata": {},
          "execution_count": 34
        }
      ]
    },
    {
      "cell_type": "markdown",
      "source": [
        ":::{exercise} :label: index-slicing-flip\n",
        "\n",
        "Crea una función flip que tome como inputs un array arr y un número entero positivo i e invierta el eje i-ésimo, es decir, si la dimensión del eje $i$ vale $d_i$, la transformación lleva el elemento con índice $(x_1, \\dots, x_i, \\dots, x_n)$ en $(x_1, \\dots, x_i^*, \\dots, x_n)$ donde $x_i + x_i^* = d_i + 1$\n",
        "\n",
        "Por ejemplo,\n",
        "\n",
        "arr = np.arange(9).reshape((3, 3))\n",
        "\n",
        "arr\n",
        "\n",
        "[[0 1 2]\n",
        "\n",
        " [3 4 5]\n",
        "\n",
        " [6 7 8]]\n",
        "\n",
        "\n",
        "\n",
        "flip(arr,1)\n",
        "\n",
        "[[2 1 0]\n",
        "\n",
        " [5 4 3]\n",
        "\n",
        " [8 7 6]]\n",
        "\n",
        ":::"
      ],
      "metadata": {
        "id": "wnJTYkT65x1M"
      }
    },
    {
      "cell_type": "code",
      "source": [
        "l = list(range(10))\n",
        "reverse_slice = l[slice(None,None,-1)]\n",
        "reverse_slice"
      ],
      "metadata": {
        "colab": {
          "base_uri": "https://localhost:8080/"
        },
        "id": "QokSD4Zm8XEF",
        "outputId": "25c19d2d-d049-437b-e6e7-78ce5082f19a"
      },
      "execution_count": 46,
      "outputs": [
        {
          "output_type": "execute_result",
          "data": {
            "text/plain": [
              "[9, 8, 7, 6, 5, 4, 3, 2, 1, 0]"
            ]
          },
          "metadata": {},
          "execution_count": 46
        }
      ]
    },
    {
      "cell_type": "code",
      "source": [
        "revertir = slice(None,None,-1)"
      ],
      "metadata": {
        "id": "cIHm4ake9JQx"
      },
      "execution_count": 51,
      "outputs": []
    },
    {
      "cell_type": "code",
      "source": [
        "arr=np.arange(9).reshape((3, 3))"
      ],
      "metadata": {
        "id": "TCLAv1xn-DH6"
      },
      "execution_count": 59,
      "outputs": []
    },
    {
      "cell_type": "code",
      "source": [
        "slices = (slice(None), revertir) \n",
        "print(arr)\n",
        "print(arr[slices])\n",
        "# es lo mismo que arr[:,:,-1]"
      ],
      "metadata": {
        "colab": {
          "base_uri": "https://localhost:8080/"
        },
        "id": "vEnvgH1w9oTS",
        "outputId": "bc776abd-bfa8-4aa3-d9cc-1e961b28991e"
      },
      "execution_count": 58,
      "outputs": [
        {
          "output_type": "stream",
          "name": "stdout",
          "text": [
            "[[0 1 2]\n",
            " [3 4 5]\n",
            " [6 7 8]]\n",
            "[[2 1 0]\n",
            " [5 4 3]\n",
            " [8 7 6]]\n"
          ]
        }
      ]
    },
    {
      "cell_type": "code",
      "source": [
        "arr[(revertir,slice(None))]"
      ],
      "metadata": {
        "colab": {
          "base_uri": "https://localhost:8080/"
        },
        "id": "Vd-gFPVl-JYA",
        "outputId": "3d41dd1d-3a25-4882-efdd-f4f2e14bacb8"
      },
      "execution_count": 60,
      "outputs": [
        {
          "output_type": "execute_result",
          "data": {
            "text/plain": [
              "array([[6, 7, 8],\n",
              "       [3, 4, 5],\n",
              "       [0, 1, 2]])"
            ]
          },
          "metadata": {},
          "execution_count": 60
        }
      ]
    },
    {
      "cell_type": "code",
      "source": [
        "def flip(arr: np.ndarray, i: int):\n",
        "  default_slice = slice(None)\n",
        "  revertir = slice(None,None,-1)\n",
        "  n = arr.ndim\n",
        "  l=[]\n",
        "  for j in range(n):\n",
        "    if j==i:\n",
        "      l.append(revertir)\n",
        "    else:\n",
        "      l.append(default_slice)\n",
        "  slices = tuple(l)\n",
        "  return arr[slices]"
      ],
      "metadata": {
        "id": "MnYoKc-w--Or"
      },
      "execution_count": 75,
      "outputs": []
    },
    {
      "cell_type": "code",
      "source": [
        "flip(arr,0)"
      ],
      "metadata": {
        "colab": {
          "base_uri": "https://localhost:8080/"
        },
        "id": "ox8553Pf_onY",
        "outputId": "ff5cde73-9162-4ab7-aab2-ed5b33e2bb43"
      },
      "execution_count": 76,
      "outputs": [
        {
          "output_type": "execute_result",
          "data": {
            "text/plain": [
              "array([[6, 7, 8],\n",
              "       [3, 4, 5],\n",
              "       [0, 1, 2]])"
            ]
          },
          "metadata": {},
          "execution_count": 76
        }
      ]
    },
    {
      "cell_type": "code",
      "source": [
        "flip(arr,1)"
      ],
      "metadata": {
        "colab": {
          "base_uri": "https://localhost:8080/"
        },
        "id": "I4zYog1P_wom",
        "outputId": "2111996a-f732-4d5f-a81c-869bd6c7eb67"
      },
      "execution_count": 77,
      "outputs": [
        {
          "output_type": "execute_result",
          "data": {
            "text/plain": [
              "array([[2, 1, 0],\n",
              "       [5, 4, 3],\n",
              "       [8, 7, 6]])"
            ]
          },
          "metadata": {},
          "execution_count": 77
        }
      ]
    },
    {
      "cell_type": "markdown",
      "metadata": {
        "id": "JGu8bHro_xof"
      },
      "source": [
        "---\n",
        "## Trasposición de arrays y producto matricial"
      ]
    },
    {
      "cell_type": "markdown",
      "metadata": {
        "id": "cp4ew8LU_xof"
      },
      "source": [
        "El método `T` obtiene el array traspuesto de uno dado:"
      ]
    },
    {
      "cell_type": "code",
      "execution_count": 78,
      "metadata": {
        "id": "H1XNGohM_xog",
        "outputId": "2a552172-a1ac-4bf4-bf83-2f84324cd65e",
        "colab": {
          "base_uri": "https://localhost:8080/"
        }
      },
      "outputs": [
        {
          "output_type": "execute_result",
          "data": {
            "text/plain": [
              "array([[ 0,  1,  2,  3,  4],\n",
              "       [ 5,  6,  7,  8,  9],\n",
              "       [10, 11, 12, 13, 14]])"
            ]
          },
          "metadata": {},
          "execution_count": 78
        }
      ],
      "source": [
        "D = np.arange(15).reshape((3, 5))\n",
        "D"
      ]
    },
    {
      "cell_type": "code",
      "execution_count": 79,
      "metadata": {
        "id": "WB4Gsyum_xog",
        "outputId": "33fcb8d3-06e7-43fc-b792-4a770cc2d71a",
        "colab": {
          "base_uri": "https://localhost:8080/"
        }
      },
      "outputs": [
        {
          "output_type": "execute_result",
          "data": {
            "text/plain": [
              "array([[ 0,  5, 10],\n",
              "       [ 1,  6, 11],\n",
              "       [ 2,  7, 12],\n",
              "       [ 3,  8, 13],\n",
              "       [ 4,  9, 14]])"
            ]
          },
          "metadata": {},
          "execution_count": 79
        }
      ],
      "source": [
        "D.T"
      ]
    },
    {
      "cell_type": "code",
      "execution_count": 80,
      "metadata": {
        "id": "evbKcIW5_xog",
        "outputId": "a4b3b857-3a4e-4574-f6c3-145f52dd796b",
        "colab": {
          "base_uri": "https://localhost:8080/"
        }
      },
      "outputs": [
        {
          "output_type": "execute_result",
          "data": {
            "text/plain": [
              "array([[ 0,  1,  2,  3,  4],\n",
              "       [ 5,  6,  7,  8,  9],\n",
              "       [10, 11, 12, 13, 14]])"
            ]
          },
          "metadata": {},
          "execution_count": 80
        }
      ],
      "source": [
        "D"
      ]
    },
    {
      "cell_type": "markdown",
      "metadata": {
        "id": "jqJYUe4o_xoh"
      },
      "source": [
        "En el cálculo matricial será de mucha utilidad el método `np.dot` de numpy, que sirve tanto para calcular el producto escalar como el producto matricial. Veamos varios usos: "
      ]
    },
    {
      "cell_type": "code",
      "execution_count": 28,
      "metadata": {
        "id": "LeU7OxsK_xoi",
        "outputId": "23d1483c-5bba-4480-e0a0-83ecd6761de5",
        "colab": {
          "base_uri": "https://localhost:8080/"
        }
      },
      "outputs": [
        {
          "output_type": "execute_result",
          "data": {
            "text/plain": [
              "array([[-0.54646864,  0.17706215,  1.5521872 ],\n",
              "       [-1.22861502, -0.12411903,  0.64852573],\n",
              "       [-1.02625323, -1.43687697, -1.6748771 ],\n",
              "       [-1.18437128,  0.2762348 , -0.59928686],\n",
              "       [ 0.3952372 , -0.49079782, -0.12304112],\n",
              "       [-0.35212878, -0.45798542,  2.87695155]])"
            ]
          },
          "metadata": {},
          "execution_count": 28
        }
      ],
      "source": [
        "E = np.random.randn(6, 3)\n",
        "E"
      ]
    },
    {
      "cell_type": "markdown",
      "metadata": {
        "id": "4jCZ7Jhk_xoi"
      },
      "source": [
        "Ejemplos de producto escalar:"
      ]
    },
    {
      "cell_type": "code",
      "execution_count": 81,
      "metadata": {
        "id": "g_6ApuHG_xoj",
        "outputId": "a29f8ca1-f349-4774-fd20-df6574498c4d",
        "colab": {
          "base_uri": "https://localhost:8080/"
        }
      },
      "outputs": [
        {
          "output_type": "execute_result",
          "data": {
            "text/plain": [
              "1.1704589593856862"
            ]
          },
          "metadata": {},
          "execution_count": 81
        }
      ],
      "source": [
        "np.dot(E[:,0],E[:,1]) # producto escalar de dos columnas"
      ]
    },
    {
      "cell_type": "code",
      "execution_count": 82,
      "metadata": {
        "id": "R2rT8AEu_xok",
        "outputId": "f2cd1d7d-7d0a-4c42-e53b-04ebda4a7f69",
        "colab": {
          "base_uri": "https://localhost:8080/"
        }
      },
      "outputs": [
        {
          "output_type": "execute_result",
          "data": {
            "text/plain": [
              "0.5056813854839128"
            ]
          },
          "metadata": {},
          "execution_count": 82
        }
      ],
      "source": [
        "np.dot(E[2],E[4]) # producto escalar de dos filas"
      ]
    },
    {
      "cell_type": "code",
      "execution_count": 88,
      "metadata": {
        "id": "I-mC5CGJ_xok",
        "outputId": "7aa78c80-3e79-44d9-eb2d-c88c961b790d",
        "colab": {
          "base_uri": "https://localhost:8080/"
        }
      },
      "outputs": [
        {
          "output_type": "execute_result",
          "data": {
            "text/plain": [
              "array([ 4.54426099,  1.17045896, -0.2780718 ])"
            ]
          },
          "metadata": {},
          "execution_count": 88
        }
      ],
      "source": [
        "np.dot(E.T, E[:,0]) # producto de una matriz por un vector"
      ]
    },
    {
      "cell_type": "code",
      "execution_count": 89,
      "metadata": {
        "id": "o9BbndEw_xok",
        "outputId": "0f748200-1485-408a-b594-c984140c8293",
        "colab": {
          "base_uri": "https://localhost:8080/"
        }
      },
      "outputs": [
        {
          "output_type": "execute_result",
          "data": {
            "text/plain": [
              "array([[ 4.54426099,  1.17045896, -0.2780718 ],\n",
              "       [ 1.17045896,  2.63831079,  1.17817411],\n",
              "       [-0.2780718 ,  1.17817411, 14.28621812]])"
            ]
          },
          "metadata": {},
          "execution_count": 89
        }
      ],
      "source": [
        "np.dot(E.T,E)   # producto de dos matrices"
      ]
    },
    {
      "cell_type": "code",
      "execution_count": 90,
      "metadata": {
        "id": "m4oP9cip_xol",
        "outputId": "562510d8-edf9-4e36-b7f2-360e7ce1cf75",
        "colab": {
          "base_uri": "https://localhost:8080/"
        }
      },
      "outputs": [
        {
          "output_type": "execute_result",
          "data": {
            "text/plain": [
              "array([[ 2.7392641 ,  1.65605614, -2.29332412, -0.2340729 , -0.49386931,\n",
              "         4.57690284],\n",
              "       [ 1.65605614,  1.94548603,  0.35301302,  1.0321974 , -0.50447234,\n",
              "         2.35525253],\n",
              "       [-2.29332412,  0.35301302,  5.92302442,  1.82228126,  0.50568139,\n",
              "        -3.79909826],\n",
              "       [-0.2340729 ,  1.0321974 ,  1.82228126,  1.83818573, -0.5299461 ,\n",
              "        -1.43357955],\n",
              "       [-0.49386931, -0.50447234,  0.50568139, -0.5299461 ,  0.41223406,\n",
              "        -0.26837949],\n",
              "       [ 4.57690284,  2.35525253, -3.79909826, -1.43357955, -0.26837949,\n",
              "         8.61059557]])"
            ]
          },
          "metadata": {},
          "execution_count": 90
        }
      ],
      "source": [
        "np.dot(E,E.T)   # producto de dos matrices"
      ]
    },
    {
      "cell_type": "code",
      "execution_count": 91,
      "metadata": {
        "id": "u8ZGz-cd_xol",
        "outputId": "39ba4eee-0577-4bb4-bf7b-47c19fd9f2e2",
        "colab": {
          "base_uri": "https://localhost:8080/"
        }
      },
      "outputs": [
        {
          "output_type": "execute_result",
          "data": {
            "text/plain": [
              "array([[ 4.54426099],\n",
              "       [ 1.17045896],\n",
              "       [-0.2780718 ]])"
            ]
          },
          "metadata": {},
          "execution_count": 91
        }
      ],
      "source": [
        "np.dot(E.T, E[:,:1]) # producto de dos matrices"
      ]
    },
    {
      "cell_type": "markdown",
      "source": [
        "Existe otro operador matmul (o su versión con el operador @) que también multiplica matrices. Se diferencian cuando los arrays con de más de dos dimensiones ya\n",
        "\n"
      ],
      "metadata": {
        "id": "1j5fSkyOBunx"
      }
    },
    {
      "cell_type": "code",
      "source": [
        "A = np.arange(3*7*4*5).reshape(3, 7, 4, 5)\n",
        "B = np.arange(3*7*5*6).reshape(3, 7, 5, 6)"
      ],
      "metadata": {
        "id": "eiyjAAsyByDC"
      },
      "execution_count": 92,
      "outputs": []
    },
    {
      "cell_type": "code",
      "source": [
        "np.dot(A, B).shape"
      ],
      "metadata": {
        "colab": {
          "base_uri": "https://localhost:8080/"
        },
        "id": "mIovFdVJB1FN",
        "outputId": "9054d658-82ef-4a95-f18f-9a0206cfa344"
      },
      "execution_count": 93,
      "outputs": [
        {
          "output_type": "execute_result",
          "data": {
            "text/plain": [
              "(3, 7, 4, 3, 7, 6)"
            ]
          },
          "metadata": {},
          "execution_count": 93
        }
      ]
    },
    {
      "cell_type": "markdown",
      "source": [
        "$np.dot(A, B)[x1, x2, x3, y1, y2, y3] = A[x1, x2, x3, :].dot(B[y1, y2, :, y3])$"
      ],
      "metadata": {
        "id": "I7dcIBWwB3Au"
      }
    },
    {
      "cell_type": "code",
      "source": [
        "np.matmul(A, B).shape # similar a A @ B"
      ],
      "metadata": {
        "colab": {
          "base_uri": "https://localhost:8080/"
        },
        "id": "Yde6YE2bB8lS",
        "outputId": "49a552d9-7dda-4f85-92c9-35f7bca59a53"
      },
      "execution_count": 94,
      "outputs": [
        {
          "output_type": "execute_result",
          "data": {
            "text/plain": [
              "(3, 7, 4, 6)"
            ]
          },
          "metadata": {},
          "execution_count": 94
        }
      ]
    },
    {
      "cell_type": "markdown",
      "source": [
        "La diferencia radica en que dot el producto escalar del  último eje de A con el penúltimo de B para cada combinación de dimensiones y matmul considera los arrays como arrays de matrices, donde las dos últimas dimensiones son la parte matricial."
      ],
      "metadata": {
        "id": "DpF3oBRqB_I2"
      }
    },
    {
      "cell_type": "markdown",
      "metadata": {
        "id": "o20-9eVm_xol"
      },
      "source": [
        "## Funciones universales sobre arrays (componente a componente)"
      ]
    },
    {
      "cell_type": "markdown",
      "metadata": {
        "id": "ApMion7v_xom"
      },
      "source": [
        "En este contexto, una función universal (o *ufunc*) es una función que actúa sobre cada componente de un array o arrays de numpy. Estas funciones son muy eficientes y se denominan *vectorizadas*. Por ejemplo:   "
      ]
    },
    {
      "cell_type": "code",
      "execution_count": 95,
      "metadata": {
        "id": "4Z3IlMDK_xom",
        "outputId": "88ffdba6-46f9-44d8-db61-783781836e98",
        "colab": {
          "base_uri": "https://localhost:8080/"
        }
      },
      "outputs": [
        {
          "output_type": "execute_result",
          "data": {
            "text/plain": [
              "array([0, 1, 2, 3, 4, 5, 6, 7, 8, 9])"
            ]
          },
          "metadata": {},
          "execution_count": 95
        }
      ],
      "source": [
        "M = np.arange(10)\n",
        "M"
      ]
    },
    {
      "cell_type": "code",
      "execution_count": 96,
      "metadata": {
        "id": "ClZPvz1H_xom",
        "outputId": "80cfab7d-a8a0-4699-c569-b6ba470a9278",
        "colab": {
          "base_uri": "https://localhost:8080/"
        }
      },
      "outputs": [
        {
          "output_type": "execute_result",
          "data": {
            "text/plain": [
              "array([0.        , 1.        , 1.41421356, 1.73205081, 2.        ,\n",
              "       2.23606798, 2.44948974, 2.64575131, 2.82842712, 3.        ])"
            ]
          },
          "metadata": {},
          "execution_count": 96
        }
      ],
      "source": [
        "np.sqrt(M) # raiz cuadrada de cada componente"
      ]
    },
    {
      "cell_type": "code",
      "execution_count": 97,
      "metadata": {
        "id": "zBZakuzO_xom",
        "outputId": "e33a5a97-5e85-4e7a-aa6d-6fe86ad6317f",
        "colab": {
          "base_uri": "https://localhost:8080/"
        }
      },
      "outputs": [
        {
          "output_type": "execute_result",
          "data": {
            "text/plain": [
              "array([[1.00000000e+00, 2.71828183e+00, 7.38905610e+00, 2.00855369e+01,\n",
              "        5.45981500e+01],\n",
              "       [1.48413159e+02, 4.03428793e+02, 1.09663316e+03, 2.98095799e+03,\n",
              "        8.10308393e+03]])"
            ]
          },
          "metadata": {},
          "execution_count": 97
        }
      ],
      "source": [
        "np.exp(M.reshape(2,5)) # exponencial de cad componente"
      ]
    },
    {
      "cell_type": "markdown",
      "metadata": {
        "id": "H81SR_gX_xom"
      },
      "source": [
        "Existen funciones universales que actúan sobre dos arrays, ya que realizan operaciones binarias:"
      ]
    },
    {
      "cell_type": "code",
      "execution_count": 98,
      "metadata": {
        "id": "rRl4vHSL_xon",
        "outputId": "25ef2c32-2ee3-4aa0-dc4d-65515a73958e",
        "colab": {
          "base_uri": "https://localhost:8080/"
        }
      },
      "outputs": [
        {
          "output_type": "execute_result",
          "data": {
            "text/plain": [
              "(array([-0.84290162,  0.31108389,  0.83037083,  1.25709451, -0.2294243 ,\n",
              "         0.85347987,  1.29577666,  1.51981404]),\n",
              " array([ 0.83115696,  0.83058297, -0.58014219,  1.73351851,  0.46002994,\n",
              "        -0.06761146, -0.72245244, -0.6491035 ]))"
            ]
          },
          "metadata": {},
          "execution_count": 98
        }
      ],
      "source": [
        "x = np.random.randn(8)\n",
        "y = np.random.randn(8)\n",
        "x,y"
      ]
    },
    {
      "cell_type": "code",
      "execution_count": 99,
      "metadata": {
        "id": "PpjZ5gVq_xon",
        "outputId": "d331a177-6abc-45a3-d295-326ba8ef28a1",
        "colab": {
          "base_uri": "https://localhost:8080/"
        }
      },
      "outputs": [
        {
          "output_type": "execute_result",
          "data": {
            "text/plain": [
              "array([0.83115696, 0.83058297, 0.83037083, 1.73351851, 0.46002994,\n",
              "       0.85347987, 1.29577666, 1.51981404])"
            ]
          },
          "metadata": {},
          "execution_count": 99
        }
      ],
      "source": [
        "np.maximum(x, y)"
      ]
    },
    {
      "cell_type": "code",
      "source": [
        "# no confundir con\n",
        "max(x),max(y)"
      ],
      "metadata": {
        "colab": {
          "base_uri": "https://localhost:8080/"
        },
        "id": "VH-W7CrWDB-x",
        "outputId": "fb3f571f-4ca3-40b2-81c5-cc3b35baf8a0"
      },
      "execution_count": 106,
      "outputs": [
        {
          "output_type": "execute_result",
          "data": {
            "text/plain": [
              "(1.5198140397894617, 1.7335185063503769)"
            ]
          },
          "metadata": {},
          "execution_count": 106
        }
      ]
    },
    {
      "cell_type": "markdown",
      "metadata": {
        "id": "UnVL508n_xoo"
      },
      "source": [
        "Existe una numerosa colección de *ufuncs* tanto unarias como bianrias. Se recomienda consultar el manual. "
      ]
    },
    {
      "cell_type": "markdown",
      "metadata": {
        "id": "mvtNlPmK_xoo"
      },
      "source": [
        "---\n",
        "## Expresiones condicionales vectorizadas con *where*"
      ]
    },
    {
      "cell_type": "markdown",
      "metadata": {
        "id": "uAevoLYN_xoo"
      },
      "source": [
        "Veamos cómo podemos usar un versión vectorizada de la función `if`. \n",
        "\n",
        "Veámoslo con un ejemplo. Supongamos que tenemos dos arrays (unidimensionales) numéricos y otro array booleano del mismo tamaño: "
      ]
    },
    {
      "cell_type": "code",
      "execution_count": 101,
      "metadata": {
        "id": "-XmyVeoB_xoq"
      },
      "outputs": [],
      "source": [
        "xarr = np.array([1.1, 1.2, 1.3, 1.4, 1.5])\n",
        "yarr = np.array([2.1, 2.2, 2.3, 2.4, 2.5])\n",
        "cond = np.array([True, False, True, True, False])"
      ]
    },
    {
      "cell_type": "markdown",
      "metadata": {
        "id": "4rNsHn8Y_xoq"
      },
      "source": [
        "Si quisiéramos obtener el array que en cada componente tiene el valor de `xs` si el correspondiente en `cond` es `True`, o el valor de `ys` si el correspondiente en `cond` es `False`, podemos hacer lo siguiente:  "
      ]
    },
    {
      "cell_type": "code",
      "execution_count": 102,
      "metadata": {
        "id": "p3uhQOTb_xoq",
        "outputId": "4ba5d1cd-9f76-404e-b625-e04073d0e5f7",
        "colab": {
          "base_uri": "https://localhost:8080/"
        }
      },
      "outputs": [
        {
          "output_type": "execute_result",
          "data": {
            "text/plain": [
              "[1.1, 2.2, 1.3, 1.4, 2.5]"
            ]
          },
          "metadata": {},
          "execution_count": 102
        }
      ],
      "source": [
        "result = [(x if c else y)\n",
        "          for x, y, c in zip(xarr, yarr, cond)]\n",
        "result"
      ]
    },
    {
      "cell_type": "markdown",
      "metadata": {
        "id": "ClV6H4-l_xor"
      },
      "source": [
        "Sin embargo, esto tiene dos problemas: no es lo suficientemente eficiente, y además no se traslada bien a arrays multidimensionales. Afortunadamente, tenemos `np.where` para hacer esto de manera conveniente:"
      ]
    },
    {
      "cell_type": "code",
      "execution_count": 103,
      "metadata": {
        "id": "QL1hugH5_xor",
        "outputId": "a29dad80-bba4-4ccf-fb92-537658290772",
        "colab": {
          "base_uri": "https://localhost:8080/"
        }
      },
      "outputs": [
        {
          "output_type": "execute_result",
          "data": {
            "text/plain": [
              "array([1.1, 2.2, 1.3, 1.4, 2.5])"
            ]
          },
          "metadata": {},
          "execution_count": 103
        }
      ],
      "source": [
        "result = np.where(cond, xarr, yarr)\n",
        "result"
      ]
    },
    {
      "cell_type": "markdown",
      "metadata": {
        "id": "yT1CiwKV_xor"
      },
      "source": [
        "No necesariamente el segundo y el tercer argumento tiene que ser arrays. Por ejemplo:"
      ]
    },
    {
      "cell_type": "code",
      "execution_count": 104,
      "metadata": {
        "id": "rk3stZfX_xor",
        "outputId": "056d7721-9c0a-4f0b-bb31-d0e30e524b5f",
        "colab": {
          "base_uri": "https://localhost:8080/"
        }
      },
      "outputs": [
        {
          "output_type": "execute_result",
          "data": {
            "text/plain": [
              "(array([[ 3.54453066,  1.0922781 , -0.27590788, -0.19719865],\n",
              "        [ 1.20419307, -1.34678496, -0.04129976, -1.04720974],\n",
              "        [ 1.54785992, -0.72041168, -1.03023333, -0.55423894],\n",
              "        [-0.50400165,  1.08187561,  0.70174259, -0.0581368 ]]),\n",
              " array([[ 2,  2, -2, -2],\n",
              "        [ 2, -2, -2, -2],\n",
              "        [ 2, -2, -2, -2],\n",
              "        [-2,  2,  2, -2]]))"
            ]
          },
          "metadata": {},
          "execution_count": 104
        }
      ],
      "source": [
        "F = np.random.randn(4, 4)\n",
        "\n",
        "F,np.where(F > 0, 2, -2)"
      ]
    },
    {
      "cell_type": "markdown",
      "metadata": {
        "id": "q42QLQka_xor"
      },
      "source": [
        "O una combinación de ambos. Por ejemplos, para modificar sólo las componentes positivas:"
      ]
    },
    {
      "cell_type": "code",
      "execution_count": 105,
      "metadata": {
        "id": "aFOvnxSz_xos",
        "outputId": "e9f732a3-0ee9-46fd-8154-2b93c136a57e",
        "colab": {
          "base_uri": "https://localhost:8080/"
        }
      },
      "outputs": [
        {
          "output_type": "execute_result",
          "data": {
            "text/plain": [
              "array([[ 2.        ,  2.        , -0.27590788, -0.19719865],\n",
              "       [ 2.        , -1.34678496, -0.04129976, -1.04720974],\n",
              "       [ 2.        , -0.72041168, -1.03023333, -0.55423894],\n",
              "       [-0.50400165,  2.        ,  2.        , -0.0581368 ]])"
            ]
          },
          "metadata": {},
          "execution_count": 105
        }
      ],
      "source": [
        "np.where(F > 0, 2, F) "
      ]
    },
    {
      "cell_type": "markdown",
      "source": [
        "También existe la función np.select para concatenar varias máscaras consecutivas.\n",
        "\n"
      ],
      "metadata": {
        "id": "oNGIxTxyEChq"
      }
    },
    {
      "cell_type": "code",
      "source": [
        "np.select([np.abs(F) > 2, np.abs(F) > 1], [\"Poco probable\", \"Algo probable\"], \"Frecuente\")\n"
      ],
      "metadata": {
        "colab": {
          "base_uri": "https://localhost:8080/"
        },
        "id": "SaOzrmeVEEJK",
        "outputId": "3e9be2e9-7a81-4a54-b6fc-8af0ccffde5c"
      },
      "execution_count": 107,
      "outputs": [
        {
          "output_type": "execute_result",
          "data": {
            "text/plain": [
              "array([['Poco probable', 'Algo probable', 'Frecuente', 'Frecuente'],\n",
              "       ['Algo probable', 'Algo probable', 'Frecuente', 'Algo probable'],\n",
              "       ['Algo probable', 'Frecuente', 'Algo probable', 'Frecuente'],\n",
              "       ['Frecuente', 'Algo probable', 'Frecuente', 'Frecuente']],\n",
              "      dtype='<U13')"
            ]
          },
          "metadata": {},
          "execution_count": 107
        }
      ]
    },
    {
      "cell_type": "markdown",
      "source": [
        ":::{exercise} :label: index-slicing-masks\n",
        "\n",
        "Crea una función que transforme un array para aplicar elemento a elemento la siguiente función\n",
        "\n",
        "$$ f(x) = \\begin{cases} exp(x/2) & \\text{si } x < 0 \\\\ 1-x & \\text{si } 0 \\leq x \\leq 1 \\\\ 0 & \\text{si } x > 1 \\end{cases} $$\n",
        ":::"
      ],
      "metadata": {
        "id": "MPkNoPcvEISj"
      }
    },
    {
      "cell_type": "code",
      "source": [
        "F"
      ],
      "metadata": {
        "colab": {
          "base_uri": "https://localhost:8080/"
        },
        "id": "MMLAJejQEjZw",
        "outputId": "a58d124a-4d9a-48fc-80fc-02ec40ce7df2"
      },
      "execution_count": 109,
      "outputs": [
        {
          "output_type": "execute_result",
          "data": {
            "text/plain": [
              "array([[ 3.54453066,  1.0922781 , -0.27590788, -0.19719865],\n",
              "       [ 1.20419307, -1.34678496, -0.04129976, -1.04720974],\n",
              "       [ 1.54785992, -0.72041168, -1.03023333, -0.55423894],\n",
              "       [-0.50400165,  1.08187561,  0.70174259, -0.0581368 ]])"
            ]
          },
          "metadata": {},
          "execution_count": 109
        }
      ]
    },
    {
      "cell_type": "code",
      "source": [
        "np.select([F < 0, F <= 1],[np.exp(F/2),1-F],0)"
      ],
      "metadata": {
        "colab": {
          "base_uri": "https://localhost:8080/"
        },
        "id": "4zDHxGGTEKmW",
        "outputId": "67544556-39f9-45f4-c06a-5e791fbd5410"
      },
      "execution_count": 114,
      "outputs": [
        {
          "output_type": "execute_result",
          "data": {
            "text/plain": [
              "array([[0.        , 0.        , 0.87113882, 0.90610569],\n",
              "       [0.        , 0.50997556, 0.97956187, 0.59238124],\n",
              "       [0.        , 0.69753273, 0.59743089, 0.75796394],\n",
              "       [0.7772441 , 0.        , 0.29825741, 0.97135002]])"
            ]
          },
          "metadata": {},
          "execution_count": 114
        }
      ]
    },
    {
      "cell_type": "code",
      "source": [
        "def transforma(array: np.ndarray):\n",
        "  return np.select([array < 0, array <= 1],[np.exp(array/2),1-array],0)"
      ],
      "metadata": {
        "id": "E7a1Vd0bGB_7"
      },
      "execution_count": 118,
      "outputs": []
    },
    {
      "cell_type": "code",
      "source": [
        "transforma(F)"
      ],
      "metadata": {
        "colab": {
          "base_uri": "https://localhost:8080/"
        },
        "id": "IJvtdVdPGKaj",
        "outputId": "e2095215-8c25-4aa5-c68a-c7ac81588618"
      },
      "execution_count": 119,
      "outputs": [
        {
          "output_type": "execute_result",
          "data": {
            "text/plain": [
              "array([[0.        , 0.        , 0.87113882, 0.90610569],\n",
              "       [0.        , 0.50997556, 0.97956187, 0.59238124],\n",
              "       [0.        , 0.69753273, 0.59743089, 0.75796394],\n",
              "       [0.7772441 , 0.        , 0.29825741, 0.97135002]])"
            ]
          },
          "metadata": {},
          "execution_count": 119
        }
      ]
    },
    {
      "cell_type": "markdown",
      "metadata": {
        "id": "Ckpno1r7_xos"
      },
      "source": [
        "---\n",
        "## Funciones estadísticas"
      ]
    },
    {
      "cell_type": "markdown",
      "metadata": {
        "id": "l7FniF3r_xos"
      },
      "source": [
        "Algunos métodos para calcular indicadores estadísticos sobre los elementos de un array.\n",
        "\n",
        "* `np.sum`: suma de los componentes\n",
        "* `np.mean`: media aritmética\n",
        "* `np.std` y `np.var`: desviación estándar y varianza, respectivamente.\n",
        "* `np.max` y `np.min`: máximo y mínimo, resp.\n",
        "* `np.argmin` y `np.argmax`: índices de los mínimos o máximos elementos, respectivamente.\n",
        "* `np.cumsum`: sumas acumuladas de cada componente\n",
        "\n",
        "Estos métodos también se pueden usar como atributos de los arrays. Es decir, por ejemplo `A.sum()` o `A.mean()`.\n",
        "\n",
        "Veamos algunos ejemplos, generando en primer lugar un array con elementos generados aleatoriamente (siguiendo una distribución normal):"
      ]
    },
    {
      "cell_type": "code",
      "execution_count": 121,
      "metadata": {
        "id": "RqwacMsw_xos",
        "outputId": "b3503151-4a78-43ec-d9e6-224ceb27d914",
        "colab": {
          "base_uri": "https://localhost:8080/"
        }
      },
      "outputs": [
        {
          "output_type": "execute_result",
          "data": {
            "text/plain": [
              "array([[-0.03500487, -1.24982447,  0.98969747,  0.22172032],\n",
              "       [ 0.1410044 ,  1.219964  , -1.29590356, -0.26062924],\n",
              "       [-0.39870914,  0.58368139, -0.25758723,  1.06944336],\n",
              "       [ 1.70253408,  0.50316213,  1.26710928, -0.89494865],\n",
              "       [ 0.74030768, -0.57346151,  0.82402944,  0.24502139]])"
            ]
          },
          "metadata": {},
          "execution_count": 121
        }
      ],
      "source": [
        "G = np.random.randn(5, 4)\n",
        "G"
      ]
    },
    {
      "cell_type": "code",
      "execution_count": 122,
      "metadata": {
        "id": "SErsWDj2_xot",
        "outputId": "214e3d81-1eed-4678-fc14-00e39423232e",
        "colab": {
          "base_uri": "https://localhost:8080/"
        }
      },
      "outputs": [
        {
          "output_type": "execute_result",
          "data": {
            "text/plain": [
              "4.541606286447456"
            ]
          },
          "metadata": {},
          "execution_count": 122
        }
      ],
      "source": [
        "G.sum()"
      ]
    },
    {
      "cell_type": "code",
      "execution_count": 123,
      "metadata": {
        "id": "Jzxdjxsv_xot",
        "outputId": "1e1f40fe-8a85-4cfa-d7c0-f76e36dfadd8",
        "colab": {
          "base_uri": "https://localhost:8080/"
        }
      },
      "outputs": [
        {
          "output_type": "execute_result",
          "data": {
            "text/plain": [
              "0.2270803143223728"
            ]
          },
          "metadata": {},
          "execution_count": 123
        }
      ],
      "source": [
        "G.mean()"
      ]
    },
    {
      "cell_type": "code",
      "execution_count": 124,
      "metadata": {
        "id": "zBO4nxz5_xot",
        "outputId": "b1939799-927c-4ce0-f084-af83779f5a1c",
        "colab": {
          "base_uri": "https://localhost:8080/"
        }
      },
      "outputs": [
        {
          "output_type": "execute_result",
          "data": {
            "text/plain": [
              "array([-0.03500487, -1.28482934, -0.29513186, -0.07341155,  0.06759286,\n",
              "        1.28755686, -0.00834671, -0.26897595, -0.66768509, -0.0840037 ,\n",
              "       -0.34159093,  0.72785243,  2.43038652,  2.93354865,  4.20065793,\n",
              "        3.30570928,  4.04601696,  3.47255545,  4.2965849 ,  4.54160629])"
            ]
          },
          "metadata": {},
          "execution_count": 124
        }
      ],
      "source": [
        "G.cumsum() # por defecto, se aplana el array y se hace la suma acumulada"
      ]
    },
    {
      "cell_type": "markdown",
      "metadata": {
        "id": "DxOnfXqj_xot"
      },
      "source": [
        "Todas estas funciones se pueden aplicar a lo largo de un eje, usando el parámetro `axis`. Por ejemplos, para calcular las medias de cada fila (es decir, recorriendo en el sentido de las columnas), aplicamos `mean` por `axis=1`:"
      ]
    },
    {
      "cell_type": "code",
      "execution_count": 125,
      "metadata": {
        "id": "GYSVDPSx_xot",
        "outputId": "dcc54761-c29e-4c4e-cf01-50a8712a60f4",
        "colab": {
          "base_uri": "https://localhost:8080/"
        }
      },
      "outputs": [
        {
          "output_type": "execute_result",
          "data": {
            "text/plain": [
              "array([-0.01835289, -0.0488911 ,  0.2492071 ,  0.64446421,  0.30897425])"
            ]
          },
          "metadata": {},
          "execution_count": 125
        }
      ],
      "source": [
        "G.mean(axis=1) # hace la media por cada fila"
      ]
    },
    {
      "cell_type": "markdown",
      "metadata": {
        "id": "gyapEBkw_xou"
      },
      "source": [
        "Y la suma de cada columna (es decir, recorriendo las filas), con `sum` por `axis=0`:"
      ]
    },
    {
      "cell_type": "code",
      "execution_count": 126,
      "metadata": {
        "id": "rMMwFG7s_xou",
        "outputId": "893963a9-77d0-4e1d-e48e-3a4897e77a6d",
        "colab": {
          "base_uri": "https://localhost:8080/"
        }
      },
      "outputs": [
        {
          "output_type": "execute_result",
          "data": {
            "text/plain": [
              "array([2.15013216, 0.48352155, 1.5273454 , 0.38060718])"
            ]
          },
          "metadata": {},
          "execution_count": 126
        }
      ],
      "source": [
        "G.sum(axis=0) # hace la media por cada columna"
      ]
    },
    {
      "cell_type": "markdown",
      "metadata": {
        "id": "LlcjTwaF_xou"
      },
      "source": [
        "Suma acumulada de cada columna:"
      ]
    },
    {
      "cell_type": "code",
      "execution_count": 127,
      "metadata": {
        "id": "YYK_Wf5A_xov",
        "outputId": "6f0d7b42-2635-4a3b-96dc-0b52b9d44179",
        "colab": {
          "base_uri": "https://localhost:8080/"
        }
      },
      "outputs": [
        {
          "output_type": "execute_result",
          "data": {
            "text/plain": [
              "array([[-0.03500487, -1.24982447,  0.98969747,  0.22172032],\n",
              "       [ 0.10599953, -0.02986047, -0.30620609, -0.03890892],\n",
              "       [-0.29270961,  0.55382093, -0.56379332,  1.03053443],\n",
              "       [ 1.40982448,  1.05698306,  0.70331596,  0.13558579],\n",
              "       [ 2.15013216,  0.48352155,  1.5273454 ,  0.38060718]])"
            ]
          },
          "metadata": {},
          "execution_count": 127
        }
      ],
      "source": [
        "G.cumsum(axis=0) # la primera fila se queda igual\n",
        "# las siguientes filas van haciendo cumsum por columna"
      ]
    },
    {
      "cell_type": "code",
      "source": [
        "G.cumsum(axis=1) # lo mismo pero lo va haciendo por fila"
      ],
      "metadata": {
        "colab": {
          "base_uri": "https://localhost:8080/"
        },
        "id": "Gq4wvPdCNTr9",
        "outputId": "445560cd-7e4a-4cbd-ed64-47a580468e53"
      },
      "execution_count": 128,
      "outputs": [
        {
          "output_type": "execute_result",
          "data": {
            "text/plain": [
              "array([[-0.03500487, -1.28482934, -0.29513186, -0.07341155],\n",
              "       [ 0.1410044 ,  1.3609684 ,  0.06506484, -0.1955644 ],\n",
              "       [-0.39870914,  0.18497225, -0.07261498,  0.99682838],\n",
              "       [ 1.70253408,  2.20569622,  3.4728055 ,  2.57785685],\n",
              "       [ 0.74030768,  0.16684617,  0.99087561,  1.235897  ]])"
            ]
          },
          "metadata": {},
          "execution_count": 128
        }
      ]
    },
    {
      "cell_type": "markdown",
      "metadata": {
        "id": "guovNozL_xov"
      },
      "source": [
        "Dentro de cada columna, el número de fila donde se alcanza el mínimo se puede hacer asi:"
      ]
    },
    {
      "cell_type": "code",
      "execution_count": 129,
      "metadata": {
        "id": "RAtxguTQ_xov",
        "outputId": "4e2dc0a4-257d-4519-e1cf-37e23e3e2a25",
        "colab": {
          "base_uri": "https://localhost:8080/"
        }
      },
      "outputs": [
        {
          "output_type": "execute_result",
          "data": {
            "text/plain": [
              "(array([[-0.03500487, -1.24982447,  0.98969747,  0.22172032],\n",
              "        [ 0.1410044 ,  1.219964  , -1.29590356, -0.26062924],\n",
              "        [-0.39870914,  0.58368139, -0.25758723,  1.06944336],\n",
              "        [ 1.70253408,  0.50316213,  1.26710928, -0.89494865],\n",
              "        [ 0.74030768, -0.57346151,  0.82402944,  0.24502139]]),\n",
              " array([2, 0, 1, 3]))"
            ]
          },
          "metadata": {},
          "execution_count": 129
        }
      ],
      "source": [
        "G, G.argmin(axis=0)"
      ]
    },
    {
      "cell_type": "markdown",
      "metadata": {
        "id": "kR4617sb_xow"
      },
      "source": [
        "---\n",
        "## Métodos para arrays booleanos"
      ]
    },
    {
      "cell_type": "code",
      "execution_count": 130,
      "metadata": {
        "id": "SvguinhU_xow",
        "outputId": "67cfc4a4-d40b-4857-a66a-cd4bd445a146",
        "colab": {
          "base_uri": "https://localhost:8080/"
        }
      },
      "outputs": [
        {
          "output_type": "execute_result",
          "data": {
            "text/plain": [
              "array([-1.030966  , -1.32831241,  0.72540614, -1.29327244, -1.10264896,\n",
              "       -1.5892453 , -0.92068204, -1.08400664,  0.46653241,  1.51059474,\n",
              "       -1.86064709, -0.13292663,  1.44404919,  0.33489414,  0.68423029,\n",
              "       -0.26596009,  0.22078027, -1.96361579, -0.89161167, -0.61354842,\n",
              "       -1.67313626,  0.39608787,  1.64800194,  0.44473517, -0.21745513,\n",
              "       -0.97837936, -0.51238483,  0.20007488, -2.16403215,  2.06722845,\n",
              "        1.48413715, -0.12779531,  1.26345161,  1.1223096 , -0.92454269,\n",
              "       -0.24278816, -1.01092554, -1.05852051,  0.08173992, -0.70380423,\n",
              "       -0.21827869,  1.26987018,  0.32585645,  0.7367223 , -0.13636995,\n",
              "        2.7672602 , -0.92661239,  2.70954674,  0.41857801,  0.78669338])"
            ]
          },
          "metadata": {},
          "execution_count": 130
        }
      ],
      "source": [
        "H = np.random.randn(50)\n",
        "H"
      ]
    },
    {
      "cell_type": "markdown",
      "metadata": {
        "id": "0uh7kcVz_xow"
      },
      "source": [
        "Es bastante frecuente usar `sum` para ontar el número de veces que se cumple una condición en un array, aprovechando que `True` se identifica con 1 y `False` con 0:"
      ]
    },
    {
      "cell_type": "code",
      "execution_count": 131,
      "metadata": {
        "id": "uaTU_BGL_xow",
        "outputId": "714355f6-7c31-44ac-e45b-2b54e43909f5",
        "colab": {
          "base_uri": "https://localhost:8080/"
        }
      },
      "outputs": [
        {
          "output_type": "execute_result",
          "data": {
            "text/plain": [
              "23"
            ]
          },
          "metadata": {},
          "execution_count": 131
        }
      ],
      "source": [
        "(H > 0).sum() # Number of positive values"
      ]
    },
    {
      "cell_type": "markdown",
      "metadata": {
        "id": "Kcv0NN8w_xox"
      },
      "source": [
        "Las funciones python `any` y `all` tienen también su correspondiente versión vectorizada. `any` se puede ver como un *or* generalizado, y `all`como un *and* generalizado:  "
      ]
    },
    {
      "cell_type": "code",
      "execution_count": 132,
      "metadata": {
        "id": "U22cXII-_xox",
        "outputId": "b29404b6-a591-4373-d0bb-153195735be1",
        "colab": {
          "base_uri": "https://localhost:8080/"
        }
      },
      "outputs": [
        {
          "output_type": "execute_result",
          "data": {
            "text/plain": [
              "(True, False)"
            ]
          },
          "metadata": {},
          "execution_count": 132
        }
      ],
      "source": [
        "bools = np.array([False, False, True, False])\n",
        "bools.any(),bools.all()"
      ]
    },
    {
      "cell_type": "markdown",
      "metadata": {
        "id": "Yb8FenXR_xox"
      },
      "source": [
        "Podemos comprobar si se cumple *alguna vez* una condición entre los componentes de un array, o bien si se cumple *siempre* una condición:"
      ]
    },
    {
      "cell_type": "code",
      "execution_count": 133,
      "metadata": {
        "id": "sc9gIiyI_xox",
        "outputId": "1fabaf23-f392-4d84-cf4b-a2d66d65244f",
        "colab": {
          "base_uri": "https://localhost:8080/"
        }
      },
      "outputs": [
        {
          "output_type": "execute_result",
          "data": {
            "text/plain": [
              "True"
            ]
          },
          "metadata": {},
          "execution_count": 133
        }
      ],
      "source": [
        "np.any(H > 0)"
      ]
    },
    {
      "cell_type": "code",
      "execution_count": 134,
      "metadata": {
        "id": "BC9h5AcQ_xox",
        "outputId": "c2b6556e-1db3-4bc6-9323-f0da3680b886",
        "colab": {
          "base_uri": "https://localhost:8080/"
        }
      },
      "outputs": [
        {
          "output_type": "execute_result",
          "data": {
            "text/plain": [
              "True"
            ]
          },
          "metadata": {},
          "execution_count": 134
        }
      ],
      "source": [
        "np.all(H < 10)"
      ]
    },
    {
      "cell_type": "code",
      "execution_count": 135,
      "metadata": {
        "id": "M7myQU5U_xox",
        "outputId": "5f02e5af-a786-4e41-8744-d7403e04ad14",
        "colab": {
          "base_uri": "https://localhost:8080/"
        }
      },
      "outputs": [
        {
          "output_type": "execute_result",
          "data": {
            "text/plain": [
              "False"
            ]
          },
          "metadata": {},
          "execution_count": 135
        }
      ],
      "source": [
        "np.any(H > 15)"
      ]
    },
    {
      "cell_type": "code",
      "execution_count": 136,
      "metadata": {
        "id": "c_TcAkaA_xoy",
        "outputId": "2698abcd-6488-4239-d51a-8e48667170ec",
        "colab": {
          "base_uri": "https://localhost:8080/"
        }
      },
      "outputs": [
        {
          "output_type": "execute_result",
          "data": {
            "text/plain": [
              "False"
            ]
          },
          "metadata": {},
          "execution_count": 136
        }
      ],
      "source": [
        "np.all(H > 0)"
      ]
    },
    {
      "cell_type": "markdown",
      "metadata": {
        "id": "yZINt4hn_xoz"
      },
      "source": [
        "---\n",
        "## Entrada y salida de arrays en ficheros"
      ]
    },
    {
      "cell_type": "markdown",
      "metadata": {
        "id": "JLYQ5AYU_xoz"
      },
      "source": [
        "Existen una serie de utilidades para guardar el contenido de un array en un fichero y recuperarlo más tarde. "
      ]
    },
    {
      "cell_type": "markdown",
      "metadata": {
        "id": "Z8N1S7Z__xo0"
      },
      "source": [
        "Las funciones `save` y `load` hacen esto. Los arrays se almacenan en archivos con extensión *npy*.  "
      ]
    },
    {
      "cell_type": "code",
      "execution_count": 137,
      "metadata": {
        "id": "zha7vUgq_xo0"
      },
      "outputs": [],
      "source": [
        "J = np.arange(10)\n",
        "np.save('un_array', J)"
      ]
    },
    {
      "cell_type": "code",
      "execution_count": 138,
      "metadata": {
        "id": "jOIsSZP4_xo0",
        "outputId": "a557dacc-2014-4051-888f-ece062a3c176",
        "colab": {
          "base_uri": "https://localhost:8080/"
        }
      },
      "outputs": [
        {
          "output_type": "execute_result",
          "data": {
            "text/plain": [
              "array([0, 1, 2, 3, 4, 5, 6, 7, 8, 9])"
            ]
          },
          "metadata": {},
          "execution_count": 138
        }
      ],
      "source": [
        "np.load('un_array.npy')"
      ]
    },
    {
      "cell_type": "markdown",
      "metadata": {
        "id": "nalZQOCL_xo0"
      },
      "source": [
        "Con `savez`, podemos guardar una serie de arrays en un archivo de extensión *npz*, asociados a una serie de claves. Por ejemplo:"
      ]
    },
    {
      "cell_type": "code",
      "execution_count": 139,
      "metadata": {
        "id": "BoCuLk0M_xo0"
      },
      "outputs": [],
      "source": [
        "np.savez('array_archivo.npz', a=J, b=J**2)"
      ]
    },
    {
      "cell_type": "markdown",
      "metadata": {
        "id": "6MWGVriD_xo0"
      },
      "source": [
        "Cuando hacemos `load` sobre un archivo *npz*, cargamos un objeto de tipo diccionario, con el que podemos acceder (de manera perezosa) a los distintos arrays que se han almacenado:"
      ]
    },
    {
      "cell_type": "code",
      "execution_count": 140,
      "metadata": {
        "id": "N1T21jFJ_xo0",
        "outputId": "87f6087c-fd8b-475c-9b13-bcabee51bfca",
        "colab": {
          "base_uri": "https://localhost:8080/"
        }
      },
      "outputs": [
        {
          "output_type": "execute_result",
          "data": {
            "text/plain": [
              "array([ 0,  1,  4,  9, 16, 25, 36, 49, 64, 81])"
            ]
          },
          "metadata": {},
          "execution_count": 140
        }
      ],
      "source": [
        "arch = np.load('array_archivo.npz')\n",
        "arch['b']"
      ]
    },
    {
      "cell_type": "code",
      "execution_count": 141,
      "metadata": {
        "id": "ZcqqZjD6_xo0",
        "outputId": "1fdf474f-3d9b-43f2-a31e-3716c65c687a",
        "colab": {
          "base_uri": "https://localhost:8080/"
        }
      },
      "outputs": [
        {
          "output_type": "execute_result",
          "data": {
            "text/plain": [
              "array([0, 1, 2, 3, 4, 5, 6, 7, 8, 9])"
            ]
          },
          "metadata": {},
          "execution_count": 141
        }
      ],
      "source": [
        "arch['a']"
      ]
    },
    {
      "cell_type": "markdown",
      "metadata": {
        "id": "ztcV7ZyJ_xo0"
      },
      "source": [
        "En caso de que fuera necesario, podríamos incluso guardar incluso los datos en formato comprimido con `savez_compressed`:"
      ]
    },
    {
      "cell_type": "code",
      "execution_count": 142,
      "metadata": {
        "id": "VOacbARb_xo1"
      },
      "outputs": [],
      "source": [
        "np.savez_compressed('arrays_comprimidos.npz', a=arr, b=arr)"
      ]
    },
    {
      "cell_type": "code",
      "source": [
        "!ls -lah"
      ],
      "metadata": {
        "colab": {
          "base_uri": "https://localhost:8080/"
        },
        "id": "CMTQ7BsNO9KG",
        "outputId": "49bb6a85-2dd5-49d5-dbd9-debb6ba69f01"
      },
      "execution_count": 145,
      "outputs": [
        {
          "output_type": "stream",
          "name": "stdout",
          "text": [
            "total 28K\n",
            "drwxr-xr-x 1 root root 4.0K Dec  2 19:05 .\n",
            "drwxr-xr-x 1 root root 4.0K Dec  2 17:22 ..\n",
            "-rw-r--r-- 1 root root  650 Dec  2 19:03 array_archivo.npz\n",
            "-rw-r--r-- 1 root root  422 Dec  2 19:05 arrays_comprimidos.npz\n",
            "drwxr-xr-x 4 root root 4.0K Nov 23 14:31 .config\n",
            "drwxr-xr-x 1 root root 4.0K Nov 23 14:31 sample_data\n",
            "-rw-r--r-- 1 root root  208 Dec  2 19:02 un_array.npy\n"
          ]
        }
      ]
    },
    {
      "cell_type": "code",
      "execution_count": null,
      "metadata": {
        "id": "N4CZsT3s_xo2"
      },
      "outputs": [],
      "source": [
        "!rm un_array.npy\n",
        "!rm array_archivo.npz\n",
        "!rm arrays_comprimidos.npz"
      ]
    },
    {
      "cell_type": "markdown",
      "source": [
        "---\n",
        "## Convoluciones de arrays"
      ],
      "metadata": {
        "id": "DrePpm4NPH2a"
      }
    },
    {
      "cell_type": "markdown",
      "source": [
        ":::{exercise} :label: index-slicing-convolution\n",
        "\n",
        "Dadas dos funciones de variable real $f$ y $g$, definimos la convolución de $f$ y $g$ como\n",
        "\n",
        "$$ (f*g)(x) = \\int_\\mathbb{R} f(t)g(x - t)dt. $$\n",
        "La versión discreta de la anterior definición puede ser la siguiente. Datos $f=(f_0, \\dots, f_{n-1})$ y $g=(g_0, \\dots, g_{m-1})$ dos vectores (representados por arrays unidimensionales) de tamaño $n$ y $m$, respectivamente, definimos el array conv de dimensión n + m - 1 cuya componente $k$ vale\n",
        "\n",
        "$$ \\sum_{i + m -1 = k + j}f_ig_j $$\n",
        "para $0 \\leq k \\leq n + m - 1$.\n",
        "\n",
        "Crea una función conv que tome como inputs dos arrays y devuelva la convolución de ambos. Por ejemplo\n",
        "\n",
        "arr1 = np.arange(10)\n",
        "\n",
        "arr2 = np.arange(5) \n",
        "\n",
        "conv(arr1, arr2)\n",
        "\n",
        " [ 0  4 11 20 30 40 50 60 70 80 50 26  9  0]\n",
        "\n",
        "\n",
        ":::"
      ],
      "metadata": {
        "id": "2zlA1A29PKDM"
      }
    },
    {
      "cell_type": "code",
      "source": [
        "arr1 = np.arange(10)\n",
        "arr2 = np.arange(5)"
      ],
      "metadata": {
        "id": "E0__7qymQrr5"
      },
      "execution_count": 146,
      "outputs": []
    },
    {
      "cell_type": "code",
      "source": [
        "from itertools import product\n",
        "\n",
        "def conv(f,g):\n",
        "  n=len(f)\n",
        "  m=len(g)\n",
        "  conv_dim = n+m-1\n",
        "  arr_conv = np.zeros(conv_dim)\n",
        "  for k in range(conv_dim):\n",
        "    my_gen = (\n",
        "        f[i]*g[j] for i,j in product(range(n),range(m)) if i+m-1 == j+k\n",
        "    )\n",
        "    arr_conv[k]= sum(my_gen)\n",
        "  return arr_conv"
      ],
      "metadata": {
        "id": "7_1VKvAXPPaS"
      },
      "execution_count": 171,
      "outputs": []
    },
    {
      "cell_type": "code",
      "source": [
        "conv(arr1,arr2)"
      ],
      "metadata": {
        "colab": {
          "base_uri": "https://localhost:8080/"
        },
        "id": "78-WlXhbUnP9",
        "outputId": "1f7c1d7c-3317-4955-8f8e-f79b2e2522c9"
      },
      "execution_count": 175,
      "outputs": [
        {
          "output_type": "execute_result",
          "data": {
            "text/plain": [
              "array([ 0.,  4., 11., 20., 30., 40., 50., 60., 70., 80., 50., 26.,  9.,\n",
              "        0.])"
            ]
          },
          "metadata": {},
          "execution_count": 175
        }
      ]
    },
    {
      "cell_type": "code",
      "source": [
        "arr_conv = conv(arr1,arr2)\n",
        "print(arr_conv) # así queda más bonito"
      ],
      "metadata": {
        "colab": {
          "base_uri": "https://localhost:8080/"
        },
        "id": "0tvVdP3QRkvc",
        "outputId": "3ee3f65d-3a46-4b1d-e6a7-44855bc891d3"
      },
      "execution_count": 174,
      "outputs": [
        {
          "output_type": "stream",
          "name": "stdout",
          "text": [
            "[ 0.  4. 11. 20. 30. 40. 50. 60. 70. 80. 50. 26.  9.  0.]\n"
          ]
        }
      ]
    },
    {
      "cell_type": "markdown",
      "source": [
        "Podemos también hacerlo de una forma más óptima si creamos primero una matriz producto de la forma correcta, y así la convolucional será la suma de las diagonales secundarias"
      ],
      "metadata": {
        "id": "D0cQzZanT783"
      }
    }
  ],
  "metadata": {
    "kernelspec": {
      "display_name": "Python 3.9.1 64-bit",
      "language": "python",
      "name": "python3"
    },
    "language_info": {
      "name": "python",
      "version": "3.9.1"
    },
    "orig_nbformat": 4,
    "vscode": {
      "interpreter": {
        "hash": "397704579725e15f5c7cb49fe5f0341eb7531c82d19f2c29d197e8b64ab5776b"
      }
    },
    "colab": {
      "provenance": [],
      "toc_visible": true,
      "include_colab_link": true
    }
  },
  "nbformat": 4,
  "nbformat_minor": 0
}
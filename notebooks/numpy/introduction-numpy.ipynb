{
  "cells": [
    {
      "cell_type": "markdown",
      "metadata": {
        "id": "view-in-github",
        "colab_type": "text"
      },
      "source": [
        "<a href=\"https://colab.research.google.com/github/magjanvaz/curso-python-us/blob/main/notebooks/numpy/introduction-numpy.ipynb\" target=\"_parent\"><img src=\"https://colab.research.google.com/assets/colab-badge.svg\" alt=\"Open In Colab\"/></a>"
      ]
    },
    {
      "cell_type": "markdown",
      "metadata": {
        "id": "Oct0YotQ_xnV"
      },
      "source": [
        "(numpy)=\n",
        "# Introducción a Numpy"
      ]
    },
    {
      "cell_type": "markdown",
      "metadata": {
        "id": "YlqShexA_xna"
      },
      "source": [
        "Numpy es quizás el paquete de **computación numérica** más importante de Python. Se desarrolló como un paquete completo de álgebra lineal de código abierto para Python que podía rivalizar con MATLAB y similares. Tiene una larga historia y mucha funcionalidad, ya sea directamente en ella o construida a su alrededor (ver [SciPy](https://scipy.org/) y diferentes scikits). Es la base de otros paquetes del ecosistema de ciencia de datos de diferentes índole\n",
        "- Extraer, transformar y cargar datos: [Pandas](https://pandas.pydata.org/), [Dask](https://www.dask.org/), [OpenCV](https://opencv.org/)\n",
        "- Visualización de datos: [Matplotlib](https://matplotlib.org/), [Seaborn](https://seaborn.pydata.org/).\n",
        "- Modelos y evalución: [Scikit-learn](https://scikit-learn.org/stable/), [statsmodels](https://www.statsmodels.org/stable/index.html), [spaCy](https://spacy.io/)\n",
        "- Repote: Dash, [Stramlit](https://streamlit.io/)\n",
        "\n",
        "La clave es que **implementa arrays (matrices) multidimensionales de manera muy eficiente**, con numerosas funcionalidades optimizadas sobre dicha estructura de datos. \n",
        "\n",
        "> Es muy común en la comunidad python usar el alias `np` cundo importamos Numpy:"
      ]
    },
    {
      "cell_type": "code",
      "execution_count": 1,
      "metadata": {
        "id": "BCv5Z6Hx_xnb"
      },
      "outputs": [],
      "source": [
        "import numpy as np "
      ]
    },
    {
      "cell_type": "markdown",
      "metadata": {
        "id": "UWAUrdqu_xnb"
      },
      "source": [
        "## ¿Por qué numpy?\n",
        "\n",
        "Aunque en principio las listas de python podrían servir para representar arrays de varias dimensiones, la eficiencia de numpy es mucho mejor, al estar construido sobre una biblioteca de rutinas en lenguaje C. Además muchas de las operaciones numpy que actúan sobre todo el array, están optimizadas y **permiten evitar los bucles `for`de python**, que actúan más lentamente.\n",
        "\n",
        "Lo que sigue es un ejemplo de un array de numpy unidimensional con un millón de componentes, y el análogo como lista python. "
      ]
    },
    {
      "cell_type": "code",
      "execution_count": 2,
      "metadata": {
        "id": "P-dYxapV_xnc"
      },
      "outputs": [],
      "source": [
        "arr1 = np.arange(10000000)\n",
        "list1 = list(range(10000000))"
      ]
    },
    {
      "cell_type": "markdown",
      "metadata": {
        "id": "_XlEN7bq_xnd"
      },
      "source": [
        "Vamos a obtener el array resultante de multiplicar por 2 cada componente, y veamos el tiempo de CPU que se emplea. Nótese que en el caso de numpy, dicha operación se especifica simplemente como \"multiplicar por 2\" el array. En el caso de las listas, tenemos que usar un bucle `for` para la misma operación. Obsérvese la gran diferencia en el tiempo de ejecución:  "
      ]
    },
    {
      "cell_type": "code",
      "execution_count": 3,
      "metadata": {
        "colab": {
          "base_uri": "https://localhost:8080/"
        },
        "id": "nqRVLZAB_xne",
        "outputId": "6215762a-a2ef-45cd-bb3f-da5287df530d"
      },
      "outputs": [
        {
          "output_type": "stream",
          "name": "stdout",
          "text": [
            "154 ms ± 1.47 ms per loop (mean ± std. dev. of 7 runs, 10 loops each)\n",
            "8.99 s ± 338 ms per loop (mean ± std. dev. of 7 runs, 1 loop each)\n"
          ]
        }
      ],
      "source": [
        "%timeit for _ in range(10): arr2 = arr1 * 2\n",
        "%timeit for _ in range(10): list2 = [x * 2 for x in list1]"
      ]
    },
    {
      "cell_type": "markdown",
      "metadata": {
        "id": "3FCWDsuAyHkH"
      },
      "source": [
        "Numpy también suele optimizar **el espacio en memoria** necesitado para guardar un array. "
      ]
    },
    {
      "cell_type": "code",
      "execution_count": 4,
      "metadata": {
        "colab": {
          "base_uri": "https://localhost:8080/"
        },
        "id": "ZncML7ffhv9z",
        "outputId": "a281f1d7-6f1b-4ae5-f82b-4e60b9c0aae3"
      },
      "outputs": [
        {
          "output_type": "stream",
          "name": "stdout",
          "text": [
            "Looking in indexes: https://pypi.org/simple, https://us-python.pkg.dev/colab-wheels/public/simple/\n",
            "Collecting pympler\n",
            "  Downloading Pympler-1.0.1-py3-none-any.whl (164 kB)\n",
            "\u001b[K     |████████████████████████████████| 164 kB 13.9 MB/s \n",
            "\u001b[?25hInstalling collected packages: pympler\n",
            "Successfully installed pympler-1.0.1\n"
          ]
        }
      ],
      "source": [
        "!pip install pympler"
      ]
    },
    {
      "cell_type": "code",
      "execution_count": 5,
      "metadata": {
        "colab": {
          "base_uri": "https://localhost:8080/"
        },
        "id": "8NuL5jXHhl4f",
        "outputId": "5f13ddbc-235e-46d3-d89d-d22d2051c30e"
      },
      "outputs": [
        {
          "output_type": "stream",
          "name": "stdout",
          "text": [
            "80000120\n",
            "410000112\n"
          ]
        }
      ],
      "source": [
        "from pympler.asizeof import asizeof\n",
        "print(asizeof(arr1))\n",
        "print(asizeof(list1))"
      ]
    },
    {
      "cell_type": "code",
      "execution_count": 6,
      "metadata": {
        "colab": {
          "base_uri": "https://localhost:8080/"
        },
        "id": "jaDpcTF2x3uH",
        "outputId": "9b234ffa-bc20-4f4f-a95e-51e270ae820a"
      },
      "outputs": [
        {
          "output_type": "stream",
          "name": "stdout",
          "text": [
            "80000104\n",
            "90000120\n"
          ]
        }
      ],
      "source": [
        "# cuidado con usar sys.getsizeof en estos casos\n",
        "import sys \n",
        "print(sys.getsizeof(arr1))\n",
        "print(sys.getsizeof(list1)) # esto es mentira, son solo los punteros"
      ]
    },
    {
      "cell_type": "markdown",
      "metadata": {
        "id": "p2UIrZ83INFT"
      },
      "source": [
        "Comparamos en la siguiente gráfico el tiempo que tardamos en sumar los `n` primeros números usando listas de Python o arrays de numpy."
      ]
    },
    {
      "cell_type": "code",
      "execution_count": 7,
      "metadata": {
        "id": "TJI3rE7Tpf8F"
      },
      "outputs": [],
      "source": [
        "%config InlineBackend.figure_format='retina'"
      ]
    },
    {
      "cell_type": "code",
      "execution_count": 9,
      "metadata": {
        "id": "2zf8A3W3H_Gx",
        "colab": {
          "base_uri": "https://localhost:8080/",
          "height": 380
        },
        "outputId": "9a83b181-f8de-42a0-f9a0-4c5bab105a72"
      },
      "outputs": [
        {
          "output_type": "error",
          "ename": "KeyboardInterrupt",
          "evalue": "ignored",
          "traceback": [
            "\u001b[0;31m---------------------------------------------------------------------------\u001b[0m",
            "\u001b[0;31mKeyboardInterrupt\u001b[0m                         Traceback (most recent call last)",
            "\u001b[0;32m<ipython-input-9-b39a7d2fdfad>\u001b[0m in \u001b[0;36m<module>\u001b[0;34m\u001b[0m\n\u001b[1;32m     32\u001b[0m \u001b[0;34m\u001b[0m\u001b[0m\n\u001b[1;32m     33\u001b[0m \u001b[0mn\u001b[0m \u001b[0;34m=\u001b[0m \u001b[0;34m[\u001b[0m\u001b[0;36m10\u001b[0m\u001b[0;34m**\u001b[0m\u001b[0mi\u001b[0m \u001b[0;32mfor\u001b[0m \u001b[0mi\u001b[0m \u001b[0;32min\u001b[0m \u001b[0mrange\u001b[0m\u001b[0;34m(\u001b[0m\u001b[0;36m9\u001b[0m\u001b[0;34m)\u001b[0m\u001b[0;34m]\u001b[0m\u001b[0;34m\u001b[0m\u001b[0;34m\u001b[0m\u001b[0m\n\u001b[0;32m---> 34\u001b[0;31m \u001b[0mt_duplicate_python\u001b[0m\u001b[0;34m=\u001b[0m \u001b[0;34m[\u001b[0m\u001b[0mget_duplicate_time_python\u001b[0m\u001b[0;34m(\u001b[0m\u001b[0mi\u001b[0m\u001b[0;34m)\u001b[0m \u001b[0;32mfor\u001b[0m \u001b[0mi\u001b[0m \u001b[0;32min\u001b[0m \u001b[0mn\u001b[0m\u001b[0;34m]\u001b[0m\u001b[0;34m\u001b[0m\u001b[0;34m\u001b[0m\u001b[0m\n\u001b[0m\u001b[1;32m     35\u001b[0m \u001b[0mt_duplicate_numpy\u001b[0m \u001b[0;34m=\u001b[0m \u001b[0;34m[\u001b[0m\u001b[0mget_duplicate_time_numpy\u001b[0m\u001b[0;34m(\u001b[0m\u001b[0mi\u001b[0m\u001b[0;34m)\u001b[0m \u001b[0;32mfor\u001b[0m \u001b[0mi\u001b[0m \u001b[0;32min\u001b[0m \u001b[0mn\u001b[0m\u001b[0;34m]\u001b[0m\u001b[0;34m\u001b[0m\u001b[0;34m\u001b[0m\u001b[0m\n\u001b[1;32m     36\u001b[0m \u001b[0mt_sum_python\u001b[0m\u001b[0;34m=\u001b[0m \u001b[0;34m[\u001b[0m\u001b[0mget_sum_time_python\u001b[0m\u001b[0;34m(\u001b[0m\u001b[0mi\u001b[0m\u001b[0;34m)\u001b[0m \u001b[0;32mfor\u001b[0m \u001b[0mi\u001b[0m \u001b[0;32min\u001b[0m \u001b[0mn\u001b[0m\u001b[0;34m]\u001b[0m\u001b[0;34m\u001b[0m\u001b[0;34m\u001b[0m\u001b[0m\n",
            "\u001b[0;32m<ipython-input-9-b39a7d2fdfad>\u001b[0m in \u001b[0;36m<listcomp>\u001b[0;34m(.0)\u001b[0m\n\u001b[1;32m     32\u001b[0m \u001b[0;34m\u001b[0m\u001b[0m\n\u001b[1;32m     33\u001b[0m \u001b[0mn\u001b[0m \u001b[0;34m=\u001b[0m \u001b[0;34m[\u001b[0m\u001b[0;36m10\u001b[0m\u001b[0;34m**\u001b[0m\u001b[0mi\u001b[0m \u001b[0;32mfor\u001b[0m \u001b[0mi\u001b[0m \u001b[0;32min\u001b[0m \u001b[0mrange\u001b[0m\u001b[0;34m(\u001b[0m\u001b[0;36m9\u001b[0m\u001b[0;34m)\u001b[0m\u001b[0;34m]\u001b[0m\u001b[0;34m\u001b[0m\u001b[0;34m\u001b[0m\u001b[0m\n\u001b[0;32m---> 34\u001b[0;31m \u001b[0mt_duplicate_python\u001b[0m\u001b[0;34m=\u001b[0m \u001b[0;34m[\u001b[0m\u001b[0mget_duplicate_time_python\u001b[0m\u001b[0;34m(\u001b[0m\u001b[0mi\u001b[0m\u001b[0;34m)\u001b[0m \u001b[0;32mfor\u001b[0m \u001b[0mi\u001b[0m \u001b[0;32min\u001b[0m \u001b[0mn\u001b[0m\u001b[0;34m]\u001b[0m\u001b[0;34m\u001b[0m\u001b[0;34m\u001b[0m\u001b[0m\n\u001b[0m\u001b[1;32m     35\u001b[0m \u001b[0mt_duplicate_numpy\u001b[0m \u001b[0;34m=\u001b[0m \u001b[0;34m[\u001b[0m\u001b[0mget_duplicate_time_numpy\u001b[0m\u001b[0;34m(\u001b[0m\u001b[0mi\u001b[0m\u001b[0;34m)\u001b[0m \u001b[0;32mfor\u001b[0m \u001b[0mi\u001b[0m \u001b[0;32min\u001b[0m \u001b[0mn\u001b[0m\u001b[0;34m]\u001b[0m\u001b[0;34m\u001b[0m\u001b[0;34m\u001b[0m\u001b[0m\n\u001b[1;32m     36\u001b[0m \u001b[0mt_sum_python\u001b[0m\u001b[0;34m=\u001b[0m \u001b[0;34m[\u001b[0m\u001b[0mget_sum_time_python\u001b[0m\u001b[0;34m(\u001b[0m\u001b[0mi\u001b[0m\u001b[0;34m)\u001b[0m \u001b[0;32mfor\u001b[0m \u001b[0mi\u001b[0m \u001b[0;32min\u001b[0m \u001b[0mn\u001b[0m\u001b[0;34m]\u001b[0m\u001b[0;34m\u001b[0m\u001b[0;34m\u001b[0m\u001b[0m\n",
            "\u001b[0;32m<ipython-input-9-b39a7d2fdfad>\u001b[0m in \u001b[0;36mwrapper\u001b[0;34m(*args, **kwargs)\u001b[0m\n\u001b[1;32m      7\u001b[0m         \u001b[0;32mfor\u001b[0m \u001b[0m_\u001b[0m \u001b[0;32min\u001b[0m \u001b[0mrange\u001b[0m\u001b[0;34m(\u001b[0m\u001b[0mtries\u001b[0m\u001b[0;34m)\u001b[0m\u001b[0;34m:\u001b[0m\u001b[0;34m\u001b[0m\u001b[0;34m\u001b[0m\u001b[0m\n\u001b[1;32m      8\u001b[0m             \u001b[0mstart\u001b[0m \u001b[0;34m=\u001b[0m \u001b[0mtime\u001b[0m\u001b[0;34m.\u001b[0m\u001b[0mtime\u001b[0m\u001b[0;34m(\u001b[0m\u001b[0;34m)\u001b[0m\u001b[0;34m\u001b[0m\u001b[0;34m\u001b[0m\u001b[0m\n\u001b[0;32m----> 9\u001b[0;31m             \u001b[0mf\u001b[0m\u001b[0;34m(\u001b[0m\u001b[0;34m*\u001b[0m\u001b[0margs\u001b[0m\u001b[0;34m,\u001b[0m \u001b[0;34m**\u001b[0m\u001b[0mkwargs\u001b[0m\u001b[0;34m)\u001b[0m\u001b[0;34m\u001b[0m\u001b[0;34m\u001b[0m\u001b[0m\n\u001b[0m\u001b[1;32m     10\u001b[0m             \u001b[0mend\u001b[0m \u001b[0;34m=\u001b[0m \u001b[0mtime\u001b[0m\u001b[0;34m.\u001b[0m\u001b[0mtime\u001b[0m\u001b[0;34m(\u001b[0m\u001b[0;34m)\u001b[0m\u001b[0;34m\u001b[0m\u001b[0;34m\u001b[0m\u001b[0m\n\u001b[1;32m     11\u001b[0m             \u001b[0mex_time\u001b[0m \u001b[0;34m=\u001b[0m \u001b[0mend\u001b[0m \u001b[0;34m-\u001b[0m \u001b[0mstart\u001b[0m\u001b[0;34m\u001b[0m\u001b[0;34m\u001b[0m\u001b[0m\n",
            "\u001b[0;32m<ipython-input-9-b39a7d2fdfad>\u001b[0m in \u001b[0;36mget_duplicate_time_python\u001b[0;34m(i)\u001b[0m\n\u001b[1;32m     17\u001b[0m \u001b[0;34m@\u001b[0m\u001b[0mget_ex_time\u001b[0m\u001b[0;34m\u001b[0m\u001b[0;34m\u001b[0m\u001b[0m\n\u001b[1;32m     18\u001b[0m \u001b[0;32mdef\u001b[0m \u001b[0mget_duplicate_time_python\u001b[0m\u001b[0;34m(\u001b[0m\u001b[0mi\u001b[0m\u001b[0;34m)\u001b[0m\u001b[0;34m:\u001b[0m\u001b[0;34m\u001b[0m\u001b[0;34m\u001b[0m\u001b[0m\n\u001b[0;32m---> 19\u001b[0;31m     \u001b[0;32mreturn\u001b[0m \u001b[0mlist\u001b[0m\u001b[0;34m(\u001b[0m\u001b[0;36m2\u001b[0m\u001b[0;34m*\u001b[0m\u001b[0mx\u001b[0m \u001b[0;32mfor\u001b[0m \u001b[0mx\u001b[0m \u001b[0;32min\u001b[0m \u001b[0mrange\u001b[0m\u001b[0;34m(\u001b[0m\u001b[0mi\u001b[0m\u001b[0;34m)\u001b[0m\u001b[0;34m)\u001b[0m\u001b[0;34m\u001b[0m\u001b[0;34m\u001b[0m\u001b[0m\n\u001b[0m\u001b[1;32m     20\u001b[0m \u001b[0;34m\u001b[0m\u001b[0m\n\u001b[1;32m     21\u001b[0m \u001b[0;34m@\u001b[0m\u001b[0mget_ex_time\u001b[0m\u001b[0;34m\u001b[0m\u001b[0;34m\u001b[0m\u001b[0m\n",
            "\u001b[0;32m<ipython-input-9-b39a7d2fdfad>\u001b[0m in \u001b[0;36m<genexpr>\u001b[0;34m(.0)\u001b[0m\n\u001b[1;32m     17\u001b[0m \u001b[0;34m@\u001b[0m\u001b[0mget_ex_time\u001b[0m\u001b[0;34m\u001b[0m\u001b[0;34m\u001b[0m\u001b[0m\n\u001b[1;32m     18\u001b[0m \u001b[0;32mdef\u001b[0m \u001b[0mget_duplicate_time_python\u001b[0m\u001b[0;34m(\u001b[0m\u001b[0mi\u001b[0m\u001b[0;34m)\u001b[0m\u001b[0;34m:\u001b[0m\u001b[0;34m\u001b[0m\u001b[0;34m\u001b[0m\u001b[0m\n\u001b[0;32m---> 19\u001b[0;31m     \u001b[0;32mreturn\u001b[0m \u001b[0mlist\u001b[0m\u001b[0;34m(\u001b[0m\u001b[0;36m2\u001b[0m\u001b[0;34m*\u001b[0m\u001b[0mx\u001b[0m \u001b[0;32mfor\u001b[0m \u001b[0mx\u001b[0m \u001b[0;32min\u001b[0m \u001b[0mrange\u001b[0m\u001b[0;34m(\u001b[0m\u001b[0mi\u001b[0m\u001b[0;34m)\u001b[0m\u001b[0;34m)\u001b[0m\u001b[0;34m\u001b[0m\u001b[0;34m\u001b[0m\u001b[0m\n\u001b[0m\u001b[1;32m     20\u001b[0m \u001b[0;34m\u001b[0m\u001b[0m\n\u001b[1;32m     21\u001b[0m \u001b[0;34m@\u001b[0m\u001b[0mget_ex_time\u001b[0m\u001b[0;34m\u001b[0m\u001b[0;34m\u001b[0m\u001b[0m\n",
            "\u001b[0;31mKeyboardInterrupt\u001b[0m: "
          ]
        }
      ],
      "source": [
        "import time\n",
        "import matplotlib.pyplot as plt\n",
        "\n",
        "def get_ex_time(f, tries=10):\n",
        "    def wrapper(*args, **kwargs):\n",
        "        ex_times = []\n",
        "        for _ in range(tries):\n",
        "            start = time.time()\n",
        "            f(*args, **kwargs)\n",
        "            end = time.time()\n",
        "            ex_time = end - start \n",
        "            ex_times.append(ex_time)\n",
        "        mean_ex_time = np.mean(ex_times)\n",
        "        return mean_ex_time\n",
        "    return wrapper\n",
        "\n",
        "@get_ex_time\n",
        "def get_duplicate_time_python(i):\n",
        "    return list(2*x for x in range(i))\n",
        "\n",
        "@get_ex_time\n",
        "def get_duplicate_time_numpy(i):\n",
        "    return 2*np.arange(i)\n",
        "\n",
        "@get_ex_time\n",
        "def get_sum_time_python(i):\n",
        "    return sum(range(i))\n",
        "\n",
        "@get_ex_time\n",
        "def get_sum_time_numpy(i):\n",
        "    return np.sum(np.arange(i))\n",
        "\n",
        "n = [10**i for i in range(9)]\n",
        "t_duplicate_python= [get_duplicate_time_python(i) for i in n]\n",
        "t_duplicate_numpy = [get_duplicate_time_numpy(i) for i in n]\n",
        "t_sum_python= [get_sum_time_python(i) for i in n]\n",
        "t_sum_numpy = [get_sum_time_numpy(i) for i in n]"
      ]
    },
    {
      "cell_type": "code",
      "execution_count": null,
      "metadata": {
        "colab": {
          "base_uri": "https://localhost:8080/",
          "height": 509
        },
        "id": "q6HoRFubPxft",
        "outputId": "540716f3-dfc0-44c1-afcb-814bcc36c287"
      },
      "outputs": [
        {
          "data": {
            "image/png": "[encoded data removed]",
            "text/plain": [
              "<Figure size 648x504 with 2 Axes>"
            ]
          },
          "metadata": {
            "image/png": {
              "height": 492,
              "width": 639
            },
            "needs_background": "light"
          },
          "output_type": "display_data"
        }
      ],
      "source": [
        "fig, ax = plt.subplots(2, 1, figsize=(9, 7))\n",
        "ax[0].plot(n, t_duplicate_python, \"o-\", label=\"Python\")\n",
        "ax[0].plot(n, t_duplicate_numpy, \"o-\", label=\"Numpy\")\n",
        "ax[0].set_xscale(\"log\")\n",
        "ax[0].set_yscale(\"log\")\n",
        "ax[0].set_xlabel(\"tamaño\")\n",
        "ax[0].set_ylabel(\"tiempo (s)\")\n",
        "ax[0].set_title(\"Multiplicar por 2 usando Python puro vs numpy\")\n",
        "ax[0].grid(True)\n",
        "ax[0].legend()\n",
        "ax[1].plot(n, t_sum_python, \"o-\", label=\"Python\")\n",
        "ax[1].plot(n, t_sum_numpy, \"o-\", label=\"Numpy\")\n",
        "ax[1].set_xscale(\"log\")\n",
        "ax[1].set_yscale(\"log\")\n",
        "ax[1].set_xlabel(\"tamaño\")\n",
        "ax[1].set_ylabel(\"tiempo (s)\")\n",
        "ax[1].set_title(\"Sumar n primeros elementos usando Python puro vs numpy\")\n",
        "ax[1].grid(True)\n",
        "ax[1].legend()\n",
        "fig.tight_layout()\n",
        "fig.show()"
      ]
    },
    {
      "cell_type": "markdown",
      "metadata": {
        "id": "wjMUFfPh_xnf"
      },
      "source": [
        "---\n",
        "## Arrays de Numpy"
      ]
    },
    {
      "cell_type": "markdown",
      "metadata": {
        "id": "zsy2I-g3_xnh"
      },
      "source": [
        "La estructura de datos principal de Numpy es el **array n-dimensional**. Como hemos dicho, Numpy nos permite operar sobre los arrays en su totalidad,  especificando las operaciones como si lo hiciéramos con las componentes individuales. "
      ]
    },
    {
      "cell_type": "markdown",
      "metadata": {
        "id": "YEwTVL2F_xni"
      },
      "source": [
        "Hay muchas formas de crear arrays, como veremos más adelante, pero vamos a empezar creando un array de números psuedoaletorios obtenidos como muestras de una distribución normal de media 0 y desviación típica 1 para empezar a explorar los atributos y posibles operaciones."
      ]
    },
    {
      "cell_type": "code",
      "execution_count": 10,
      "metadata": {
        "colab": {
          "base_uri": "https://localhost:8080/"
        },
        "id": "qP3YNXzM_xni",
        "outputId": "b915985f-cd9d-467b-d244-c7833fbd90a0"
      },
      "outputs": [
        {
          "output_type": "execute_result",
          "data": {
            "text/plain": [
              "array([[ 1.82772267,  1.46770012,  0.15644989],\n",
              "       [ 0.66238703,  0.18749293, -0.11035046]])"
            ]
          },
          "metadata": {},
          "execution_count": 10
        }
      ],
      "source": [
        "data = np.random.randn(2, 3)\n",
        "data"
      ]
    },
    {
      "cell_type": "markdown",
      "metadata": {
        "id": "vAY2Dpik_xnj"
      },
      "source": [
        "Podemos por ejemplo obtener el array resultante de multiplicar cada componente del array por 10, sin necesidad de hacerlo elemento a elemento"
      ]
    },
    {
      "cell_type": "code",
      "execution_count": 11,
      "metadata": {
        "colab": {
          "base_uri": "https://localhost:8080/"
        },
        "id": "l4d6xhTG_xnk",
        "outputId": "174c6c86-af56-4476-c99b-259562f4f3ed"
      },
      "outputs": [
        {
          "output_type": "execute_result",
          "data": {
            "text/plain": [
              "array([[18.27722673, 14.67700119,  1.56449886],\n",
              "       [ 6.62387027,  1.87492927, -1.10350463]])"
            ]
          },
          "metadata": {},
          "execution_count": 11
        }
      ],
      "source": [
        "data * 10"
      ]
    },
    {
      "cell_type": "markdown",
      "metadata": {
        "id": "BeaHSASR_xnk"
      },
      "source": [
        "O la suma (o multiplicación) de cada componente consigo mismo:"
      ]
    },
    {
      "cell_type": "code",
      "execution_count": 14,
      "metadata": {
        "colab": {
          "base_uri": "https://localhost:8080/"
        },
        "id": "R21AOiVg_xnl",
        "outputId": "940ebc3c-f39e-4028-8786-7d053ccdb77d"
      },
      "outputs": [
        {
          "output_type": "execute_result",
          "data": {
            "text/plain": [
              "array([[ 3.65544535,  2.93540024,  0.31289977],\n",
              "       [ 1.32477405,  0.37498585, -0.22070093]])"
            ]
          },
          "metadata": {},
          "execution_count": 14
        }
      ],
      "source": [
        "data + data \n",
        "# data*data"
      ]
    },
    {
      "cell_type": "code",
      "source": [
        "data * data"
      ],
      "metadata": {
        "colab": {
          "base_uri": "https://localhost:8080/"
        },
        "id": "-zu9NCslqQKD",
        "outputId": "a68451d5-2445-4d14-c1a9-a2bfc7a08e56"
      },
      "execution_count": 16,
      "outputs": [
        {
          "output_type": "execute_result",
          "data": {
            "text/plain": [
              "array([[3.34057017, 2.15414364, 0.02447657],\n",
              "       [0.43875657, 0.0351536 , 0.01217722]])"
            ]
          },
          "metadata": {},
          "execution_count": 16
        }
      ]
    },
    {
      "cell_type": "markdown",
      "metadata": {
        "id": "IwuiJmS2_xnm"
      },
      "source": [
        "Nótese que las operaciones anteriores **no cambian el array sobre el que operan**:"
      ]
    },
    {
      "cell_type": "code",
      "execution_count": 15,
      "metadata": {
        "colab": {
          "base_uri": "https://localhost:8080/"
        },
        "id": "H_Yo1E0B_xnm",
        "outputId": "35259471-2b24-45c6-aa82-12296b6b92b2"
      },
      "outputs": [
        {
          "output_type": "execute_result",
          "data": {
            "text/plain": [
              "array([[ 1.82772267,  1.46770012,  0.15644989],\n",
              "       [ 0.66238703,  0.18749293, -0.11035046]])"
            ]
          },
          "metadata": {},
          "execution_count": 15
        }
      ],
      "source": [
        "data"
      ]
    },
    {
      "cell_type": "markdown",
      "metadata": {
        "id": "7tlDTq4RjvaM"
      },
      "source": [
        "### Homogeneidad"
      ]
    },
    {
      "cell_type": "markdown",
      "metadata": {
        "id": "NUavhvui_xnn"
      },
      "source": [
        "Los arrays de numpy deben ser **homogéneos**, es decir todas sus componentes son del mismo tipo (tipos predefinidos por numpy, que veremos más adelante). Para acceder al *tipo de numpy* de un array utilizamos el atributo `dtype`"
      ]
    },
    {
      "cell_type": "code",
      "execution_count": 17,
      "metadata": {
        "id": "lgKG14eu_xnn",
        "outputId": "c3b27bf2-74db-4437-a8f7-9788087ef62b",
        "colab": {
          "base_uri": "https://localhost:8080/"
        }
      },
      "outputs": [
        {
          "output_type": "execute_result",
          "data": {
            "text/plain": [
              "dtype('float64')"
            ]
          },
          "metadata": {},
          "execution_count": 17
        }
      ],
      "source": [
        "data.dtype"
      ]
    },
    {
      "cell_type": "markdown",
      "metadata": {
        "id": "Ic-0YCL9_xnp"
      },
      "source": [
        "El atributo `ndim` nos da el número de dimensiones, y `shape` nos da el tamaño de cada dimensión, en forma de tupla. También tenemos `size`, que nos da el número de elementos que existen en el array.\n",
        "\n",
        "En este caso, tenemos que `data` es un array bidimensional, con 2 \"filas\" y 3 \"columnas\":"
      ]
    },
    {
      "cell_type": "code",
      "execution_count": 18,
      "metadata": {
        "id": "tVj9ORs1_xnp",
        "outputId": "b6f263cd-1a0d-4410-bcd7-5db94160eb40",
        "colab": {
          "base_uri": "https://localhost:8080/"
        }
      },
      "outputs": [
        {
          "output_type": "stream",
          "name": "stdout",
          "text": [
            "2\n",
            "(2, 3)\n"
          ]
        }
      ],
      "source": [
        "print(data.ndim) # esto es cuántas dimensiones tiene\n",
        "print(data.shape) # y esto el valor que toma en dichas dimensiones\n"
      ]
    },
    {
      "cell_type": "markdown",
      "metadata": {
        "id": "m-xDkG_T_xnq"
      },
      "source": [
        "En la terminología de numpy, cada una de las dimensiones se denominan \"ejes\" (*axis*), y se numeran consecutivamente desde 0. Por ejemplo, en un array bidimensional, el eje 0 (`axis=0`) corresponde a las filas y el eje 1 corresponde a las columnas (`axis=1`). "
      ]
    },
    {
      "cell_type": "markdown",
      "metadata": {
        "id": "DpC2UIw4DUKd"
      },
      "source": [
        "![picture](https://drive.google.com/uc?id=1Py65cUUWZMph4JOZe0qZNh_PjsFkaZ6x)"
      ]
    },
    {
      "cell_type": "markdown",
      "metadata": {
        "id": "hq_MVq7E_xnq"
      },
      "source": [
        "---\n",
        "## Creación de arrays"
      ]
    },
    {
      "cell_type": "markdown",
      "metadata": {
        "id": "Txpn_4dS_xnq"
      },
      "source": [
        "La manera más fácil de crear arrays es mediante el método `np.array`. Basta con aplicarlo a cualquier objeto de tipo secuencial que sea susceptible de transformarse en un array. Por ejemplo, una lista de números se transforma en un array unidimensional: "
      ]
    },
    {
      "cell_type": "code",
      "execution_count": 22,
      "metadata": {
        "colab": {
          "base_uri": "https://localhost:8080/"
        },
        "id": "bfF7IP75_xnq",
        "outputId": "c58e0227-5389-4486-a4a5-a02c09b9d5a7"
      },
      "outputs": [
        {
          "output_type": "stream",
          "name": "stdout",
          "text": [
            "[6.  7.5 8.  0.  1. ]\n",
            "[6, 7.5, 8, 0, 1]\n"
          ]
        }
      ],
      "source": [
        "data1 = [6, 7.5, 8, 0, 1]\n",
        "arr1 = np.array(data1)\n",
        "print(arr1)\n",
        "print(data1)"
      ]
    },
    {
      "cell_type": "markdown",
      "metadata": {
        "id": "giuCBbZ0_xns"
      },
      "source": [
        "Si le pasamos listas anidadas con una estructura correcta, podemos obtener el correspondiente array bidimensional: "
      ]
    },
    {
      "cell_type": "code",
      "execution_count": 23,
      "metadata": {
        "colab": {
          "base_uri": "https://localhost:8080/"
        },
        "id": "KIjWDuc6_xnt",
        "outputId": "a9fc0cbd-34e2-4035-cf43-1d467c6f9b8c"
      },
      "outputs": [
        {
          "output_type": "stream",
          "name": "stdout",
          "text": [
            "[[1 2 3 4]\n",
            " [5 6 7 8]]\n"
          ]
        }
      ],
      "source": [
        "data2 = [[1, 2, 3, 4], [5, 6, 7, 8]]\n",
        "arr2 = np.array(data2)\n",
        "print(arr2)"
      ]
    },
    {
      "cell_type": "markdown",
      "metadata": {
        "id": "MzPdidI8lONQ"
      },
      "source": [
        ":::{exercise}\n",
        ":label: introduction-numpy-ndim\n",
        "\n",
        "Crea un array de numpy de dimensión (4, 1, 3) a partir de listas.\n",
        "\n",
        ":::"
      ]
    },
    {
      "cell_type": "code",
      "source": [
        "data_ej = [\n",
        "    [[1,2,3]], \n",
        "    [[4,5,6]], \n",
        "    [[7,8,9]],\n",
        "    [[10,11,12]]\n",
        "    ]\n",
        "arr_ej = np.array(data_ej)\n",
        "print(arr_ej)\n",
        "print(arr_ej.shape)"
      ],
      "metadata": {
        "colab": {
          "base_uri": "https://localhost:8080/"
        },
        "id": "nhSmnMPwsKBZ",
        "outputId": "23673c12-4507-462b-cc5a-2b15bc0c260d"
      },
      "execution_count": 28,
      "outputs": [
        {
          "output_type": "stream",
          "name": "stdout",
          "text": [
            "[[[ 1  2  3]]\n",
            "\n",
            " [[ 4  5  6]]\n",
            "\n",
            " [[ 7  8  9]]\n",
            "\n",
            " [[10 11 12]]]\n",
            "(4, 1, 3)\n"
          ]
        }
      ]
    },
    {
      "cell_type": "markdown",
      "metadata": {
        "id": "h2r3Tvig_xnt"
      },
      "source": [
        "Hay otras maneras de crear arrays. Damos a continuación solo algunos ejemplos:"
      ]
    },
    {
      "cell_type": "code",
      "execution_count": 29,
      "metadata": {
        "colab": {
          "base_uri": "https://localhost:8080/"
        },
        "id": "gw1Bxw3q_xny",
        "outputId": "4f34c902-cff8-4554-8077-fd51c57cc623"
      },
      "outputs": [
        {
          "output_type": "execute_result",
          "data": {
            "text/plain": [
              "array([0., 0., 0., 0., 0., 0., 0., 0., 0., 0.])"
            ]
          },
          "metadata": {},
          "execution_count": 29
        }
      ],
      "source": [
        "np.zeros(10)"
      ]
    },
    {
      "cell_type": "code",
      "execution_count": 30,
      "metadata": {
        "colab": {
          "base_uri": "https://localhost:8080/"
        },
        "id": "HDft8GtX_xnz",
        "outputId": "9054187f-2563-4c06-d0a8-41285431bb9d"
      },
      "outputs": [
        {
          "output_type": "execute_result",
          "data": {
            "text/plain": [
              "array([[1., 1., 1., 1., 1., 1.],\n",
              "       [1., 1., 1., 1., 1., 1.],\n",
              "       [1., 1., 1., 1., 1., 1.]])"
            ]
          },
          "metadata": {},
          "execution_count": 30
        }
      ],
      "source": [
        "np.ones((3, 6))"
      ]
    },
    {
      "cell_type": "code",
      "execution_count": 31,
      "metadata": {
        "colab": {
          "base_uri": "https://localhost:8080/"
        },
        "id": "BJAIumjI_xn0",
        "outputId": "4677018e-2996-4626-be2b-4b4042a2bfd2"
      },
      "outputs": [
        {
          "output_type": "execute_result",
          "data": {
            "text/plain": [
              "array([ 0,  1,  2,  3,  4,  5,  6,  7,  8,  9, 10, 11, 12, 13, 14, 15, 16,\n",
              "       17, 18, 19])"
            ]
          },
          "metadata": {},
          "execution_count": 31
        }
      ],
      "source": [
        "np.arange(20)"
      ]
    },
    {
      "cell_type": "code",
      "execution_count": 32,
      "metadata": {
        "colab": {
          "base_uri": "https://localhost:8080/"
        },
        "id": "2PwuJCdG_xn0",
        "outputId": "60b6faa0-5f0e-4914-bcf4-257701a25400"
      },
      "outputs": [
        {
          "output_type": "execute_result",
          "data": {
            "text/plain": [
              "array([[1., 0., 0., 0., 0., 0., 0.],\n",
              "       [0., 1., 0., 0., 0., 0., 0.],\n",
              "       [0., 0., 1., 0., 0., 0., 0.],\n",
              "       [0., 0., 0., 1., 0., 0., 0.],\n",
              "       [0., 0., 0., 0., 1., 0., 0.],\n",
              "       [0., 0., 0., 0., 0., 1., 0.],\n",
              "       [0., 0., 0., 0., 0., 0., 1.]])"
            ]
          },
          "metadata": {},
          "execution_count": 32
        }
      ],
      "source": [
        "np.eye(7)"
      ]
    },
    {
      "cell_type": "code",
      "execution_count": 33,
      "metadata": {
        "colab": {
          "base_uri": "https://localhost:8080/"
        },
        "id": "cgROSik0XjWF",
        "outputId": "6e2f7ffe-12a3-4196-8af2-fc52412735da"
      },
      "outputs": [
        {
          "output_type": "execute_result",
          "data": {
            "text/plain": [
              "array([[0, 0, 0, 0, 0],\n",
              "       [0, 1, 0, 0, 0],\n",
              "       [0, 0, 2, 0, 0],\n",
              "       [0, 0, 0, 3, 0],\n",
              "       [0, 0, 0, 0, 4]])"
            ]
          },
          "metadata": {},
          "execution_count": 33
        }
      ],
      "source": [
        "np.diag(range(5))"
      ]
    },
    {
      "cell_type": "code",
      "source": [
        "np.diag(np.array([3,4,6,3,1]))"
      ],
      "metadata": {
        "colab": {
          "base_uri": "https://localhost:8080/"
        },
        "id": "VOpuz3-PuBIO",
        "outputId": "7677977d-0cfe-464b-f4b3-2d3424f97b1a"
      },
      "execution_count": 34,
      "outputs": [
        {
          "output_type": "execute_result",
          "data": {
            "text/plain": [
              "array([[3, 0, 0, 0, 0],\n",
              "       [0, 4, 0, 0, 0],\n",
              "       [0, 0, 6, 0, 0],\n",
              "       [0, 0, 0, 3, 0],\n",
              "       [0, 0, 0, 0, 1]])"
            ]
          },
          "metadata": {},
          "execution_count": 34
        }
      ]
    },
    {
      "cell_type": "markdown",
      "metadata": {
        "id": "RhnVSmeX_xn1"
      },
      "source": [
        "Podemos usar también `reshape` para transformar entre distintas dimensiones. Por ejemplo, un uso típico es crear un array bidimensional a partir de uno unidimensional:"
      ]
    },
    {
      "cell_type": "code",
      "execution_count": 35,
      "metadata": {
        "colab": {
          "base_uri": "https://localhost:8080/"
        },
        "id": "b-QHN9Os_xn1",
        "outputId": "87364702-3141-4346-b85e-37da634c7308"
      },
      "outputs": [
        {
          "output_type": "execute_result",
          "data": {
            "text/plain": [
              "(array([ 0,  1,  2,  3,  4,  5,  6,  7,  8,  9, 10, 11]),\n",
              " array([[ 0,  1,  2,  3],\n",
              "        [ 4,  5,  6,  7],\n",
              "        [ 8,  9, 10, 11]]))"
            ]
          },
          "metadata": {},
          "execution_count": 35
        }
      ],
      "source": [
        "v = np.arange(12)\n",
        "M = v.reshape(3, 4)\n",
        "v, M"
      ]
    },
    {
      "cell_type": "markdown",
      "metadata": {
        "id": "acsyfqoF_xn1"
      },
      "source": [
        "Hasta ahora sólo hemos visto ejemplos de arrays unidimensionales y bidimensionales. Estas son las dimensiones más frecuentes, pero numpy soporta arrays con cualquier número finito de dimensiones. Por ejemplo, aquí vemos un array de tres dimensiones:"
      ]
    },
    {
      "cell_type": "code",
      "execution_count": 36,
      "metadata": {
        "colab": {
          "base_uri": "https://localhost:8080/"
        },
        "id": "1UNJKpDI_xn2",
        "outputId": "308ffba3-6d3c-4845-eee1-2a0c321966a0"
      },
      "outputs": [
        {
          "output_type": "execute_result",
          "data": {
            "text/plain": [
              "array([[[0., 0.],\n",
              "        [0., 0.],\n",
              "        [0., 0.]],\n",
              "\n",
              "       [[0., 0.],\n",
              "        [0., 0.],\n",
              "        [0., 0.]]])"
            ]
          },
          "metadata": {},
          "execution_count": 36
        }
      ],
      "source": [
        "np.zeros((2, 3, 2))"
      ]
    },
    {
      "cell_type": "markdown",
      "metadata": {
        "id": "brfDAUy01d69"
      },
      "source": [
        "Otro generador muy utilizado es `np.linspace`, que nos permite generar $n$ puntos igualmente separados en el un intervalo"
      ]
    },
    {
      "cell_type": "code",
      "execution_count": 37,
      "metadata": {
        "id": "O5VElioj24IY"
      },
      "outputs": [],
      "source": [
        "# 5 elementos igualmente espaciados en el intervalo [-1, 1]\n",
        "a = np.linspace(-1, 1, 5)\n",
        "\n",
        "# 2 elementos en el intervalo [3, 4]\n",
        "b = np.linspace(3, 4, 2)\n",
        "\n",
        "# 100 elementos entre [-pi, pi]\n",
        "c = np.linspace(-np.pi, np.pi, 100)\n",
        "### vemos que numpy tiene su propio \"pi\""
      ]
    },
    {
      "cell_type": "code",
      "source": [
        "print(a)\n",
        "print(b) ### como coge los bordes, son los únicos valores que hay\n",
        "print(c)"
      ],
      "metadata": {
        "colab": {
          "base_uri": "https://localhost:8080/"
        },
        "id": "omAbZoT4uiX4",
        "outputId": "3c846d30-2e93-408f-f9e7-539184b308b5"
      },
      "execution_count": 40,
      "outputs": [
        {
          "output_type": "stream",
          "name": "stdout",
          "text": [
            "[-1.  -0.5  0.   0.5  1. ]\n",
            "[3. 4.]\n",
            "[-3.14159265 -3.07812614 -3.01465962 -2.9511931  -2.88772658 -2.82426006\n",
            " -2.76079354 -2.69732703 -2.63386051 -2.57039399 -2.50692747 -2.44346095\n",
            " -2.37999443 -2.31652792 -2.2530614  -2.18959488 -2.12612836 -2.06266184\n",
            " -1.99919533 -1.93572881 -1.87226229 -1.80879577 -1.74532925 -1.68186273\n",
            " -1.61839622 -1.5549297  -1.49146318 -1.42799666 -1.36453014 -1.30106362\n",
            " -1.23759711 -1.17413059 -1.11066407 -1.04719755 -0.98373103 -0.92026451\n",
            " -0.856798   -0.79333148 -0.72986496 -0.66639844 -0.60293192 -0.53946541\n",
            " -0.47599889 -0.41253237 -0.34906585 -0.28559933 -0.22213281 -0.1586663\n",
            " -0.09519978 -0.03173326  0.03173326  0.09519978  0.1586663   0.22213281\n",
            "  0.28559933  0.34906585  0.41253237  0.47599889  0.53946541  0.60293192\n",
            "  0.66639844  0.72986496  0.79333148  0.856798    0.92026451  0.98373103\n",
            "  1.04719755  1.11066407  1.17413059  1.23759711  1.30106362  1.36453014\n",
            "  1.42799666  1.49146318  1.5549297   1.61839622  1.68186273  1.74532925\n",
            "  1.80879577  1.87226229  1.93572881  1.99919533  2.06266184  2.12612836\n",
            "  2.18959488  2.2530614   2.31652792  2.37999443  2.44346095  2.50692747\n",
            "  2.57039399  2.63386051  2.69732703  2.76079354  2.82426006  2.88772658\n",
            "  2.9511931   3.01465962  3.07812614  3.14159265]\n"
          ]
        }
      ]
    },
    {
      "cell_type": "markdown",
      "metadata": {
        "id": "v7fFsSFC4LCe"
      },
      "source": [
        "Cuando trabajamos con números aleatorios, es recomendable crear un [generador de números aleatorios](https://numpy.org/doc/stable/reference/random/generator.html). Existe un método `defult_rng` para ello"
      ]
    },
    {
      "cell_type": "code",
      "execution_count": 41,
      "metadata": {
        "id": "vLuKs1N64tgv"
      },
      "outputs": [],
      "source": [
        "rng = np.random.default_rng()"
      ]
    },
    {
      "cell_type": "code",
      "execution_count": 42,
      "metadata": {
        "id": "P8r9lBSa40y0"
      },
      "outputs": [],
      "source": [
        "mu, sigma = 0, 0.1 # mean and standard deviation\n",
        "\n",
        "s = rng.normal(mu, sigma, (10, 100))"
      ]
    },
    {
      "cell_type": "markdown",
      "metadata": {
        "id": "jEfMwzlu0d9P"
      },
      "source": [
        ":::{exercise}\n",
        ":label: introduction-numpy-diag\n",
        "\n",
        "Crea un array de enteros bidimensional en el que cada eje tenga `n` elementos, con -1 en la diagonal y 1 en el resto\n",
        "\n",
        ":::"
      ]
    },
    {
      "cell_type": "code",
      "source": [
        "print(np.ones((8,8)) + (-2)*np.eye(8))"
      ],
      "metadata": {
        "colab": {
          "base_uri": "https://localhost:8080/"
        },
        "id": "4v5-kVRFvkUt",
        "outputId": "c3bd8d76-58df-43c4-a189-01fec9e0df29"
      },
      "execution_count": 47,
      "outputs": [
        {
          "output_type": "stream",
          "name": "stdout",
          "text": [
            "[[-1.  1.  1.  1.  1.  1.  1.  1.]\n",
            " [ 1. -1.  1.  1.  1.  1.  1.  1.]\n",
            " [ 1.  1. -1.  1.  1.  1.  1.  1.]\n",
            " [ 1.  1.  1. -1.  1.  1.  1.  1.]\n",
            " [ 1.  1.  1.  1. -1.  1.  1.  1.]\n",
            " [ 1.  1.  1.  1.  1. -1.  1.  1.]\n",
            " [ 1.  1.  1.  1.  1.  1. -1.  1.]\n",
            " [ 1.  1.  1.  1.  1.  1.  1. -1.]]\n"
          ]
        }
      ]
    },
    {
      "cell_type": "code",
      "source": [
        "n = 10\n",
        "\n",
        "A = 2*np.eye(n)\n",
        "B = np.ones((n,n))\n",
        "ret= B-A\n",
        "print(ret)"
      ],
      "metadata": {
        "colab": {
          "base_uri": "https://localhost:8080/"
        },
        "id": "l2TQbBsnwPHq",
        "outputId": "72c570f6-bab7-4067-d2c0-33879f0bff38"
      },
      "execution_count": 51,
      "outputs": [
        {
          "output_type": "stream",
          "name": "stdout",
          "text": [
            "[[-1.  1.  1.  1.  1.  1.  1.  1.  1.  1.]\n",
            " [ 1. -1.  1.  1.  1.  1.  1.  1.  1.  1.]\n",
            " [ 1.  1. -1.  1.  1.  1.  1.  1.  1.  1.]\n",
            " [ 1.  1.  1. -1.  1.  1.  1.  1.  1.  1.]\n",
            " [ 1.  1.  1.  1. -1.  1.  1.  1.  1.  1.]\n",
            " [ 1.  1.  1.  1.  1. -1.  1.  1.  1.  1.]\n",
            " [ 1.  1.  1.  1.  1.  1. -1.  1.  1.  1.]\n",
            " [ 1.  1.  1.  1.  1.  1.  1. -1.  1.  1.]\n",
            " [ 1.  1.  1.  1.  1.  1.  1.  1. -1.  1.]\n",
            " [ 1.  1.  1.  1.  1.  1.  1.  1.  1. -1.]]\n"
          ]
        }
      ]
    },
    {
      "cell_type": "markdown",
      "metadata": {
        "id": "06DuW3Ca_xn2"
      },
      "source": [
        "---\n",
        "## Tipos de datos en las componentes de un array (*dtype*)"
      ]
    },
    {
      "cell_type": "markdown",
      "metadata": {
        "id": "oJm7c9nH2LF3"
      },
      "source": [
        "Numpy incorpora una [una variedad extensa de tipos](https://numpy.org/doc/stable/reference/arrays.scalars.html#numpy.byte), pero los más usuales son los de tipo `float_`, `int_` y `bool`. Podemos acceder al tipo de un array con el método `dtype`."
      ]
    },
    {
      "cell_type": "markdown",
      "metadata": {
        "id": "z_RsNrBbV_Tj"
      },
      "source": [
        "![picture](https://drive.google.com/uc?id=100e_ZChM2lfsF6KXERc4dhy1okf6rYS5)"
      ]
    },
    {
      "cell_type": "markdown",
      "source": [
        "*Donde pone \"_\" significa que podemos indicarle el tamaño, 32 o 64 por ejemplo. En el caso del prefijo \"u\" no almacena signo así que puede contener el doble de información*"
      ],
      "metadata": {
        "id": "VWmAiXz1zMyj"
      }
    },
    {
      "cell_type": "markdown",
      "metadata": {
        "id": "plXwNNbj_xn2"
      },
      "source": [
        "El tipo de dato de las componentes de un array está **implícito** cuando se crea, pero podemos especificarlo: "
      ]
    },
    {
      "cell_type": "code",
      "execution_count": 52,
      "metadata": {
        "id": "DSpOApYg_xn2",
        "outputId": "ecb87344-78f0-425a-adb7-32773cd3e6bc",
        "colab": {
          "base_uri": "https://localhost:8080/"
        }
      },
      "outputs": [
        {
          "output_type": "stream",
          "name": "stdout",
          "text": [
            "float64\n",
            "int32\n"
          ]
        }
      ],
      "source": [
        "arr1 = np.array([1, 2, 3], dtype=np.float64)\n",
        "arr2 = np.array([1, 2, 3], dtype=np.int32)\n",
        "print(arr1.dtype)\n",
        "print(arr2.dtype)"
      ]
    },
    {
      "cell_type": "markdown",
      "metadata": {
        "id": "wPoclezE3N2u"
      },
      "source": [
        "Podemos pedir información de los tipo usando funciones como `iinfo` o `finfo`"
      ]
    },
    {
      "cell_type": "code",
      "execution_count": 53,
      "metadata": {
        "colab": {
          "base_uri": "https://localhost:8080/"
        },
        "id": "3SyvjvB33Sl1",
        "outputId": "47ca35df-ee2e-4770-a88e-7272cd7a43b4"
      },
      "outputs": [
        {
          "output_type": "execute_result",
          "data": {
            "text/plain": [
              "iinfo(min=-2147483648, max=2147483647, dtype=int32)"
            ]
          },
          "metadata": {},
          "execution_count": 53
        }
      ],
      "source": [
        "np.iinfo(\"int32\")"
      ]
    },
    {
      "cell_type": "code",
      "execution_count": 54,
      "metadata": {
        "colab": {
          "base_uri": "https://localhost:8080/"
        },
        "id": "F5L1gaLp3VwD",
        "outputId": "d27256f0-7e58-49e7-f5e3-339382f7fa51"
      },
      "outputs": [
        {
          "output_type": "execute_result",
          "data": {
            "text/plain": [
              "iinfo(min=0, max=255, dtype=uint8)"
            ]
          },
          "metadata": {},
          "execution_count": 54
        }
      ],
      "source": [
        "np.iinfo(\"uint8\")"
      ]
    },
    {
      "cell_type": "code",
      "execution_count": 55,
      "metadata": {
        "colab": {
          "base_uri": "https://localhost:8080/"
        },
        "id": "qCYX7iXy3Yg7",
        "outputId": "13490e50-93dd-4573-a163-2bca2cafdad1"
      },
      "outputs": [
        {
          "output_type": "execute_result",
          "data": {
            "text/plain": [
              "finfo(resolution=1e-15, min=-1.7976931348623157e+308, max=1.7976931348623157e+308, dtype=float64)"
            ]
          },
          "metadata": {},
          "execution_count": 55
        }
      ],
      "source": [
        "np.finfo(\"float64\")"
      ]
    },
    {
      "cell_type": "markdown",
      "metadata": {
        "id": "juIQ-b1Z_xn4"
      },
      "source": [
        "Podemos incluso **convertir el `dtype` de un array** que ya se ha creado, usando el método `astype`. En el ejemplo que sigue, a partir de un array de enteros, obtenemos uno de números de coma flotante:"
      ]
    },
    {
      "cell_type": "code",
      "execution_count": 56,
      "metadata": {
        "id": "dnJao5Kr_xn4",
        "outputId": "7f2ed5f4-62ea-4433-8ebe-0a070cbaece5",
        "colab": {
          "base_uri": "https://localhost:8080/"
        }
      },
      "outputs": [
        {
          "output_type": "execute_result",
          "data": {
            "text/plain": [
              "dtype('int64')"
            ]
          },
          "metadata": {},
          "execution_count": 56
        }
      ],
      "source": [
        "arr = np.array([1, 2, 3, 4, 5])\n",
        "arr.dtype"
      ]
    },
    {
      "cell_type": "code",
      "execution_count": 57,
      "metadata": {
        "id": "ZqaaX_Mt_xn4",
        "outputId": "f6f03bd2-8877-490a-aa7f-64bfa1fb80e4",
        "colab": {
          "base_uri": "https://localhost:8080/"
        }
      },
      "outputs": [
        {
          "output_type": "execute_result",
          "data": {
            "text/plain": [
              "array([1., 2., 3., 4., 5.])"
            ]
          },
          "metadata": {},
          "execution_count": 57
        }
      ],
      "source": [
        "float_arr = arr.astype(np.float64)\n",
        "float_arr.dtype\n",
        "float_arr"
      ]
    },
    {
      "cell_type": "markdown",
      "metadata": {
        "id": "iMhIVXQg_xn5"
      },
      "source": [
        "Podemos incluso pasar de coma flotante a enteros, en cuyo caso se trunca la parte decimal:"
      ]
    },
    {
      "cell_type": "code",
      "execution_count": 58,
      "metadata": {
        "id": "1c2sGlFc_xn5",
        "outputId": "caecb91e-05d5-4486-b512-a007c399c014",
        "colab": {
          "base_uri": "https://localhost:8080/"
        }
      },
      "outputs": [
        {
          "output_type": "execute_result",
          "data": {
            "text/plain": [
              "array([ 3, -1, -2,  0, 12, 10], dtype=int32)"
            ]
          },
          "metadata": {},
          "execution_count": 58
        }
      ],
      "source": [
        "arr = np.array([3.7, -1.2, -2.6, 0.5, 12.9, 10.1])\n",
        "arr\n",
        "arr.astype(np.int32)"
      ]
    },
    {
      "cell_type": "markdown",
      "metadata": {
        "id": "3I6Gj_CK_xn6"
      },
      "source": [
        "O pasar de strings a punto flotante, siempre que los strings del array tengan sentido como números:"
      ]
    },
    {
      "cell_type": "code",
      "execution_count": 59,
      "metadata": {
        "id": "aSTjMSsX_xn6",
        "outputId": "027f0d05-34ba-4cc0-846c-416f3b579f7b",
        "colab": {
          "base_uri": "https://localhost:8080/"
        }
      },
      "outputs": [
        {
          "output_type": "execute_result",
          "data": {
            "text/plain": [
              "array([ 1.25, -9.6 , 42.  ])"
            ]
          },
          "metadata": {},
          "execution_count": 59
        }
      ],
      "source": [
        "numeric_strings = np.array(['1.25', '-9.6', '42'], dtype=np.string_)\n",
        "numeric_strings.astype(float)"
      ]
    },
    {
      "cell_type": "markdown",
      "metadata": {
        "id": "aoRzYXYH_xn7"
      },
      "source": [
        "---\n",
        "## Operaciones aritméticas con arrays"
      ]
    },
    {
      "cell_type": "markdown",
      "metadata": {
        "id": "ddjUyj5d_xn7"
      },
      "source": [
        "Una de las características más interesantes de numpy es la posibilidad de aplicar eficientes operaciones aritméticas \"componente a componente\" entre arrays, sin necesidad de usar bucles `for`. Basta con usar la correspondiente operación numérica de python. \n",
        "\n",
        "Veamos algunos ejemplos:"
      ]
    },
    {
      "cell_type": "code",
      "execution_count": 60,
      "metadata": {
        "id": "d-t_BlPt_xn7"
      },
      "outputs": [],
      "source": [
        "A = np.array([[1., 2., 3.], [4., 5., 6.]])\n",
        "B = np.array([[8.1, -22, 12.3], [6.1, 7.8, 9.2]])"
      ]
    },
    {
      "cell_type": "code",
      "execution_count": 61,
      "metadata": {
        "colab": {
          "base_uri": "https://localhost:8080/"
        },
        "id": "kNt9NWm5_xn8",
        "outputId": "03295588-3a2b-4cf6-dc1c-e268d956fab7"
      },
      "outputs": [
        {
          "output_type": "execute_result",
          "data": {
            "text/plain": [
              "array([[  8.1, -44. ,  36.9],\n",
              "       [ 24.4,  39. ,  55.2]])"
            ]
          },
          "metadata": {},
          "execution_count": 61
        }
      ],
      "source": [
        "A * B"
      ]
    },
    {
      "cell_type": "code",
      "execution_count": 62,
      "metadata": {
        "colab": {
          "base_uri": "https://localhost:8080/"
        },
        "id": "tdV2yDWx_xn8",
        "outputId": "173ce889-6276-40fa-8860-36db2acf2388"
      },
      "outputs": [
        {
          "output_type": "execute_result",
          "data": {
            "text/plain": [
              "array([[-7.1, 24. , -9.3],\n",
              "       [-2.1, -2.8, -3.2]])"
            ]
          },
          "metadata": {},
          "execution_count": 62
        }
      ],
      "source": [
        "A - B"
      ]
    },
    {
      "cell_type": "markdown",
      "metadata": {
        "id": "2q5njWvQ_xn9"
      },
      "source": [
        "En principio, para poder aplicar estas operaciones entre arrays, se deben aplicar sobre arrays con las mismas dimensiones (el mismo `shape`). Es posible operar entre arrays de distintas dimensiones, con el **mecanismo de broadcasting**, que veremos más adelante."
      ]
    },
    {
      "cell_type": "markdown",
      "metadata": {
        "id": "93ab5-mr_xn-"
      },
      "source": [
        "Podemos efectuar operaciones entre arrays y números (*escalares*), indicando con ello que la operación con el escalar se aplica a cada uno de los componentes del array. Vemos algunos ejemplos: "
      ]
    },
    {
      "cell_type": "code",
      "execution_count": 63,
      "metadata": {
        "colab": {
          "base_uri": "https://localhost:8080/"
        },
        "id": "Azetor89_xn-",
        "outputId": "44c4acd3-019b-4bda-8252-29dd63d6cfe6"
      },
      "outputs": [
        {
          "output_type": "execute_result",
          "data": {
            "text/plain": [
              "array([[ 11.1, -19. ,  15.3],\n",
              "       [  9.1,  10.8,  12.2]])"
            ]
          },
          "metadata": {},
          "execution_count": 63
        }
      ],
      "source": [
        "3 + B"
      ]
    },
    {
      "cell_type": "code",
      "source": [
        "v = np.array([1,-1,1])\n",
        "### en vez de dar error porque v tiene menor dimensión, \"lo amplía\"\n",
        "A * v"
      ],
      "metadata": {
        "colab": {
          "base_uri": "https://localhost:8080/"
        },
        "id": "KtV_-Rkh0M9m",
        "outputId": "eac41c97-ac06-4cd2-dd20-85bd93794b35"
      },
      "execution_count": 67,
      "outputs": [
        {
          "output_type": "execute_result",
          "data": {
            "text/plain": [
              "array([[ 1., -2.,  3.],\n",
              "       [ 4., -5.,  6.]])"
            ]
          },
          "metadata": {},
          "execution_count": 67
        }
      ]
    },
    {
      "cell_type": "code",
      "execution_count": 64,
      "metadata": {
        "colab": {
          "base_uri": "https://localhost:8080/"
        },
        "id": "O1Bs2Y59_xn_",
        "outputId": "24f29199-4dbc-4f53-f608-625b2132fb62"
      },
      "outputs": [
        {
          "output_type": "execute_result",
          "data": {
            "text/plain": [
              "array([[1.        , 0.5       , 0.33333333],\n",
              "       [0.25      , 0.2       , 0.16666667]])"
            ]
          },
          "metadata": {},
          "execution_count": 64
        }
      ],
      "source": [
        "1 / A"
      ]
    },
    {
      "cell_type": "code",
      "execution_count": 65,
      "metadata": {
        "colab": {
          "base_uri": "https://localhost:8080/"
        },
        "id": "mQSIrUzS_xn_",
        "outputId": "41683c62-bc0a-49bc-a608-0f34520105d1"
      },
      "outputs": [
        {
          "output_type": "execute_result",
          "data": {
            "text/plain": [
              "array([[1.        , 1.41421356, 1.73205081],\n",
              "       [2.        , 2.23606798, 2.44948974]])"
            ]
          },
          "metadata": {},
          "execution_count": 65
        }
      ],
      "source": [
        "A ** 0.5"
      ]
    },
    {
      "cell_type": "markdown",
      "metadata": {
        "id": "nnmx3Dl4_xoA"
      },
      "source": [
        "Igualmente, podemos efectuar comparaciones aritméticas entre dos arrays, obteniendo el correspondiente array de booleanos como resultado:"
      ]
    },
    {
      "cell_type": "code",
      "execution_count": 66,
      "metadata": {
        "colab": {
          "base_uri": "https://localhost:8080/"
        },
        "id": "ustBXAi-_xoB",
        "outputId": "7d636d4d-0c7e-4def-ca55-91515c947adf"
      },
      "outputs": [
        {
          "output_type": "execute_result",
          "data": {
            "text/plain": [
              "array([[False,  True, False],\n",
              "       [ True,  True,  True]])"
            ]
          },
          "metadata": {},
          "execution_count": 66
        }
      ],
      "source": [
        "A > B - 5"
      ]
    },
    {
      "cell_type": "markdown",
      "metadata": {
        "id": "YpB9I5dy_xoB"
      },
      "source": [
        "En todos los casos anteriores, nótese que estas operaciones **no modifican los arrays sobre los que se aplican**, sino que obtienen un nuevo array con el correspondiente resultado."
      ]
    }
  ],
  "metadata": {
    "colab": {
      "provenance": [],
      "toc_visible": true,
      "include_colab_link": true
    },
    "kernelspec": {
      "display_name": "Python 3.9.1 64-bit",
      "language": "python",
      "name": "python3"
    },
    "language_info": {
      "codemirror_mode": {
        "name": "ipython",
        "version": 3
      },
      "file_extension": ".py",
      "mimetype": "text/x-python",
      "name": "python",
      "nbconvert_exporter": "python",
      "pygments_lexer": "ipython3",
      "version": "3.9.1"
    },
    "vscode": {
      "interpreter": {
        "hash": "397704579725e15f5c7cb49fe5f0341eb7531c82d19f2c29d197e8b64ab5776b"
      }
    }
  },
  "nbformat": 4,
  "nbformat_minor": 0
}
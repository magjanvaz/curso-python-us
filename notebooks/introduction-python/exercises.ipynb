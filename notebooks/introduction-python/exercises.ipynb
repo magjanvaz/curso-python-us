{
  "cells": [
    {
      "cell_type": "markdown",
      "metadata": {
        "id": "view-in-github",
        "colab_type": "text"
      },
      "source": [
        "<a href=\"https://colab.research.google.com/github/magjanvaz/curso-python-us/blob/main/notebooks/introduction-python/exercises.ipynb\" target=\"_parent\"><img src=\"https://colab.research.google.com/assets/colab-badge.svg\" alt=\"Open In Colab\"/></a>"
      ]
    },
    {
      "cell_type": "markdown",
      "metadata": {
        "id": "wDhfh5GiZEEO"
      },
      "source": [
        "# Ejercicios de Introducción a Python"
      ]
    },
    {
      "cell_type": "markdown",
      "metadata": {
        "id": "qzhMHBlxZEEQ"
      },
      "source": [
        ":::{exercise}\n",
        ":label: chapter1-exercises\n",
        "\n",
        "Crea una función `merge` que acepte un número arbitrario de diccionarios y devuelva un diccionario cuyas claves sean las uniones de las claves de los diccionarios de entradas y los valores listas donde se concatenan los valores de los diccionarios originales. Por ejemplo, \n",
        "\n",
        "```\n",
        "dict1 = {\n",
        "    \"foo\": 1, \n",
        "    \"bar\": [3, 4], \n",
        "    \"baz\": None\n",
        "}\n",
        "\n",
        "dict2 = {\n",
        "    \"foo\": \"Hello world\", \n",
        "    5: \"five\"\n",
        "}\n",
        "\n",
        "dict3 = {\n",
        "    \"bar\": \"yes\"\n",
        "}\n",
        "\n",
        ">>> merge(dict1, dict2, dict3)\n",
        "\n",
        "{\n",
        "    'foo': [1, 'Hello world'], \n",
        "    'bar': [[3, 4], 'yes'], \n",
        "    'baz': [None], \n",
        "    5: ['five']\n",
        "}\n",
        "```\n",
        "\n",
        ":::"
      ]
    },
    {
      "cell_type": "code",
      "source": [
        "def merge(*args) :\n",
        "  setTodDic = set() # en este conjunto almacenaré todas las claves\n",
        "  for dic in args:\n",
        "    setDic = {x for (x,a) in list(dic.items())}\n",
        "    # obtengo un conjunto con las claves de cada diccionario\n",
        "    nuevsetDic = setTodDic | setDic\n",
        "    # y las voy añadiendo a un conjunto\n",
        "    # tengo que hacerlo así para que no de error\n",
        "    setTodDic = nuevsetDic\n",
        "    # me quedo con el conjunto que tiene todas las claves\n",
        "\n",
        "  dicTotal = {} # aquí voy a guardarlo todo\n",
        "  for clave in setTodDic : # miro las claves una a una\n",
        "    claveValor = [] # en una lista almacenaré los valores\n",
        "    for dic in args:\n",
        "      if not dic.get(clave)==None:\n",
        "        claveValor.append(dic.get(clave))\n",
        "        # si tenía algún valor (no vale None) lo añado a la lista\n",
        "    dicTotal[clave] = claveValor\n",
        "    # por último, el valor de dicha clave en el diccionario total es la lista \n",
        "  \n",
        "  return dicTotal"
      ],
      "metadata": {
        "id": "5v3Ek2_7lZ8X"
      },
      "execution_count": 37,
      "outputs": []
    },
    {
      "cell_type": "code",
      "source": [
        "dict1 = {\n",
        "    \"foo\": 1, \n",
        "    \"bar\": [3, 4], \n",
        "    \"baz\": None\n",
        "}\n",
        "\n",
        "dict2 = {\n",
        "    \"foo\": \"Hello world\", \n",
        "    5: \"five\"\n",
        "}\n",
        "\n",
        "dict3 = {\n",
        "    \"bar\": \"yes\"\n",
        "}\n",
        "\n",
        "merge(dict1, dict2, dict3) ### mi error consiste en que no puedo identificar si la clave era None o si es que no había clave"
      ],
      "metadata": {
        "colab": {
          "base_uri": "https://localhost:8080/"
        },
        "id": "KqbHbO-mpG9V",
        "outputId": "c9bbce60-04ef-41e1-9d1a-72adf91605ca"
      },
      "execution_count": 39,
      "outputs": [
        {
          "output_type": "execute_result",
          "data": {
            "text/plain": [
              "{5: ['five'], 'baz': [], 'bar': [[3, 4], 'yes'], 'foo': [1, 'Hello world']}"
            ]
          },
          "metadata": {},
          "execution_count": 39
        }
      ]
    },
    {
      "cell_type": "code",
      "source": [
        "merge({'apple': 'fruit', 'onion': 'vegetable'},{'casa': 'si', 'piso': 'no', 'onion': 'vegetable'},{'apple': 'maybe'})\n",
        "# y además si tengo una clave repetida, ¿debo dejarla repetida?"
      ],
      "metadata": {
        "colab": {
          "base_uri": "https://localhost:8080/"
        },
        "id": "tsgV8uT9mvt5",
        "outputId": "46c5c1e2-d66e-40ae-a2bd-ca9b4a0beb22"
      },
      "execution_count": 38,
      "outputs": [
        {
          "output_type": "execute_result",
          "data": {
            "text/plain": [
              "{'onion': ['vegetable', 'vegetable'],\n",
              " 'casa': ['si'],\n",
              " 'apple': ['fruit', 'maybe'],\n",
              " 'piso': ['no']}"
            ]
          },
          "metadata": {},
          "execution_count": 38
        }
      ]
    },
    {
      "cell_type": "markdown",
      "source": [
        ":::{exercise}\n",
        ":label: chapter1-exercises-4\n",
        " \n",
        "Considera el siguiente ejemplo \n",
        "\n",
        "```\n",
        "a = [1, 2, [3, 4]]\n",
        "b = list(a)\n",
        "```\n",
        "\n",
        "¿Cambia algún elemento de la lista `a` tras ejecutar `b.append(100)`?¿Y tras ejecutar `b[2][0] = -100`? ¿Por qué?\n",
        "\n",
        ":::"
      ],
      "metadata": {
        "id": "LZJsa8ZR0zP3"
      }
    },
    {
      "cell_type": "code",
      "source": [
        "a = [1, 2, [3, 4]]\n",
        "b = list(a)"
      ],
      "metadata": {
        "id": "43US2b7aqJ-3"
      },
      "execution_count": 48,
      "outputs": []
    },
    {
      "cell_type": "code",
      "source": [
        "print(b)"
      ],
      "metadata": {
        "colab": {
          "base_uri": "https://localhost:8080/"
        },
        "id": "ACDhwkNyqLoW",
        "outputId": "ce5baf96-1ca7-43ce-ec1d-c00c52dd9762"
      },
      "execution_count": 49,
      "outputs": [
        {
          "output_type": "stream",
          "name": "stdout",
          "text": [
            "[1, 2, [3, 4]]\n"
          ]
        }
      ]
    },
    {
      "cell_type": "code",
      "source": [
        "b.append(100)\n",
        "print(b)\n",
        "print(a)  # no se ha modificado la lista a"
      ],
      "metadata": {
        "colab": {
          "base_uri": "https://localhost:8080/"
        },
        "id": "gMZjMXvkqM2S",
        "outputId": "d2744239-5203-4690-98e8-46e9b159b64e"
      },
      "execution_count": 50,
      "outputs": [
        {
          "output_type": "stream",
          "name": "stdout",
          "text": [
            "[1, 2, [3, 4], 100]\n",
            "[1, 2, [3, 4]]\n"
          ]
        }
      ]
    },
    {
      "cell_type": "code",
      "source": [
        "b[2][0]=-100"
      ],
      "metadata": {
        "id": "B8r4lVrXqOmO"
      },
      "execution_count": 51,
      "outputs": []
    },
    {
      "cell_type": "code",
      "source": [
        "print(b)\n",
        "print(a) # en este caso sí se ha modificado a"
      ],
      "metadata": {
        "colab": {
          "base_uri": "https://localhost:8080/"
        },
        "id": "ZjHj87W2qSWq",
        "outputId": "3c742814-ed89-458e-ad16-0308f28d8a3a"
      },
      "execution_count": 52,
      "outputs": [
        {
          "output_type": "stream",
          "name": "stdout",
          "text": [
            "[1, 2, [-100, 4], 100]\n",
            "[1, 2, [-100, 4]]\n"
          ]
        }
      ]
    },
    {
      "cell_type": "code",
      "source": [
        "print(id(a))\n",
        "print(id(b))\n",
        "# tienen ids distintos "
      ],
      "metadata": {
        "colab": {
          "base_uri": "https://localhost:8080/"
        },
        "id": "PDSL-4lpqieE",
        "outputId": "6e8fa6db-2383-46bd-a65e-dab40962f53c"
      },
      "execution_count": 53,
      "outputs": [
        {
          "output_type": "stream",
          "name": "stdout",
          "text": [
            "140044281956384\n",
            "140044281988112\n"
          ]
        }
      ]
    },
    {
      "cell_type": "markdown",
      "source": [
        "**Nota** Ver resolución de la próxima clase"
      ],
      "metadata": {
        "id": "FMVKzU2Iqt_e"
      }
    },
    {
      "cell_type": "markdown",
      "metadata": {
        "id": "0giHwgj_a9EB"
      },
      "source": [
        ":::{exercise}\n",
        ":label: chapter1-exercises-2\n",
        "\n",
        "Crea una función `concat_to_str` que convierta una secuencia de objetos de Python en una cadena de transcripciones siguiendo las siguientes normas:\n",
        "\n",
        "- Si el objeto es un entero, entonces escribimos cada dígito en español separados por guiones. Si el entero es negativo, lo indicamos empezando la cadena por `menos`: \n",
        "    - `142` -> `uno-cuatro-dos`\n",
        "    -  `-12` -> `menos-uno-dos`\n",
        "- Si el objeto es un flotante, nos quedamos con la parte entera y hacemos lo mismo que en el caso anterior añadiendo `\"y decimales\"` al final. \n",
        "    - `12.324` -> `uno-dos y decimales`\n",
        "- Si el objeto es una cadena, lo dejamos como está. \n",
        "- Si el objeto es de otro tipo (incluido `bool`), añadimos `\"<OTRO>\"`. \n",
        "\n",
        "Las transcripciones deben estar separas por `\" | \"`. Por ejemplo, \n",
        "\n",
        "```\n",
        ">>> s = concat_to_str([12, -14.23, \"hello\", True, None, 10.1, 5])\n",
        "\"uno-dos | menos-uno-cuatro y decimales\" | hello | <OTRO> | <OTRO> | uno-cero y decimales | cinco\"\n",
        "```\n",
        "\n",
        ":::"
      ]
    },
    {
      "cell_type": "code",
      "source": [
        "transcribir = {\"0\": \"cero\",\n",
        "               \"1\": \"uno\",\n",
        "               \"2\": \"dos\",\n",
        "               \"3\": \"tres\",\n",
        "               \"4\": \"cuatro\",\n",
        "               \"5\": \"cinco\",\n",
        "               \"6\": \"seis\",\n",
        "               \"7\": \"siete\",\n",
        "               \"8\": \"ocho\",\n",
        "               \"9\": \"nueve\",\n",
        "               \"-\": \"menos\",\n",
        "               \".\": \"y decimales\"}"
      ],
      "metadata": {
        "id": "VyM_wJYTq2qG"
      },
      "execution_count": 67,
      "outputs": []
    },
    {
      "cell_type": "code",
      "source": [
        "def concat_to_str(entrada):\n",
        "  salidaLista = []\n",
        "  for elemen in entrada:\n",
        "    if isinstance(elemen,bool):\n",
        "      salidaLista.append(\"<OTRO>\")\n",
        "      # esta tiene que hacerse la primera\n",
        "      # porque True y False se consideran int\n",
        "    elif (isinstance(elemen,int) | isinstance(elemen,float)):\n",
        "      cadenaNumOg = str(elemen)\n",
        "      cadenaNumSal=\"\"\n",
        "      l = len(cadenaNumOg)\n",
        "      for i in range(0,l):\n",
        "        if cadenaNumOg[i]==\".\":\n",
        "          cadenaNumSal += transcribir.get(cadenaNumOg[i])\n",
        "          break\n",
        "        else:\n",
        "          cadenaNumSal += transcribir.get(cadenaNumOg[i])\n",
        "          if i < l-1 :\n",
        "            cadenaNumSal += \"-\"\n",
        "      salidaLista.append(cadenaNumSal)\n",
        "    elif isinstance(elemen,str):\n",
        "      salidaLista.append(elemen)\n",
        "    else:\n",
        "      salidaLista.append(\"<OTRO>\")\n",
        "\n",
        "  # una vez tenemos tooodas las transformaciones, imrpimamoslo bien\n",
        "\n",
        "  salidaCadena = \"\"\n",
        "  ll = len(salidaLista)\n",
        "  for i in range(0,l-1) :\n",
        "    salidaCadena += str(salidaLista[i])\n",
        "    salidaCadena += \" | \"\n",
        "  salidaCadena += str(salidaLista[ll-1])\n",
        "\n",
        "  return(salidaCadena)\n",
        "\n"
      ],
      "metadata": {
        "id": "REmtlJ_2rjwh"
      },
      "execution_count": 105,
      "outputs": []
    },
    {
      "cell_type": "code",
      "source": [
        "concat_to_str([-1123.123,123,-12,3,2,12.3,\"cadena\",None, False])"
      ],
      "metadata": {
        "colab": {
          "base_uri": "https://localhost:8080/",
          "height": 35
        },
        "id": "ROmZ7k6XtoPm",
        "outputId": "0b8b9b69-93bb-4f32-b72f-c84a3e0850aa"
      },
      "execution_count": 106,
      "outputs": [
        {
          "output_type": "execute_result",
          "data": {
            "text/plain": [
              "'menos-uno-uno-dos-tres-y decimales | uno-dos-tres | menos-uno-dos | <OTRO>'"
            ],
            "application/vnd.google.colaboratory.intrinsic+json": {
              "type": "string"
            }
          },
          "metadata": {},
          "execution_count": 106
        }
      ]
    },
    {
      "cell_type": "markdown",
      "source": [
        ":::{exercise}\n",
        ":label: chapter1-exercises-3\n",
        "\n",
        "Visita [este sitio web](https://gutenberg.org/browse/scores/top#books-last30) y copia el enlace de descarga de un libro a tu elección en texto plano en una variable `url`. Por ejemplo, [este](https://gutenberg.org/cache/epub/1342/pg1342.txt) es el enlace de descarga de *Orgullo y Prejuicio*. \n",
        "\n",
        "Utiliza el módulo `requests` para realizar una petición http y guardar el cuerpo de la respuesta en una variable `book` tal y como se indica a continuación \n",
        "\n",
        "```\n",
        "import requests\n",
        "\n",
        "url = \"https://gutenberg.org/cache/epub/1342/pg1342.txt\"\n",
        "book_request = requests.get(url)\n",
        "book = book_request.text\n",
        "```\n",
        "\n",
        "Escribe una función `count_words` que devuelva un diccionario con las 50 palabras más frecuentes del libro que tenga como claves dichas palabras y como valor el número de apariciones. \n",
        "\n",
        ":::"
      ],
      "metadata": {
        "id": "WFflJSheU4-w"
      }
    },
    {
      "cell_type": "markdown",
      "source": [
        ":::{exercise}\n",
        ":label: chapter1-exercises-4\n",
        "\n",
        "Crea una clase `CarritoCompra`, donde cada instancia almacenará listas de cadenas represenstando productos\n",
        "\n",
        "- una lista para productos que necesitamos, `necesitados`. \n",
        "- otra para productos ya comprados, `comprados`.\n",
        "\n",
        "Crea un método `__init__` que acepte una cadena o un iterable de cadenas representando productos que se añadiran a la lista de necesitados y además métodos para \n",
        "\n",
        "- añadir nuevos elementos necesitados al carrito,\n",
        "- marcar un producto como comprado,\n",
        "- eliminar productos, ya sea de la lista de necesitados o comprados,\n",
        "- listar los elementos necesitaods formateados y en orden alfabético,\n",
        "- igual para comprados.\n",
        "\n",
        ":::"
      ],
      "metadata": {
        "id": "-xt1nDKN0wuN"
      }
    },
    {
      "cell_type": "code",
      "source": [],
      "metadata": {
        "id": "PccxoXavJPGA"
      },
      "execution_count": null,
      "outputs": []
    }
  ],
  "metadata": {
    "colab": {
      "provenance": [],
      "include_colab_link": true
    },
    "kernelspec": {
      "display_name": "Python 3.9.1 64-bit",
      "language": "python",
      "name": "python3"
    },
    "language_info": {
      "name": "python",
      "version": "3.9.1"
    },
    "orig_nbformat": 4,
    "vscode": {
      "interpreter": {
        "hash": "397704579725e15f5c7cb49fe5f0341eb7531c82d19f2c29d197e8b64ab5776b"
      }
    }
  },
  "nbformat": 4,
  "nbformat_minor": 0
}
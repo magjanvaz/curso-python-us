{
  "cells": [
    {
      "cell_type": "markdown",
      "metadata": {
        "id": "view-in-github",
        "colab_type": "text"
      },
      "source": [
        "<a href=\"https://colab.research.google.com/github/magjanvaz/curso-python-us/blob/main/notebooks/introduction-python/strings.ipynb\" target=\"_parent\"><img src=\"https://colab.research.google.com/assets/colab-badge.svg\" alt=\"Open In Colab\"/></a>"
      ]
    },
    {
      "cell_type": "markdown",
      "metadata": {
        "id": "9NV-nZiQEoRe"
      },
      "source": [
        "# Strings\n",
        "\n",
        "Las **cadenas** nos permiten almacenar un conjunto de caracteres ordenados. Podemos definir una cadena usando \n",
        "- comillas simples: `'Hello world'`\n",
        "- comillas dobles: `\"Hello world\"`\n",
        "- comillas triples: `'''Hello world'''` o `\"\"\"Hello world\"\"\"`\n",
        "\n",
        "Por defecto, Python utiliza la [codificación UTF-8](https://docs.python.org/3/howto/unicode.html#unicode-howto) para representar una amplia gama de caracteres, como pueden ser las tildes, nuestra `ñ` o una letra del alfabeto chino"
      ]
    },
    {
      "cell_type": "code",
      "source": [
        "print(\"你好\") "
      ],
      "metadata": {
        "id": "4H_bmp-5EoRg",
        "colab": {
          "base_uri": "https://localhost:8080/"
        },
        "outputId": "9ad6ffab-f0a6-4ef4-957d-bc755c7eb34c"
      },
      "execution_count": null,
      "outputs": [
        {
          "output_type": "stream",
          "name": "stdout",
          "text": [
            "你好\n"
          ]
        }
      ]
    },
    {
      "cell_type": "markdown",
      "source": [
        "Al igual que pasaba con los tipos numéricos, las cadenas en Python son objetos **inmutables**, es decir, una vez creados no pueden ser modificados. El tipo correspondiente es `str`"
      ],
      "metadata": {
        "id": "w_ctq1arHFxv"
      }
    },
    {
      "cell_type": "code",
      "source": [
        "type(\"Hello\")"
      ],
      "metadata": {
        "colab": {
          "base_uri": "https://localhost:8080/"
        },
        "id": "QcRodX43IiWy",
        "outputId": "402c6615-d051-4f51-cbaa-2b67783b18b7"
      },
      "execution_count": null,
      "outputs": [
        {
          "output_type": "execute_result",
          "data": {
            "text/plain": [
              "str"
            ]
          },
          "metadata": {},
          "execution_count": 2
        }
      ]
    },
    {
      "cell_type": "code",
      "source": [
        "isinstance(\"42\", str)"
      ],
      "metadata": {
        "colab": {
          "base_uri": "https://localhost:8080/"
        },
        "id": "o1sCXh91IkpI",
        "outputId": "ccfcdf8b-c218-4799-ac79-bbc223ba10dc"
      },
      "execution_count": null,
      "outputs": [
        {
          "output_type": "execute_result",
          "data": {
            "text/plain": [
              "True"
            ]
          },
          "metadata": {},
          "execution_count": 3
        }
      ]
    },
    {
      "cell_type": "code",
      "source": [
        "str(True)"
      ],
      "metadata": {
        "colab": {
          "base_uri": "https://localhost:8080/",
          "height": 35
        },
        "id": "-A2yMxToImkU",
        "outputId": "88166a40-0cd9-4af3-fec5-4350106c58a4"
      },
      "execution_count": null,
      "outputs": [
        {
          "output_type": "execute_result",
          "data": {
            "text/plain": [
              "'True'"
            ],
            "application/vnd.google.colaboratory.intrinsic+json": {
              "type": "string"
            }
          },
          "metadata": {},
          "execution_count": 4
        }
      ]
    },
    {
      "cell_type": "markdown",
      "source": [
        "Otra característica de las cadenas es que son objetos **secuenciales**, es decir, tienen un orden interno y podemos acceder a sus objetos a través de un entero empezando en 0. "
      ],
      "metadata": {
        "id": "tT0EIDhgJIYC"
      }
    },
    {
      "cell_type": "code",
      "source": [
        "sentence = \"En un lugar de la mancha de cuyo nombre no quiero acordarme\"\n",
        "print(sentence[0]) #siempre comenzamos en 0 a contar los índices\n",
        "print(sentence[6:15])\n",
        "print(sentence[-1])\n",
        "print(sentence[6:])\n",
        "print(sentence[:-5])"
      ],
      "metadata": {
        "colab": {
          "base_uri": "https://localhost:8080/"
        },
        "id": "YoE0eNJ-Kvc2",
        "outputId": "94a02e48-4a42-493c-f815-f33c18f5a619"
      },
      "execution_count": null,
      "outputs": [
        {
          "output_type": "stream",
          "name": "stdout",
          "text": [
            "E\n",
            "lugar de \n",
            "e\n",
            "lugar de la mancha de cuyo nombre no quiero acordarme\n",
            "En un lugar de la mancha de cuyo nombre no quiero acor\n"
          ]
        }
      ]
    },
    {
      "cell_type": "markdown",
      "source": [
        "> Estas operaciones de indexado no son exclusivas de las cadenas, si no que se pueden aplicar a cualquier tipo que sea secuencial."
      ],
      "metadata": {
        "id": "zOzgCVOrK8ia"
      }
    },
    {
      "cell_type": "markdown",
      "source": [
        "Podemos escribir saltos de líneas y tabulaciones mediante los caracteres `\\n` y `\\t`, respectivamente. Si queremos obviar el comportamiento de estos caracteres, podemos utilizar la función `repr` en lugar de `print`"
      ],
      "metadata": {
        "id": "oIWCFThgLinR"
      }
    },
    {
      "cell_type": "code",
      "source": [
        "x = \"foo...\\n...bar\"\n",
        "print(x)\n",
        "repr(x)"
      ],
      "metadata": {
        "colab": {
          "base_uri": "https://localhost:8080/",
          "height": 70
        },
        "id": "axffIRanMCVm",
        "outputId": "b37a9271-5d97-464d-ec5c-69045205e335"
      },
      "execution_count": null,
      "outputs": [
        {
          "output_type": "stream",
          "name": "stdout",
          "text": [
            "foo...\n",
            "...bar\n"
          ]
        },
        {
          "output_type": "execute_result",
          "data": {
            "text/plain": [
              "\"'foo...\\\\n...bar'\""
            ],
            "application/vnd.google.colaboratory.intrinsic+json": {
              "type": "string"
            }
          },
          "metadata": {},
          "execution_count": 6
        }
      ]
    },
    {
      "cell_type": "markdown",
      "source": [
        "Si queremos escribir una cadena a lo largo de varias líneas, podemos utilizar comillas triples y ahorrarnos el `\\n`"
      ],
      "metadata": {
        "id": "tUkk3eH6QC_z"
      }
    },
    {
      "cell_type": "code",
      "source": [
        "y = \"\"\"\n",
        "foo...\n",
        "...bar\n",
        "\"\"\"\n",
        "print(y)"
      ],
      "metadata": {
        "colab": {
          "base_uri": "https://localhost:8080/"
        },
        "id": "d6H18xvgQK7Q",
        "outputId": "5fa6d327-b691-4cd9-fd45-a92edf72cb51"
      },
      "execution_count": null,
      "outputs": [
        {
          "output_type": "stream",
          "name": "stdout",
          "text": [
            "\n",
            "foo...\n",
            "...bar\n",
            "\n"
          ]
        }
      ]
    },
    {
      "cell_type": "markdown",
      "source": [
        "---\n",
        "## Funciones para manipular cadenas\n",
        "Python incorpora un gran número de funciones y métodos para operar con cadenas. A continuación mostramos algunas de las más comunes"
      ],
      "metadata": {
        "id": "dZMjP4wbMILn"
      }
    },
    {
      "cell_type": "code",
      "source": [
        "# Convierte la primera letra en mayúscula\n",
        "\"hello\".capitalize()"
      ],
      "metadata": {
        "colab": {
          "base_uri": "https://localhost:8080/",
          "height": 35
        },
        "id": "a41ykEIDMiT5",
        "outputId": "d58e8428-1348-4ac2-937d-370de65ba8ed"
      },
      "execution_count": null,
      "outputs": [
        {
          "output_type": "execute_result",
          "data": {
            "text/plain": [
              "'Hello'"
            ],
            "application/vnd.google.colaboratory.intrinsic+json": {
              "type": "string"
            }
          },
          "metadata": {},
          "execution_count": 16
        }
      ]
    },
    {
      "cell_type": "code",
      "source": [
        "str.capitalize(\"hello\") # es equivalente"
      ],
      "metadata": {
        "colab": {
          "base_uri": "https://localhost:8080/",
          "height": 35
        },
        "id": "Hu8lkeEtrh8n",
        "outputId": "e9647ef5-67de-4ce9-c9b0-ae7548dfaa65"
      },
      "execution_count": null,
      "outputs": [
        {
          "output_type": "execute_result",
          "data": {
            "text/plain": [
              "'Hello'"
            ],
            "application/vnd.google.colaboratory.intrinsic+json": {
              "type": "string"
            }
          },
          "metadata": {},
          "execution_count": 15
        }
      ]
    },
    {
      "cell_type": "code",
      "source": [
        "# Convierte en mayúscula y minúscula\n",
        "\"89fdsHJFjl43FD92\".upper() #.lower()"
      ],
      "metadata": {
        "colab": {
          "base_uri": "https://localhost:8080/",
          "height": 35
        },
        "id": "wDpszzieMy98",
        "outputId": "dba6b971-3d8a-40c4-d7a0-fcb0dbdaee33"
      },
      "execution_count": null,
      "outputs": [
        {
          "output_type": "execute_result",
          "data": {
            "text/plain": [
              "'89FDSHJFJL43FD92'"
            ],
            "application/vnd.google.colaboratory.intrinsic+json": {
              "type": "string"
            }
          },
          "metadata": {},
          "execution_count": 9
        }
      ]
    },
    {
      "cell_type": "code",
      "source": [
        "# Une una lista de cadenas mediante otra cadena \n",
        "\"...\".join([\"A\", \"B\", \"C\"])"
      ],
      "metadata": {
        "colab": {
          "base_uri": "https://localhost:8080/",
          "height": 35
        },
        "id": "kNrXtQg6ND2J",
        "outputId": "e624d5e1-f6b3-415c-958e-1bb92a138bb0"
      },
      "execution_count": null,
      "outputs": [
        {
          "output_type": "execute_result",
          "data": {
            "text/plain": [
              "'A...B...C'"
            ],
            "application/vnd.google.colaboratory.intrinsic+json": {
              "type": "string"
            }
          },
          "metadata": {},
          "execution_count": 10
        }
      ]
    },
    {
      "cell_type": "code",
      "source": [
        "# Separa una cadena en una lista de cadenas \n",
        "\"Universidad de Sevilla\".split(\" \")"
      ],
      "metadata": {
        "colab": {
          "base_uri": "https://localhost:8080/"
        },
        "id": "92nVckeZNddU",
        "outputId": "88c80450-0b40-4488-de75-15f7a8d1c1b5"
      },
      "execution_count": null,
      "outputs": [
        {
          "output_type": "execute_result",
          "data": {
            "text/plain": [
              "['Universidad', 'de', 'Sevilla']"
            ]
          },
          "metadata": {},
          "execution_count": 11
        }
      ]
    },
    {
      "cell_type": "code",
      "source": [
        "# reemplaza una parte de una cadena por otra\n",
        "\"Facultad de Física\".replace(\"Física\", \"Matemáticas\")"
      ],
      "metadata": {
        "colab": {
          "base_uri": "https://localhost:8080/",
          "height": 35
        },
        "id": "47Xe7YMXNq39",
        "outputId": "fc7051fb-7e4c-4a52-e884-df387d6537fa"
      },
      "execution_count": null,
      "outputs": [
        {
          "output_type": "execute_result",
          "data": {
            "text/plain": [
              "'Facultad de Matemáticas'"
            ],
            "application/vnd.google.colaboratory.intrinsic+json": {
              "type": "string"
            }
          },
          "metadata": {},
          "execution_count": 12
        }
      ]
    },
    {
      "cell_type": "markdown",
      "source": [
        "Muchas más funciones pueden encontrarse en la [documentación oficial](https://docs.python.org/3/library/stdtypes.html#string-methods)"
      ],
      "metadata": {
        "id": "FY0pCTsYTwXZ"
      }
    },
    {
      "cell_type": "markdown",
      "source": [
        "---\n",
        "## f-strings\n",
        "Las cadenas formateadas o *f-strings* nos permiten incrustar variables en una cadena con una sintaxis muy cómoda. Para definir una cadena mediante este método, escribimos una `f` justo antes de las comillas (ya sean simples, dobles o triples). Veámoslo con un ejemplo"
      ],
      "metadata": {
        "id": "UpJDG_T1OCvr"
      }
    },
    {
      "cell_type": "code",
      "source": [
        "nombre = \"Antonio\"\n",
        "edad = 45\n",
        "msg = f\"Me llamo {nombre} y tengo {edad} años\"\n",
        "print(msg)"
      ],
      "metadata": {
        "colab": {
          "base_uri": "https://localhost:8080/"
        },
        "id": "148S7AzoPgcv",
        "outputId": "81cdb53e-10a2-40cc-9957-43222e432649"
      },
      "execution_count": null,
      "outputs": [
        {
          "output_type": "stream",
          "name": "stdout",
          "text": [
            "Me llamo Antonio y tengo 45 años\n"
          ]
        }
      ]
    },
    {
      "cell_type": "markdown",
      "source": [
        "No solo podemos incluir variables si no expresiones que son directamente evaluadas"
      ],
      "metadata": {
        "id": "KZ5IvfiYPtxn"
      }
    },
    {
      "cell_type": "code",
      "source": [
        "x = 432\n",
        "y = 17\n",
        "msg = f\"El cociente de dividir {x} entre {y} vale {x % y}\"\n",
        "print(msg)"
      ],
      "metadata": {
        "colab": {
          "base_uri": "https://localhost:8080/"
        },
        "id": "mGtA6FO7Q1fS",
        "outputId": "03bda44a-6760-475d-997f-36b3d1cbd77b"
      },
      "execution_count": null,
      "outputs": [
        {
          "output_type": "stream",
          "name": "stdout",
          "text": [
            "El cociente de dividir 432 entre 17 vale 7\n"
          ]
        }
      ]
    },
    {
      "cell_type": "markdown",
      "source": [
        "Las cadenas formatedas no están disponibles en versiones de Python anteriores a la 3.6, en su lugar hay que usar la antigua sintaxis con la función `format`. Para mostrar un número concreto de decimales u otras opciones, existe la posibilidad de formatear las cadenas "
      ],
      "metadata": {
        "id": "n9xz29i0RIBI"
      }
    },
    {
      "cell_type": "code",
      "source": [
        "from math import pi\n",
        "print(f\"El número 𝜋 con 7 decimales: {pi:0.7f}\")"
      ],
      "metadata": {
        "id": "EQkkeElGf4HN",
        "outputId": "720d3b83-9a97-416a-f72e-d5e80ea0c295",
        "colab": {
          "base_uri": "https://localhost:8080/"
        }
      },
      "execution_count": null,
      "outputs": [
        {
          "output_type": "stream",
          "name": "stdout",
          "text": [
            "El número 𝜋 con 7 decimales: 3.1415927\n"
          ]
        }
      ]
    },
    {
      "cell_type": "markdown",
      "source": [
        ":::{exercise}\n",
        ":label: strings-split\n",
        "\n",
        "¿En qué se diferencian las funciones `split` y `rsplit`?\n",
        "\n",
        ":::"
      ],
      "metadata": {
        "id": "NDGy8fEFRVWz"
      }
    },
    {
      "cell_type": "code",
      "source": [
        "?str.rsplit # según la ayuda, rsplit trabaja de atrás a adelante\n",
        "?str.split"
      ],
      "metadata": {
        "id": "mi2Fit3AsYNT"
      },
      "execution_count": null,
      "outputs": []
    },
    {
      "cell_type": "code",
      "source": [
        "print(\"Vamos a la calle\".split(\" \",1))\n",
        "print(\"Vamos a la calle\".rsplit(\" \",1))"
      ],
      "metadata": {
        "colab": {
          "base_uri": "https://localhost:8080/"
        },
        "id": "zifPYMggu_Y2",
        "outputId": "e2aa3211-3af7-49b3-8b3b-d7649198772a"
      },
      "execution_count": null,
      "outputs": [
        {
          "output_type": "stream",
          "name": "stdout",
          "text": [
            "['Vamos', 'a la calle']\n",
            "['Vamos a la', 'calle']\n"
          ]
        }
      ]
    },
    {
      "cell_type": "markdown",
      "source": [
        ":::{exercise}\n",
        ":label: strings-scape\n",
        "\n",
        "Considera las siguientes cadenas \n",
        "\n",
        "\n",
        "```\n",
        "x = \"foo\\nbar\"\n",
        "y = \"\"\"\n",
        "foo\n",
        "bar\n",
        "\"\"\"\n",
        "```\n",
        "\n",
        "¿Se tiene que `x == y`? ¿Por qué?\n",
        "\n",
        ":::"
      ],
      "metadata": {
        "id": "0OsX4BYWUVTP"
      }
    },
    {
      "cell_type": "code",
      "source": [
        "x= \"foo\\nbar\"\n",
        "y=\"\"\"\n",
        "foo\n",
        "bar\n",
        "\"\"\"\n",
        "x==y"
      ],
      "metadata": {
        "colab": {
          "base_uri": "https://localhost:8080/"
        },
        "id": "IWEcCb5qtCeK",
        "outputId": "d32d8127-265d-4c08-f29a-31edb8fefefd"
      },
      "execution_count": null,
      "outputs": [
        {
          "output_type": "execute_result",
          "data": {
            "text/plain": [
              "False"
            ]
          },
          "metadata": {},
          "execution_count": 35
        }
      ]
    },
    {
      "cell_type": "code",
      "source": [
        "z=\"\"\"foo\n",
        "bar\"\"\"\n",
        "x==z"
      ],
      "metadata": {
        "colab": {
          "base_uri": "https://localhost:8080/"
        },
        "id": "OqgGKH0Xthta",
        "outputId": "f21a4fc2-5e43-4fee-ae07-4999e6b00a5b"
      },
      "execution_count": null,
      "outputs": [
        {
          "output_type": "execute_result",
          "data": {
            "text/plain": [
              "True"
            ]
          },
          "metadata": {},
          "execution_count": 39
        }
      ]
    },
    {
      "cell_type": "code",
      "source": [
        "print(repr(y)) # vemos que la y tiene saltos de líneas al principio y final\n",
        "print(repr(x))\n",
        "print(repr(z))"
      ],
      "metadata": {
        "colab": {
          "base_uri": "https://localhost:8080/"
        },
        "id": "twESXfwStKpj",
        "outputId": "d266958e-0477-43c0-c264-ba97411955e7"
      },
      "execution_count": null,
      "outputs": [
        {
          "output_type": "stream",
          "name": "stdout",
          "text": [
            "'\\nfoo\\nbar\\n'\n",
            "'foo\\nbar'\n",
            "'foo\\nbar'\n"
          ]
        }
      ]
    },
    {
      "cell_type": "markdown",
      "source": [
        ":::{exercise}\n",
        ":label: strings-check-name\n",
        "\n",
        "Utilizando la variable `ascii_lowercase` del módulo `string`, escribe una cadena formateada que indique si tu nombre contiene la decimosegunda letra del abecedario.\n",
        "\n",
        ":::"
      ],
      "metadata": {
        "id": "hRULYfcPVB_D"
      }
    },
    {
      "cell_type": "code",
      "source": [
        "import string\n",
        "from string import ascii_lowercase\n",
        "\n",
        "letra = ascii_lowercase[11]\n",
        "name = \"Magdalena\"\n",
        "cond = letra in name\n",
        "\n",
        "msg = f\"\"\" ¿{name} contiene la letra {letra}? {cond}\"\"\"\n",
        "msg"
      ],
      "metadata": {
        "colab": {
          "base_uri": "https://localhost:8080/",
          "height": 35
        },
        "id": "sHil_GVattNo",
        "outputId": "97afc2f9-ab95-4611-97ae-19b1378528b5"
      },
      "execution_count": null,
      "outputs": [
        {
          "output_type": "execute_result",
          "data": {
            "text/plain": [
              "' ¿Magdalena contiene la letra l? True'"
            ],
            "application/vnd.google.colaboratory.intrinsic+json": {
              "type": "string"
            }
          },
          "metadata": {},
          "execution_count": 57
        }
      ]
    }
  ],
  "metadata": {
    "kernelspec": {
      "display_name": "Python 3.9.1 64-bit",
      "language": "python",
      "name": "python3"
    },
    "language_info": {
      "name": "python",
      "version": "3.9.1"
    },
    "orig_nbformat": 4,
    "vscode": {
      "interpreter": {
        "hash": "397704579725e15f5c7cb49fe5f0341eb7531c82d19f2c29d197e8b64ab5776b"
      }
    },
    "colab": {
      "provenance": [],
      "collapsed_sections": [],
      "include_colab_link": true
    }
  },
  "nbformat": 4,
  "nbformat_minor": 0
}
{
  "cells": [
    {
      "cell_type": "markdown",
      "metadata": {
        "id": "view-in-github",
        "colab_type": "text"
      },
      "source": [
        "<a href=\"https://colab.research.google.com/github/magjanvaz/curso-python-us/blob/main/notebooks/introduction-python/control-flow.ipynb\" target=\"_parent\"><img src=\"https://colab.research.google.com/assets/colab-badge.svg\" alt=\"Open In Colab\"/></a>"
      ]
    },
    {
      "cell_type": "markdown",
      "metadata": {
        "id": "SVprBvD0txHB"
      },
      "source": [
        "# Estructuras de control\n",
        "\n",
        "Hasta ahora, el código que hemos escrito se ejecuta de forma secuencial y lineal, pero normalmente nos interesará introducir un **control del flujo** para crear estructuras que nos permiten introducir una lógica que haga nuestro código más útil. Para ello en esta sección y las siguientes, vamos a ver \n",
        "- bloques de tipo if, elif, else\n",
        "- bucles tipo for y while \n",
        "- funciones \n",
        "- clases\n",
        "\n",
        "Antes de ello, es importante notar que **Python hace uso de la indentación para definir el alcance** de un fragmento de nuestro programa. Mientras que otros programas utilizan corchetes y delimitadores, en Python utilizamos indentación para definir bucles, funciones, clases etc. \n",
        "\n",
        "> En Python, uno o más espacios en blanco son interpretados como una indentación. Lo que sí es fundamental es utilizar siempre el mismo número de espacios en blanco. \n",
        "\n",
        "Por ejemplo \n",
        "\n",
        "Buena indentación ✅\n",
        "```\n",
        "if True:\n",
        "    x = 1  # 4 espacios\n",
        "    y = 2  # 4 espacios\n",
        "```\n",
        "Mal ❌\n",
        "```\n",
        "def my_func(x):\n",
        "    x = x + 1  \n",
        "       y = 3   \n",
        "    z = x + y  \n",
        "    return z \n",
        "\n",
        "# Debemos usar siempre el mismo número de espacios\n",
        "if True:\n",
        "    x = 3  \n",
        "    y = 2  \n",
        "else:\n",
        "  x = 2  \n",
        "  y = 1    \n",
        "```"
      ]
    },
    {
      "cell_type": "markdown",
      "metadata": {
        "id": "isXU2r28txHE"
      },
      "source": [
        "Dicho esto, vamos a empezar viendo las primeras estructuras de control, los bloques condicionales. "
      ]
    },
    {
      "cell_type": "markdown",
      "metadata": {
        "id": "Svy6SncXzAOh"
      },
      "source": [
        "---\n",
        "## Bloques condicionales\n",
        "\n",
        "Los bloques condicionales nos permiten ejecutar partes de nuestro código en función de si ciertas condiciones se cumplen o no. Para definir estos bloques, hacemos uso de la palabra reservada `if` seguida de un booleano o una expresión cuyo resultado sea un booleano, aunque tmabién se aceptan otros tipos. Si queremos añadir una parte que se ejecute si la condición no es cierta, añadimos un `else`. Por ejemplo, en la siguiente celdilla elevamos al cuadrado un número si es negativo o al cubo si es positivo \n",
        "\n",
        "```\n",
        "if x < 0:\n",
        "    x = x**2\n",
        "else: \n",
        "    y = x**3\n",
        "```"
      ]
    },
    {
      "cell_type": "markdown",
      "metadata": {
        "id": "_Day-3eRzfA2"
      },
      "source": [
        "Para definir condiciones son útiles los operadores de comparación o pertenencia `<`, `<=`, `>`, `>=`, `==`, `!=`, `is`, `is not`, `in`, `not in`. Python nos permite anidar varias de estas operaciones como `x < y < z` (siempre se ejecutan las comprobaciones de izquierda a derecha).  "
      ]
    },
    {
      "cell_type": "markdown",
      "metadata": {
        "id": "5FEPUuq30fUW"
      },
      "source": [
        "Al igual que los booleanos se pueden interpretar como valores numéricos, otros tipos en Python pueden valorar condiciones. Por ejemplo, cuando hacemos la conversión `int` -> `bool`, todo entero distinto de cero será interpretado como `True` y 0 a `False`. Más generalmente, se interpretan como `False`\n",
        "- `None`\n",
        "- Ceros de cualquier tipo numérico: `0`, `0.0`, `0j`. \n",
        "- Secuencias vacías: `\"\"`, `[]`, `tuple()`, `np.array([])`. \n",
        "- Diccionarios y conjuntos vacios: `dict()`, `set()`\n",
        "\n",
        "Los tipos numéricos no nulos y las secuencias/colecciones no vacías de evalúan como `True` vía `bool`. "
      ]
    },
    {
      "cell_type": "code",
      "execution_count": 2,
      "metadata": {
        "colab": {
          "base_uri": "https://localhost:8080/"
        },
        "id": "1yZa_NZaAW7S",
        "outputId": "91f5d661-e02e-4ae1-98e5-af0d38118782"
      },
      "outputs": [
        {
          "output_type": "stream",
          "name": "stdout",
          "text": [
            "foo\n"
          ]
        }
      ],
      "source": [
        "if not set(): \n",
        "    print(\"foo\")\n",
        "# queremos que \"not set()\" sea un bool para que el if sepa si hacerlo o no\n",
        "# las cosas vacías por defecto se toman como false, entonces not(false) lo ejecuta y hace el print"
      ]
    },
    {
      "cell_type": "markdown",
      "metadata": {
        "id": "jJcHpeH0AY2Z"
      },
      "source": [
        "Si por otro lado, queremos encadenar una serie de condiciones, podemos usar la estructura `elif`\n",
        "\n",
        "```\n",
        "if num_health > 80:\n",
        "    status = \"good\"\n",
        "elif num_health > 50:\n",
        "    status = \"okay\"\n",
        "elif num_health > 0:\n",
        "    status = \"danger\"\n",
        "else:\n",
        "    status = \"dead\"\n",
        "```"
      ]
    },
    {
      "cell_type": "markdown",
      "metadata": {
        "id": "T_KGzIfLBGP0"
      },
      "source": [
        ":::{exercise}\n",
        ":label: control-flow-conditionals\n",
        "\n",
        "Dada una lista `my_list` y el siguiente código \n",
        "\n",
        "```\n",
        "first_item = None\n",
        "\n",
        "if my_list:\n",
        "    first_item = my_list[0]\n",
        "```\n",
        "¿Cuánto vale `first_item` si `my_list` es vacía?\n",
        "\n",
        ":::"
      ]
    },
    {
      "cell_type": "code",
      "source": [
        "first_item = None\n",
        "\n",
        "my_list= []\n",
        "\n",
        "if my_list:\n",
        "    first_item = my_list[0]\n",
        "\n",
        "print(first_item)"
      ],
      "metadata": {
        "colab": {
          "base_uri": "https://localhost:8080/"
        },
        "id": "Ubk5gy07Y7BC",
        "outputId": "2ff2568b-9597-47fd-ea7c-1f319967ac05"
      },
      "execution_count": 5,
      "outputs": [
        {
          "output_type": "stream",
          "name": "stdout",
          "text": [
            "None\n"
          ]
        }
      ]
    },
    {
      "cell_type": "markdown",
      "metadata": {
        "id": "nAxWhN-wCQA_"
      },
      "source": [
        ":::{exercise}\n",
        ":label: control-flow-conditionals-2\n",
        "\n",
        "Supón que la variable `my_file` contiene una cadena con el nombre de algún archivo, la cual tiene como mucho un punto que separa el nombre del archivo y el de la extensión. Escribe instrucciones para extraer el nombre del archivo. Por ejemplo,\n",
        "\n",
        "- `code.py` -> `code`\n",
        "- `doc2.pdf` -> `doc2`\n",
        "- `foo` -> `foo`\n",
        "\n",
        ":::"
      ]
    },
    {
      "cell_type": "code",
      "source": [
        "my_file = \"asda.pdf\"\n",
        "\n",
        "if (\".\" in my_file) :\n",
        "  i = my_file.index(\".\")\n",
        "  my_name=my_file[:i]\n",
        "else :\n",
        "  my_name= my_file\n",
        "\n",
        "my_name2 = my_file.split(\".\")[0]\n",
        "## esta es una forma alternativa sin necesitar el bucle\n",
        "\n",
        "print(my_name)\n",
        "print(my_name2)"
      ],
      "metadata": {
        "colab": {
          "base_uri": "https://localhost:8080/"
        },
        "id": "OP-7R3PMZMFT",
        "outputId": "1ae6a7c6-5104-4ca5-ee48-65c91a679a2a"
      },
      "execution_count": 21,
      "outputs": [
        {
          "output_type": "stream",
          "name": "stdout",
          "text": [
            "asda\n",
            "asda\n"
          ]
        }
      ]
    },
    {
      "cell_type": "markdown",
      "metadata": {
        "id": "ipRpn9j6C5W4"
      },
      "source": [
        "### Declaraciones `if`-`else` en línea\n",
        "\n",
        "Como ya hemos visto en las expresiones de comprensión, Python soporta una sintaxis que nos permite escribir bloques `if`-`else` en la misma línea. Por ejemplo el siguiente código"
      ]
    },
    {
      "cell_type": "code",
      "execution_count": null,
      "metadata": {
        "id": "GNUYa97FFu95"
      },
      "outputs": [],
      "source": [
        "num = 2\n",
        "\n",
        "if num >= 0:\n",
        "    sign = \"positive\"\n",
        "else:\n",
        "    sign = \"negative\""
      ]
    },
    {
      "cell_type": "markdown",
      "metadata": {
        "id": "joZeAgxEGFMZ"
      },
      "source": [
        "es equivalente a "
      ]
    },
    {
      "cell_type": "code",
      "execution_count": null,
      "metadata": {
        "id": "7aKUFk2iGHsQ"
      },
      "outputs": [],
      "source": [
        "sign = \"positive\" if num >=0 else \"negative\""
      ]
    },
    {
      "cell_type": "markdown",
      "metadata": {
        "id": "9zOIcfJNGIoK"
      },
      "source": [
        ":::{exercise}\n",
        ":label: control-flow-conditionals-3\n",
        "\n",
        "Considera el siguiente bloque condicional \n",
        "\n",
        "```\n",
        "if x.isupper() and isinstance(x, str):\n",
        "    # haz algo en caso de que x sea mayúscula\n",
        "```\n",
        "\n",
        "¿Qué problema tiene? ¿Cómo podemos solucionarlo?\n",
        "\n",
        ":::"
      ]
    },
    {
      "cell_type": "code",
      "source": [
        "## habría que poner primero el isinstance para saber que vamos a evaluar el segundo sobre una string\n",
        "x= \"balblaba\"\n",
        "\n",
        "if isinstance(x, str) and x.isupper() :\n",
        "  print(\"correcto\")\n",
        "else: \n",
        "  print(\"falso\")\n",
        "\n",
        "x= \"BALSBLABSASLA\"\n",
        "\n",
        "if isinstance(x, str) and x.isupper() :\n",
        "  print(\"correcto\")\n",
        "else: \n",
        "  print(\"falso\")\n"
      ],
      "metadata": {
        "colab": {
          "base_uri": "https://localhost:8080/"
        },
        "id": "hVowd1C8bmw4",
        "outputId": "8e0300cc-ae44-4d68-ce40-67d8515218c7"
      },
      "execution_count": 27,
      "outputs": [
        {
          "output_type": "stream",
          "name": "stdout",
          "text": [
            "falso\n",
            "correcto\n"
          ]
        }
      ]
    },
    {
      "cell_type": "markdown",
      "metadata": {
        "id": "rDbhxOKwBmRx"
      },
      "source": [
        "---\n",
        "## Bucles `for` y `while`"
      ]
    },
    {
      "cell_type": "markdown",
      "metadata": {
        "id": "Ery4wGcFBtcW"
      },
      "source": [
        "Con un bucle `for`podemos iterar sobre una colección de items almacenados en un objeto **iterable**, ejecutando un bloque de código una vez por cada iteración. Por ejemplo el siguiente código devuelve los números positivos de una tupla"
      ]
    },
    {
      "cell_type": "code",
      "execution_count": 28,
      "metadata": {
        "id": "PisMFLA3CjvU"
      },
      "outputs": [],
      "source": [
        "total = 0\n",
        "for num in (-22.0, 3.5, 8.1, -10, 0.5):\n",
        "    if num > 0:\n",
        "        total = total + num"
      ]
    },
    {
      "cell_type": "markdown",
      "metadata": {
        "id": "vBD514iYCnE6"
      },
      "source": [
        "La sintaxis general para un `for` es la siguiente\n",
        "\n",
        "```\n",
        "for <var> in <iterable>:\n",
        "    block of code\n",
        "```\n",
        "\n",
        "donde `<var>` es un nombre de variable válido e `<iterable>` es cualquier objeto iterable. La expresion que define el bucle debe acabar en `:` y el cuerpo del bucle debe tener al menos un espacio en blanco de identación. El bucle `for` se comporta de la siguiente manera\n",
        "1. Pide el siguiente objeto del iterable. \n",
        "2. Si el iterable es vacío, sale fuera del cuerpo\n",
        "3. Si no, lo asigna a `<var>` y ejecuta el cuerpo del bucle. \n",
        "4. Vuelve al paso 1.\n"
      ]
    },
    {
      "cell_type": "markdown",
      "metadata": {
        "id": "aPMLi31sDP4f"
      },
      "source": [
        "Una observación importate es que la variable del bucle **persistirá** con el último valor que haya tomado después de que el mismo se haya ejecutado. Por ello, intenta escribir código que no dependa de la variable de iteración fuera del bucle for. Por ejemplo"
      ]
    },
    {
      "cell_type": "code",
      "execution_count": 29,
      "metadata": {
        "colab": {
          "base_uri": "https://localhost:8080/"
        },
        "id": "C70HSFb8EGbo",
        "outputId": "ad20dc7e-fa1e-41f1-ad84-b24b4af98eec"
      },
      "outputs": [
        {
          "output_type": "stream",
          "name": "stdout",
          "text": [
            "Foo\n",
            "Foo\n",
            "1\n"
          ]
        }
      ],
      "source": [
        "for x in [0, 1]:\n",
        "    print(\"Foo\")\n",
        "print(x)"
      ]
    },
    {
      "cell_type": "code",
      "execution_count": 30,
      "metadata": {
        "colab": {
          "base_uri": "https://localhost:8080/",
          "height": 36
        },
        "id": "YMyYzDLWFIOZ",
        "outputId": "7538b3fb-0bab-4c6f-de4a-fb7f2ef0bc28"
      },
      "outputs": [
        {
          "output_type": "execute_result",
          "data": {
            "text/plain": [
              "'abcdefghijklmnopqrstuvwxyz'"
            ],
            "application/vnd.google.colaboratory.intrinsic+json": {
              "type": "string"
            }
          },
          "metadata": {},
          "execution_count": 30
        }
      ],
      "source": [
        "import string\n",
        "string.ascii_lowercase"
      ]
    },
    {
      "cell_type": "markdown",
      "metadata": {
        "id": "bswTUTu6Epp7"
      },
      "source": [
        ":::{exercise}\n",
        ":label: control-flow-for\n",
        "\n",
        "Utilizando la cadena `ascii_lowercase` definida en el módulo `string`, escribe las letras consonantes del abecedario. \n",
        "\n",
        ":::"
      ]
    },
    {
      "cell_type": "code",
      "source": [
        "for a in list(string.ascii_lowercase):\n",
        "  if(a not in \"aeiou\"):\n",
        "    print(a)\n",
        "\n",
        "## forma alternativa\n",
        "for a in list(string.ascii_lowercase):\n",
        "  if(a not in  [\"a\",\"e\",\"i\",\"o\",\"u\"]):\n",
        "    print(a)"
      ],
      "metadata": {
        "colab": {
          "base_uri": "https://localhost:8080/"
        },
        "id": "xJkyhUQWdDRG",
        "outputId": "a3d58681-9e63-43d2-8cdc-b09c3144f2ed"
      },
      "execution_count": 33,
      "outputs": [
        {
          "output_type": "stream",
          "name": "stdout",
          "text": [
            "b\n",
            "c\n",
            "d\n",
            "f\n",
            "g\n",
            "h\n",
            "j\n",
            "k\n",
            "l\n",
            "m\n",
            "n\n",
            "p\n",
            "q\n",
            "r\n",
            "s\n",
            "t\n",
            "v\n",
            "w\n",
            "x\n",
            "y\n",
            "z\n",
            "b\n",
            "c\n",
            "d\n",
            "f\n",
            "g\n",
            "h\n",
            "j\n",
            "k\n",
            "l\n",
            "m\n",
            "n\n",
            "p\n",
            "q\n",
            "r\n",
            "s\n",
            "t\n",
            "v\n",
            "w\n",
            "x\n",
            "y\n",
            "z\n"
          ]
        }
      ]
    },
    {
      "cell_type": "markdown",
      "metadata": {
        "id": "kmyDHtuiFqPW"
      },
      "source": [
        "---\n",
        "## Bucles while\n",
        "Un bucle while nos permite repetir una serie de instrucciones **hasta que alguna condición no sea verdadera**. La estructura es la siguiente\n",
        "\n",
        "```\n",
        "while <condition>:\n",
        "    block of code\n",
        "```\n",
        "En este caso, el comportamiento viene dada por \n",
        "1. Se llamada a `bool(condition)` y se ejecuta el cuerpo en caso de sea `True`. En otro caso, el cuerpo no se ejecuta. \n",
        "2. Si el bloque se ha ejecutado, vuelta al paso 1.\n",
        "\n",
        "Por ejemplo\n"
      ]
    },
    {
      "cell_type": "code",
      "execution_count": 34,
      "metadata": {
        "colab": {
          "base_uri": "https://localhost:8080/"
        },
        "id": "IVfGb2xwGjSW",
        "outputId": "9818f283-a52f-4e20-c499-91c7732052f7"
      },
      "outputs": [
        {
          "output_type": "stream",
          "name": "stdout",
          "text": [
            "3\n"
          ]
        }
      ],
      "source": [
        "total = 0\n",
        "while total < 3:\n",
        "    total += 1  \n",
        "\n",
        "print(total)  "
      ]
    },
    {
      "cell_type": "markdown",
      "metadata": {
        "id": "Z74zEq9WGpB-"
      },
      "source": [
        "Notemos el valor final de la variable `total`. \n",
        "\n",
        "> Si alguna vez ejecutas por error un bucle `while` infito, puedes interrumpir o reiniciar el kernel para salir o si estás ejecutando desde una terminal, pulsando `Ctrl + C`. "
      ]
    },
    {
      "cell_type": "markdown",
      "metadata": {
        "id": "7cOhOCV2HVTd"
      },
      "source": [
        ":::{exercise}\n",
        ":label: control-flow-while\n",
        "\n",
        "Dada una lista `x` de números no negativos de longitud estrictamente positiva, añade a la lista la suma de la misma hasta que dicha suma sea mayor o igual a 100. Utiliza la función `sum`. \n",
        "\n",
        ":::"
      ]
    },
    {
      "cell_type": "code",
      "source": [
        "x=[1,5,3,2,3]\n",
        "\n",
        "while sum(x)<100:\n",
        "  print(x)\n",
        "  x.append(sum(x))\n",
        "\n",
        "print(x)\n",
        "print(sum(x))\n"
      ],
      "metadata": {
        "colab": {
          "base_uri": "https://localhost:8080/"
        },
        "id": "-OhV2qmUefe5",
        "outputId": "00572aa5-7695-4592-dce2-5298f6e9e985"
      },
      "execution_count": 45,
      "outputs": [
        {
          "output_type": "stream",
          "name": "stdout",
          "text": [
            "[1, 5, 3, 2, 3]\n",
            "[1, 5, 3, 2, 3, 14]\n",
            "[1, 5, 3, 2, 3, 14, 28]\n",
            "[1, 5, 3, 2, 3, 14, 28, 56]\n",
            "112\n"
          ]
        }
      ]
    },
    {
      "cell_type": "markdown",
      "metadata": {
        "id": "2a3kYGylHHWH"
      },
      "source": [
        "---\n",
        "## `break`, `continue` y `else`\n",
        "\n"
      ]
    },
    {
      "cell_type": "markdown",
      "metadata": {
        "id": "wA1JKMJvIAhG"
      },
      "source": [
        "Ahora vamos a ver algunos comandos que nos permitirán personalizar el comportamiento de nuestros bucles. Los comandos `continue` y `break` se utilizan en el cuerpo de los bucles `for` y `while`, en concreto \n",
        "\n",
        "- Al encontrar `break`, automáticamente salimos del bucle en cuestión. \n",
        "- Si utilizamos `continue`, saltamos a la siguiente iteración del mismo. \n",
        "\n",
        "Por ejemplo"
      ]
    },
    {
      "cell_type": "code",
      "execution_count": 46,
      "metadata": {
        "colab": {
          "base_uri": "https://localhost:8080/"
        },
        "id": "gtnd6d0ZIy7q",
        "outputId": "5f6037fb-6afc-4e10-fe44-6667e79b2715"
      },
      "outputs": [
        {
          "output_type": "stream",
          "name": "stdout",
          "text": [
            "1  ...next iteration\n",
            "2  ...next iteration\n",
            "3  ...break!\n"
          ]
        }
      ],
      "source": [
        "for item in [1, 2, 3, 4, 5]:\n",
        "    if item == 3:\n",
        "        print(item, \" ...break!\")\n",
        "        break\n",
        "    print(item, \" ...next iteration\")"
      ]
    },
    {
      "cell_type": "code",
      "execution_count": 47,
      "metadata": {
        "colab": {
          "base_uri": "https://localhost:8080/"
        },
        "id": "xggBvoZ-I33C",
        "outputId": "d0dc4c54-e663-40a0-b074-04e87114962b"
      },
      "outputs": [
        {
          "output_type": "stream",
          "name": "stdout",
          "text": [
            "1  ...next iteration\n",
            "2  ...next iteration\n",
            "3  ...continue!\n",
            "4  ...next iteration\n",
            "5  ...next iteration\n"
          ]
        }
      ],
      "source": [
        "for item in [1, 2, 3, 4, 5]:\n",
        "    if item == 3:\n",
        "        print(item, \" ...continue!\")\n",
        "        continue\n",
        "    print(item, \" ...next iteration\")"
      ]
    },
    {
      "cell_type": "markdown",
      "metadata": {
        "id": "TZtMZHNNI-Ap"
      },
      "source": [
        "Por otro lado, el comando `else` se utiliza en conjunción con `break` para ejecutar un bloque de código tras un bucle **siempre y cuando no se haya encontrado ningún `break`**."
      ]
    },
    {
      "cell_type": "code",
      "execution_count": 48,
      "metadata": {
        "colab": {
          "base_uri": "https://localhost:8080/"
        },
        "id": "K2m4A6RDJmjU",
        "outputId": "0bc00108-0522-497f-d537-24124bb101f1"
      },
      "outputs": [
        {
          "output_type": "stream",
          "name": "stdout",
          "text": [
            "2  ...next iteration\n",
            "4  ...next iteration\n",
            "6  ...next iteration\n",
            "foo\n"
          ]
        }
      ],
      "source": [
        "for item in [2, 4, 6]:\n",
        "    if item == 3:\n",
        "        print(item, \" ...break!\")\n",
        "        break\n",
        "    print(item, \" ...next iteration\")\n",
        "else:\n",
        "    print(\"foo\")"
      ]
    },
    {
      "cell_type": "code",
      "execution_count": 51,
      "metadata": {
        "colab": {
          "base_uri": "https://localhost:8080/"
        },
        "id": "ouV45y6KJ1to",
        "outputId": "d47923fe-a52c-4b32-bfe9-f4447cb23bdd"
      },
      "outputs": [
        {
          "output_type": "stream",
          "name": "stdout",
          "text": [
            "2  ...break!\n"
          ]
        }
      ],
      "source": [
        "for item in [2, 4, 6]:\n",
        "    if item == 2:\n",
        "        print(item, \" ...break!\")\n",
        "        break\n",
        "    print(item, \" ...next iteration\")\n",
        "else:\n",
        "    print(\"foo\")\n"
      ]
    },
    {
      "cell_type": "markdown",
      "metadata": {
        "id": "91GtV6IyJtPm"
      },
      "source": [
        ":::{exercise}\n",
        ":label: control-flow-break-continue\n",
        "\n",
        "Estudia cómo se comportan `break`, `continue` y `else` cuando tenemos varios bucles anidados. \n",
        "\n",
        ":::"
      ]
    },
    {
      "cell_type": "code",
      "source": [
        "for i in range(5):\n",
        "  print(i)\n",
        "  for j in range(i+1):\n",
        "    if j ==3:\n",
        "      print(j, \" es 3\")\n",
        "      break ##cuando llega a este finaliza el for del j, por tanto nunca lo evalúa en j=4 ni j=5\n",
        "    else:\n",
        "      print(j,\" no es 3\")\n",
        "      continue\n",
        "  else:\n",
        "    print(\"el bucle interno se finalizó\")\n",
        "else:\n",
        "  print(\" el bucle externo se finalizó\")"
      ],
      "metadata": {
        "colab": {
          "base_uri": "https://localhost:8080/"
        },
        "id": "DwmeXWzdhh2m",
        "outputId": "8748719c-ad4e-4f48-d4d7-56f219a97be0"
      },
      "execution_count": 58,
      "outputs": [
        {
          "output_type": "stream",
          "name": "stdout",
          "text": [
            "0\n",
            "0  no es 3\n",
            "el bucle interno se finalizó\n",
            "1\n",
            "0  no es 3\n",
            "1  no es 3\n",
            "el bucle interno se finalizó\n",
            "2\n",
            "0  no es 3\n",
            "1  no es 3\n",
            "2  no es 3\n",
            "el bucle interno se finalizó\n",
            "3\n",
            "0  no es 3\n",
            "1  no es 3\n",
            "2  no es 3\n",
            "3  es 3\n",
            "4\n",
            "0  no es 3\n",
            "1  no es 3\n",
            "2  no es 3\n",
            "3  es 3\n",
            " el bucle externo se finalizó\n"
          ]
        }
      ]
    },
    {
      "cell_type": "markdown",
      "metadata": {
        "id": "RFTkmiOaPVah"
      },
      "source": [
        "---\n",
        "## El módulo `itertools`\n",
        "\n",
        "En la librería estándar de Python podemos encontar una series de herramientas para trabajar con iterables en el módulo `itertools`. En concreto vamos a ver tres clases de iterables bastante útiles y que nos permiten optimizar nuestro código, algunas de ellas han aparecido ya en el curso. "
      ]
    },
    {
      "cell_type": "markdown",
      "metadata": {
        "id": "Jxdnb2WXQJHN"
      },
      "source": [
        "### `range`\n",
        "\n",
        "`range` nos permite crear objetos iterables (de hecho, secuencias) inmutables que ocupan poca memoria. A diferencia de crear una lista, donde es necesario guardar todos los objetos que existen en la lista, `range` solo guarda tres atributos: `start`, `stop` y `step`, pero tenemos métodos de tipo `slicing`, `len`, `sum` etc. La sintaxis es la siguiente\n",
        "\n",
        "```\n",
        "range(stop) # solo 1 argumento, asume que start = 0\n",
        "range(start, stop, step=1)\n",
        "```\n",
        "\n",
        "Es bastante común crear listas y tuplas a partir de objetos de tipo `range`. "
      ]
    },
    {
      "cell_type": "code",
      "execution_count": null,
      "metadata": {
        "colab": {
          "base_uri": "https://localhost:8080/"
        },
        "id": "0ovvyBYdVkba",
        "outputId": "6398e90b-0b95-4ed3-a1d7-89d83bfb364b"
      },
      "outputs": [
        {
          "name": "stdout",
          "output_type": "stream",
          "text": [
            "range(0, 20, 2)\n",
            "False\n",
            "True\n",
            "5\n",
            "10\n",
            "range(0, 10, 2)\n",
            "18\n"
          ]
        }
      ],
      "source": [
        "r = range(0, 20, 2)\n",
        "print(r)\n",
        "print(11 in r)\n",
        "print(10 in r)\n",
        "print(r.index(10))\n",
        "print(r[5])\n",
        "print(r[:5])\n",
        "print(r[-1])"
      ]
    },
    {
      "cell_type": "markdown",
      "metadata": {
        "id": "5w81KHPWbPsk"
      },
      "source": [
        ":::{exercise}\n",
        ":label: control-flow-range\n",
        "\n",
        "Da un ejemplo de dos objetos `r1` y `r2` tipo `range` que sean iguales vía `==` pero que no tengan los mismos valores de `start`, `stop` o `step`\n",
        "\n",
        ":::"
      ]
    },
    {
      "cell_type": "markdown",
      "metadata": {
        "id": "OwwxIyvhVwrb"
      },
      "source": [
        "### `enumerate`\n",
        "\n",
        "`enumerate` sirve para obtener un iterable de duplas a partir de un iterable. El primer elemento de la tupla es el índice y el segundo el item del objeto a iterar. "
      ]
    },
    {
      "cell_type": "code",
      "execution_count": 59,
      "metadata": {
        "colab": {
          "base_uri": "https://localhost:8080/"
        },
        "id": "3jJpKKNMWY9m",
        "outputId": "d6a37444-831c-48ce-9171-afa1953caeb0"
      },
      "outputs": [
        {
          "output_type": "execute_result",
          "data": {
            "text/plain": [
              "[(0, 'apple'), (1, 'banana'), (2, 'cat'), (3, 'dog')]"
            ]
          },
          "metadata": {},
          "execution_count": 59
        }
      ],
      "source": [
        "my_enum = enumerate([\"apple\", \"banana\", \"cat\", \"dog\"])\n",
        "\n",
        "list(my_enum)"
      ]
    },
    {
      "cell_type": "markdown",
      "metadata": {
        "id": "V6_REO_MWgWZ"
      },
      "source": [
        "### `zip`\n",
        "\n",
        "En este caso `zip` nos permite condensar varios iterables en uno solo, devolviendo un iterable de tuplas cuyas longitudes coinciden con el número de iterables *a comprimir*. "
      ]
    },
    {
      "cell_type": "code",
      "execution_count": 60,
      "metadata": {
        "colab": {
          "base_uri": "https://localhost:8080/"
        },
        "id": "LuCRpINHW4gl",
        "outputId": "bc20e172-885b-48bd-f80f-4d462ade11cb"
      },
      "outputs": [
        {
          "output_type": "execute_result",
          "data": {
            "text/plain": [
              "[('Angie', 90, 95), ('Brian', 82, 84), ('Cassie', 79, 72), ('David', 87, 91)]"
            ]
          },
          "metadata": {},
          "execution_count": 60
        }
      ],
      "source": [
        "names = [\"Angie\", \"Brian\", \"Cassie\", \"David\"]\n",
        "exam_1_scores = [90, 82, 79, 87]\n",
        "exam_2_scores = [95, 84, 72, 91]\n",
        "\n",
        "my_zip = zip(names, exam_1_scores, exam_2_scores)\n",
        "\n",
        "list(my_zip)"
      ]
    },
    {
      "cell_type": "markdown",
      "metadata": {
        "id": "iCIb_YiqXMXK"
      },
      "source": [
        "### `itertools.chain`\n",
        "\n",
        "El método `itertools.chain` nos permite concatenar varios iterables"
      ]
    },
    {
      "cell_type": "code",
      "execution_count": 61,
      "metadata": {
        "colab": {
          "base_uri": "https://localhost:8080/"
        },
        "id": "PeXeSrfVXWz9",
        "outputId": "a6f39e7c-bc05-4ee3-ede7-8c34532b539c"
      },
      "outputs": [
        {
          "output_type": "execute_result",
          "data": {
            "text/plain": [
              "<itertools.chain at 0x7f651bf60a50>"
            ]
          },
          "metadata": {},
          "execution_count": 61
        }
      ],
      "source": [
        "from itertools import chain\n",
        "\n",
        "gen_1 = range(0, 5, 2)\n",
        "gen_2 = (i**2 for i in range(3, 6))\n",
        "iter_3 = [\"moo\", \"cow\"]\n",
        "iter_4 = \"him\"\n",
        "\n",
        "chain(gen_1, gen_2, iter_3, iter_4)"
      ]
    },
    {
      "cell_type": "markdown",
      "metadata": {
        "id": "A3hBuCJ-Xikk"
      },
      "source": [
        "### `itertools.product`\n",
        "\n",
        "Nos permite generar todas las combinaciones posibles de varios iterables. Podemos evitar anidar varios `for` loops utilizando esta función. "
      ]
    },
    {
      "cell_type": "code",
      "execution_count": 62,
      "metadata": {
        "colab": {
          "base_uri": "https://localhost:8080/"
        },
        "id": "XB4-exEyX5jo",
        "outputId": "f3f50833-c323-4871-8faf-86767838a4e9"
      },
      "outputs": [
        {
          "output_type": "execute_result",
          "data": {
            "text/plain": [
              "[(0, 0), (0, 1), (0, 2), (1, 0), (1, 1), (1, 2)]"
            ]
          },
          "metadata": {},
          "execution_count": 62
        }
      ],
      "source": [
        "from itertools import product\n",
        "my_comb = product([0, 1], range(3))\n",
        "list(my_comb)"
      ]
    },
    {
      "cell_type": "markdown",
      "metadata": {
        "id": "vr_guMRuYl7N"
      },
      "source": [
        "Otros muchos métodos para trabajar con objetos iterables se pueden encontrar [en la documentación de itertools](https://docs.python.org/3/library/itertools.html)"
      ]
    },
    {
      "cell_type": "markdown",
      "metadata": {
        "id": "BjGKI2lcY2wG"
      },
      "source": [
        ":::{exercise}\n",
        ":label: control-flow-iterables\n",
        "\n",
        "Usa la función `itertools.combinations` para calcular cúantas combinaciones de 3 elementos sin repetición de las letras de `string.ascii_lowecase` tienen al menos 2 vocales. \n",
        "\n",
        ":::"
      ]
    },
    {
      "cell_type": "code",
      "source": [
        "from itertools import combinations\n",
        "\n",
        "list(combinations(string.ascii_lowercase,3))\n",
        "## esto no lo hizo, faltaría exigir que no haya repetición y buscar que tenga dos o más vocales"
      ],
      "metadata": {
        "colab": {
          "base_uri": "https://localhost:8080/"
        },
        "id": "F_b1jMKIrdlC",
        "outputId": "c0835adf-5f76-44b7-fd9f-2a66d12b33db"
      },
      "execution_count": 67,
      "outputs": [
        {
          "output_type": "execute_result",
          "data": {
            "text/plain": [
              "[('a', 'b', 'c'),\n",
              " ('a', 'b', 'd'),\n",
              " ('a', 'b', 'e'),\n",
              " ('a', 'b', 'f'),\n",
              " ('a', 'b', 'g'),\n",
              " ('a', 'b', 'h'),\n",
              " ('a', 'b', 'i'),\n",
              " ('a', 'b', 'j'),\n",
              " ('a', 'b', 'k'),\n",
              " ('a', 'b', 'l'),\n",
              " ('a', 'b', 'm'),\n",
              " ('a', 'b', 'n'),\n",
              " ('a', 'b', 'o'),\n",
              " ('a', 'b', 'p'),\n",
              " ('a', 'b', 'q'),\n",
              " ('a', 'b', 'r'),\n",
              " ('a', 'b', 's'),\n",
              " ('a', 'b', 't'),\n",
              " ('a', 'b', 'u'),\n",
              " ('a', 'b', 'v'),\n",
              " ('a', 'b', 'w'),\n",
              " ('a', 'b', 'x'),\n",
              " ('a', 'b', 'y'),\n",
              " ('a', 'b', 'z'),\n",
              " ('a', 'c', 'd'),\n",
              " ('a', 'c', 'e'),\n",
              " ('a', 'c', 'f'),\n",
              " ('a', 'c', 'g'),\n",
              " ('a', 'c', 'h'),\n",
              " ('a', 'c', 'i'),\n",
              " ('a', 'c', 'j'),\n",
              " ('a', 'c', 'k'),\n",
              " ('a', 'c', 'l'),\n",
              " ('a', 'c', 'm'),\n",
              " ('a', 'c', 'n'),\n",
              " ('a', 'c', 'o'),\n",
              " ('a', 'c', 'p'),\n",
              " ('a', 'c', 'q'),\n",
              " ('a', 'c', 'r'),\n",
              " ('a', 'c', 's'),\n",
              " ('a', 'c', 't'),\n",
              " ('a', 'c', 'u'),\n",
              " ('a', 'c', 'v'),\n",
              " ('a', 'c', 'w'),\n",
              " ('a', 'c', 'x'),\n",
              " ('a', 'c', 'y'),\n",
              " ('a', 'c', 'z'),\n",
              " ('a', 'd', 'e'),\n",
              " ('a', 'd', 'f'),\n",
              " ('a', 'd', 'g'),\n",
              " ('a', 'd', 'h'),\n",
              " ('a', 'd', 'i'),\n",
              " ('a', 'd', 'j'),\n",
              " ('a', 'd', 'k'),\n",
              " ('a', 'd', 'l'),\n",
              " ('a', 'd', 'm'),\n",
              " ('a', 'd', 'n'),\n",
              " ('a', 'd', 'o'),\n",
              " ('a', 'd', 'p'),\n",
              " ('a', 'd', 'q'),\n",
              " ('a', 'd', 'r'),\n",
              " ('a', 'd', 's'),\n",
              " ('a', 'd', 't'),\n",
              " ('a', 'd', 'u'),\n",
              " ('a', 'd', 'v'),\n",
              " ('a', 'd', 'w'),\n",
              " ('a', 'd', 'x'),\n",
              " ('a', 'd', 'y'),\n",
              " ('a', 'd', 'z'),\n",
              " ('a', 'e', 'f'),\n",
              " ('a', 'e', 'g'),\n",
              " ('a', 'e', 'h'),\n",
              " ('a', 'e', 'i'),\n",
              " ('a', 'e', 'j'),\n",
              " ('a', 'e', 'k'),\n",
              " ('a', 'e', 'l'),\n",
              " ('a', 'e', 'm'),\n",
              " ('a', 'e', 'n'),\n",
              " ('a', 'e', 'o'),\n",
              " ('a', 'e', 'p'),\n",
              " ('a', 'e', 'q'),\n",
              " ('a', 'e', 'r'),\n",
              " ('a', 'e', 's'),\n",
              " ('a', 'e', 't'),\n",
              " ('a', 'e', 'u'),\n",
              " ('a', 'e', 'v'),\n",
              " ('a', 'e', 'w'),\n",
              " ('a', 'e', 'x'),\n",
              " ('a', 'e', 'y'),\n",
              " ('a', 'e', 'z'),\n",
              " ('a', 'f', 'g'),\n",
              " ('a', 'f', 'h'),\n",
              " ('a', 'f', 'i'),\n",
              " ('a', 'f', 'j'),\n",
              " ('a', 'f', 'k'),\n",
              " ('a', 'f', 'l'),\n",
              " ('a', 'f', 'm'),\n",
              " ('a', 'f', 'n'),\n",
              " ('a', 'f', 'o'),\n",
              " ('a', 'f', 'p'),\n",
              " ('a', 'f', 'q'),\n",
              " ('a', 'f', 'r'),\n",
              " ('a', 'f', 's'),\n",
              " ('a', 'f', 't'),\n",
              " ('a', 'f', 'u'),\n",
              " ('a', 'f', 'v'),\n",
              " ('a', 'f', 'w'),\n",
              " ('a', 'f', 'x'),\n",
              " ('a', 'f', 'y'),\n",
              " ('a', 'f', 'z'),\n",
              " ('a', 'g', 'h'),\n",
              " ('a', 'g', 'i'),\n",
              " ('a', 'g', 'j'),\n",
              " ('a', 'g', 'k'),\n",
              " ('a', 'g', 'l'),\n",
              " ('a', 'g', 'm'),\n",
              " ('a', 'g', 'n'),\n",
              " ('a', 'g', 'o'),\n",
              " ('a', 'g', 'p'),\n",
              " ('a', 'g', 'q'),\n",
              " ('a', 'g', 'r'),\n",
              " ('a', 'g', 's'),\n",
              " ('a', 'g', 't'),\n",
              " ('a', 'g', 'u'),\n",
              " ('a', 'g', 'v'),\n",
              " ('a', 'g', 'w'),\n",
              " ('a', 'g', 'x'),\n",
              " ('a', 'g', 'y'),\n",
              " ('a', 'g', 'z'),\n",
              " ('a', 'h', 'i'),\n",
              " ('a', 'h', 'j'),\n",
              " ('a', 'h', 'k'),\n",
              " ('a', 'h', 'l'),\n",
              " ('a', 'h', 'm'),\n",
              " ('a', 'h', 'n'),\n",
              " ('a', 'h', 'o'),\n",
              " ('a', 'h', 'p'),\n",
              " ('a', 'h', 'q'),\n",
              " ('a', 'h', 'r'),\n",
              " ('a', 'h', 's'),\n",
              " ('a', 'h', 't'),\n",
              " ('a', 'h', 'u'),\n",
              " ('a', 'h', 'v'),\n",
              " ('a', 'h', 'w'),\n",
              " ('a', 'h', 'x'),\n",
              " ('a', 'h', 'y'),\n",
              " ('a', 'h', 'z'),\n",
              " ('a', 'i', 'j'),\n",
              " ('a', 'i', 'k'),\n",
              " ('a', 'i', 'l'),\n",
              " ('a', 'i', 'm'),\n",
              " ('a', 'i', 'n'),\n",
              " ('a', 'i', 'o'),\n",
              " ('a', 'i', 'p'),\n",
              " ('a', 'i', 'q'),\n",
              " ('a', 'i', 'r'),\n",
              " ('a', 'i', 's'),\n",
              " ('a', 'i', 't'),\n",
              " ('a', 'i', 'u'),\n",
              " ('a', 'i', 'v'),\n",
              " ('a', 'i', 'w'),\n",
              " ('a', 'i', 'x'),\n",
              " ('a', 'i', 'y'),\n",
              " ('a', 'i', 'z'),\n",
              " ('a', 'j', 'k'),\n",
              " ('a', 'j', 'l'),\n",
              " ('a', 'j', 'm'),\n",
              " ('a', 'j', 'n'),\n",
              " ('a', 'j', 'o'),\n",
              " ('a', 'j', 'p'),\n",
              " ('a', 'j', 'q'),\n",
              " ('a', 'j', 'r'),\n",
              " ('a', 'j', 's'),\n",
              " ('a', 'j', 't'),\n",
              " ('a', 'j', 'u'),\n",
              " ('a', 'j', 'v'),\n",
              " ('a', 'j', 'w'),\n",
              " ('a', 'j', 'x'),\n",
              " ('a', 'j', 'y'),\n",
              " ('a', 'j', 'z'),\n",
              " ('a', 'k', 'l'),\n",
              " ('a', 'k', 'm'),\n",
              " ('a', 'k', 'n'),\n",
              " ('a', 'k', 'o'),\n",
              " ('a', 'k', 'p'),\n",
              " ('a', 'k', 'q'),\n",
              " ('a', 'k', 'r'),\n",
              " ('a', 'k', 's'),\n",
              " ('a', 'k', 't'),\n",
              " ('a', 'k', 'u'),\n",
              " ('a', 'k', 'v'),\n",
              " ('a', 'k', 'w'),\n",
              " ('a', 'k', 'x'),\n",
              " ('a', 'k', 'y'),\n",
              " ('a', 'k', 'z'),\n",
              " ('a', 'l', 'm'),\n",
              " ('a', 'l', 'n'),\n",
              " ('a', 'l', 'o'),\n",
              " ('a', 'l', 'p'),\n",
              " ('a', 'l', 'q'),\n",
              " ('a', 'l', 'r'),\n",
              " ('a', 'l', 's'),\n",
              " ('a', 'l', 't'),\n",
              " ('a', 'l', 'u'),\n",
              " ('a', 'l', 'v'),\n",
              " ('a', 'l', 'w'),\n",
              " ('a', 'l', 'x'),\n",
              " ('a', 'l', 'y'),\n",
              " ('a', 'l', 'z'),\n",
              " ('a', 'm', 'n'),\n",
              " ('a', 'm', 'o'),\n",
              " ('a', 'm', 'p'),\n",
              " ('a', 'm', 'q'),\n",
              " ('a', 'm', 'r'),\n",
              " ('a', 'm', 's'),\n",
              " ('a', 'm', 't'),\n",
              " ('a', 'm', 'u'),\n",
              " ('a', 'm', 'v'),\n",
              " ('a', 'm', 'w'),\n",
              " ('a', 'm', 'x'),\n",
              " ('a', 'm', 'y'),\n",
              " ('a', 'm', 'z'),\n",
              " ('a', 'n', 'o'),\n",
              " ('a', 'n', 'p'),\n",
              " ('a', 'n', 'q'),\n",
              " ('a', 'n', 'r'),\n",
              " ('a', 'n', 's'),\n",
              " ('a', 'n', 't'),\n",
              " ('a', 'n', 'u'),\n",
              " ('a', 'n', 'v'),\n",
              " ('a', 'n', 'w'),\n",
              " ('a', 'n', 'x'),\n",
              " ('a', 'n', 'y'),\n",
              " ('a', 'n', 'z'),\n",
              " ('a', 'o', 'p'),\n",
              " ('a', 'o', 'q'),\n",
              " ('a', 'o', 'r'),\n",
              " ('a', 'o', 's'),\n",
              " ('a', 'o', 't'),\n",
              " ('a', 'o', 'u'),\n",
              " ('a', 'o', 'v'),\n",
              " ('a', 'o', 'w'),\n",
              " ('a', 'o', 'x'),\n",
              " ('a', 'o', 'y'),\n",
              " ('a', 'o', 'z'),\n",
              " ('a', 'p', 'q'),\n",
              " ('a', 'p', 'r'),\n",
              " ('a', 'p', 's'),\n",
              " ('a', 'p', 't'),\n",
              " ('a', 'p', 'u'),\n",
              " ('a', 'p', 'v'),\n",
              " ('a', 'p', 'w'),\n",
              " ('a', 'p', 'x'),\n",
              " ('a', 'p', 'y'),\n",
              " ('a', 'p', 'z'),\n",
              " ('a', 'q', 'r'),\n",
              " ('a', 'q', 's'),\n",
              " ('a', 'q', 't'),\n",
              " ('a', 'q', 'u'),\n",
              " ('a', 'q', 'v'),\n",
              " ('a', 'q', 'w'),\n",
              " ('a', 'q', 'x'),\n",
              " ('a', 'q', 'y'),\n",
              " ('a', 'q', 'z'),\n",
              " ('a', 'r', 's'),\n",
              " ('a', 'r', 't'),\n",
              " ('a', 'r', 'u'),\n",
              " ('a', 'r', 'v'),\n",
              " ('a', 'r', 'w'),\n",
              " ('a', 'r', 'x'),\n",
              " ('a', 'r', 'y'),\n",
              " ('a', 'r', 'z'),\n",
              " ('a', 's', 't'),\n",
              " ('a', 's', 'u'),\n",
              " ('a', 's', 'v'),\n",
              " ('a', 's', 'w'),\n",
              " ('a', 's', 'x'),\n",
              " ('a', 's', 'y'),\n",
              " ('a', 's', 'z'),\n",
              " ('a', 't', 'u'),\n",
              " ('a', 't', 'v'),\n",
              " ('a', 't', 'w'),\n",
              " ('a', 't', 'x'),\n",
              " ('a', 't', 'y'),\n",
              " ('a', 't', 'z'),\n",
              " ('a', 'u', 'v'),\n",
              " ('a', 'u', 'w'),\n",
              " ('a', 'u', 'x'),\n",
              " ('a', 'u', 'y'),\n",
              " ('a', 'u', 'z'),\n",
              " ('a', 'v', 'w'),\n",
              " ('a', 'v', 'x'),\n",
              " ('a', 'v', 'y'),\n",
              " ('a', 'v', 'z'),\n",
              " ('a', 'w', 'x'),\n",
              " ('a', 'w', 'y'),\n",
              " ('a', 'w', 'z'),\n",
              " ('a', 'x', 'y'),\n",
              " ('a', 'x', 'z'),\n",
              " ('a', 'y', 'z'),\n",
              " ('b', 'c', 'd'),\n",
              " ('b', 'c', 'e'),\n",
              " ('b', 'c', 'f'),\n",
              " ('b', 'c', 'g'),\n",
              " ('b', 'c', 'h'),\n",
              " ('b', 'c', 'i'),\n",
              " ('b', 'c', 'j'),\n",
              " ('b', 'c', 'k'),\n",
              " ('b', 'c', 'l'),\n",
              " ('b', 'c', 'm'),\n",
              " ('b', 'c', 'n'),\n",
              " ('b', 'c', 'o'),\n",
              " ('b', 'c', 'p'),\n",
              " ('b', 'c', 'q'),\n",
              " ('b', 'c', 'r'),\n",
              " ('b', 'c', 's'),\n",
              " ('b', 'c', 't'),\n",
              " ('b', 'c', 'u'),\n",
              " ('b', 'c', 'v'),\n",
              " ('b', 'c', 'w'),\n",
              " ('b', 'c', 'x'),\n",
              " ('b', 'c', 'y'),\n",
              " ('b', 'c', 'z'),\n",
              " ('b', 'd', 'e'),\n",
              " ('b', 'd', 'f'),\n",
              " ('b', 'd', 'g'),\n",
              " ('b', 'd', 'h'),\n",
              " ('b', 'd', 'i'),\n",
              " ('b', 'd', 'j'),\n",
              " ('b', 'd', 'k'),\n",
              " ('b', 'd', 'l'),\n",
              " ('b', 'd', 'm'),\n",
              " ('b', 'd', 'n'),\n",
              " ('b', 'd', 'o'),\n",
              " ('b', 'd', 'p'),\n",
              " ('b', 'd', 'q'),\n",
              " ('b', 'd', 'r'),\n",
              " ('b', 'd', 's'),\n",
              " ('b', 'd', 't'),\n",
              " ('b', 'd', 'u'),\n",
              " ('b', 'd', 'v'),\n",
              " ('b', 'd', 'w'),\n",
              " ('b', 'd', 'x'),\n",
              " ('b', 'd', 'y'),\n",
              " ('b', 'd', 'z'),\n",
              " ('b', 'e', 'f'),\n",
              " ('b', 'e', 'g'),\n",
              " ('b', 'e', 'h'),\n",
              " ('b', 'e', 'i'),\n",
              " ('b', 'e', 'j'),\n",
              " ('b', 'e', 'k'),\n",
              " ('b', 'e', 'l'),\n",
              " ('b', 'e', 'm'),\n",
              " ('b', 'e', 'n'),\n",
              " ('b', 'e', 'o'),\n",
              " ('b', 'e', 'p'),\n",
              " ('b', 'e', 'q'),\n",
              " ('b', 'e', 'r'),\n",
              " ('b', 'e', 's'),\n",
              " ('b', 'e', 't'),\n",
              " ('b', 'e', 'u'),\n",
              " ('b', 'e', 'v'),\n",
              " ('b', 'e', 'w'),\n",
              " ('b', 'e', 'x'),\n",
              " ('b', 'e', 'y'),\n",
              " ('b', 'e', 'z'),\n",
              " ('b', 'f', 'g'),\n",
              " ('b', 'f', 'h'),\n",
              " ('b', 'f', 'i'),\n",
              " ('b', 'f', 'j'),\n",
              " ('b', 'f', 'k'),\n",
              " ('b', 'f', 'l'),\n",
              " ('b', 'f', 'm'),\n",
              " ('b', 'f', 'n'),\n",
              " ('b', 'f', 'o'),\n",
              " ('b', 'f', 'p'),\n",
              " ('b', 'f', 'q'),\n",
              " ('b', 'f', 'r'),\n",
              " ('b', 'f', 's'),\n",
              " ('b', 'f', 't'),\n",
              " ('b', 'f', 'u'),\n",
              " ('b', 'f', 'v'),\n",
              " ('b', 'f', 'w'),\n",
              " ('b', 'f', 'x'),\n",
              " ('b', 'f', 'y'),\n",
              " ('b', 'f', 'z'),\n",
              " ('b', 'g', 'h'),\n",
              " ('b', 'g', 'i'),\n",
              " ('b', 'g', 'j'),\n",
              " ('b', 'g', 'k'),\n",
              " ('b', 'g', 'l'),\n",
              " ('b', 'g', 'm'),\n",
              " ('b', 'g', 'n'),\n",
              " ('b', 'g', 'o'),\n",
              " ('b', 'g', 'p'),\n",
              " ('b', 'g', 'q'),\n",
              " ('b', 'g', 'r'),\n",
              " ('b', 'g', 's'),\n",
              " ('b', 'g', 't'),\n",
              " ('b', 'g', 'u'),\n",
              " ('b', 'g', 'v'),\n",
              " ('b', 'g', 'w'),\n",
              " ('b', 'g', 'x'),\n",
              " ('b', 'g', 'y'),\n",
              " ('b', 'g', 'z'),\n",
              " ('b', 'h', 'i'),\n",
              " ('b', 'h', 'j'),\n",
              " ('b', 'h', 'k'),\n",
              " ('b', 'h', 'l'),\n",
              " ('b', 'h', 'm'),\n",
              " ('b', 'h', 'n'),\n",
              " ('b', 'h', 'o'),\n",
              " ('b', 'h', 'p'),\n",
              " ('b', 'h', 'q'),\n",
              " ('b', 'h', 'r'),\n",
              " ('b', 'h', 's'),\n",
              " ('b', 'h', 't'),\n",
              " ('b', 'h', 'u'),\n",
              " ('b', 'h', 'v'),\n",
              " ('b', 'h', 'w'),\n",
              " ('b', 'h', 'x'),\n",
              " ('b', 'h', 'y'),\n",
              " ('b', 'h', 'z'),\n",
              " ('b', 'i', 'j'),\n",
              " ('b', 'i', 'k'),\n",
              " ('b', 'i', 'l'),\n",
              " ('b', 'i', 'm'),\n",
              " ('b', 'i', 'n'),\n",
              " ('b', 'i', 'o'),\n",
              " ('b', 'i', 'p'),\n",
              " ('b', 'i', 'q'),\n",
              " ('b', 'i', 'r'),\n",
              " ('b', 'i', 's'),\n",
              " ('b', 'i', 't'),\n",
              " ('b', 'i', 'u'),\n",
              " ('b', 'i', 'v'),\n",
              " ('b', 'i', 'w'),\n",
              " ('b', 'i', 'x'),\n",
              " ('b', 'i', 'y'),\n",
              " ('b', 'i', 'z'),\n",
              " ('b', 'j', 'k'),\n",
              " ('b', 'j', 'l'),\n",
              " ('b', 'j', 'm'),\n",
              " ('b', 'j', 'n'),\n",
              " ('b', 'j', 'o'),\n",
              " ('b', 'j', 'p'),\n",
              " ('b', 'j', 'q'),\n",
              " ('b', 'j', 'r'),\n",
              " ('b', 'j', 's'),\n",
              " ('b', 'j', 't'),\n",
              " ('b', 'j', 'u'),\n",
              " ('b', 'j', 'v'),\n",
              " ('b', 'j', 'w'),\n",
              " ('b', 'j', 'x'),\n",
              " ('b', 'j', 'y'),\n",
              " ('b', 'j', 'z'),\n",
              " ('b', 'k', 'l'),\n",
              " ('b', 'k', 'm'),\n",
              " ('b', 'k', 'n'),\n",
              " ('b', 'k', 'o'),\n",
              " ('b', 'k', 'p'),\n",
              " ('b', 'k', 'q'),\n",
              " ('b', 'k', 'r'),\n",
              " ('b', 'k', 's'),\n",
              " ('b', 'k', 't'),\n",
              " ('b', 'k', 'u'),\n",
              " ('b', 'k', 'v'),\n",
              " ('b', 'k', 'w'),\n",
              " ('b', 'k', 'x'),\n",
              " ('b', 'k', 'y'),\n",
              " ('b', 'k', 'z'),\n",
              " ('b', 'l', 'm'),\n",
              " ('b', 'l', 'n'),\n",
              " ('b', 'l', 'o'),\n",
              " ('b', 'l', 'p'),\n",
              " ('b', 'l', 'q'),\n",
              " ('b', 'l', 'r'),\n",
              " ('b', 'l', 's'),\n",
              " ('b', 'l', 't'),\n",
              " ('b', 'l', 'u'),\n",
              " ('b', 'l', 'v'),\n",
              " ('b', 'l', 'w'),\n",
              " ('b', 'l', 'x'),\n",
              " ('b', 'l', 'y'),\n",
              " ('b', 'l', 'z'),\n",
              " ('b', 'm', 'n'),\n",
              " ('b', 'm', 'o'),\n",
              " ('b', 'm', 'p'),\n",
              " ('b', 'm', 'q'),\n",
              " ('b', 'm', 'r'),\n",
              " ('b', 'm', 's'),\n",
              " ('b', 'm', 't'),\n",
              " ('b', 'm', 'u'),\n",
              " ('b', 'm', 'v'),\n",
              " ('b', 'm', 'w'),\n",
              " ('b', 'm', 'x'),\n",
              " ('b', 'm', 'y'),\n",
              " ('b', 'm', 'z'),\n",
              " ('b', 'n', 'o'),\n",
              " ('b', 'n', 'p'),\n",
              " ('b', 'n', 'q'),\n",
              " ('b', 'n', 'r'),\n",
              " ('b', 'n', 's'),\n",
              " ('b', 'n', 't'),\n",
              " ('b', 'n', 'u'),\n",
              " ('b', 'n', 'v'),\n",
              " ('b', 'n', 'w'),\n",
              " ('b', 'n', 'x'),\n",
              " ('b', 'n', 'y'),\n",
              " ('b', 'n', 'z'),\n",
              " ('b', 'o', 'p'),\n",
              " ('b', 'o', 'q'),\n",
              " ('b', 'o', 'r'),\n",
              " ('b', 'o', 's'),\n",
              " ('b', 'o', 't'),\n",
              " ('b', 'o', 'u'),\n",
              " ('b', 'o', 'v'),\n",
              " ('b', 'o', 'w'),\n",
              " ('b', 'o', 'x'),\n",
              " ('b', 'o', 'y'),\n",
              " ('b', 'o', 'z'),\n",
              " ('b', 'p', 'q'),\n",
              " ('b', 'p', 'r'),\n",
              " ('b', 'p', 's'),\n",
              " ('b', 'p', 't'),\n",
              " ('b', 'p', 'u'),\n",
              " ('b', 'p', 'v'),\n",
              " ('b', 'p', 'w'),\n",
              " ('b', 'p', 'x'),\n",
              " ('b', 'p', 'y'),\n",
              " ('b', 'p', 'z'),\n",
              " ('b', 'q', 'r'),\n",
              " ('b', 'q', 's'),\n",
              " ('b', 'q', 't'),\n",
              " ('b', 'q', 'u'),\n",
              " ('b', 'q', 'v'),\n",
              " ('b', 'q', 'w'),\n",
              " ('b', 'q', 'x'),\n",
              " ('b', 'q', 'y'),\n",
              " ('b', 'q', 'z'),\n",
              " ('b', 'r', 's'),\n",
              " ('b', 'r', 't'),\n",
              " ('b', 'r', 'u'),\n",
              " ('b', 'r', 'v'),\n",
              " ('b', 'r', 'w'),\n",
              " ('b', 'r', 'x'),\n",
              " ('b', 'r', 'y'),\n",
              " ('b', 'r', 'z'),\n",
              " ('b', 's', 't'),\n",
              " ('b', 's', 'u'),\n",
              " ('b', 's', 'v'),\n",
              " ('b', 's', 'w'),\n",
              " ('b', 's', 'x'),\n",
              " ('b', 's', 'y'),\n",
              " ('b', 's', 'z'),\n",
              " ('b', 't', 'u'),\n",
              " ('b', 't', 'v'),\n",
              " ('b', 't', 'w'),\n",
              " ('b', 't', 'x'),\n",
              " ('b', 't', 'y'),\n",
              " ('b', 't', 'z'),\n",
              " ('b', 'u', 'v'),\n",
              " ('b', 'u', 'w'),\n",
              " ('b', 'u', 'x'),\n",
              " ('b', 'u', 'y'),\n",
              " ('b', 'u', 'z'),\n",
              " ('b', 'v', 'w'),\n",
              " ('b', 'v', 'x'),\n",
              " ('b', 'v', 'y'),\n",
              " ('b', 'v', 'z'),\n",
              " ('b', 'w', 'x'),\n",
              " ('b', 'w', 'y'),\n",
              " ('b', 'w', 'z'),\n",
              " ('b', 'x', 'y'),\n",
              " ('b', 'x', 'z'),\n",
              " ('b', 'y', 'z'),\n",
              " ('c', 'd', 'e'),\n",
              " ('c', 'd', 'f'),\n",
              " ('c', 'd', 'g'),\n",
              " ('c', 'd', 'h'),\n",
              " ('c', 'd', 'i'),\n",
              " ('c', 'd', 'j'),\n",
              " ('c', 'd', 'k'),\n",
              " ('c', 'd', 'l'),\n",
              " ('c', 'd', 'm'),\n",
              " ('c', 'd', 'n'),\n",
              " ('c', 'd', 'o'),\n",
              " ('c', 'd', 'p'),\n",
              " ('c', 'd', 'q'),\n",
              " ('c', 'd', 'r'),\n",
              " ('c', 'd', 's'),\n",
              " ('c', 'd', 't'),\n",
              " ('c', 'd', 'u'),\n",
              " ('c', 'd', 'v'),\n",
              " ('c', 'd', 'w'),\n",
              " ('c', 'd', 'x'),\n",
              " ('c', 'd', 'y'),\n",
              " ('c', 'd', 'z'),\n",
              " ('c', 'e', 'f'),\n",
              " ('c', 'e', 'g'),\n",
              " ('c', 'e', 'h'),\n",
              " ('c', 'e', 'i'),\n",
              " ('c', 'e', 'j'),\n",
              " ('c', 'e', 'k'),\n",
              " ('c', 'e', 'l'),\n",
              " ('c', 'e', 'm'),\n",
              " ('c', 'e', 'n'),\n",
              " ('c', 'e', 'o'),\n",
              " ('c', 'e', 'p'),\n",
              " ('c', 'e', 'q'),\n",
              " ('c', 'e', 'r'),\n",
              " ('c', 'e', 's'),\n",
              " ('c', 'e', 't'),\n",
              " ('c', 'e', 'u'),\n",
              " ('c', 'e', 'v'),\n",
              " ('c', 'e', 'w'),\n",
              " ('c', 'e', 'x'),\n",
              " ('c', 'e', 'y'),\n",
              " ('c', 'e', 'z'),\n",
              " ('c', 'f', 'g'),\n",
              " ('c', 'f', 'h'),\n",
              " ('c', 'f', 'i'),\n",
              " ('c', 'f', 'j'),\n",
              " ('c', 'f', 'k'),\n",
              " ('c', 'f', 'l'),\n",
              " ('c', 'f', 'm'),\n",
              " ('c', 'f', 'n'),\n",
              " ('c', 'f', 'o'),\n",
              " ('c', 'f', 'p'),\n",
              " ('c', 'f', 'q'),\n",
              " ('c', 'f', 'r'),\n",
              " ('c', 'f', 's'),\n",
              " ('c', 'f', 't'),\n",
              " ('c', 'f', 'u'),\n",
              " ('c', 'f', 'v'),\n",
              " ('c', 'f', 'w'),\n",
              " ('c', 'f', 'x'),\n",
              " ('c', 'f', 'y'),\n",
              " ('c', 'f', 'z'),\n",
              " ('c', 'g', 'h'),\n",
              " ('c', 'g', 'i'),\n",
              " ('c', 'g', 'j'),\n",
              " ('c', 'g', 'k'),\n",
              " ('c', 'g', 'l'),\n",
              " ('c', 'g', 'm'),\n",
              " ('c', 'g', 'n'),\n",
              " ('c', 'g', 'o'),\n",
              " ('c', 'g', 'p'),\n",
              " ('c', 'g', 'q'),\n",
              " ('c', 'g', 'r'),\n",
              " ('c', 'g', 's'),\n",
              " ('c', 'g', 't'),\n",
              " ('c', 'g', 'u'),\n",
              " ('c', 'g', 'v'),\n",
              " ('c', 'g', 'w'),\n",
              " ('c', 'g', 'x'),\n",
              " ('c', 'g', 'y'),\n",
              " ('c', 'g', 'z'),\n",
              " ('c', 'h', 'i'),\n",
              " ('c', 'h', 'j'),\n",
              " ('c', 'h', 'k'),\n",
              " ('c', 'h', 'l'),\n",
              " ('c', 'h', 'm'),\n",
              " ('c', 'h', 'n'),\n",
              " ('c', 'h', 'o'),\n",
              " ('c', 'h', 'p'),\n",
              " ('c', 'h', 'q'),\n",
              " ('c', 'h', 'r'),\n",
              " ('c', 'h', 's'),\n",
              " ('c', 'h', 't'),\n",
              " ('c', 'h', 'u'),\n",
              " ('c', 'h', 'v'),\n",
              " ('c', 'h', 'w'),\n",
              " ('c', 'h', 'x'),\n",
              " ('c', 'h', 'y'),\n",
              " ('c', 'h', 'z'),\n",
              " ('c', 'i', 'j'),\n",
              " ('c', 'i', 'k'),\n",
              " ('c', 'i', 'l'),\n",
              " ('c', 'i', 'm'),\n",
              " ('c', 'i', 'n'),\n",
              " ('c', 'i', 'o'),\n",
              " ('c', 'i', 'p'),\n",
              " ('c', 'i', 'q'),\n",
              " ('c', 'i', 'r'),\n",
              " ('c', 'i', 's'),\n",
              " ('c', 'i', 't'),\n",
              " ('c', 'i', 'u'),\n",
              " ('c', 'i', 'v'),\n",
              " ('c', 'i', 'w'),\n",
              " ('c', 'i', 'x'),\n",
              " ('c', 'i', 'y'),\n",
              " ('c', 'i', 'z'),\n",
              " ('c', 'j', 'k'),\n",
              " ('c', 'j', 'l'),\n",
              " ('c', 'j', 'm'),\n",
              " ('c', 'j', 'n'),\n",
              " ('c', 'j', 'o'),\n",
              " ('c', 'j', 'p'),\n",
              " ('c', 'j', 'q'),\n",
              " ('c', 'j', 'r'),\n",
              " ('c', 'j', 's'),\n",
              " ('c', 'j', 't'),\n",
              " ('c', 'j', 'u'),\n",
              " ('c', 'j', 'v'),\n",
              " ('c', 'j', 'w'),\n",
              " ('c', 'j', 'x'),\n",
              " ('c', 'j', 'y'),\n",
              " ('c', 'j', 'z'),\n",
              " ('c', 'k', 'l'),\n",
              " ('c', 'k', 'm'),\n",
              " ('c', 'k', 'n'),\n",
              " ('c', 'k', 'o'),\n",
              " ('c', 'k', 'p'),\n",
              " ('c', 'k', 'q'),\n",
              " ('c', 'k', 'r'),\n",
              " ('c', 'k', 's'),\n",
              " ('c', 'k', 't'),\n",
              " ('c', 'k', 'u'),\n",
              " ('c', 'k', 'v'),\n",
              " ('c', 'k', 'w'),\n",
              " ('c', 'k', 'x'),\n",
              " ('c', 'k', 'y'),\n",
              " ('c', 'k', 'z'),\n",
              " ('c', 'l', 'm'),\n",
              " ('c', 'l', 'n'),\n",
              " ('c', 'l', 'o'),\n",
              " ('c', 'l', 'p'),\n",
              " ('c', 'l', 'q'),\n",
              " ('c', 'l', 'r'),\n",
              " ('c', 'l', 's'),\n",
              " ('c', 'l', 't'),\n",
              " ('c', 'l', 'u'),\n",
              " ('c', 'l', 'v'),\n",
              " ('c', 'l', 'w'),\n",
              " ('c', 'l', 'x'),\n",
              " ('c', 'l', 'y'),\n",
              " ('c', 'l', 'z'),\n",
              " ('c', 'm', 'n'),\n",
              " ('c', 'm', 'o'),\n",
              " ('c', 'm', 'p'),\n",
              " ('c', 'm', 'q'),\n",
              " ('c', 'm', 'r'),\n",
              " ('c', 'm', 's'),\n",
              " ('c', 'm', 't'),\n",
              " ('c', 'm', 'u'),\n",
              " ('c', 'm', 'v'),\n",
              " ('c', 'm', 'w'),\n",
              " ('c', 'm', 'x'),\n",
              " ('c', 'm', 'y'),\n",
              " ('c', 'm', 'z'),\n",
              " ('c', 'n', 'o'),\n",
              " ('c', 'n', 'p'),\n",
              " ('c', 'n', 'q'),\n",
              " ('c', 'n', 'r'),\n",
              " ('c', 'n', 's'),\n",
              " ('c', 'n', 't'),\n",
              " ('c', 'n', 'u'),\n",
              " ('c', 'n', 'v'),\n",
              " ('c', 'n', 'w'),\n",
              " ('c', 'n', 'x'),\n",
              " ('c', 'n', 'y'),\n",
              " ('c', 'n', 'z'),\n",
              " ('c', 'o', 'p'),\n",
              " ('c', 'o', 'q'),\n",
              " ('c', 'o', 'r'),\n",
              " ('c', 'o', 's'),\n",
              " ('c', 'o', 't'),\n",
              " ('c', 'o', 'u'),\n",
              " ('c', 'o', 'v'),\n",
              " ('c', 'o', 'w'),\n",
              " ('c', 'o', 'x'),\n",
              " ('c', 'o', 'y'),\n",
              " ('c', 'o', 'z'),\n",
              " ('c', 'p', 'q'),\n",
              " ('c', 'p', 'r'),\n",
              " ('c', 'p', 's'),\n",
              " ('c', 'p', 't'),\n",
              " ('c', 'p', 'u'),\n",
              " ('c', 'p', 'v'),\n",
              " ('c', 'p', 'w'),\n",
              " ('c', 'p', 'x'),\n",
              " ('c', 'p', 'y'),\n",
              " ('c', 'p', 'z'),\n",
              " ('c', 'q', 'r'),\n",
              " ('c', 'q', 's'),\n",
              " ('c', 'q', 't'),\n",
              " ('c', 'q', 'u'),\n",
              " ('c', 'q', 'v'),\n",
              " ('c', 'q', 'w'),\n",
              " ('c', 'q', 'x'),\n",
              " ('c', 'q', 'y'),\n",
              " ('c', 'q', 'z'),\n",
              " ('c', 'r', 's'),\n",
              " ('c', 'r', 't'),\n",
              " ('c', 'r', 'u'),\n",
              " ('c', 'r', 'v'),\n",
              " ('c', 'r', 'w'),\n",
              " ('c', 'r', 'x'),\n",
              " ('c', 'r', 'y'),\n",
              " ('c', 'r', 'z'),\n",
              " ('c', 's', 't'),\n",
              " ('c', 's', 'u'),\n",
              " ('c', 's', 'v'),\n",
              " ('c', 's', 'w'),\n",
              " ('c', 's', 'x'),\n",
              " ('c', 's', 'y'),\n",
              " ('c', 's', 'z'),\n",
              " ('c', 't', 'u'),\n",
              " ('c', 't', 'v'),\n",
              " ('c', 't', 'w'),\n",
              " ('c', 't', 'x'),\n",
              " ('c', 't', 'y'),\n",
              " ('c', 't', 'z'),\n",
              " ('c', 'u', 'v'),\n",
              " ('c', 'u', 'w'),\n",
              " ('c', 'u', 'x'),\n",
              " ('c', 'u', 'y'),\n",
              " ('c', 'u', 'z'),\n",
              " ('c', 'v', 'w'),\n",
              " ('c', 'v', 'x'),\n",
              " ('c', 'v', 'y'),\n",
              " ('c', 'v', 'z'),\n",
              " ('c', 'w', 'x'),\n",
              " ('c', 'w', 'y'),\n",
              " ('c', 'w', 'z'),\n",
              " ('c', 'x', 'y'),\n",
              " ('c', 'x', 'z'),\n",
              " ('c', 'y', 'z'),\n",
              " ('d', 'e', 'f'),\n",
              " ('d', 'e', 'g'),\n",
              " ('d', 'e', 'h'),\n",
              " ('d', 'e', 'i'),\n",
              " ('d', 'e', 'j'),\n",
              " ('d', 'e', 'k'),\n",
              " ('d', 'e', 'l'),\n",
              " ('d', 'e', 'm'),\n",
              " ('d', 'e', 'n'),\n",
              " ('d', 'e', 'o'),\n",
              " ('d', 'e', 'p'),\n",
              " ('d', 'e', 'q'),\n",
              " ('d', 'e', 'r'),\n",
              " ('d', 'e', 's'),\n",
              " ('d', 'e', 't'),\n",
              " ('d', 'e', 'u'),\n",
              " ('d', 'e', 'v'),\n",
              " ('d', 'e', 'w'),\n",
              " ('d', 'e', 'x'),\n",
              " ('d', 'e', 'y'),\n",
              " ('d', 'e', 'z'),\n",
              " ('d', 'f', 'g'),\n",
              " ('d', 'f', 'h'),\n",
              " ('d', 'f', 'i'),\n",
              " ('d', 'f', 'j'),\n",
              " ('d', 'f', 'k'),\n",
              " ('d', 'f', 'l'),\n",
              " ('d', 'f', 'm'),\n",
              " ('d', 'f', 'n'),\n",
              " ('d', 'f', 'o'),\n",
              " ('d', 'f', 'p'),\n",
              " ('d', 'f', 'q'),\n",
              " ('d', 'f', 'r'),\n",
              " ('d', 'f', 's'),\n",
              " ('d', 'f', 't'),\n",
              " ('d', 'f', 'u'),\n",
              " ('d', 'f', 'v'),\n",
              " ('d', 'f', 'w'),\n",
              " ('d', 'f', 'x'),\n",
              " ('d', 'f', 'y'),\n",
              " ('d', 'f', 'z'),\n",
              " ('d', 'g', 'h'),\n",
              " ('d', 'g', 'i'),\n",
              " ('d', 'g', 'j'),\n",
              " ('d', 'g', 'k'),\n",
              " ('d', 'g', 'l'),\n",
              " ('d', 'g', 'm'),\n",
              " ('d', 'g', 'n'),\n",
              " ('d', 'g', 'o'),\n",
              " ('d', 'g', 'p'),\n",
              " ('d', 'g', 'q'),\n",
              " ('d', 'g', 'r'),\n",
              " ('d', 'g', 's'),\n",
              " ('d', 'g', 't'),\n",
              " ('d', 'g', 'u'),\n",
              " ('d', 'g', 'v'),\n",
              " ('d', 'g', 'w'),\n",
              " ('d', 'g', 'x'),\n",
              " ('d', 'g', 'y'),\n",
              " ('d', 'g', 'z'),\n",
              " ('d', 'h', 'i'),\n",
              " ('d', 'h', 'j'),\n",
              " ('d', 'h', 'k'),\n",
              " ('d', 'h', 'l'),\n",
              " ('d', 'h', 'm'),\n",
              " ('d', 'h', 'n'),\n",
              " ('d', 'h', 'o'),\n",
              " ('d', 'h', 'p'),\n",
              " ('d', 'h', 'q'),\n",
              " ('d', 'h', 'r'),\n",
              " ('d', 'h', 's'),\n",
              " ('d', 'h', 't'),\n",
              " ('d', 'h', 'u'),\n",
              " ('d', 'h', 'v'),\n",
              " ('d', 'h', 'w'),\n",
              " ('d', 'h', 'x'),\n",
              " ('d', 'h', 'y'),\n",
              " ('d', 'h', 'z'),\n",
              " ('d', 'i', 'j'),\n",
              " ('d', 'i', 'k'),\n",
              " ('d', 'i', 'l'),\n",
              " ('d', 'i', 'm'),\n",
              " ('d', 'i', 'n'),\n",
              " ('d', 'i', 'o'),\n",
              " ('d', 'i', 'p'),\n",
              " ('d', 'i', 'q'),\n",
              " ('d', 'i', 'r'),\n",
              " ('d', 'i', 's'),\n",
              " ('d', 'i', 't'),\n",
              " ('d', 'i', 'u'),\n",
              " ('d', 'i', 'v'),\n",
              " ('d', 'i', 'w'),\n",
              " ('d', 'i', 'x'),\n",
              " ('d', 'i', 'y'),\n",
              " ('d', 'i', 'z'),\n",
              " ('d', 'j', 'k'),\n",
              " ('d', 'j', 'l'),\n",
              " ('d', 'j', 'm'),\n",
              " ('d', 'j', 'n'),\n",
              " ('d', 'j', 'o'),\n",
              " ('d', 'j', 'p'),\n",
              " ('d', 'j', 'q'),\n",
              " ('d', 'j', 'r'),\n",
              " ('d', 'j', 's'),\n",
              " ('d', 'j', 't'),\n",
              " ('d', 'j', 'u'),\n",
              " ('d', 'j', 'v'),\n",
              " ('d', 'j', 'w'),\n",
              " ('d', 'j', 'x'),\n",
              " ('d', 'j', 'y'),\n",
              " ('d', 'j', 'z'),\n",
              " ('d', 'k', 'l'),\n",
              " ('d', 'k', 'm'),\n",
              " ('d', 'k', 'n'),\n",
              " ('d', 'k', 'o'),\n",
              " ('d', 'k', 'p'),\n",
              " ('d', 'k', 'q'),\n",
              " ('d', 'k', 'r'),\n",
              " ('d', 'k', 's'),\n",
              " ('d', 'k', 't'),\n",
              " ('d', 'k', 'u'),\n",
              " ('d', 'k', 'v'),\n",
              " ('d', 'k', 'w'),\n",
              " ('d', 'k', 'x'),\n",
              " ('d', 'k', 'y'),\n",
              " ('d', 'k', 'z'),\n",
              " ('d', 'l', 'm'),\n",
              " ('d', 'l', 'n'),\n",
              " ('d', 'l', 'o'),\n",
              " ('d', 'l', 'p'),\n",
              " ('d', 'l', 'q'),\n",
              " ('d', 'l', 'r'),\n",
              " ('d', 'l', 's'),\n",
              " ('d', 'l', 't'),\n",
              " ('d', 'l', 'u'),\n",
              " ('d', 'l', 'v'),\n",
              " ('d', 'l', 'w'),\n",
              " ('d', 'l', 'x'),\n",
              " ('d', 'l', 'y'),\n",
              " ('d', 'l', 'z'),\n",
              " ('d', 'm', 'n'),\n",
              " ('d', 'm', 'o'),\n",
              " ('d', 'm', 'p'),\n",
              " ('d', 'm', 'q'),\n",
              " ('d', 'm', 'r'),\n",
              " ('d', 'm', 's'),\n",
              " ('d', 'm', 't'),\n",
              " ('d', 'm', 'u'),\n",
              " ('d', 'm', 'v'),\n",
              " ('d', 'm', 'w'),\n",
              " ('d', 'm', 'x'),\n",
              " ('d', 'm', 'y'),\n",
              " ('d', 'm', 'z'),\n",
              " ('d', 'n', 'o'),\n",
              " ('d', 'n', 'p'),\n",
              " ('d', 'n', 'q'),\n",
              " ('d', 'n', 'r'),\n",
              " ('d', 'n', 's'),\n",
              " ('d', 'n', 't'),\n",
              " ('d', 'n', 'u'),\n",
              " ('d', 'n', 'v'),\n",
              " ('d', 'n', 'w'),\n",
              " ('d', 'n', 'x'),\n",
              " ('d', 'n', 'y'),\n",
              " ('d', 'n', 'z'),\n",
              " ('d', 'o', 'p'),\n",
              " ('d', 'o', 'q'),\n",
              " ('d', 'o', 'r'),\n",
              " ('d', 'o', 's'),\n",
              " ('d', 'o', 't'),\n",
              " ('d', 'o', 'u'),\n",
              " ...]"
            ]
          },
          "metadata": {},
          "execution_count": 67
        }
      ]
    },
    {
      "cell_type": "markdown",
      "metadata": {
        "id": "nZmPR3wSaCAa"
      },
      "source": [
        ":::{exercise}\n",
        ":label: control-flow-zip\n",
        "\n",
        "Dada la lista \n",
        "\n",
        "```\n",
        "x_vals = [0.1, 0.3, 0.6, 0.9]\n",
        "```\n",
        "\n",
        "crea un generador a partir de `x_vals` para obtener el valor de $y = x^2$ y luego guardálo en un objeto tipo `zip` de pares $(x, y)$.\n",
        "\n",
        "\n",
        "\n",
        ":::"
      ]
    },
    {
      "cell_type": "code",
      "execution_count": 65,
      "metadata": {
        "id": "xcTaS-FKbJpa",
        "colab": {
          "base_uri": "https://localhost:8080/"
        },
        "outputId": "b7d23e86-9e0f-4ef1-a827-63bbd85543a3"
      },
      "outputs": [
        {
          "output_type": "stream",
          "name": "stdout",
          "text": [
            "[(0.1, 0.010000000000000002), (0.3, 0.09), (0.6, 0.36), (0.9, 0.81)]\n"
          ]
        }
      ],
      "source": [
        "x_vals = [0.1, 0.3, 0.6, 0.9]\n",
        "\n",
        "y_vals=[]\n",
        "\n",
        "for i in x_vals:\n",
        "  y_vals.append(i**2)\n",
        "\n",
        "z = zip(x_vals,y_vals)\n",
        "print(list(z))"
      ]
    }
  ],
  "metadata": {
    "colab": {
      "provenance": [],
      "include_colab_link": true
    },
    "kernelspec": {
      "display_name": "Python 3.9.1 64-bit",
      "language": "python",
      "name": "python3"
    },
    "language_info": {
      "name": "python",
      "version": "3.9.1"
    },
    "orig_nbformat": 4,
    "vscode": {
      "interpreter": {
        "hash": "397704579725e15f5c7cb49fe5f0341eb7531c82d19f2c29d197e8b64ab5776b"
      }
    }
  },
  "nbformat": 4,
  "nbformat_minor": 0
}
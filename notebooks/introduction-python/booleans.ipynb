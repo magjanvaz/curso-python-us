{
  "cells": [
    {
      "cell_type": "markdown",
      "metadata": {
        "id": "view-in-github",
        "colab_type": "text"
      },
      "source": [
        "<a href=\"https://colab.research.google.com/github/magjanvaz/curso-python-us/blob/main/notebooks/introduction-python/booleans.ipynb\" target=\"_parent\"><img src=\"https://colab.research.google.com/assets/colab-badge.svg\" alt=\"Open In Colab\"/></a>"
      ]
    },
    {
      "cell_type": "markdown",
      "metadata": {
        "id": "fBDjXAEVw6sA"
      },
      "source": [
        "# Booleanos\n",
        "\n",
        "Existen dos objetos de **tipo booleano** `bool`\n",
        "- `True`\n",
        "- `False`\n",
        "\n",
        "ya hemos visto anteriormente funciones que devuelven valores booleanos como `isinstance` o los operadores `is` o `==`."
      ]
    },
    {
      "cell_type": "code",
      "source": [
        "type(True) "
      ],
      "metadata": {
        "id": "QpOJEADNw6sB",
        "colab": {
          "base_uri": "https://localhost:8080/"
        },
        "outputId": "332f34a1-86b0-4399-80d6-d07b5b90f8cd"
      },
      "execution_count": null,
      "outputs": [
        {
          "output_type": "execute_result",
          "data": {
            "text/plain": [
              "bool"
            ]
          },
          "metadata": {},
          "execution_count": 1
        }
      ]
    },
    {
      "cell_type": "code",
      "source": [
        "isinstance(False, bool)"
      ],
      "metadata": {
        "colab": {
          "base_uri": "https://localhost:8080/"
        },
        "id": "-Yt08il5xb0r",
        "outputId": "98210cfc-fe81-47d1-9d7e-e5b766c5ef9b"
      },
      "execution_count": null,
      "outputs": [
        {
          "output_type": "execute_result",
          "data": {
            "text/plain": [
              "True"
            ]
          },
          "metadata": {},
          "execution_count": 2
        }
      ]
    },
    {
      "cell_type": "markdown",
      "source": [
        "---\n",
        "## Operaciones lógicas\n",
        "Python incluye operadores estándar para realizar **operaciones lógicas** básicas \n",
        "\n",
        "| Operador Lógico | Operador Simbólico |\n",
        "|:---------------:|:------------------:|\n",
        "| and             | &                  |\n",
        "| or              | \\|                 |\n",
        "| not             |                    |"
      ],
      "metadata": {
        "id": "Aoni59FuyA-c"
      }
    },
    {
      "cell_type": "code",
      "source": [
        "True or False"
      ],
      "metadata": {
        "colab": {
          "base_uri": "https://localhost:8080/"
        },
        "id": "rAuaCXhu35E8",
        "outputId": "3aa6610b-3765-48ad-b045-21c2e97075ab"
      },
      "execution_count": null,
      "outputs": [
        {
          "output_type": "execute_result",
          "data": {
            "text/plain": [
              "True"
            ]
          },
          "metadata": {},
          "execution_count": 3
        }
      ]
    },
    {
      "cell_type": "code",
      "source": [
        "True and False"
      ],
      "metadata": {
        "colab": {
          "base_uri": "https://localhost:8080/"
        },
        "id": "MXeOwA0M4XGa",
        "outputId": "f82f67af-ae28-4c79-fe34-d9732632f4d2"
      },
      "execution_count": null,
      "outputs": [
        {
          "output_type": "execute_result",
          "data": {
            "text/plain": [
              "False"
            ]
          },
          "metadata": {},
          "execution_count": 4
        }
      ]
    },
    {
      "cell_type": "code",
      "source": [
        "not False"
      ],
      "metadata": {
        "colab": {
          "base_uri": "https://localhost:8080/"
        },
        "id": "rO8UPrjJ4YHh",
        "outputId": "b8392a51-22ac-4bd9-e255-ac78f873902e"
      },
      "execution_count": null,
      "outputs": [
        {
          "output_type": "execute_result",
          "data": {
            "text/plain": [
              "True"
            ]
          },
          "metadata": {},
          "execution_count": 5
        }
      ]
    },
    {
      "cell_type": "markdown",
      "source": [
        "A la hora de evaluar un operador lógico, Python hace los cálculos necesarios para computar el argumento izquierdo y, en caso de ser necesario, evalúa el argumento derecho. **YO** cálculo perezoso, si tenemos dos expresiones poner primero la más simple para ahorrar"
      ],
      "metadata": {
        "id": "2CkmyxyrSFOm"
      }
    },
    {
      "cell_type": "markdown",
      "source": [
        "Los **operadores simbólicos** se comportan igual que su correspondiente operador lógico cuando los utilizamos con booleanos. Sin embargo, estos operadores también se emplean para representar [*operaciones a nivel de bits*](https://en.wikipedia.org/wiki/Bitwise_operation). Por ejemplo, el `&` representa el *bitwise-and*"
      ],
      "metadata": {
        "id": "Lq6ankXv7O6U"
      }
    },
    {
      "cell_type": "code",
      "source": [
        "2 & 1 ## esto es: 10 & 01 lo hace bit a bit, 00"
      ],
      "metadata": {
        "colab": {
          "base_uri": "https://localhost:8080/"
        },
        "id": "bO_on31v8VsJ",
        "outputId": "ded12152-6991-4690-cabb-dcdce7be6adf"
      },
      "execution_count": null,
      "outputs": [
        {
          "output_type": "execute_result",
          "data": {
            "text/plain": [
              "0"
            ]
          },
          "metadata": {},
          "execution_count": 6
        }
      ]
    },
    {
      "cell_type": "code",
      "source": [
        "3 & 1 ## esto es 11 & 01 por tanto 01"
      ],
      "metadata": {
        "colab": {
          "base_uri": "https://localhost:8080/"
        },
        "id": "VmZryrVtsy0-",
        "outputId": "4a8e5731-3274-41c3-cdfc-5c4e536f82f0"
      },
      "execution_count": null,
      "outputs": [
        {
          "output_type": "execute_result",
          "data": {
            "text/plain": [
              "1"
            ]
          },
          "metadata": {},
          "execution_count": 7
        }
      ]
    },
    {
      "cell_type": "code",
      "source": [
        "3 & 3 ## porque es 11 & 11 entonces es 11 "
      ],
      "metadata": {
        "colab": {
          "base_uri": "https://localhost:8080/"
        },
        "id": "wK28WnqEs9-3",
        "outputId": "87515aa4-b00e-4b86-d54a-7035e995b3a9"
      },
      "execution_count": null,
      "outputs": [
        {
          "output_type": "execute_result",
          "data": {
            "text/plain": [
              "3"
            ]
          },
          "metadata": {},
          "execution_count": 8
        }
      ]
    },
    {
      "cell_type": "code",
      "source": [
        "5 & 2 ## 101 & 010 es 0"
      ],
      "metadata": {
        "colab": {
          "base_uri": "https://localhost:8080/"
        },
        "id": "urAsqnbItFOF",
        "outputId": "76c7da00-7fdc-4845-a863-c24b02ce6c78"
      },
      "execution_count": null,
      "outputs": [
        {
          "output_type": "execute_result",
          "data": {
            "text/plain": [
              "0"
            ]
          },
          "metadata": {},
          "execution_count": 9
        }
      ]
    },
    {
      "cell_type": "markdown",
      "source": [
        "es bastante común encontarse con resultados inesperados cuando se utilizan estos operadores, ya que por ejemplo tienen un orden de evaluación distinto. Por ello, siempre que sea posible, intentaremos usar los operadores lógicos, lo que se considera un estilo más *pythónico*. Sin embargo, no se puede definir un comportamiento especial para los operadores lógicos `and` y `or` cuando definamos nuestras clases, de ahí que sea necesario usar los operadores `&` y `|` en paquetes como `numpy` o `pandas`."
      ],
      "metadata": {
        "id": "7SkQ5ELE8XFn"
      }
    },
    {
      "cell_type": "markdown",
      "source": [
        "El orden de preferencia con los operadores lógicos es el siguiente: `not` > `and` > `or`"
      ],
      "metadata": {
        "id": "i1iPysSBAAd0"
      }
    },
    {
      "cell_type": "code",
      "source": [
        "False and True or True"
      ],
      "metadata": {
        "colab": {
          "base_uri": "https://localhost:8080/"
        },
        "id": "fHPt1SPrFxjn",
        "outputId": "4f440687-2866-48cc-db6e-ced87839b92b"
      },
      "execution_count": null,
      "outputs": [
        {
          "output_type": "execute_result",
          "data": {
            "text/plain": [
              "True"
            ]
          },
          "metadata": {},
          "execution_count": 10
        }
      ]
    },
    {
      "cell_type": "markdown",
      "source": [
        "Para alterar el orden de preferencia en Python podemos utilizar parétesis **YO** extendemos la jerarquía de las operaciones. Primero multiplicar, luego sumar. El \"not\" se toma como parte del booleano, \"-1\" es un número"
      ],
      "metadata": {
        "id": "3piOcO7wH3d8"
      }
    },
    {
      "cell_type": "code",
      "source": [
        "False and (True or True)"
      ],
      "metadata": {
        "colab": {
          "base_uri": "https://localhost:8080/"
        },
        "id": "dLyOHK4VG8cB",
        "outputId": "3feddb26-1974-4832-bebf-6dc9999601ad"
      },
      "execution_count": null,
      "outputs": [
        {
          "output_type": "execute_result",
          "data": {
            "text/plain": [
              "False"
            ]
          },
          "metadata": {},
          "execution_count": 11
        }
      ]
    },
    {
      "cell_type": "markdown",
      "source": [
        "Los **operadores de comparación** usuales también devuelven booleanos y tienen preferencia frente a los operadores lógicos. No está mal añadir paréntesis redundantes si ayuda a legibilidad de la expresión"
      ],
      "metadata": {
        "id": "zCXvi8wuH2lk"
      }
    },
    {
      "cell_type": "code",
      "source": [
        "2 < 3"
      ],
      "metadata": {
        "colab": {
          "base_uri": "https://localhost:8080/"
        },
        "id": "Wo38Xc4wIEKY",
        "outputId": "a0bf9a4f-7aab-4d12-b1a1-1e8bb241b70d"
      },
      "execution_count": null,
      "outputs": [
        {
          "output_type": "execute_result",
          "data": {
            "text/plain": [
              "True"
            ]
          },
          "metadata": {},
          "execution_count": 12
        }
      ]
    },
    {
      "cell_type": "code",
      "source": [
        "10.5 >= 4.7"
      ],
      "metadata": {
        "colab": {
          "base_uri": "https://localhost:8080/"
        },
        "id": "8arns2-HIHdy",
        "outputId": "ca1c04ff-ffde-472c-9c2b-a7f59e23f077"
      },
      "execution_count": null,
      "outputs": [
        {
          "output_type": "execute_result",
          "data": {
            "text/plain": [
              "True"
            ]
          },
          "metadata": {},
          "execution_count": 13
        }
      ]
    },
    {
      "cell_type": "code",
      "source": [
        "(2 < 4) and not (4 != -1)"
      ],
      "metadata": {
        "colab": {
          "base_uri": "https://localhost:8080/"
        },
        "id": "jXv-Wa4VIKes",
        "outputId": "9986c952-6456-4745-c9aa-9023e2394932"
      },
      "execution_count": null,
      "outputs": [
        {
          "output_type": "execute_result",
          "data": {
            "text/plain": [
              "False"
            ]
          },
          "metadata": {},
          "execution_count": 14
        }
      ]
    },
    {
      "cell_type": "markdown",
      "source": [
        "---\n",
        "## Los booleanos son enteros\n",
        "\n",
        "En realidad el tipo booleano es un caso particular de entero, o más precisamente es una subclase. "
      ],
      "metadata": {
        "id": "yvEPOdvWIaZu"
      }
    },
    {
      "cell_type": "code",
      "source": [
        "isinstance(True, int)"
      ],
      "metadata": {
        "colab": {
          "base_uri": "https://localhost:8080/"
        },
        "id": "OjTAO3TGIzLQ",
        "outputId": "7893ed28-e484-4ccc-b238-5d0dab18ee12"
      },
      "execution_count": null,
      "outputs": [
        {
          "output_type": "execute_result",
          "data": {
            "text/plain": [
              "True"
            ]
          },
          "metadata": {},
          "execution_count": 15
        }
      ]
    },
    {
      "cell_type": "code",
      "source": [
        "int(True)"
      ],
      "metadata": {
        "colab": {
          "base_uri": "https://localhost:8080/"
        },
        "id": "9v81PmRKJWUT",
        "outputId": "8f1d30a9-29f6-4543-aca4-eb6a6b0fdca3"
      },
      "execution_count": null,
      "outputs": [
        {
          "output_type": "execute_result",
          "data": {
            "text/plain": [
              "1"
            ]
          },
          "metadata": {},
          "execution_count": 16
        }
      ]
    },
    {
      "cell_type": "code",
      "source": [
        "int(False)"
      ],
      "metadata": {
        "colab": {
          "base_uri": "https://localhost:8080/"
        },
        "id": "ZDasyUNvJXPp",
        "outputId": "b3ab454a-ab96-41bd-f347-98a9e12b271b"
      },
      "execution_count": null,
      "outputs": [
        {
          "output_type": "execute_result",
          "data": {
            "text/plain": [
              "0"
            ]
          },
          "metadata": {},
          "execution_count": 17
        }
      ]
    },
    {
      "cell_type": "markdown",
      "source": [
        "Como tales, podemos usarlos en operaciones matemáticas de forma totalmente intercambiable por los enteros 0 y 1. "
      ],
      "metadata": {
        "id": "4ZGRJG7fJZAX"
      }
    },
    {
      "cell_type": "code",
      "source": [
        "3*True - False"
      ],
      "metadata": {
        "colab": {
          "base_uri": "https://localhost:8080/"
        },
        "id": "UgTMxJw7JhxK",
        "outputId": "cfc41fa0-f1fd-4f19-a676-e45d42c542c7"
      },
      "execution_count": null,
      "outputs": [
        {
          "output_type": "execute_result",
          "data": {
            "text/plain": [
              "3"
            ]
          },
          "metadata": {},
          "execution_count": 18
        }
      ]
    },
    {
      "cell_type": "code",
      "source": [
        "True / False"
      ],
      "metadata": {
        "colab": {
          "base_uri": "https://localhost:8080/",
          "height": 165
        },
        "id": "XzIe4J2eJjgp",
        "outputId": "c2464dea-34ff-4f01-f82a-89814ef22f24"
      },
      "execution_count": null,
      "outputs": [
        {
          "output_type": "error",
          "ename": "ZeroDivisionError",
          "evalue": "ignored",
          "traceback": [
            "\u001b[0;31m---------------------------------------------------------------------------\u001b[0m",
            "\u001b[0;31mZeroDivisionError\u001b[0m                         Traceback (most recent call last)",
            "\u001b[0;32m<ipython-input-19-f8487d9d0863>\u001b[0m in \u001b[0;36m<module>\u001b[0;34m\u001b[0m\n\u001b[0;32m----> 1\u001b[0;31m \u001b[0;32mTrue\u001b[0m \u001b[0;34m/\u001b[0m \u001b[0;32mFalse\u001b[0m\u001b[0;34m\u001b[0m\u001b[0;34m\u001b[0m\u001b[0m\n\u001b[0m",
            "\u001b[0;31mZeroDivisionError\u001b[0m: division by zero"
          ]
        }
      ]
    },
    {
      "cell_type": "markdown",
      "source": [
        ":::{exercise}\n",
        ":label: booleans-expression\n",
        "\n",
        "- Suponiendo que `x` es de tipo `int`, escribe una expresión que devuelva `True` si el resto de dividir `x` entre 7 es par o `False` en caso contrario. \n",
        "\n",
        "- Escribe una expresión que evalúe si una variable `x` es booleana o un flotante. \n",
        "\n",
        ":::"
      ],
      "metadata": {
        "id": "G1EqCZ3uJlP0"
      }
    },
    {
      "cell_type": "code",
      "source": [
        "x = 7\n",
        "(x%7) % 2 == 0\n",
        "\n",
        "x=8\n",
        "(x%7) % 2 == 0"
      ],
      "metadata": {
        "colab": {
          "base_uri": "https://localhost:8080/"
        },
        "id": "wbUOid6auBd7",
        "outputId": "fa32be6e-5234-4ed0-b160-ae7ed4bd7058"
      },
      "execution_count": null,
      "outputs": [
        {
          "output_type": "execute_result",
          "data": {
            "text/plain": [
              "False"
            ]
          },
          "metadata": {},
          "execution_count": 30
        }
      ]
    },
    {
      "cell_type": "markdown",
      "source": [
        ":::{exercise}\n",
        ":label: booleans-expression-2\n",
        "\n",
        "Dado `a = 10`, considera la siguiente expresión \n",
        "\n",
        "```\n",
        ">>> a <= 10 & 1 < a\n",
        "False\n",
        "```\n",
        "\n",
        "¿Por qué no devuelve `True`? ¿Cómo podemos arreglarlo?\n",
        ":::"
      ],
      "metadata": {
        "id": "NYXyqgehKa0M"
      }
    },
    {
      "cell_type": "code",
      "source": [
        "a=10\n",
        "a <= 10\n",
        "1 < a\n",
        "\n",
        "a <= 10 & 1 < a ## aquí lo primero que hace es: 1010 & 0001 que es 0000\n",
        "(a <= 10) & (1<a) ## poniendo los paréntesis sale bien"
      ],
      "metadata": {
        "colab": {
          "base_uri": "https://localhost:8080/"
        },
        "id": "mfDSG0zjuxpW",
        "outputId": "bf10d30e-45d7-4be5-95a7-de2a1bfe18e8"
      },
      "execution_count": null,
      "outputs": [
        {
          "output_type": "execute_result",
          "data": {
            "text/plain": [
              "True"
            ]
          },
          "metadata": {},
          "execution_count": 36
        }
      ]
    },
    {
      "cell_type": "markdown",
      "source": [
        "---\n",
        "## El tipo `None`\n",
        "\n",
        "Existe otro tipo que suele ser utilizado junto con booleanos, el `NoneType`. Este tipo tiene solo un objeto, `None`, que se suele utilizar para representar que un dato es vacío o desconocido. "
      ],
      "metadata": {
        "id": "9jfOC1nnNxxr"
      }
    },
    {
      "cell_type": "code",
      "source": [
        "type(None) "
      ],
      "metadata": {
        "id": "D-AntHf5OLM6",
        "outputId": "cd7419ea-20c6-4142-eb7c-28e7924ab6d3",
        "colab": {
          "base_uri": "https://localhost:8080/"
        }
      },
      "execution_count": null,
      "outputs": [
        {
          "output_type": "execute_result",
          "data": {
            "text/plain": [
              "NoneType"
            ]
          },
          "metadata": {},
          "execution_count": 37
        }
      ]
    },
    {
      "cell_type": "markdown",
      "source": [
        "Dado que `NoneType` contiene solo un tipo, lo que se suele hacer para comprobar si un objeto pertenece a esta clase es verificar si dicho objeto es `None`. Recordemos que el operador para ver si dos objetos son *idénticos* es `is`, mientras que usamos `==` para comparar valores o estados. "
      ],
      "metadata": {
        "id": "VZb9k839OYkf"
      }
    },
    {
      "cell_type": "code",
      "source": [
        "x = 22\n",
        "x is None"
      ],
      "metadata": {
        "id": "tWyQeTVGOMAx",
        "outputId": "ee2b350f-0020-4bcf-f47d-8c4daac0c9d8",
        "colab": {
          "base_uri": "https://localhost:8080/"
        }
      },
      "execution_count": null,
      "outputs": [
        {
          "output_type": "execute_result",
          "data": {
            "text/plain": [
              "False"
            ]
          },
          "metadata": {},
          "execution_count": 38
        }
      ]
    },
    {
      "cell_type": "code",
      "source": [
        "x is not None"
      ],
      "metadata": {
        "id": "7GstKgRLO0Lc",
        "outputId": "c03a5074-cbe9-4fda-b589-f01c9ddffd54",
        "colab": {
          "base_uri": "https://localhost:8080/"
        }
      },
      "execution_count": null,
      "outputs": [
        {
          "output_type": "execute_result",
          "data": {
            "text/plain": [
              "True"
            ]
          },
          "metadata": {},
          "execution_count": 39
        }
      ]
    },
    {
      "cell_type": "markdown",
      "source": [
        "Por ahora es suficiente que sepamos que existe, ya veremos cómo utilizarlo cuando hablemos de **flujos de control**."
      ],
      "metadata": {
        "id": "somB-p-MQYZz"
      }
    }
  ],
  "metadata": {
    "kernelspec": {
      "display_name": "Python 3.9.1 64-bit",
      "language": "python",
      "name": "python3"
    },
    "language_info": {
      "name": "python",
      "version": "3.9.1"
    },
    "orig_nbformat": 4,
    "vscode": {
      "interpreter": {
        "hash": "397704579725e15f5c7cb49fe5f0341eb7531c82d19f2c29d197e8b64ab5776b"
      }
    },
    "colab": {
      "provenance": [],
      "collapsed_sections": [],
      "include_colab_link": true
    }
  },
  "nbformat": 4,
  "nbformat_minor": 0
}
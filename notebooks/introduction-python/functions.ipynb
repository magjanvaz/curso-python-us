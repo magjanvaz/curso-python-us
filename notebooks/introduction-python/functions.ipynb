{
  "cells": [
    {
      "cell_type": "markdown",
      "metadata": {
        "id": "view-in-github",
        "colab_type": "text"
      },
      "source": [
        "<a href=\"https://colab.research.google.com/github/magjanvaz/curso-python-us/blob/main/notebooks/introduction-python/functions.ipynb\" target=\"_parent\"><img src=\"https://colab.research.google.com/assets/colab-badge.svg\" alt=\"Open In Colab\"/></a>"
      ]
    },
    {
      "cell_type": "markdown",
      "metadata": {
        "id": "ZC4U5fcR58M1"
      },
      "source": [
        "# Funciones"
      ]
    },
    {
      "cell_type": "markdown",
      "metadata": {
        "id": "qeFUhv8c58M3"
      },
      "source": [
        "Las funciones son bloques fundamentales de los programas de Python que nos permiten reutilizar trozos de código. Para definirlas utilizamos `def`"
      ]
    },
    {
      "cell_type": "code",
      "source": [
        "def add(x, y): \n",
        "    return x + y"
      ],
      "metadata": {
        "id": "SQKHPx8q8BV0"
      },
      "execution_count": null,
      "outputs": []
    },
    {
      "cell_type": "markdown",
      "source": [
        "En la cabecera de la función (lo que definimos entre `def` y `:`) especificamos el nombre de la función y de los parámetros. El cuerpo de la función es una secuencia de declaraciones que se ejecutan cuando se llama a la función. Para ello, simplemente escribimos el nombre de la función seguido de los argumentos incluidos entre paréntesis "
      ],
      "metadata": {
        "id": "wO0TF4ZI8DUV"
      }
    },
    {
      "cell_type": "code",
      "source": [
        "a = add(2, 3)\n",
        "print(a)"
      ],
      "metadata": {
        "id": "89jk4ORn8g_8",
        "colab": {
          "base_uri": "https://localhost:8080/"
        },
        "outputId": "5a498037-3bc6-494a-9ea3-8ef5c6a1cdc3"
      },
      "execution_count": null,
      "outputs": [
        {
          "output_type": "stream",
          "name": "stdout",
          "text": [
            "5\n"
          ]
        }
      ]
    },
    {
      "cell_type": "markdown",
      "source": [
        "Si queremos que nuestra función devuelva un valor, utilizamos el comando `return`, que puede aparecer varias veces en el cuerpo de una función. Para devolver varios valores, podemos utilizar tuplas. "
      ],
      "metadata": {
        "id": "6DtTKkQ7W614"
      }
    },
    {
      "cell_type": "code",
      "source": [
        "def foo():\n",
        "    return \"bar\", \"baz\""
      ],
      "metadata": {
        "id": "moSqoBmuXbYT"
      },
      "execution_count": null,
      "outputs": []
    },
    {
      "cell_type": "code",
      "source": [
        "a, b = foo()\n",
        "print(a, b)"
      ],
      "metadata": {
        "colab": {
          "base_uri": "https://localhost:8080/"
        },
        "id": "YzeOeM9DXnM4",
        "outputId": "b9caacd7-5241-40ee-b8bb-9316cc27133c"
      },
      "execution_count": null,
      "outputs": [
        {
          "output_type": "stream",
          "name": "stdout",
          "text": [
            "bar baz\n"
          ]
        }
      ]
    },
    {
      "cell_type": "code",
      "source": [
        "c = foo()\n",
        "print(c)"
      ],
      "metadata": {
        "colab": {
          "base_uri": "https://localhost:8080/"
        },
        "id": "eY-eMxy-uEIT",
        "outputId": "e21b81a8-e404-4eb5-e2a5-2af4f3c62d94"
      },
      "execution_count": null,
      "outputs": [
        {
          "output_type": "stream",
          "name": "stdout",
          "text": [
            "('bar', 'baz')\n"
          ]
        }
      ]
    },
    {
      "cell_type": "markdown",
      "source": [
        "Cuando la ejecución de una función termina sin encontrar ningún return, ésta devuelve `None`. "
      ],
      "metadata": {
        "id": "FdO-7Az1Xbwg"
      }
    },
    {
      "cell_type": "markdown",
      "source": [
        ":::{exercise}\n",
        ":label: functions-def\n",
        "\n",
        "Escribe una función `count_even` que acepte un argumento llamado `numbers`,  que será un iterable que contenga enteros, y devuelva cúantos son pares.  \n",
        "\n",
        ":::"
      ],
      "metadata": {
        "id": "otl55wDzbFo6"
      }
    },
    {
      "cell_type": "code",
      "source": [
        "def count_even(numbers):\n",
        "  n=0\n",
        "  for x in numbers:\n",
        "    if(x % 2 ==0):\n",
        "      n=n+1\n",
        "  return(n)\n",
        "\n",
        "print(count_even([2,3,6,3,4]))"
      ],
      "metadata": {
        "colab": {
          "base_uri": "https://localhost:8080/"
        },
        "id": "LhqG27hit_MM",
        "outputId": "af6718b0-0c61-471c-eb69-932b63a081e1"
      },
      "execution_count": null,
      "outputs": [
        {
          "output_type": "stream",
          "name": "stdout",
          "text": [
            "3\n"
          ]
        }
      ]
    },
    {
      "cell_type": "code",
      "source": [
        "def count_even2(numbers):\n",
        "  l = len([x for x in numbers if x%2==0])\n",
        "  return(l)\n",
        "\n",
        "print(count_even2([2,3,6,3,4]))"
      ],
      "metadata": {
        "colab": {
          "base_uri": "https://localhost:8080/"
        },
        "id": "6VkJssfCugHq",
        "outputId": "187e802b-2475-4a5f-8d3a-c7108f9c7814"
      },
      "execution_count": null,
      "outputs": [
        {
          "output_type": "stream",
          "name": "stdout",
          "text": [
            "3\n"
          ]
        }
      ]
    },
    {
      "cell_type": "markdown",
      "source": [
        "--- \n",
        "## Argumentos por defecto\n",
        "\n",
        "Podemos incluir valores por defecto en los parámetros de nuestras funciones mediante asignaciones que se realizan en la cabecera de la misma. "
      ],
      "metadata": {
        "id": "Os-Dl_JR8rSR"
      }
    },
    {
      "cell_type": "code",
      "source": [
        "def f(a, b=3):\n",
        "    print(a)\n",
        "    print(b)"
      ],
      "metadata": {
        "id": "57we44Xm8wCm"
      },
      "execution_count": null,
      "outputs": []
    },
    {
      "cell_type": "code",
      "source": [
        "f(a=2)"
      ],
      "metadata": {
        "id": "pLMDPtCtH3Ys",
        "outputId": "a5266973-1416-484c-f9d2-4ad0cbe68364",
        "colab": {
          "base_uri": "https://localhost:8080/"
        }
      },
      "execution_count": null,
      "outputs": [
        {
          "output_type": "stream",
          "name": "stdout",
          "text": [
            "2\n",
            "3\n"
          ]
        }
      ]
    },
    {
      "cell_type": "code",
      "source": [
        "f(a=2, b=1)"
      ],
      "metadata": {
        "id": "5WIyA0GgH6MR",
        "outputId": "284ac6c9-e518-43f6-edcd-f8c50bb8a880",
        "colab": {
          "base_uri": "https://localhost:8080/"
        }
      },
      "execution_count": null,
      "outputs": [
        {
          "output_type": "stream",
          "name": "stdout",
          "text": [
            "2\n",
            "1\n"
          ]
        }
      ]
    },
    {
      "cell_type": "markdown",
      "source": [
        "Cuando en una función definimos un parámetro con un valor por defecto, ese parámetro y todos los que le siguen son opcionales. De este modo, **es un error de sintaxis especificar un parámetro sin valor por defecto después de un parámetro con uno**. Por ejemplo, "
      ],
      "metadata": {
        "id": "Wy9emIklH8oZ"
      }
    },
    {
      "cell_type": "code",
      "source": [
        "def f(a, b, c=1, d):\n",
        "    pass"
      ],
      "metadata": {
        "id": "PjfMYiclIgJG",
        "outputId": "c1457fc5-3ded-43d6-b978-b1ccc2167f05",
        "colab": {
          "base_uri": "https://localhost:8080/",
          "height": 134
        }
      },
      "execution_count": null,
      "outputs": [
        {
          "output_type": "error",
          "ename": "SyntaxError",
          "evalue": "ignored",
          "traceback": [
            "\u001b[0;36m  File \u001b[0;32m\"<ipython-input-6-6eed9b32205d>\"\u001b[0;36m, line \u001b[0;32m1\u001b[0m\n\u001b[0;31m    def f(a, b, c=1, d):\u001b[0m\n\u001b[0m         ^\u001b[0m\n\u001b[0;31mSyntaxError\u001b[0m\u001b[0;31m:\u001b[0m non-default argument follows default argument\n"
          ]
        }
      ]
    },
    {
      "cell_type": "markdown",
      "source": [
        "Otra cosa importante es que **los valores por defecto se evalúan cuando se define la función, no cuando la función se llama**. Mira este ejemplo "
      ],
      "metadata": {
        "id": "AmbhRhLAIidB"
      }
    },
    {
      "cell_type": "code",
      "source": [
        "def f(x, items=[]):\n",
        "    items.append(x)\n",
        "    return items\n",
        "\n",
        "a = f(1)\n",
        "b = f(2)\n",
        "print(b)\n",
        "c = f(3)\n",
        "print(c)\n",
        "print(b) ## b está apuntando al valor de f(2) y si este cambia también cambia el valor de b\n",
        "## por eso es mala idea que el valor predefinido sea mutable, mejor poner \"None\""
      ],
      "metadata": {
        "id": "sXLSTv4DI-Fe",
        "outputId": "3de0f270-9f83-422e-d91c-90163cbf7af6",
        "colab": {
          "base_uri": "https://localhost:8080/"
        }
      },
      "execution_count": null,
      "outputs": [
        {
          "output_type": "stream",
          "name": "stdout",
          "text": [
            "[1, 2]\n",
            "[1, 2, 3]\n",
            "[1, 2, 3]\n"
          ]
        }
      ]
    },
    {
      "cell_type": "markdown",
      "source": [
        "Por ello, es altamente recomendable usar *None* en los parámetros *vacíos o desconocidos* de nuestras funciones e incluir una comprobación.  "
      ],
      "metadata": {
        "id": "cHNVWZLbJGbn"
      }
    },
    {
      "cell_type": "code",
      "source": [
        "def f(x, items=None):\n",
        "    if items is None:\n",
        "        items = [] ## los de fuera no pueden \"apuntar\" a esta lista, solo al None, que no se modifica\n",
        "    items.append(x)\n",
        "    return items\n",
        "\n",
        "a = f(1)\n",
        "b = f(2)\n",
        "print(b)\n",
        "c = f(3)\n",
        "print(c)\n",
        "print(b)"
      ],
      "metadata": {
        "id": "nL5EUtdbJV07",
        "outputId": "1ca1897b-c3e8-4da5-8e2f-d1bfd1fd9616",
        "colab": {
          "base_uri": "https://localhost:8080/"
        }
      },
      "execution_count": null,
      "outputs": [
        {
          "output_type": "stream",
          "name": "stdout",
          "text": [
            "[2]\n",
            "[3]\n",
            "[2]\n"
          ]
        }
      ]
    },
    {
      "cell_type": "markdown",
      "source": [
        "---\n",
        "## Argumentos variacionales \n",
        "\n",
        "Una función en Python puede aceptar **un número variable** de argumentos si un asterisco `*` se utiliza antes del nombre de una variable, que por convenio suele denominarse `*args`. Por ejemplo "
      ],
      "metadata": {
        "id": "2SRSV1QMJeBw"
      }
    },
    {
      "cell_type": "code",
      "source": [
        "def product(first, *args):\n",
        "    result = first\n",
        "    for x in args:\n",
        "        result = result * x\n",
        "    return result"
      ],
      "metadata": {
        "id": "QhS_QFgK8pGT"
      },
      "execution_count": null,
      "outputs": []
    },
    {
      "cell_type": "code",
      "source": [
        "product(10, 20)"
      ],
      "metadata": {
        "colab": {
          "base_uri": "https://localhost:8080/"
        },
        "id": "v8iHgO2a8yBs",
        "outputId": "a10cc8e4-7d50-4445-8ab4-5f65ea10d0cc"
      },
      "execution_count": null,
      "outputs": [
        {
          "output_type": "execute_result",
          "data": {
            "text/plain": [
              "200"
            ]
          },
          "metadata": {},
          "execution_count": 22
        }
      ]
    },
    {
      "cell_type": "code",
      "source": [
        "product(10, 20, 5)"
      ],
      "metadata": {
        "colab": {
          "base_uri": "https://localhost:8080/"
        },
        "id": "c0A-xxXO872c",
        "outputId": "5427cc7e-0081-431d-fa95-b1cc9c81d750"
      },
      "execution_count": null,
      "outputs": [
        {
          "output_type": "execute_result",
          "data": {
            "text/plain": [
              "1000"
            ]
          },
          "metadata": {},
          "execution_count": 23
        }
      ]
    },
    {
      "cell_type": "markdown",
      "source": [
        "En este caso, todos los argumentos extra se localizan en la variable `args` como una tupla. Podemos por lo tanto trabajar con los argumentos utilizando las operaciones estándar de secuencias: iteración, slicing, desempaquetado etc. "
      ],
      "metadata": {
        "id": "3akJA4bp89Sj"
      }
    },
    {
      "cell_type": "markdown",
      "source": [
        "---\n",
        "## Argumentos nombrados y posicionales\n",
        "\n",
        "Los argumentos de las funciones también pueden nombrarse explícitamente para cada parámetro cuando son invocadas, además en ese caso el orden de los argumentos no importa siempre que cada uno tome **un único valor**"
      ],
      "metadata": {
        "id": "gP8QRmvk9ufh"
      }
    },
    {
      "cell_type": "code",
      "source": [
        "def f(w, x, y, z):\n",
        "    pass"
      ],
      "metadata": {
        "id": "kCG7x19U-YrW"
      },
      "execution_count": null,
      "outputs": []
    },
    {
      "cell_type": "markdown",
      "source": [
        "Podemos llamarla como `f(x=3, y=22, w=\"foo\", z=[1, 2])` y alterar el orden. Los argumentos en los que explicitamos el nombre son denominados **argumentos nombrados** y el resto **argumentos posicionales**. Si combinamos ambos, tendremos que tener en cuenta que los posicionales deben ir siempre primero y que ningún argumento reciba más de un valor. Por ejemplo"
      ],
      "metadata": {
        "id": "RM1oyfWv-bna"
      }
    },
    {
      "cell_type": "code",
      "source": [
        "# ✅\n",
        "f(\"foo\", 3, z=[1, 2], y=22)"
      ],
      "metadata": {
        "id": "UiTSwCzN_Lyv"
      },
      "execution_count": null,
      "outputs": []
    },
    {
      "cell_type": "code",
      "source": [
        "# ❌\n",
        "f(3, 22, w=\"foo\", z=[1, 2])"
      ],
      "metadata": {
        "colab": {
          "base_uri": "https://localhost:8080/",
          "height": 190
        },
        "id": "8oAPcGjq_LJT",
        "outputId": "5f152cad-d575-4180-b640-4327fa3c63db"
      },
      "execution_count": null,
      "outputs": [
        {
          "output_type": "error",
          "ename": "TypeError",
          "evalue": "ignored",
          "traceback": [
            "\u001b[0;31m---------------------------------------------------------------------------\u001b[0m",
            "\u001b[0;31mTypeError\u001b[0m                                 Traceback (most recent call last)",
            "\u001b[0;32m<ipython-input-26-79c55e15d211>\u001b[0m in \u001b[0;36m<module>\u001b[0;34m\u001b[0m\n\u001b[1;32m      1\u001b[0m \u001b[0;31m# ❌\u001b[0m\u001b[0;34m\u001b[0m\u001b[0;34m\u001b[0m\u001b[0;34m\u001b[0m\u001b[0m\n\u001b[0;32m----> 2\u001b[0;31m \u001b[0mf\u001b[0m\u001b[0;34m(\u001b[0m\u001b[0;36m3\u001b[0m\u001b[0;34m,\u001b[0m \u001b[0;36m22\u001b[0m\u001b[0;34m,\u001b[0m \u001b[0mw\u001b[0m\u001b[0;34m=\u001b[0m\u001b[0;34m\"foo\"\u001b[0m\u001b[0;34m,\u001b[0m \u001b[0mz\u001b[0m\u001b[0;34m=\u001b[0m\u001b[0;34m[\u001b[0m\u001b[0;36m1\u001b[0m\u001b[0;34m,\u001b[0m \u001b[0;36m2\u001b[0m\u001b[0;34m]\u001b[0m\u001b[0;34m)\u001b[0m\u001b[0;34m\u001b[0m\u001b[0;34m\u001b[0m\u001b[0m\n\u001b[0m",
            "\u001b[0;31mTypeError\u001b[0m: f() got multiple values for argument 'w'"
          ]
        }
      ]
    },
    {
      "cell_type": "markdown",
      "source": [
        "Podemos obligar al uso de argumentos nombrados en nuestras funciones añadiendo argumentos tras un asterisco `*`. Por ejemplo"
      ],
      "metadata": {
        "id": "V26t47LW_mMW"
      }
    },
    {
      "cell_type": "code",
      "source": [
        "def product(first, *args, scale=1):\n",
        "  # de esta forma scale no puede accederse de forma posicional, solo nombrandolo\n",
        "    result = first * scale\n",
        "    for x in args:\n",
        "        result = result * x\n",
        "    return result"
      ],
      "metadata": {
        "id": "TUgpICtoALtp"
      },
      "execution_count": null,
      "outputs": []
    },
    {
      "cell_type": "code",
      "source": [
        "def read_data(filename, *, debug=False):\n",
        "    pass"
      ],
      "metadata": {
        "id": "oqyjsqKwAPno"
      },
      "execution_count": null,
      "outputs": []
    },
    {
      "cell_type": "code",
      "source": [
        "data = read_data(\"Data.csv\", True)"
      ],
      "metadata": {
        "colab": {
          "base_uri": "https://localhost:8080/",
          "height": 172
        },
        "id": "suy0IhLSA3JI",
        "outputId": "57a77b0d-7926-4fb8-ff13-a2e46adedb85"
      },
      "execution_count": null,
      "outputs": [
        {
          "output_type": "error",
          "ename": "TypeError",
          "evalue": "ignored",
          "traceback": [
            "\u001b[0;31m---------------------------------------------------------------------------\u001b[0m",
            "\u001b[0;31mTypeError\u001b[0m                                 Traceback (most recent call last)",
            "\u001b[0;32m<ipython-input-29-875c77499821>\u001b[0m in \u001b[0;36m<module>\u001b[0;34m\u001b[0m\n\u001b[0;32m----> 1\u001b[0;31m \u001b[0mdata\u001b[0m \u001b[0;34m=\u001b[0m \u001b[0mread_data\u001b[0m\u001b[0;34m(\u001b[0m\u001b[0;34m\"Data.csv\"\u001b[0m\u001b[0;34m,\u001b[0m \u001b[0;32mTrue\u001b[0m\u001b[0;34m)\u001b[0m\u001b[0;34m\u001b[0m\u001b[0;34m\u001b[0m\u001b[0m\n\u001b[0m",
            "\u001b[0;31mTypeError\u001b[0m: read_data() takes 1 positional argument but 2 were given"
          ]
        }
      ]
    },
    {
      "cell_type": "code",
      "source": [
        "data = read_data(\"Data.csv\", debug=True)"
      ],
      "metadata": {
        "id": "Msp9fh-OA8Xn"
      },
      "execution_count": null,
      "outputs": []
    },
    {
      "cell_type": "markdown",
      "source": [
        "---\n",
        "## Argumentos variacionales nombrados\n",
        "Si el último argumento de una función tiene el prefijo `**`, todos los argumentos nombrados que no coincidan con los anteriormente definidos se guardarán en un diccionario que se pasa a la función, que por convenio suele llamarse `kwargs`. "
      ],
      "metadata": {
        "id": "l2jVuGReA_UJ"
      }
    },
    {
      "cell_type": "code",
      "source": [
        "def make_table(data, **kwargs):\n",
        "\n",
        "    font_color = kwargs.pop(\"font_color\", \"black\")\n",
        "    bg_color = kwargs.pop(\"bg_color\", \"white\")\n",
        "    width = kwargs.pop(\"width\", None)\n",
        "    # otros argumentos...\n",
        "    if kwargs:\n",
        "        # lanza un error si hay otras configuraciones \n",
        "        pass"
      ],
      "metadata": {
        "id": "cdrTzSPKGUUM"
      },
      "execution_count": null,
      "outputs": []
    },
    {
      "cell_type": "markdown",
      "source": [
        "Combinando el uso de `*` y `**` podemos escribir funciones que aceptan cualquier combinatión de argumentos. Los argumentos posicionales son pasado como una tupla y los nombrados como un diccionario "
      ],
      "metadata": {
        "id": "4tdw76h9Hc9E"
      }
    },
    {
      "cell_type": "code",
      "source": [
        "def f(*args, **kwargs):\n",
        "    print(args)\n",
        "    print(kwargs)"
      ],
      "metadata": {
        "id": "C8aWZaZfH7_-"
      },
      "execution_count": null,
      "outputs": []
    },
    {
      "cell_type": "code",
      "source": [
        "f(3, 2, a=\"foo\", debug=False)"
      ],
      "metadata": {
        "id": "63fgBOaEID-k",
        "outputId": "e5e01292-3e6a-4bb0-8c17-7bcd7368224c",
        "colab": {
          "base_uri": "https://localhost:8080/"
        }
      },
      "execution_count": null,
      "outputs": [
        {
          "output_type": "stream",
          "name": "stdout",
          "text": [
            "(3, 2)\n",
            "{'a': 'foo', 'debug': False}\n"
          ]
        }
      ]
    },
    {
      "cell_type": "markdown",
      "source": [
        "Es posible pasar los argumentos a una función en formato de tupla o diccionario usando `*` y `**` respectivamente"
      ],
      "metadata": {
        "id": "4hikfr-3KBBm"
      }
    },
    {
      "cell_type": "code",
      "source": [
        "def f(x, y, z):\n",
        "    pass\n",
        "\n",
        "s = (1, \"foo\", [0, 1])\n",
        "\n",
        "d = {\n",
        "    \"x\": 1,\n",
        "    \"y\": \"foo\", \n",
        "    \"z\": [0, 1]\n",
        "}\n",
        "\n",
        "f(*s)\n",
        "f(**d)"
      ],
      "metadata": {
        "id": "bW8gird3KEYE"
      },
      "execution_count": null,
      "outputs": []
    },
    {
      "cell_type": "markdown",
      "source": [
        ":::{exercise}\n",
        ":label: functions-recursive\n",
        "\n",
        "Dado un entero positivo $n$, consideremos la siguiente función \n",
        "\n",
        "$$\n",
        "f(n) =  \\begin{cases}\n",
        "      n / 2, & \\text{si }\\ n\\text{ es par} \\\\\n",
        "      3n + 1, & \\text{en caso contrario.}\n",
        "\\end{cases}\n",
        "$$\n",
        "\n",
        "Definimos **la órbita de $n$** como el conjunto de enteros que se obtienen al aplicar reiteradamente $f$ hasta obtener 1. Escribe una función `collatz` que acepte un número arbitrario de enteros y devuelva un diccionario donde las claves sean los enteros y los valores listas con sus correspondientes órbitas.\n",
        "\n",
        "> La [Conjetura de Collatz](https://en.wikipedia.org/wiki/Collatz_conjecture) propone que todo entero tiene una órbita finita. \n",
        "\n",
        ":::"
      ],
      "metadata": {
        "id": "bQKFhxM0cfvf"
      }
    },
    {
      "cell_type": "code",
      "source": [
        "def orbita(n):\n",
        "  orb =[n]\n",
        "  while n != 1 :\n",
        "    if(n%2==0):\n",
        "      n=n/2\n",
        "      orb.append(n)\n",
        "    else:\n",
        "      n=3*n+1\n",
        "      orb.append(n)\n",
        "  return(orb)"
      ],
      "metadata": {
        "id": "PrNO6MUnyioj"
      },
      "execution_count": null,
      "outputs": []
    },
    {
      "cell_type": "code",
      "source": [
        "orbita(3)"
      ],
      "metadata": {
        "colab": {
          "base_uri": "https://localhost:8080/"
        },
        "id": "Y3k8BPMEzMLJ",
        "outputId": "6adceaa1-a2f0-4308-a4ff-adde21622dc5"
      },
      "execution_count": null,
      "outputs": [
        {
          "output_type": "execute_result",
          "data": {
            "text/plain": [
              "[3, 10, 5.0, 16.0, 8.0, 4.0, 2.0, 1.0]"
            ]
          },
          "metadata": {},
          "execution_count": 40
        }
      ]
    },
    {
      "cell_type": "code",
      "source": [
        "def collatz(n,*args):\n",
        "  orbs = {n : orbita(n)}\n",
        "  for x in args:\n",
        "    orbs[x] = orbita(x)\n",
        "  return(orbs)"
      ],
      "metadata": {
        "id": "bhGRTcduzZki"
      },
      "execution_count": null,
      "outputs": []
    },
    {
      "cell_type": "code",
      "source": [
        "collatz(2,3,4)"
      ],
      "metadata": {
        "colab": {
          "base_uri": "https://localhost:8080/"
        },
        "id": "0OaqtLi0ztK8",
        "outputId": "3ffeee20-fb34-40e3-fded-74e6a8f54323"
      },
      "execution_count": null,
      "outputs": [
        {
          "output_type": "execute_result",
          "data": {
            "text/plain": [
              "{2: [2, 1.0], 3: [3, 10, 5.0, 16.0, 8.0, 4.0, 2.0, 1.0], 4: [4, 2.0, 1.0]}"
            ]
          },
          "metadata": {},
          "execution_count": 45
        }
      ]
    },
    {
      "cell_type": "code",
      "source": [
        "## esta es la forma en que Javi la hizo\n",
        "def compute_orbit(n):\n",
        "  l=[]\n",
        "  while n>1:\n",
        "    l.append(n)\n",
        "    if n%2 ==0:\n",
        "      n=n//2\n",
        "    else:\n",
        "      n=3*n+1\n",
        "    l.append(1)\n",
        "  return(l)\n",
        "\n",
        "def collatz2(*args):\n",
        "  ret = {n:compute_orbit(n) for n in args}\n",
        "  return ret"
      ],
      "metadata": {
        "id": "nq9IRm080ZBI"
      },
      "execution_count": null,
      "outputs": []
    },
    {
      "cell_type": "markdown",
      "source": [
        "---\n",
        "## Nombres, Documentación e indicaciones de tipado\n",
        "\n",
        "La convención estándar para nombrar funciones es utilizar *snake_case*, al igual que en las variables. Si se pretende que una función no sea utilizada directamente, si no que implementa algún tipo de detalle interno en nuestro programa, se suele empezar el nombre de la variable por un guión bajo."
      ],
      "metadata": {
        "id": "xFtZd4TLqLz3"
      }
    },
    {
      "cell_type": "markdown",
      "source": [
        "Como todo lo que definimos en Python, **las funciones también son objetos**, y tienen una serie de atributos que es importante conocer. "
      ],
      "metadata": {
        "id": "VKG4kIcosAZB"
      }
    },
    {
      "cell_type": "code",
      "source": [
        "def square(x):\n",
        "    return x * x"
      ],
      "metadata": {
        "id": "2oxXZmynsOhw"
      },
      "execution_count": null,
      "outputs": []
    },
    {
      "cell_type": "markdown",
      "source": [
        "El nombre de la función queda guardado en el atributo `__name__`."
      ],
      "metadata": {
        "id": "4wR1gbOdzxXw"
      }
    },
    {
      "cell_type": "code",
      "source": [
        "square.__name__"
      ],
      "metadata": {
        "colab": {
          "base_uri": "https://localhost:8080/",
          "height": 36
        },
        "id": "9zHWfGQOz7qS",
        "outputId": "cc5172bd-4a4e-4464-84b5-f4ef257825a8"
      },
      "execution_count": null,
      "outputs": [
        {
          "output_type": "execute_result",
          "data": {
            "text/plain": [
              "'square'"
            ],
            "application/vnd.google.colaboratory.intrinsic+json": {
              "type": "string"
            }
          },
          "metadata": {},
          "execution_count": 2
        }
      ]
    },
    {
      "cell_type": "markdown",
      "source": [
        "Es común que la primera expresión que aparece en una función sea una cadena describiendo su uso. Por ejemplo,"
      ],
      "metadata": {
        "id": "xAezX3RGz9aR"
      }
    },
    {
      "cell_type": "code",
      "source": [
        "def factorial(n):\n",
        "    \"\"\"\n",
        "    Calcula el factorial de n. Por ejemplo, \n",
        "\n",
        "    >>> factorial(6)\n",
        "    120\n",
        "    \"\"\"\n",
        "    if n <= 1:\n",
        "        return 1\n",
        "    else: \n",
        "        return n*factorial(n-1)"
      ],
      "metadata": {
        "id": "kCTd00Jg0HyY"
      },
      "execution_count": null,
      "outputs": []
    },
    {
      "cell_type": "markdown",
      "source": [
        "La variable de tipo `str` que guarda la documentación está en el atributo `__doc__` de la función. A menudo es consultado por jupyter o IDEs para mostrarla al usuario. "
      ],
      "metadata": {
        "id": "X84g3Ed60b56"
      }
    },
    {
      "cell_type": "code",
      "source": [
        "print(factorial.__doc__)"
      ],
      "metadata": {
        "colab": {
          "base_uri": "https://localhost:8080/"
        },
        "id": "a3lSjmY606eJ",
        "outputId": "6c09d978-887f-4e6e-c2fd-1ce206d3b196"
      },
      "execution_count": null,
      "outputs": [
        {
          "output_type": "stream",
          "name": "stdout",
          "text": [
            "\n",
            "    Calcula el factorial de n. Por ejemplo, \n",
            "\n",
            "    >>> factorial(6)\n",
            "    120\n",
            "    \n"
          ]
        }
      ]
    },
    {
      "cell_type": "markdown",
      "source": [
        "> Python soporta **funciones recursivas**, es decir, funciones que se llaman a sí mismas. `factorial` es un ejemplo de función recursiva. "
      ],
      "metadata": {
        "id": "4PViDUrkYXDc"
      }
    },
    {
      "cell_type": "markdown",
      "source": [
        "También se pueden realizar anotaciones sobre el tipado de los argumentos y del valor a devolver por la función. Como ya vimos, este tipo de indicaciones **son totalmente ignoradas por el intérprete de Python**, solo sirven para herramientas como [pylint](https://pylint.pycqa.org/en/latest/) que comprueban la consistencia de nuestro código sin ejecutarlo. "
      ],
      "metadata": {
        "id": "t1jyEZfU076n"
      }
    },
    {
      "cell_type": "code",
      "source": [
        "def factorial(n: int) -> int:\n",
        "    if n <= 1:\n",
        "        return 1\n",
        "    else: \n",
        "        return n * factorial(n - 1)"
      ],
      "metadata": {
        "id": "i45MorIb2uIu"
      },
      "execution_count": null,
      "outputs": []
    },
    {
      "cell_type": "markdown",
      "source": [
        "Esta información queda guardada en forma de diccionario en el atributo `__annotations__`.\n",
        "\n",
        "**NOTA** esto es ignorado por el intérprete, solo queda para otros usuarios"
      ],
      "metadata": {
        "id": "EcUdqcCI25Xh"
      }
    },
    {
      "cell_type": "code",
      "source": [
        "factorial.__annotations__"
      ],
      "metadata": {
        "colab": {
          "base_uri": "https://localhost:8080/"
        },
        "id": "ePKtYEbl-krz",
        "outputId": "398dde32-e633-426c-b2ee-68d172cada4b"
      },
      "execution_count": null,
      "outputs": [
        {
          "output_type": "execute_result",
          "data": {
            "text/plain": [
              "{'n': int, 'return': int}"
            ]
          },
          "metadata": {},
          "execution_count": 6
        }
      ]
    },
    {
      "cell_type": "markdown",
      "source": [
        "---\n",
        "## Llamadas a la función y alcance\n",
        "\n",
        "Cuando definimos una función, Python crea los objetos definidos en los parámetros por defecto y las respectivas variables en el espacio de nombres local de la función que apuntan a los mismos. "
      ],
      "metadata": {
        "id": "j-I1Jk3v-nY4"
      }
    },
    {
      "cell_type": "code",
      "source": [
        "def init_foo():\n",
        "    print(\"foo\")\n",
        "    return 0"
      ],
      "metadata": {
        "id": "uRACiovsHCvf"
      },
      "execution_count": null,
      "outputs": []
    },
    {
      "cell_type": "code",
      "source": [
        "def f(arg1=1, arg2=init_foo()):\n",
        "    print(a, b)\n",
        "### nada más definirlo lo ejecuta, pero no queda guardado así que no podemos acceder a arg1"
      ],
      "metadata": {
        "colab": {
          "base_uri": "https://localhost:8080/"
        },
        "id": "rsqPCr3OHOkM",
        "outputId": "5a3c7ca3-8a03-4181-b754-8f27f2a32d80"
      },
      "execution_count": null,
      "outputs": [
        {
          "output_type": "stream",
          "name": "stdout",
          "text": [
            "foo\n"
          ]
        }
      ]
    },
    {
      "cell_type": "code",
      "source": [
        "arg1"
      ],
      "metadata": {
        "colab": {
          "base_uri": "https://localhost:8080/",
          "height": 171
        },
        "id": "4xt9UIhJHpqh",
        "outputId": "446715fb-b88b-45da-dce8-a33f4f284abd"
      },
      "execution_count": null,
      "outputs": [
        {
          "output_type": "error",
          "ename": "NameError",
          "evalue": "ignored",
          "traceback": [
            "\u001b[0;31m---------------------------------------------------------------------------\u001b[0m",
            "\u001b[0;31mNameError\u001b[0m                                 Traceback (most recent call last)",
            "\u001b[0;32m<ipython-input-45-42cd4c5c2b13>\u001b[0m in \u001b[0;36m<module>\u001b[0;34m\u001b[0m\n\u001b[0;32m----> 1\u001b[0;31m \u001b[0marg1\u001b[0m\u001b[0;34m\u001b[0m\u001b[0;34m\u001b[0m\u001b[0m\n\u001b[0m",
            "\u001b[0;31mNameError\u001b[0m: name 'arg1' is not defined"
          ]
        }
      ]
    },
    {
      "cell_type": "markdown",
      "source": [
        "Cuando se realiza una llamada a una función, los parámetros (por defecto o no) pasan a ser variables que apuntan a los objetos de entrada de la función. Python crea estas referencias directamente, **sin realizar ningún tipo de copiado**, por ello hay que tener especial precaución con los objetos mutables que se pasan en la llamada de una función.  "
      ],
      "metadata": {
        "id": "BnMzzhVkIO7p"
      }
    },
    {
      "cell_type": "code",
      "source": [
        "def square(items):\n",
        "    for i, x in enumerate(items):\n",
        "        items[i] = x * x\n",
        "    return items"
      ],
      "metadata": {
        "id": "war4c9_gI8-6"
      },
      "execution_count": 1,
      "outputs": []
    },
    {
      "cell_type": "code",
      "source": [
        "a = [1, 2, 3, 4, 5]\n",
        "square(a)"
      ],
      "metadata": {
        "colab": {
          "base_uri": "https://localhost:8080/"
        },
        "id": "5GtKhCn3JBkm",
        "outputId": "061635f7-ddb5-4108-f55f-3321b04ec9f3"
      },
      "execution_count": null,
      "outputs": [
        {
          "output_type": "execute_result",
          "data": {
            "text/plain": [
              "[1, 4, 9, 16, 25]"
            ]
          },
          "metadata": {},
          "execution_count": 50
        }
      ]
    },
    {
      "cell_type": "code",
      "source": [
        "a ### vemos que la función ha modificado a"
      ],
      "metadata": {
        "colab": {
          "base_uri": "https://localhost:8080/"
        },
        "id": "w3sG20IEJLLz",
        "outputId": "5d6d4fcc-8363-4c29-cb5c-db921e5f9d64"
      },
      "execution_count": null,
      "outputs": [
        {
          "output_type": "execute_result",
          "data": {
            "text/plain": [
              "[1, 4, 9, 16, 25]"
            ]
          },
          "metadata": {},
          "execution_count": 51
        }
      ]
    },
    {
      "cell_type": "markdown",
      "source": [
        "Las funciones que mutan los objetos de entrada o que cambian el estado de otras partes del programa, se dice que tienen *side effects*. Un indicardor importante para identificarlas es que normalmente estas funciones no devuelven ningún valor. Se puede evitar este tipo de comportamiento en las funciones reasignando el nombre de la variable local. "
      ],
      "metadata": {
        "id": "6HBMkvBUJLhD"
      }
    },
    {
      "cell_type": "code",
      "source": [
        "def square_nse(items):\n",
        "    # Nada de side-effects\n",
        "    items = [x * x for x in items]\n",
        "    return items"
      ],
      "metadata": {
        "id": "NcD3SA2eLIvG"
      },
      "execution_count": 3,
      "outputs": []
    },
    {
      "cell_type": "code",
      "source": [
        "a = [1, 2, 3, 4, 5]\n",
        "square(a)"
      ],
      "metadata": {
        "colab": {
          "base_uri": "https://localhost:8080/"
        },
        "id": "e5SQOLtiLZdT",
        "outputId": "69ca21eb-b806-40a7-9cf0-0ab5df2a7b25"
      },
      "execution_count": 4,
      "outputs": [
        {
          "output_type": "execute_result",
          "data": {
            "text/plain": [
              "[1, 4, 9, 16, 25]"
            ]
          },
          "metadata": {},
          "execution_count": 4
        }
      ]
    },
    {
      "cell_type": "code",
      "source": [
        "a"
      ],
      "metadata": {
        "colab": {
          "base_uri": "https://localhost:8080/"
        },
        "id": "hDgm2GxrLbMh",
        "outputId": "15439954-702d-44b9-f7a2-7f8e37490bdd"
      },
      "execution_count": 5,
      "outputs": [
        {
          "output_type": "execute_result",
          "data": {
            "text/plain": [
              "[1, 4, 9, 16, 25]"
            ]
          },
          "metadata": {},
          "execution_count": 5
        }
      ]
    },
    {
      "cell_type": "code",
      "source": [
        "print(square_nse(a))\n",
        "print(a) ### de esta forma como lo que modificó es distinto no tiene side-effects"
      ],
      "metadata": {
        "colab": {
          "base_uri": "https://localhost:8080/"
        },
        "id": "lUvZ1dbUwjR-",
        "outputId": "5c7097db-faca-4383-8d34-3e411e89b8f8"
      },
      "execution_count": 7,
      "outputs": [
        {
          "output_type": "stream",
          "name": "stdout",
          "text": [
            "[1, 16, 81, 256, 625]\n",
            "[1, 4, 9, 16, 25]\n"
          ]
        }
      ]
    },
    {
      "cell_type": "markdown",
      "source": [
        "Cada vez que ejecutamos una función se crea **un espacio de nombres local**, que es un entorno que contiene el nombre y los valores de los parámetros de la fucnión así como variables que son asignadas dentro de la función. Las variables no definidas en el espacio local de una función son buscadas de forma dinámica (es decir, durante la ejecución de la función cuando es llamada) en el espacio global de nombres. \n",
        "\n",
        "En este contexto son dos los tipos de errores que nos podemos encontrar \n",
        "- `UnboundedLocalError`: variable local que todavía no ha sido asignada. \n",
        "- `NameError`: se menciona una variable que no está ni el espacio de nombres local ni global.\n",
        "\n",
        "\n",
        "Considera los siguientes ejemplos"
      ],
      "metadata": {
        "id": "PIWuAV9BMOu8"
      }
    },
    {
      "cell_type": "code",
      "source": [
        "def f():\n",
        "    n = n + 1\n",
        "\n",
        "f()"
      ],
      "metadata": {
        "colab": {
          "base_uri": "https://localhost:8080/",
          "height": 318
        },
        "id": "YbrdTBZmSPh-",
        "outputId": "18e918af-d990-474c-a2b1-094893324137"
      },
      "execution_count": null,
      "outputs": [
        {
          "output_type": "error",
          "ename": "UnboundLocalError",
          "evalue": "ignored",
          "traceback": [
            "\u001b[0;31m---------------------------------------------------------------------------\u001b[0m",
            "\u001b[0;31mUnboundLocalError\u001b[0m                         Traceback (most recent call last)",
            "\u001b[0;32m<ipython-input-70-d227933f6b14>\u001b[0m in \u001b[0;36m<module>\u001b[0;34m\u001b[0m\n\u001b[1;32m      2\u001b[0m     \u001b[0mn\u001b[0m \u001b[0;34m=\u001b[0m \u001b[0mn\u001b[0m \u001b[0;34m+\u001b[0m \u001b[0;36m1\u001b[0m\u001b[0;34m\u001b[0m\u001b[0;34m\u001b[0m\u001b[0m\n\u001b[1;32m      3\u001b[0m \u001b[0;34m\u001b[0m\u001b[0m\n\u001b[0;32m----> 4\u001b[0;31m \u001b[0mf\u001b[0m\u001b[0;34m(\u001b[0m\u001b[0;34m)\u001b[0m\u001b[0;34m\u001b[0m\u001b[0;34m\u001b[0m\u001b[0m\n\u001b[0m",
            "\u001b[0;32m<ipython-input-70-d227933f6b14>\u001b[0m in \u001b[0;36mf\u001b[0;34m()\u001b[0m\n\u001b[1;32m      1\u001b[0m \u001b[0;32mdef\u001b[0m \u001b[0mf\u001b[0m\u001b[0;34m(\u001b[0m\u001b[0;34m)\u001b[0m\u001b[0;34m:\u001b[0m\u001b[0;34m\u001b[0m\u001b[0;34m\u001b[0m\u001b[0m\n\u001b[0;32m----> 2\u001b[0;31m     \u001b[0mn\u001b[0m \u001b[0;34m=\u001b[0m \u001b[0mn\u001b[0m \u001b[0;34m+\u001b[0m \u001b[0;36m1\u001b[0m\u001b[0;34m\u001b[0m\u001b[0;34m\u001b[0m\u001b[0m\n\u001b[0m\u001b[1;32m      3\u001b[0m \u001b[0;34m\u001b[0m\u001b[0m\n\u001b[1;32m      4\u001b[0m \u001b[0mf\u001b[0m\u001b[0;34m(\u001b[0m\u001b[0;34m)\u001b[0m\u001b[0;34m\u001b[0m\u001b[0;34m\u001b[0m\u001b[0m\n",
            "\u001b[0;31mUnboundLocalError\u001b[0m: local variable 'n' referenced before assignment"
          ]
        }
      ]
    },
    {
      "cell_type": "code",
      "source": [
        "def g():\n",
        "    print(non_defined_var)\n",
        "\n",
        "g()"
      ],
      "metadata": {
        "colab": {
          "base_uri": "https://localhost:8080/",
          "height": 318
        },
        "id": "MK849dBWSdvl",
        "outputId": "44f6f1bc-c3d3-483e-dd9a-8d632af65d2a"
      },
      "execution_count": null,
      "outputs": [
        {
          "output_type": "error",
          "ename": "NameError",
          "evalue": "ignored",
          "traceback": [
            "\u001b[0;31m---------------------------------------------------------------------------\u001b[0m",
            "\u001b[0;31mNameError\u001b[0m                                 Traceback (most recent call last)",
            "\u001b[0;32m<ipython-input-69-9a9aa7a53d93>\u001b[0m in \u001b[0;36m<module>\u001b[0;34m\u001b[0m\n\u001b[1;32m      2\u001b[0m     \u001b[0mprint\u001b[0m\u001b[0;34m(\u001b[0m\u001b[0mnon_defined_var\u001b[0m\u001b[0;34m)\u001b[0m\u001b[0;34m\u001b[0m\u001b[0;34m\u001b[0m\u001b[0m\n\u001b[1;32m      3\u001b[0m \u001b[0;34m\u001b[0m\u001b[0m\n\u001b[0;32m----> 4\u001b[0;31m \u001b[0mg\u001b[0m\u001b[0;34m(\u001b[0m\u001b[0;34m)\u001b[0m\u001b[0;34m\u001b[0m\u001b[0;34m\u001b[0m\u001b[0m\n\u001b[0m",
            "\u001b[0;32m<ipython-input-69-9a9aa7a53d93>\u001b[0m in \u001b[0;36mg\u001b[0;34m()\u001b[0m\n\u001b[1;32m      1\u001b[0m \u001b[0;32mdef\u001b[0m \u001b[0mg\u001b[0m\u001b[0;34m(\u001b[0m\u001b[0;34m)\u001b[0m\u001b[0;34m:\u001b[0m\u001b[0;34m\u001b[0m\u001b[0;34m\u001b[0m\u001b[0m\n\u001b[0;32m----> 2\u001b[0;31m     \u001b[0mprint\u001b[0m\u001b[0;34m(\u001b[0m\u001b[0mnon_defined_var\u001b[0m\u001b[0;34m)\u001b[0m\u001b[0;34m\u001b[0m\u001b[0;34m\u001b[0m\u001b[0m\n\u001b[0m\u001b[1;32m      3\u001b[0m \u001b[0;34m\u001b[0m\u001b[0m\n\u001b[1;32m      4\u001b[0m \u001b[0mg\u001b[0m\u001b[0;34m(\u001b[0m\u001b[0;34m)\u001b[0m\u001b[0;34m\u001b[0m\u001b[0;34m\u001b[0m\u001b[0m\n",
            "\u001b[0;31mNameError\u001b[0m: name 'non_defined_var' is not defined"
          ]
        }
      ]
    },
    {
      "cell_type": "code",
      "source": [
        "global_var = \"foo\"\n",
        "def h():\n",
        "    print(global_var)\n",
        "\n",
        "h()"
      ],
      "metadata": {
        "colab": {
          "base_uri": "https://localhost:8080/"
        },
        "id": "45CSkYgJTmWP",
        "outputId": "8fb23f7b-6dfa-4494-97e0-68eb56d6c977"
      },
      "execution_count": 8,
      "outputs": [
        {
          "output_type": "stream",
          "name": "stdout",
          "text": [
            "foo\n"
          ]
        }
      ]
    },
    {
      "cell_type": "markdown",
      "source": [
        "Las variables definidas dentro de las funciones (incluidos los parámetros) tienen un *scope* o alcance que restringe su acceso a la definición de la función. Por ello cuando un nombre aparece tanto en el espacio de nombres local como global, su valor depende del *scope* del mismo. "
      ],
      "metadata": {
        "id": "Pe8o6INGUAF6"
      }
    },
    {
      "cell_type": "code",
      "source": [
        "x = 42\n",
        "def f():\n",
        "    x = 13\n",
        "    print(x)\n",
        "\n",
        "f()\n",
        "print(x)"
      ],
      "metadata": {
        "colab": {
          "base_uri": "https://localhost:8080/"
        },
        "id": "tKaXXrOMUlFB",
        "outputId": "fe622af0-f71c-4bef-d2fe-ff8b0025ff7d"
      },
      "execution_count": 9,
      "outputs": [
        {
          "output_type": "stream",
          "name": "stdout",
          "text": [
            "13\n",
            "42\n"
          ]
        }
      ]
    },
    {
      "cell_type": "markdown",
      "source": [
        "Si dentro de una función queremos acceder al valor global de una variable utilizamos `global`"
      ],
      "metadata": {
        "id": "5T9Hoss8Uu6d"
      }
    },
    {
      "cell_type": "code",
      "source": [
        "x = 42\n",
        "def f():\n",
        "    global x\n",
        "    x = 13 ### ahora esta modificación se hizo sobre el x global, lo ha modificado\n",
        "    print(x)\n",
        "\n",
        "f()\n",
        "print(x)"
      ],
      "metadata": {
        "colab": {
          "base_uri": "https://localhost:8080/"
        },
        "id": "8CzyzbycU2uB",
        "outputId": "58437f4d-2702-4384-ed99-ec764b7b07a9"
      },
      "execution_count": 10,
      "outputs": [
        {
          "output_type": "stream",
          "name": "stdout",
          "text": [
            "13\n",
            "13\n"
          ]
        }
      ]
    },
    {
      "cell_type": "markdown",
      "source": [
        "---\n",
        "## Funciones lambda\n"
      ],
      "metadata": {
        "id": "Z0-ogxs1Dd1K"
      }
    },
    {
      "cell_type": "markdown",
      "source": [
        "Se puden definir funciones **anónimas**, es decir, no tienen un nombre asignado, mediante las denominadas **expresiones lambda**, que tienen la siguiente sintaxis\n",
        "\n",
        "```\n",
        "lambda args: expression\n",
        "```\n",
        "\n",
        "donde `args` son parámetros separados por comas y `expression` es una expresión (una concatenación de operadores; no se realizan bucles, ni asignaciones etc). Por ejemplo"
      ],
      "metadata": {
        "id": "kPtQQxFlEBK5"
      }
    },
    {
      "cell_type": "code",
      "source": [
        "a = lambda x, y: x + y ### esto solo puede tener una linea\n",
        "\n",
        "a(2, 3)"
      ],
      "metadata": {
        "colab": {
          "base_uri": "https://localhost:8080/"
        },
        "id": "aqOGx1mQFJBm",
        "outputId": "a1222607-348e-451c-d39d-0afae6d4e4d7"
      },
      "execution_count": 11,
      "outputs": [
        {
          "output_type": "execute_result",
          "data": {
            "text/plain": [
              "5"
            ]
          },
          "metadata": {},
          "execution_count": 11
        }
      ]
    },
    {
      "cell_type": "markdown",
      "source": [
        "Las expresiones lambda son útiles cuando por ejemplo pasemos una función como parámetro a una función de orden superior. "
      ],
      "metadata": {
        "id": "LX7cJwcqFeSM"
      }
    },
    {
      "cell_type": "markdown",
      "source": [
        ":::{exercise}\n",
        ":label: functions-lambda\n",
        "\n",
        "Pasa una función lambda al parámetro `key` [del método `sorted`](https://docs.python.org/3/library/stdtypes.html#list) para ordenar una lista (de menor a mayor) de cadenas por order alfabético pero empezando por el último elemento de la cadena. Por ejemplo\n",
        "\n",
        "```\n",
        "[\"baz\", \"bar\", \"foo\"]  -> [\"foo\", \"bar\", \"baz\"]\n",
        "```\n",
        "**NOTA** esto es con el orden \"Normal\" podemos también revertirse\n",
        "```\n",
        "[\"Manolo\", \"Virginia\" , \"Juan\"] -> [\"Manolo\", \"Juan\", \"Virginia\"]\n",
        "```\n",
        "\n",
        ":::"
      ],
      "metadata": {
        "id": "iQiYlZmjFqpG"
      }
    },
    {
      "cell_type": "code",
      "source": [
        "def parte_imaginaria(c):\n",
        "  return c.imag\n",
        "\n",
        "sorted([1+2j, 3+2j, 3-1j], key=parte_imaginaria) # ejemplo de uso de las key"
      ],
      "metadata": {
        "colab": {
          "base_uri": "https://localhost:8080/"
        },
        "id": "soWlhujwzzG7",
        "outputId": "b4a92c8e-c29f-4974-94d0-fe45a29fb082"
      },
      "execution_count": 24,
      "outputs": [
        {
          "output_type": "execute_result",
          "data": {
            "text/plain": [
              "[(3-1j), (1+2j), (3+2j)]"
            ]
          },
          "metadata": {},
          "execution_count": 24
        }
      ]
    },
    {
      "cell_type": "code",
      "source": [
        "sorted([1+2j, 3+2j, 3-1j], key=lambda c: c.imag)"
      ],
      "metadata": {
        "colab": {
          "base_uri": "https://localhost:8080/"
        },
        "id": "E92D9cvb1xOS",
        "outputId": "f0c80ea2-c2bb-4850-d819-c613a539bc46"
      },
      "execution_count": 25,
      "outputs": [
        {
          "output_type": "execute_result",
          "data": {
            "text/plain": [
              "[(3-1j), (1+2j), (3+2j)]"
            ]
          },
          "metadata": {},
          "execution_count": 25
        }
      ]
    },
    {
      "cell_type": "code",
      "source": [
        "sorted([\"aaa\",\"bba\",\"bbc\"]) # esta es la ordenación normal"
      ],
      "metadata": {
        "colab": {
          "base_uri": "https://localhost:8080/"
        },
        "id": "ZZ-17Zhc0rhu",
        "outputId": "696e652e-3fab-4bf0-ac24-d4c56198e003"
      },
      "execution_count": 22,
      "outputs": [
        {
          "output_type": "execute_result",
          "data": {
            "text/plain": [
              "['aaa', 'bba', 'bbc']"
            ]
          },
          "metadata": {},
          "execution_count": 22
        }
      ]
    },
    {
      "cell_type": "code",
      "source": [
        "sorted([\"aaa\",\"aab\",\"aaaca\"],key= lambda s : s[::-1] , reverse = True) "
      ],
      "metadata": {
        "colab": {
          "base_uri": "https://localhost:8080/"
        },
        "id": "cVTsY6Mz0gNz",
        "outputId": "00c1de0d-87dc-47a4-860c-6dd5021d945f"
      },
      "execution_count": 37,
      "outputs": [
        {
          "output_type": "execute_result",
          "data": {
            "text/plain": [
              "['aab', 'aaaca', 'aaa']"
            ]
          },
          "metadata": {},
          "execution_count": 37
        }
      ]
    },
    {
      "cell_type": "code",
      "source": [
        "sorted([\"baz\", \"bar\", \"foo\"],key= lambda s : s[::-1])"
      ],
      "metadata": {
        "colab": {
          "base_uri": "https://localhost:8080/"
        },
        "id": "iNL_SnvN3qhA",
        "outputId": "b7d21100-25b6-4328-fb97-ec2cbf97c927"
      },
      "execution_count": 38,
      "outputs": [
        {
          "output_type": "execute_result",
          "data": {
            "text/plain": [
              "['foo', 'bar', 'baz']"
            ]
          },
          "metadata": {},
          "execution_count": 38
        }
      ]
    },
    {
      "cell_type": "code",
      "source": [
        "sorted([\"Manolo\", \"Virginia\" , \"Juan\"] , key= lambda s : s[::-1] , reverse = True)"
      ],
      "metadata": {
        "colab": {
          "base_uri": "https://localhost:8080/"
        },
        "id": "CuBsFQB519TK",
        "outputId": "6f13fd52-fd17-4913-e7d5-0eb1546ffce6"
      },
      "execution_count": 39,
      "outputs": [
        {
          "output_type": "execute_result",
          "data": {
            "text/plain": [
              "['Manolo', 'Juan', 'Virginia']"
            ]
          },
          "metadata": {},
          "execution_count": 39
        }
      ]
    },
    {
      "cell_type": "code",
      "source": [
        "sorted([\"azsa\", \"azb\" , \"aza\",\"bel\"] ,key= lambda s : s[::-1] , reverse = True)"
      ],
      "metadata": {
        "colab": {
          "base_uri": "https://localhost:8080/"
        },
        "id": "FY_VwJXE2FgP",
        "outputId": "9686d098-e310-4e42-8e17-ad46515cedbe"
      },
      "execution_count": 40,
      "outputs": [
        {
          "output_type": "execute_result",
          "data": {
            "text/plain": [
              "['bel', 'azb', 'aza', 'azsa']"
            ]
          },
          "metadata": {},
          "execution_count": 40
        }
      ]
    },
    {
      "cell_type": "code",
      "source": [
        "list_str = [\"azsa\", \"azb\" , \"aza\",\"bel\"]\n",
        "list_str.sort(key= lambda s : s[::-1], reverse = True)\n",
        "print(list_str)"
      ],
      "metadata": {
        "colab": {
          "base_uri": "https://localhost:8080/"
        },
        "id": "245XhqE526Kr",
        "outputId": "bd92ead4-fd20-44a5-ee74-1d88a150be74"
      },
      "execution_count": 36,
      "outputs": [
        {
          "output_type": "stream",
          "name": "stdout",
          "text": [
            "['bel', 'azb', 'aza', 'azsa']\n"
          ]
        }
      ]
    },
    {
      "cell_type": "markdown",
      "source": [
        "---\n",
        "## Map, Filter, Reduce\n",
        "\n",
        "Python soporta lo que se denomina el concepto de **funciones de orden superior**. Esto significa que podemos usar funciones como argumentos de otras funciones, almacenarlas en estructuras de datos, devolver una función en una función etc. Considera el siguiente ejemplo"
      ],
      "metadata": {
        "id": "6wWqT4enaJM1"
      }
    },
    {
      "cell_type": "code",
      "source": [
        "import time\n",
        "\n",
        "def after(seconds, f):\n",
        "    time.sleep(seconds)\n",
        "    f()\n",
        "\n",
        "def foo():\n",
        "    print(\"Foo!\")\n",
        "\n",
        "after(10, foo)"
      ],
      "metadata": {
        "colab": {
          "base_uri": "https://localhost:8080/"
        },
        "id": "EnkBozKcaVJ-",
        "outputId": "6e08d28a-825d-4e59-bf35-41c054d0a235"
      },
      "execution_count": 42,
      "outputs": [
        {
          "output_type": "stream",
          "name": "stdout",
          "text": [
            "Foo!\n"
          ]
        }
      ]
    },
    {
      "cell_type": "markdown",
      "source": [
        "En este contexto, Python incorporta algunas funciones que nos permiten trabajar con funciones y que son la base de las expresiones de comprensión. Por un lado tenemos `filter` para filtrar según una función que devuelva un booleano y `map` para aplicar una función a un iterable. "
      ],
      "metadata": {
        "id": "kFc5D83qe9-o"
      }
    },
    {
      "cell_type": "code",
      "source": [
        "nums = list(range(11))\n",
        "filt = filter(lambda x: x%3 == 0, nums)\n",
        "squares = map(lambda x: x*x, nums)"
      ],
      "metadata": {
        "id": "GrFyaElfJke6"
      },
      "execution_count": 43,
      "outputs": []
    },
    {
      "cell_type": "code",
      "source": [
        "type(filt)"
      ],
      "metadata": {
        "colab": {
          "base_uri": "https://localhost:8080/"
        },
        "id": "xPQSZ63gJvTv",
        "outputId": "a4d49fcf-359e-4c97-e046-336383b10801"
      },
      "execution_count": 44,
      "outputs": [
        {
          "output_type": "execute_result",
          "data": {
            "text/plain": [
              "filter"
            ]
          },
          "metadata": {},
          "execution_count": 44
        }
      ]
    },
    {
      "cell_type": "code",
      "source": [
        "type(squares)"
      ],
      "metadata": {
        "colab": {
          "base_uri": "https://localhost:8080/"
        },
        "id": "4J2uyJUIKXl2",
        "outputId": "26946444-7bc3-4ec5-ba4a-5d93833c9765"
      },
      "execution_count": 45,
      "outputs": [
        {
          "output_type": "execute_result",
          "data": {
            "text/plain": [
              "map"
            ]
          },
          "metadata": {},
          "execution_count": 45
        }
      ]
    },
    {
      "cell_type": "markdown",
      "source": [
        "Tanto `filter` como `map` devuelven **generadores**. "
      ],
      "metadata": {
        "id": "JUr7oHTcLBIb"
      }
    },
    {
      "cell_type": "markdown",
      "source": [
        "Finalmente, existe la función `reduce` del módulo `itertools` para aplicar una función de dos parámetros a los objetos de un iterable de forma reiterada."
      ],
      "metadata": {
        "id": "l76ojkEgMAid"
      }
    },
    {
      "cell_type": "code",
      "source": [
        "from functools import reduce \n",
        "nums = range(11)\n",
        "total = reduce(lambda x, y: x + y, nums)\n",
        "print(total)"
      ],
      "metadata": {
        "colab": {
          "base_uri": "https://localhost:8080/"
        },
        "id": "VPqTmVAiMQRa",
        "outputId": "a25659ab-92dc-49ed-ac4c-d4f0c57a1c3d"
      },
      "execution_count": 46,
      "outputs": [
        {
          "output_type": "stream",
          "name": "stdout",
          "text": [
            "55\n"
          ]
        }
      ]
    },
    {
      "cell_type": "markdown",
      "source": [
        "La función reduce tiene un parámetro opcional `initial` por si queremos añadirlo al principio del iterable antes de ejecutar las evaluaciones de la función. "
      ],
      "metadata": {
        "id": "dHSKllxwNJqV"
      }
    },
    {
      "cell_type": "markdown",
      "source": [
        ":::{exercise}\n",
        ":label: functions-reduce\n",
        "\n",
        "Utiliza `reduce` sobre un iterable para obtener\n",
        "\n",
        "```\n",
        "(((((None, 1), 2), 3), 4), 5)\n",
        "```\n",
        "\n",
        ":::"
      ],
      "metadata": {
        "id": "0fPC6XAWM91c"
      }
    },
    {
      "cell_type": "code",
      "source": [
        "reduce(lambda x,y : (x,y), [None,1,2,3,4,5])"
      ],
      "metadata": {
        "colab": {
          "base_uri": "https://localhost:8080/"
        },
        "id": "Bfr4ZM4L9iYj",
        "outputId": "c9acd4b0-7d01-44ba-e5f4-ca62a447a1e5"
      },
      "execution_count": 90,
      "outputs": [
        {
          "output_type": "execute_result",
          "data": {
            "text/plain": [
              "(((((None, 1), 2), 3), 4), 5)"
            ]
          },
          "metadata": {},
          "execution_count": 90
        }
      ]
    },
    {
      "cell_type": "markdown",
      "source": [
        ":::{exercise}\n",
        ":label: functions-reduce-2\n",
        "\n",
        "Implementa la función `reduce` por ti mismo.\n",
        "\n",
        ":::"
      ],
      "metadata": {
        "id": "I0a7DeNmOMKc"
      }
    },
    {
      "cell_type": "code",
      "source": [
        "def reduce_casero(fun,myl):\n",
        "  l = len(myl)\n",
        "  if l==1:\n",
        "    return myl[0]\n",
        "  elif l==2:\n",
        "    return fun(myl[0],myl[1])\n",
        "  else :\n",
        "    nuev=fun(myl[0],myl[1])\n",
        "    myl.remove(myl[0]) ## elimino el que está primero\n",
        "    myl.remove(myl[0]) ## para eliminar el segundo, ahora está en primera posición\n",
        "    myl2 = [nuev] + myl\n",
        "    return reduce_casero(fun,myl2)\n"
      ],
      "metadata": {
        "id": "75ufFH0n4kJT"
      },
      "execution_count": 102,
      "outputs": []
    },
    {
      "cell_type": "code",
      "source": [
        "reduce(lambda x, y: x + y, [1,2,3,4,5])"
      ],
      "metadata": {
        "colab": {
          "base_uri": "https://localhost:8080/"
        },
        "id": "yC-sd96i5I-w",
        "outputId": "9a35590c-74bf-4eb3-d9c7-dbee8526208d"
      },
      "execution_count": 104,
      "outputs": [
        {
          "output_type": "execute_result",
          "data": {
            "text/plain": [
              "15"
            ]
          },
          "metadata": {},
          "execution_count": 104
        }
      ]
    },
    {
      "cell_type": "code",
      "source": [
        "reduce_casero(lambda x, y: x + y, [1,2,3,4,5])"
      ],
      "metadata": {
        "colab": {
          "base_uri": "https://localhost:8080/"
        },
        "id": "OfLw-oWg_3wI",
        "outputId": "6d40454e-3ccd-47c6-8d53-86c9e4a461ce"
      },
      "execution_count": 105,
      "outputs": [
        {
          "output_type": "execute_result",
          "data": {
            "text/plain": [
              "15"
            ]
          },
          "metadata": {},
          "execution_count": 105
        }
      ]
    },
    {
      "cell_type": "code",
      "source": [
        "myl=[1,2,3,4,5]\n",
        "fun = lambda x,y : x+y\n",
        "\n",
        "nuev=fun(myl[0],myl[1])\n",
        "\n",
        "myl.remove(myl[0])\n",
        "myl.remove(myl[0])\n",
        "myl2 = [nuev] + myl\n",
        "print(myl2)"
      ],
      "metadata": {
        "colab": {
          "base_uri": "https://localhost:8080/"
        },
        "id": "V1b14rsc73mW",
        "outputId": "d419ae63-d117-47c5-8c78-4342f6b4b573"
      },
      "execution_count": 106,
      "outputs": [
        {
          "output_type": "stream",
          "name": "stdout",
          "text": [
            "[3, 3, 4, 5]\n"
          ]
        }
      ]
    }
  ],
  "metadata": {
    "kernelspec": {
      "display_name": "Python 3.9.1 64-bit",
      "language": "python",
      "name": "python3"
    },
    "language_info": {
      "name": "python",
      "version": "3.9.1"
    },
    "orig_nbformat": 4,
    "vscode": {
      "interpreter": {
        "hash": "397704579725e15f5c7cb49fe5f0341eb7531c82d19f2c29d197e8b64ab5776b"
      }
    },
    "colab": {
      "provenance": [],
      "include_colab_link": true
    }
  },
  "nbformat": 4,
  "nbformat_minor": 0
}
{
  "cells": [
    {
      "cell_type": "markdown",
      "metadata": {
        "id": "view-in-github",
        "colab_type": "text"
      },
      "source": [
        "<a href=\"https://colab.research.google.com/github/magjanvaz/curso-python-us/blob/main/notebooks/introduction-python/lists.ipynb\" target=\"_parent\"><img src=\"https://colab.research.google.com/assets/colab-badge.svg\" alt=\"Open In Colab\"/></a>"
      ]
    },
    {
      "cell_type": "markdown",
      "metadata": {
        "id": "eYHfIKROMii0"
      },
      "source": [
        "# Listas\n",
        "\n",
        "Las **listas** son un tipo de objeto que nos permite guardar una secuencia de otros objetos, actualizarlos, añadir nuevos y borrarlos. A diferencia de todos los tipos que hemos visto hasta ahora, las listas con objetos **mutables**, es decir, pueden cambiar durante la ejecución de nuestro programa. \n",
        "\n",
        "Para crear una lista en Python usamos corchetes y escribimos sus elementos separados por comas `[item1, item2, ..., itemN]`. Los objetos de una lista **no tienen por qué ser del mismo tipo de objeto**"
      ]
    },
    {
      "cell_type": "code",
      "execution_count": null,
      "metadata": {
        "colab": {
          "base_uri": "https://localhost:8080/"
        },
        "id": "JmvoO1AnNirL",
        "outputId": "a3a6c0f5-641c-43aa-b07e-2eee3a600531"
      },
      "outputs": [
        {
          "output_type": "execute_result",
          "data": {
            "text/plain": [
              "[3.5, None, 'foo']"
            ]
          },
          "metadata": {},
          "execution_count": 1
        }
      ],
      "source": [
        "[3.5, None, \"foo\"] "
      ]
    },
    {
      "cell_type": "code",
      "execution_count": null,
      "metadata": {
        "colab": {
          "base_uri": "https://localhost:8080/"
        },
        "id": "KFHrUKuPRn6y",
        "outputId": "e86a3cdc-5843-426a-d51f-0229e2112561"
      },
      "outputs": [
        {
          "output_type": "execute_result",
          "data": {
            "text/plain": [
              "list"
            ]
          },
          "metadata": {},
          "execution_count": 2
        }
      ],
      "source": [
        "type([1, 2, 3])"
      ]
    },
    {
      "cell_type": "code",
      "execution_count": null,
      "metadata": {
        "colab": {
          "base_uri": "https://localhost:8080/"
        },
        "id": "rk6GMpGBRpjZ",
        "outputId": "4313e4c8-aa0e-4ecf-afcb-d49407b4c816"
      },
      "outputs": [
        {
          "output_type": "execute_result",
          "data": {
            "text/plain": [
              "[]"
            ]
          },
          "metadata": {},
          "execution_count": 3
        }
      ],
      "source": [
        "# lista vacía\n",
        "[]"
      ]
    },
    {
      "cell_type": "markdown",
      "metadata": {
        "id": "RNbpSdysRvDl"
      },
      "source": [
        "Puedes incluir variables y expresiones en la definición de la lista. Python evaluará dichas expresiones y luego construirá la lista. "
      ]
    },
    {
      "cell_type": "code",
      "execution_count": null,
      "metadata": {
        "colab": {
          "base_uri": "https://localhost:8080/"
        },
        "id": "bfBlnz8nUf1n",
        "outputId": "58fcf65a-efd2-4138-d2bf-5a82b10ebe37"
      },
      "outputs": [
        {
          "output_type": "execute_result",
          "data": {
            "text/plain": [
              "[True, 'Foo', 25, [1, 2]]"
            ]
          },
          "metadata": {},
          "execution_count": 4
        }
      ],
      "source": [
        "x = \"foo\"\n",
        "[2 < 3, x.capitalize(), 5**2, [1, 2]]"
      ]
    },
    {
      "cell_type": "markdown",
      "metadata": {
        "id": "IX91AgsCUnMT"
      },
      "source": [
        "El tipo `list` puede ser utilizado para convertir otros tipos de objetos a listas, en concreto aquellos que sean **iterables**, cosa que definiremos más adelante. "
      ]
    },
    {
      "cell_type": "code",
      "execution_count": null,
      "metadata": {
        "colab": {
          "base_uri": "https://localhost:8080/"
        },
        "id": "TSKnJKX-U4-x",
        "outputId": "6ac562e3-bff5-4190-dde5-bad0f5e861ca"
      },
      "outputs": [
        {
          "output_type": "execute_result",
          "data": {
            "text/plain": [
              "['h', 'e', 'l', 'l', 'o', ' ', 'w', 'o', 'r', 'l', 'd']"
            ]
          },
          "metadata": {},
          "execution_count": 5
        }
      ],
      "source": [
        "list(\"hello world\")"
      ]
    },
    {
      "cell_type": "code",
      "execution_count": null,
      "metadata": {
        "colab": {
          "base_uri": "https://localhost:8080/",
          "height": 172
        },
        "id": "7u0UNSmPU62b",
        "outputId": "2cac29ed-247f-4266-aeb6-b8c4a20baca6"
      },
      "outputs": [
        {
          "output_type": "error",
          "ename": "TypeError",
          "evalue": "ignored",
          "traceback": [
            "\u001b[0;31m---------------------------------------------------------------------------\u001b[0m",
            "\u001b[0;31mTypeError\u001b[0m                                 Traceback (most recent call last)",
            "\u001b[0;32m<ipython-input-6-7ade7017386b>\u001b[0m in \u001b[0;36m<module>\u001b[0;34m\u001b[0m\n\u001b[0;32m----> 1\u001b[0;31m \u001b[0mlist\u001b[0m\u001b[0;34m(\u001b[0m\u001b[0;36m1\u001b[0m\u001b[0;34m)\u001b[0m\u001b[0;34m\u001b[0m\u001b[0;34m\u001b[0m\u001b[0m\n\u001b[0m",
            "\u001b[0;31mTypeError\u001b[0m: 'int' object is not iterable"
          ]
        }
      ],
      "source": [
        "list(1)"
      ]
    },
    {
      "cell_type": "code",
      "execution_count": null,
      "metadata": {
        "colab": {
          "base_uri": "https://localhost:8080/"
        },
        "id": "WHBI-StWU9KR",
        "outputId": "11e21ff5-4be3-470a-cd15-de8660924cbd"
      },
      "outputs": [
        {
          "output_type": "execute_result",
          "data": {
            "text/plain": [
              "[1]"
            ]
          },
          "metadata": {},
          "execution_count": 7
        }
      ],
      "source": [
        "list([1])"
      ]
    },
    {
      "cell_type": "markdown",
      "source": [
        "---\n",
        "## Las listas son iterables\n",
        "Los **objetos iterables** son aquellos compatibles con operaciones de iteración, la más común de ellas el buque *for*, que veremos más adelante. Otros objetos iterables pueden ser las tuplas, los diccionarios, los conjuntos, los rangos, los generadores, los arrays de numpy etc. Dado un iterable `s`, podemos realizar las siguientes operaciones\n",
        "\n",
        "| Operación | Descripción |\n",
        "|:---------------|:-----------------|\n",
        "| `for vars in s:`| Iteración |\n",
        "| `x, y, ... = s`| Deshacer en variables |\n",
        "| `x in s` `x not in s`| Pertenencia |\n",
        "| `[a, *s, b]`| Expandir |"
      ],
      "metadata": {
        "id": "TNLP8lOB8GS7"
      }
    },
    {
      "cell_type": "markdown",
      "source": [
        "Veamos algunos ejemplos"
      ],
      "metadata": {
        "id": "Hpk-UYZW-ulo"
      }
    },
    {
      "cell_type": "code",
      "source": [
        "items = [3, 4, 5]\n",
        "x, y, z = items\n",
        "print(x, y, z)"
      ],
      "metadata": {
        "colab": {
          "base_uri": "https://localhost:8080/"
        },
        "id": "1y3BXbb6-oz7",
        "outputId": "45114aa4-1d5e-4f4b-c064-2ea98c2e1ed6"
      },
      "execution_count": null,
      "outputs": [
        {
          "output_type": "stream",
          "name": "stdout",
          "text": [
            "3 4 5\n"
          ]
        }
      ]
    },
    {
      "cell_type": "code",
      "source": [
        "x, y, z = [2]*3 ## sirve si quiero ponerles a todas el mismo valor, en este caso todas serían 2"
      ],
      "metadata": {
        "id": "3kfhnOPNyEQq"
      },
      "execution_count": null,
      "outputs": []
    },
    {
      "cell_type": "code",
      "source": [
        "\"a\" in items"
      ],
      "metadata": {
        "colab": {
          "base_uri": "https://localhost:8080/"
        },
        "id": "WrLIKQ7w-ttt",
        "outputId": "74a14070-d51e-435a-85fc-53b43343359d"
      },
      "execution_count": null,
      "outputs": [
        {
          "output_type": "execute_result",
          "data": {
            "text/plain": [
              "False"
            ]
          },
          "metadata": {},
          "execution_count": 10
        }
      ]
    },
    {
      "cell_type": "code",
      "source": [
        "a = [1, 2, *items, 6] # con el * estamos diciendo que tome los elementos de items, no la lista como tal, le quita los corchetes\n",
        "a"
      ],
      "metadata": {
        "colab": {
          "base_uri": "https://localhost:8080/"
        },
        "id": "Podyie0C-8U_",
        "outputId": "96270c97-e411-4d22-939c-0028aa682f25"
      },
      "execution_count": null,
      "outputs": [
        {
          "output_type": "execute_result",
          "data": {
            "text/plain": [
              "[1, 2, 3, 4, 5, 6]"
            ]
          },
          "metadata": {},
          "execution_count": 11
        }
      ]
    },
    {
      "cell_type": "markdown",
      "source": [
        "Existen muchas funciones predefinidas que aceptan un iterable como argumento, aquí exponemos algunas de ellas\n",
        "\n",
        "| Función | Descripción |\n",
        "|:---------------|:-----------------|\n",
        "| `list(s)`| Crea una lista a partir de `s`|\n",
        "| `tuple(s)`| Crea una tupla a partir de `s`|\n",
        "| `set(s)`| Crea una conjunto a partir de `s`|\n",
        "| `min(s, [,key])`| Mínimo de `s`| \n",
        "| `max(s, [,key])`| Máximo de `s`|\n",
        "| `any(s)`| Devuelve `True` si algún item de `s` es verdadero|\n",
        "| `all(s)`| Devuelve `True` si todos los items de `s` son verdaderos|\n",
        "| `sum(s, [, initial])`| Suma de `s` |\n",
        "| `sorted(s, [, key])`| Crea una lista ordenada |\n"
      ],
      "metadata": {
        "id": "gOHvUH04_VM5"
      }
    },
    {
      "cell_type": "code",
      "source": [
        "## en [,key] la , significa que es argumento opcional"
      ],
      "metadata": {
        "id": "ituVOGp2ymc9"
      },
      "execution_count": null,
      "outputs": []
    },
    {
      "cell_type": "markdown",
      "metadata": {
        "id": "cehmTnGFVBzV"
      },
      "source": [
        "---\n",
        "## Las listas son secuencias\n",
        "\n",
        "Al igual que las cadenas, las listas **son secuencias**, por lo que el orden de sus objetos es importante y podemos acceder a los mismo mediante un índice entero que empieza en cero. "
      ]
    },
    {
      "cell_type": "code",
      "execution_count": null,
      "metadata": {
        "colab": {
          "base_uri": "https://localhost:8080/"
        },
        "id": "D5lEyj4mWb-E",
        "outputId": "a115d549-9804-432c-a395-6afb214dcf43"
      },
      "outputs": [
        {
          "output_type": "execute_result",
          "data": {
            "text/plain": [
              "False"
            ]
          },
          "metadata": {},
          "execution_count": 12
        }
      ],
      "source": [
        "# El orden importa\n",
        "[1, \"a\", True] == [\"a\", 1, True]"
      ]
    },
    {
      "cell_type": "markdown",
      "metadata": {
        "id": "a76IipNqWhiX"
      },
      "source": [
        "Podemos utilizar la misma sintaxis de indexado que vimos con las cadenas utilizando corchetes y `:`. \n",
        "\n",
        "En las secuencias, el método que nos da la longitud del objeto es `len`"
      ]
    },
    {
      "cell_type": "code",
      "execution_count": null,
      "metadata": {
        "colab": {
          "base_uri": "https://localhost:8080/"
        },
        "id": "hqpUgwgjW-GD",
        "outputId": "0b9cde95-ab93-4082-80ea-e9e35fd8b79d"
      },
      "outputs": [
        {
          "output_type": "execute_result",
          "data": {
            "text/plain": [
              "5"
            ]
          },
          "metadata": {},
          "execution_count": 13
        }
      ],
      "source": [
        "x = [2, 4, 6, 8, 10]\n",
        "len(x)"
      ]
    },
    {
      "cell_type": "code",
      "execution_count": null,
      "metadata": {
        "colab": {
          "base_uri": "https://localhost:8080/"
        },
        "id": "D0oJAeMbXDM1",
        "outputId": "ed4c1f1c-548d-4760-dc9c-030217aca612"
      },
      "outputs": [
        {
          "output_type": "execute_result",
          "data": {
            "text/plain": [
              "11"
            ]
          },
          "metadata": {},
          "execution_count": 14
        }
      ],
      "source": [
        "x = \"hello world\"\n",
        "len(x)"
      ]
    },
    {
      "cell_type": "code",
      "execution_count": null,
      "metadata": {
        "colab": {
          "base_uri": "https://localhost:8080/",
          "height": 190
        },
        "id": "y4eiEu3CXR6O",
        "outputId": "83d509d0-f37a-4d79-e345-5df1059cd739"
      },
      "outputs": [
        {
          "output_type": "error",
          "ename": "TypeError",
          "evalue": "ignored",
          "traceback": [
            "\u001b[0;31m---------------------------------------------------------------------------\u001b[0m",
            "\u001b[0;31mTypeError\u001b[0m                                 Traceback (most recent call last)",
            "\u001b[0;32m<ipython-input-15-d7736ab3e6ed>\u001b[0m in \u001b[0;36m<module>\u001b[0;34m\u001b[0m\n\u001b[1;32m      1\u001b[0m \u001b[0mx\u001b[0m \u001b[0;34m=\u001b[0m \u001b[0;36m1\u001b[0m\u001b[0;34m\u001b[0m\u001b[0;34m\u001b[0m\u001b[0m\n\u001b[0;32m----> 2\u001b[0;31m \u001b[0mlen\u001b[0m\u001b[0;34m(\u001b[0m\u001b[0mx\u001b[0m\u001b[0;34m)\u001b[0m\u001b[0;34m\u001b[0m\u001b[0;34m\u001b[0m\u001b[0m\n\u001b[0m",
            "\u001b[0;31mTypeError\u001b[0m: object of type 'int' has no len()"
          ]
        }
      ],
      "source": [
        "x = 1\n",
        "len(x)"
      ]
    },
    {
      "cell_type": "markdown",
      "metadata": {
        "id": "ikcTeUSuX4Zo"
      },
      "source": [
        "---\n",
        "## Las listas son mutables\n",
        "\n",
        "Las listas son utilizadas cuando queramos almacenar datos que pueden cambiar o deben actualizarse, ya que *las listas pueden cambiar una vez han sido creadas*, o dicho de otro modo, son objetos **mutables**. Veámoslo con un ejemplo"
      ]
    },
    {
      "cell_type": "code",
      "execution_count": null,
      "metadata": {
        "colab": {
          "base_uri": "https://localhost:8080/"
        },
        "id": "dyrlruFjYccj",
        "outputId": "387aedab-90be-4019-cdc0-4fc987f412b2"
      },
      "outputs": [
        {
          "output_type": "execute_result",
          "data": {
            "text/plain": [
              "[2, 'apple', 6, 8, 10]"
            ]
          },
          "metadata": {},
          "execution_count": 23
        }
      ],
      "source": [
        "x = [2, 4, 6, 8, 10]\n",
        "y = [2, 4, 6, 8, 10]\n",
        "\n",
        "# asignamos una cadena al segundo objeto de x\n",
        "x[1] = \"applºe\"\n",
        "x"
      ]
    },
    {
      "cell_type": "code",
      "execution_count": null,
      "metadata": {
        "colab": {
          "base_uri": "https://localhost:8080/"
        },
        "id": "cSm9JjtYYgCc",
        "outputId": "045f251b-c44d-461e-eabd-546890ebd727"
      },
      "outputs": [
        {
          "output_type": "execute_result",
          "data": {
            "text/plain": [
              "[2, -3, -4, -5, 10]"
            ]
          },
          "metadata": {},
          "execution_count": 25
        }
      ],
      "source": [
        "# podemos realizar asignaciones a nivel de lista\n",
        "y[1:4] = [-3, -4, -5]\n",
        "y"
      ]
    },
    {
      "cell_type": "markdown",
      "source": [
        "**DUDA MÍA** al hacer esto estamos tomando las posiciones 1,2,3 el 4 no lo toma"
      ],
      "metadata": {
        "id": "_jxf_GK90cag"
      }
    },
    {
      "cell_type": "code",
      "source": [
        "list(range(1,4))"
      ],
      "metadata": {
        "colab": {
          "base_uri": "https://localhost:8080/"
        },
        "id": "hzG54Sy502t_",
        "outputId": "57cd5c30-72b9-4d35-c734-bf77662fecea"
      },
      "execution_count": null,
      "outputs": [
        {
          "output_type": "execute_result",
          "data": {
            "text/plain": [
              "[1, 2, 3]"
            ]
          },
          "metadata": {},
          "execution_count": 39
        }
      ]
    },
    {
      "cell_type": "markdown",
      "metadata": {
        "id": "jKq9JKUKZQs8"
      },
      "source": [
        "Dos métodos muy utilizados a la hora de manipular listas son el `append` que nos permiten añadir un elemento a la cola de lista y `extend` para añadir varios"
      ]
    },
    {
      "cell_type": "code",
      "execution_count": null,
      "metadata": {
        "colab": {
          "base_uri": "https://localhost:8080/"
        },
        "id": "bDCFze6jZknl",
        "outputId": "18d5a68e-c7ea-4e30-ebbb-0d1ea20eb1fb"
      },
      "outputs": [
        {
          "output_type": "execute_result",
          "data": {
            "text/plain": [
              "[2, 4, 6, 8, 10, 'foo']"
            ]
          },
          "metadata": {},
          "execution_count": 26
        }
      ],
      "source": [
        "x = [2, 4, 6, 8, 10]\n",
        "x.append(\"foo\")\n",
        "x"
      ]
    },
    {
      "cell_type": "code",
      "execution_count": null,
      "metadata": {
        "colab": {
          "base_uri": "https://localhost:8080/"
        },
        "id": "uXJBMLRRZof6",
        "outputId": "ca32bc48-657c-429c-9fe5-b88e010f7fd5"
      },
      "outputs": [
        {
          "output_type": "execute_result",
          "data": {
            "text/plain": [
              "[2, 4, 6, 8, 10, 'foo', True, False, None]"
            ]
          },
          "metadata": {},
          "execution_count": 27
        }
      ],
      "source": [
        "# a extend tenemos que pasarle una lista de objetos\n",
        "x.extend([True, False, None])\n",
        "x"
      ]
    },
    {
      "cell_type": "markdown",
      "metadata": {
        "id": "LK7dInqoZyBW"
      },
      "source": [
        "Estos métodos realizan las operaciones *inplace*, es decir, modifican el objeto sin necesidad de tener que asignarlo. No tiene sentido escribir algo como `x = x.append(\"foo\")`, de hecho el método `append` devuelve `None`"
      ]
    },
    {
      "cell_type": "markdown",
      "metadata": {
        "id": "oHmGveVgaRri"
      },
      "source": [
        "Otros métodos que pueden ser útiles con listas son \n",
        "- `pop(n)`: devuelve el elemento `n`-ésimo y lo borra de la lista. Devuelve un `IndexError` si `n` está fuera del índice.\n",
        "- `remove(a)`: borra el primer elemento cuyo valor coincida con `a`. Devuelve un `ValueError` si no encuentra el valor. \n",
        "- `insert(n, a)`: inserta el objeto `a` en la posición `n`-ésima de la lista"
      ]
    },
    {
      "cell_type": "code",
      "execution_count": null,
      "metadata": {
        "colab": {
          "base_uri": "https://localhost:8080/",
          "height": 36
        },
        "id": "BguQEa5vazye",
        "outputId": "4c211d21-0ffd-4134-8f74-011c2964267f"
      },
      "outputs": [
        {
          "output_type": "execute_result",
          "data": {
            "text/plain": [
              "'c'"
            ],
            "application/vnd.google.colaboratory.intrinsic+json": {
              "type": "string"
            }
          },
          "metadata": {},
          "execution_count": 28
        }
      ],
      "source": [
        "x = [\"a\", \"b\", \"c\", \"d\"]\n",
        "x.pop(2)"
      ]
    },
    {
      "cell_type": "code",
      "execution_count": null,
      "metadata": {
        "colab": {
          "base_uri": "https://localhost:8080/"
        },
        "id": "Ascz_a90a59v",
        "outputId": "cea03541-332f-473b-820c-950afca29281"
      },
      "outputs": [
        {
          "output_type": "execute_result",
          "data": {
            "text/plain": [
              "['a', 'b', 'd']"
            ]
          },
          "metadata": {},
          "execution_count": 29
        }
      ],
      "source": [
        "x"
      ]
    },
    {
      "cell_type": "code",
      "execution_count": null,
      "metadata": {
        "colab": {
          "base_uri": "https://localhost:8080/"
        },
        "id": "GDWYMJpvbAMj",
        "outputId": "a929c341-bda4-4d66-9757-62b831486f7b"
      },
      "outputs": [
        {
          "output_type": "execute_result",
          "data": {
            "text/plain": [
              "['a', 'b', 'd', 'a']"
            ]
          },
          "metadata": {},
          "execution_count": 30
        }
      ],
      "source": [
        "x.append(\"a\")\n",
        "x"
      ]
    },
    {
      "cell_type": "code",
      "execution_count": null,
      "metadata": {
        "id": "LhAJavfLbfpJ"
      },
      "outputs": [],
      "source": [
        "x.remove(\"a\")"
      ]
    },
    {
      "cell_type": "code",
      "execution_count": null,
      "metadata": {
        "colab": {
          "base_uri": "https://localhost:8080/"
        },
        "id": "wVNeMbz0bjAX",
        "outputId": "6eb8a305-287b-446a-836a-1c896af07c00"
      },
      "outputs": [
        {
          "output_type": "execute_result",
          "data": {
            "text/plain": [
              "['b', 'd', 'a']"
            ]
          },
          "metadata": {},
          "execution_count": 32
        }
      ],
      "source": [
        "x"
      ]
    },
    {
      "cell_type": "code",
      "source": [
        "x.insert(2, None)\n",
        "x"
      ],
      "metadata": {
        "colab": {
          "base_uri": "https://localhost:8080/"
        },
        "id": "TkCOd1TR5dmk",
        "outputId": "cf80e815-e014-476b-d630-11941ef097ab"
      },
      "execution_count": null,
      "outputs": [
        {
          "output_type": "execute_result",
          "data": {
            "text/plain": [
              "['b', 'd', None, 'a']"
            ]
          },
          "metadata": {},
          "execution_count": 33
        }
      ]
    },
    {
      "cell_type": "markdown",
      "source": [
        "Podemos concatenar listas usando el operador `+`. En caso de tener listas anidadas, es posible aplicar directamente más de una operación de indexado. "
      ],
      "metadata": {
        "id": "2O5VVVwT504i"
      }
    },
    {
      "cell_type": "code",
      "source": [
        "x = [[1, \"foo\"], [\"bar\", None], True, 3.5]\n",
        "x[1][0]"
      ],
      "metadata": {
        "colab": {
          "base_uri": "https://localhost:8080/",
          "height": 36
        },
        "id": "FNLsnPk66Kmt",
        "outputId": "da9c6006-07f4-4496-a006-39498202c5fe"
      },
      "execution_count": null,
      "outputs": [
        {
          "output_type": "execute_result",
          "data": {
            "text/plain": [
              "'bar'"
            ],
            "application/vnd.google.colaboratory.intrinsic+json": {
              "type": "string"
            }
          },
          "metadata": {},
          "execution_count": 34
        }
      ]
    },
    {
      "cell_type": "markdown",
      "metadata": {
        "id": "Tb2z78UQynEt"
      },
      "source": [
        ":::{exercise}\n",
        ":label: lists-index\n",
        "\n",
        "Modifica la siguiente lista\n",
        "\n",
        "```\n",
        "l = [[1, \"foo\"], [\"bar\", None], True, 3.5]\n",
        "```\n",
        "para obtener \n",
        "\n",
        "```\n",
        "[[1, \"baz\"], [\"bar\", None], True, -1.5, [0, 1, 0]]\n",
        "```\n",
        "\n",
        ":::"
      ]
    },
    {
      "cell_type": "code",
      "source": [
        "l = [[1, \"foo\"], [\"bar\", None], True, 3.5]\n",
        "l[0][1]=\"baz\"\n",
        "l[3:5] = [-1.5,[0,1,0]]\n",
        "l"
      ],
      "metadata": {
        "colab": {
          "base_uri": "https://localhost:8080/"
        },
        "id": "VDme0DTS1Bu-",
        "outputId": "2b21e716-72f6-495d-9013-dd44ad872097"
      },
      "execution_count": null,
      "outputs": [
        {
          "output_type": "execute_result",
          "data": {
            "text/plain": [
              "[[1, 'baz'], ['bar', None], True, -1.5, [0, 1, 0]]"
            ]
          },
          "metadata": {},
          "execution_count": 55
        }
      ]
    },
    {
      "cell_type": "code",
      "source": [
        "l2 = [[1, \"foo\"], [\"bar\", None], True, 3.5]\n",
        "l2.remove(3.5)\n",
        "l2.append(-1.5)\n",
        "l2.append([0,1,0])\n",
        "l2 ## de la forma esta no sé cómo modificar la lista dentro de la lista"
      ],
      "metadata": {
        "colab": {
          "base_uri": "https://localhost:8080/"
        },
        "id": "GyJGkmEX1l11",
        "outputId": "75f3d046-4b02-4d46-de7f-e0d418352a13"
      },
      "execution_count": null,
      "outputs": [
        {
          "output_type": "execute_result",
          "data": {
            "text/plain": [
              "[[1, 'foo'], ['bar', None], True, -1.5, [0, 1, 0]]"
            ]
          },
          "metadata": {},
          "execution_count": 51
        }
      ]
    },
    {
      "cell_type": "markdown",
      "source": [
        ":::{exercise}\n",
        ":label: lists-comparison\n",
        "\n",
        "Condiera una lista `s` y definamos \n",
        "\n",
        "```\n",
        "r = list(s)\n",
        "t = s\n",
        "```\n",
        "\n",
        "Indica si las siguientes expresiones son verdaderas o falsas \n",
        "- `r == s`\n",
        "- `r is s`\n",
        "- `s is t`\n",
        "\n",
        ":::"
      ],
      "metadata": {
        "id": "t-OHv0q3In29"
      }
    },
    {
      "cell_type": "code",
      "source": [
        "s = [1,2,3,\"ke\",True]\n",
        "r=list(s)\n",
        "t=s\n",
        "\n",
        "print(r==s)  ## coinciden en valor\n",
        "print(r is s) ## no son iguales porque list crea un objeto nuevo\n",
        "print(s is t) ## esto sí porque no he creado un objeto nuevo"
      ],
      "metadata": {
        "colab": {
          "base_uri": "https://localhost:8080/"
        },
        "id": "sYponQ9I2dRc",
        "outputId": "d550e93d-4e82-40ea-dc09-755b7d0a2ccc"
      },
      "execution_count": null,
      "outputs": [
        {
          "output_type": "stream",
          "name": "stdout",
          "text": [
            "True\n",
            "False\n",
            "True\n"
          ]
        }
      ]
    },
    {
      "cell_type": "markdown",
      "source": [
        "Para el siguiente ejercicio, puedes utilizar el módulo `time` o el [**comando mágico**](https://ipython.readthedocs.io/en/stable/interactive/magics.html) de jupyter `%%time` para obtener el tiempo de ejecución de una celdilla. "
      ],
      "metadata": {
        "id": "g6oJoG2vRYeG"
      }
    },
    {
      "cell_type": "markdown",
      "source": [
        "**Nota** Si ponemos %% es a nivel de celda, % es a nivel de fila"
      ],
      "metadata": {
        "id": "jQBu5_k34esc"
      }
    },
    {
      "cell_type": "code",
      "source": [
        "%%time\n",
        "\n",
        "3**999"
      ],
      "metadata": {
        "id": "ILIzM16jR7XG",
        "outputId": "8f78a518-2cfc-463b-fba4-d1ba34d1d3d5",
        "colab": {
          "base_uri": "https://localhost:8080/"
        }
      },
      "execution_count": null,
      "outputs": [
        {
          "output_type": "stream",
          "name": "stdout",
          "text": [
            "CPU times: user 10 µs, sys: 0 ns, total: 10 µs\n",
            "Wall time: 15 µs\n"
          ]
        },
        {
          "output_type": "execute_result",
          "data": {
            "text/plain": [
              "440690273160268878963485086584048121988474010917382722554973456075609532448901633180259437950202687321303259232290860785316984860700206303955114241752651224675873408399440267959338258076321613758130133372529539347042982605207698146020522057684695558163502059375160114801849018132346298605821789418305378740276756187926194096742805466102629298972852134694966312536457747390615453312898505588339646862703020142029890479621367604783461882915721944003538122044057700922967618406667"
            ]
          },
          "metadata": {},
          "execution_count": 63
        }
      ]
    },
    {
      "cell_type": "code",
      "source": [
        "import time\n",
        "\n",
        "start = time.time()\n",
        "3**999\n",
        "end = time.time()\n",
        "print(f\"Execution time: {end - start:0.8f} seconds\")"
      ],
      "metadata": {
        "id": "NpzhtYgETGj2",
        "outputId": "b51bea56-d8c9-4484-9dcd-c26963c28a07",
        "colab": {
          "base_uri": "https://localhost:8080/"
        }
      },
      "execution_count": null,
      "outputs": [
        {
          "output_type": "stream",
          "name": "stdout",
          "text": [
            "Execution time: 0.00005507 seconds\n"
          ]
        }
      ]
    },
    {
      "cell_type": "markdown",
      "source": [
        ":::{exercise}\n",
        ":label: lists-membership\n",
        "\n",
        "Usando la estructura `list(range(n))`, crea listas de diferentes tamaños y estima la complejidad computacional en cuanto a tiempo de cómputo de comprobar la pertenencia a una lista. \n",
        "\n",
        ":::"
      ],
      "metadata": {
        "id": "fvQyxNzbIlC2"
      }
    },
    {
      "cell_type": "code",
      "source": [
        "l10=list(range(10))\n",
        "l20=list(range(20))\n",
        "l50=list(range(50))\n",
        "\n",
        "start10 = time.time()\n",
        "3 in l10\n",
        "end10 = time.time()\n",
        "print(f\"Execution time: {end10 - start10:0.8f} seconds\")\n",
        "\n",
        "start20 = time.time()\n",
        "90 in l20\n",
        "end20 = time.time()\n",
        "print(f\"Execution time: {end20 - start20:0.8f} seconds\")\n",
        "\n",
        "start50 = time.time()\n",
        "49 in l50\n",
        "end50 = time.time()\n",
        "print(f\"Execution time: {end50 - start50:0.8f} seconds\")"
      ],
      "metadata": {
        "colab": {
          "base_uri": "https://localhost:8080/"
        },
        "id": "BAEqtyiM5Iqy",
        "outputId": "88176fa9-0d09-47c9-8b5f-2ceef86bf8e8"
      },
      "execution_count": null,
      "outputs": [
        {
          "output_type": "stream",
          "name": "stdout",
          "text": [
            "Execution time: 0.00007987 seconds\n",
            "Execution time: 0.00011301 seconds\n",
            "Execution time: 0.00011373 seconds\n"
          ]
        }
      ]
    }
  ],
  "metadata": {
    "colab": {
      "provenance": [],
      "collapsed_sections": [],
      "include_colab_link": true
    },
    "kernelspec": {
      "display_name": "Python 3.9.1 64-bit",
      "language": "python",
      "name": "python3"
    },
    "language_info": {
      "name": "python",
      "version": "3.9.1"
    },
    "vscode": {
      "interpreter": {
        "hash": "397704579725e15f5c7cb49fe5f0341eb7531c82d19f2c29d197e8b64ab5776b"
      }
    }
  },
  "nbformat": 4,
  "nbformat_minor": 0
}